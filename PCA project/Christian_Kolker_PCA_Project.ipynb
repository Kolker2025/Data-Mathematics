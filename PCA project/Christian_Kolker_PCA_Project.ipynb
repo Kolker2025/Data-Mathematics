{
  "nbformat": 4,
  "nbformat_minor": 0,
  "metadata": {
    "colab": {
      "provenance": [],
      "collapsed_sections": [
        "_AfaNeb7nV8n",
        "slECh0EsW_P7",
        "Lzq5pfIxssjS",
        "vVJ-_1dW9b-A",
        "3Dti09Xm9lyw",
        "4qSCkqRH4inO",
        "3nZhrvan8aIe"
      ],
      "toc_visible": true
    },
    "kernelspec": {
      "name": "python3",
      "display_name": "Python 3"
    },
    "language_info": {
      "name": "python"
    }
  },
  "cells": [
    {
      "cell_type": "code",
      "execution_count": null,
      "metadata": {
        "id": "Fj-hnHZjEbfk",
        "colab": {
          "base_uri": "https://localhost:8080/",
          "height": 328
        },
        "outputId": "58f6ac91-a0e9-4107-f726-d9ad7131f2a5"
      },
      "outputs": [
        {
          "output_type": "error",
          "ename": "MessageError",
          "evalue": "ignored",
          "traceback": [
            "\u001b[0;31m---------------------------------------------------------------------------\u001b[0m",
            "\u001b[0;31mMessageError\u001b[0m                              Traceback (most recent call last)",
            "\u001b[0;32m<ipython-input-2-d5df0069828e>\u001b[0m in \u001b[0;36m<cell line: 2>\u001b[0;34m()\u001b[0m\n\u001b[1;32m      1\u001b[0m \u001b[0;32mfrom\u001b[0m \u001b[0mgoogle\u001b[0m\u001b[0;34m.\u001b[0m\u001b[0mcolab\u001b[0m \u001b[0;32mimport\u001b[0m \u001b[0mdrive\u001b[0m\u001b[0;34m\u001b[0m\u001b[0;34m\u001b[0m\u001b[0m\n\u001b[0;32m----> 2\u001b[0;31m \u001b[0mdrive\u001b[0m\u001b[0;34m.\u001b[0m\u001b[0mmount\u001b[0m\u001b[0;34m(\u001b[0m\u001b[0;34m'/content/drive'\u001b[0m\u001b[0;34m)\u001b[0m\u001b[0;34m\u001b[0m\u001b[0;34m\u001b[0m\u001b[0m\n\u001b[0m",
            "\u001b[0;32m/usr/local/lib/python3.10/dist-packages/google/colab/drive.py\u001b[0m in \u001b[0;36mmount\u001b[0;34m(mountpoint, force_remount, timeout_ms, readonly)\u001b[0m\n\u001b[1;32m    101\u001b[0m \u001b[0;32mdef\u001b[0m \u001b[0mmount\u001b[0m\u001b[0;34m(\u001b[0m\u001b[0mmountpoint\u001b[0m\u001b[0;34m,\u001b[0m \u001b[0mforce_remount\u001b[0m\u001b[0;34m=\u001b[0m\u001b[0;32mFalse\u001b[0m\u001b[0;34m,\u001b[0m \u001b[0mtimeout_ms\u001b[0m\u001b[0;34m=\u001b[0m\u001b[0;36m120000\u001b[0m\u001b[0;34m,\u001b[0m \u001b[0mreadonly\u001b[0m\u001b[0;34m=\u001b[0m\u001b[0;32mFalse\u001b[0m\u001b[0;34m)\u001b[0m\u001b[0;34m:\u001b[0m\u001b[0;34m\u001b[0m\u001b[0;34m\u001b[0m\u001b[0m\n\u001b[1;32m    102\u001b[0m   \u001b[0;34m\"\"\"Mount your Google Drive at the specified mountpoint path.\"\"\"\u001b[0m\u001b[0;34m\u001b[0m\u001b[0;34m\u001b[0m\u001b[0m\n\u001b[0;32m--> 103\u001b[0;31m   return _mount(\n\u001b[0m\u001b[1;32m    104\u001b[0m       \u001b[0mmountpoint\u001b[0m\u001b[0;34m,\u001b[0m\u001b[0;34m\u001b[0m\u001b[0;34m\u001b[0m\u001b[0m\n\u001b[1;32m    105\u001b[0m       \u001b[0mforce_remount\u001b[0m\u001b[0;34m=\u001b[0m\u001b[0mforce_remount\u001b[0m\u001b[0;34m,\u001b[0m\u001b[0;34m\u001b[0m\u001b[0;34m\u001b[0m\u001b[0m\n",
            "\u001b[0;32m/usr/local/lib/python3.10/dist-packages/google/colab/drive.py\u001b[0m in \u001b[0;36m_mount\u001b[0;34m(mountpoint, force_remount, timeout_ms, ephemeral, readonly)\u001b[0m\n\u001b[1;32m    130\u001b[0m   )\n\u001b[1;32m    131\u001b[0m   \u001b[0;32mif\u001b[0m \u001b[0mephemeral\u001b[0m\u001b[0;34m:\u001b[0m\u001b[0;34m\u001b[0m\u001b[0;34m\u001b[0m\u001b[0m\n\u001b[0;32m--> 132\u001b[0;31m     _message.blocking_request(\n\u001b[0m\u001b[1;32m    133\u001b[0m         \u001b[0;34m'request_auth'\u001b[0m\u001b[0;34m,\u001b[0m \u001b[0mrequest\u001b[0m\u001b[0;34m=\u001b[0m\u001b[0;34m{\u001b[0m\u001b[0;34m'authType'\u001b[0m\u001b[0;34m:\u001b[0m \u001b[0;34m'dfs_ephemeral'\u001b[0m\u001b[0;34m}\u001b[0m\u001b[0;34m,\u001b[0m \u001b[0mtimeout_sec\u001b[0m\u001b[0;34m=\u001b[0m\u001b[0;32mNone\u001b[0m\u001b[0;34m\u001b[0m\u001b[0;34m\u001b[0m\u001b[0m\n\u001b[1;32m    134\u001b[0m     )\n",
            "\u001b[0;32m/usr/local/lib/python3.10/dist-packages/google/colab/_message.py\u001b[0m in \u001b[0;36mblocking_request\u001b[0;34m(request_type, request, timeout_sec, parent)\u001b[0m\n\u001b[1;32m    174\u001b[0m       \u001b[0mrequest_type\u001b[0m\u001b[0;34m,\u001b[0m \u001b[0mrequest\u001b[0m\u001b[0;34m,\u001b[0m \u001b[0mparent\u001b[0m\u001b[0;34m=\u001b[0m\u001b[0mparent\u001b[0m\u001b[0;34m,\u001b[0m \u001b[0mexpect_reply\u001b[0m\u001b[0;34m=\u001b[0m\u001b[0;32mTrue\u001b[0m\u001b[0;34m\u001b[0m\u001b[0;34m\u001b[0m\u001b[0m\n\u001b[1;32m    175\u001b[0m   )\n\u001b[0;32m--> 176\u001b[0;31m   \u001b[0;32mreturn\u001b[0m \u001b[0mread_reply_from_input\u001b[0m\u001b[0;34m(\u001b[0m\u001b[0mrequest_id\u001b[0m\u001b[0;34m,\u001b[0m \u001b[0mtimeout_sec\u001b[0m\u001b[0;34m)\u001b[0m\u001b[0;34m\u001b[0m\u001b[0;34m\u001b[0m\u001b[0m\n\u001b[0m",
            "\u001b[0;32m/usr/local/lib/python3.10/dist-packages/google/colab/_message.py\u001b[0m in \u001b[0;36mread_reply_from_input\u001b[0;34m(message_id, timeout_sec)\u001b[0m\n\u001b[1;32m    101\u001b[0m     ):\n\u001b[1;32m    102\u001b[0m       \u001b[0;32mif\u001b[0m \u001b[0;34m'error'\u001b[0m \u001b[0;32min\u001b[0m \u001b[0mreply\u001b[0m\u001b[0;34m:\u001b[0m\u001b[0;34m\u001b[0m\u001b[0;34m\u001b[0m\u001b[0m\n\u001b[0;32m--> 103\u001b[0;31m         \u001b[0;32mraise\u001b[0m \u001b[0mMessageError\u001b[0m\u001b[0;34m(\u001b[0m\u001b[0mreply\u001b[0m\u001b[0;34m[\u001b[0m\u001b[0;34m'error'\u001b[0m\u001b[0;34m]\u001b[0m\u001b[0;34m)\u001b[0m\u001b[0;34m\u001b[0m\u001b[0;34m\u001b[0m\u001b[0m\n\u001b[0m\u001b[1;32m    104\u001b[0m       \u001b[0;32mreturn\u001b[0m \u001b[0mreply\u001b[0m\u001b[0;34m.\u001b[0m\u001b[0mget\u001b[0m\u001b[0;34m(\u001b[0m\u001b[0;34m'data'\u001b[0m\u001b[0;34m,\u001b[0m \u001b[0;32mNone\u001b[0m\u001b[0;34m)\u001b[0m\u001b[0;34m\u001b[0m\u001b[0;34m\u001b[0m\u001b[0m\n\u001b[1;32m    105\u001b[0m \u001b[0;34m\u001b[0m\u001b[0m\n",
            "\u001b[0;31mMessageError\u001b[0m: Error: credential propagation was unsuccessful"
          ]
        }
      ],
      "source": [
        "from google.colab import drive\n",
        "drive.mount('/content/drive')"
      ]
    },
    {
      "cell_type": "code",
      "source": [
        "import numpy as np\n",
        "import pandas as pd\n",
        "import matplotlib.pyplot as plt\n",
        "import numpy as np # linear algebra\n",
        "import pandas as pd # data processing, CSV file I/O (e.g. pd.read_csv)\n",
        "import matplotlib as mpl\n",
        "import seaborn as sns\n",
        "import plotly.express as px\n",
        "from sklearn.decomposition import PCA\n",
        "%matplotlib inline\n",
        "import plotly.graph_objects as go\n",
        "from matplotlib.image import imread\n",
        "from sklearn.datasets import (make_blobs,\n",
        "                              make_circles,\n",
        "                              make_moons)\n",
        "from sklearn.cluster import KMeans, SpectralClustering\n",
        "from sklearn.preprocessing import StandardScaler\n",
        "from sklearn.metrics import silhouette_samples, silhouette_score\n",
        "\n",
        "%matplotlib inline\n",
        "sns.set_context('notebook')\n",
        "plt.style.use('fivethirtyeight')\n",
        "from warnings import filterwarnings\n",
        "filterwarnings('ignore')"
      ],
      "metadata": {
        "id": "W1FIXPZrHFJB"
      },
      "execution_count": null,
      "outputs": []
    },
    {
      "cell_type": "markdown",
      "source": [
        "#PCA and our business"
      ],
      "metadata": {
        "id": "_AfaNeb7nV8n"
      }
    },
    {
      "cell_type": "markdown",
      "source": [
        "Hello Boss person! Today, we will be taking a look at some peices of data important to our business and seeing if they are correlated using something called PCA, principle component analysis.  \n",
        "\n",
        "In a nutshell, PCA is a tool used for dimensionsality reduction on large datasets to by transforming a large set of variables into a components by capturing the most important parts of the data and seeing correlation of our data. By projecting our data down onto our principal components, we can calculate the amount of variance that is explained by the components and its individual parts that our data contributes to determine the most important features.\n",
        "\n",
        "\n",
        "Essentially, we reduce dimensions to get the most important parts of our data with components. Cool!"
      ],
      "metadata": {
        "id": "ME4EE2bguQMS"
      }
    },
    {
      "cell_type": "markdown",
      "source": [
        "#Housing"
      ],
      "metadata": {
        "id": "slECh0EsW_P7"
      }
    },
    {
      "cell_type": "code",
      "source": [
        "import pandas as pd\n",
        "import plotly.express as px\n",
        "from sklearn.decomposition import PCA\n",
        "from sklearn.datasets import load_boston\n",
        "from sklearn.datasets import fetch_california_housing\n",
        "\n",
        "housing = fetch_california_housing()\n",
        "\n",
        "boston = load_boston()\n",
        "df = pd.DataFrame(housing.data, columns=housing.feature_names)\n",
        "df = df.loc[:, ['AveBedrms', 'AveRooms', 'HouseAge', 'Population',\n",
        "       'AveOccup', 'MedInc']]\n",
        "df.head(5)"
      ],
      "metadata": {
        "id": "VVjyb1m2lIyd",
        "colab": {
          "base_uri": "https://localhost:8080/",
          "height": 1000
        },
        "outputId": "2b57cf3c-87cc-4b19-9731-02b942d722b4"
      },
      "execution_count": null,
      "outputs": [
        {
          "output_type": "error",
          "ename": "ImportError",
          "evalue": "ignored",
          "traceback": [
            "\u001b[0;31m---------------------------------------------------------------------------\u001b[0m",
            "\u001b[0;31mImportError\u001b[0m                               Traceback (most recent call last)",
            "\u001b[0;32m<ipython-input-3-7d46e3d993eb>\u001b[0m in \u001b[0;36m<module>\u001b[0;34m\u001b[0m\n\u001b[1;32m      2\u001b[0m \u001b[0;32mimport\u001b[0m \u001b[0mplotly\u001b[0m\u001b[0;34m.\u001b[0m\u001b[0mexpress\u001b[0m \u001b[0;32mas\u001b[0m \u001b[0mpx\u001b[0m\u001b[0;34m\u001b[0m\u001b[0;34m\u001b[0m\u001b[0m\n\u001b[1;32m      3\u001b[0m \u001b[0;32mfrom\u001b[0m \u001b[0msklearn\u001b[0m\u001b[0;34m.\u001b[0m\u001b[0mdecomposition\u001b[0m \u001b[0;32mimport\u001b[0m \u001b[0mPCA\u001b[0m\u001b[0;34m\u001b[0m\u001b[0;34m\u001b[0m\u001b[0m\n\u001b[0;32m----> 4\u001b[0;31m \u001b[0;32mfrom\u001b[0m \u001b[0msklearn\u001b[0m\u001b[0;34m.\u001b[0m\u001b[0mdatasets\u001b[0m \u001b[0;32mimport\u001b[0m \u001b[0mload_boston\u001b[0m\u001b[0;34m\u001b[0m\u001b[0;34m\u001b[0m\u001b[0m\n\u001b[0m\u001b[1;32m      5\u001b[0m \u001b[0;32mfrom\u001b[0m \u001b[0msklearn\u001b[0m\u001b[0;34m.\u001b[0m\u001b[0mdatasets\u001b[0m \u001b[0;32mimport\u001b[0m \u001b[0mfetch_california_housing\u001b[0m\u001b[0;34m\u001b[0m\u001b[0;34m\u001b[0m\u001b[0m\n\u001b[1;32m      6\u001b[0m \u001b[0;34m\u001b[0m\u001b[0m\n",
            "\u001b[0;32m/usr/local/lib/python3.9/dist-packages/sklearn/datasets/__init__.py\u001b[0m in \u001b[0;36m__getattr__\u001b[0;34m(name)\u001b[0m\n\u001b[1;32m    154\u001b[0m             \"\"\"\n\u001b[1;32m    155\u001b[0m         )\n\u001b[0;32m--> 156\u001b[0;31m         \u001b[0;32mraise\u001b[0m \u001b[0mImportError\u001b[0m\u001b[0;34m(\u001b[0m\u001b[0mmsg\u001b[0m\u001b[0;34m)\u001b[0m\u001b[0;34m\u001b[0m\u001b[0;34m\u001b[0m\u001b[0m\n\u001b[0m\u001b[1;32m    157\u001b[0m     \u001b[0;32mtry\u001b[0m\u001b[0;34m:\u001b[0m\u001b[0;34m\u001b[0m\u001b[0;34m\u001b[0m\u001b[0m\n\u001b[1;32m    158\u001b[0m         \u001b[0;32mreturn\u001b[0m \u001b[0mglobals\u001b[0m\u001b[0;34m(\u001b[0m\u001b[0;34m)\u001b[0m\u001b[0;34m[\u001b[0m\u001b[0mname\u001b[0m\u001b[0;34m]\u001b[0m\u001b[0;34m\u001b[0m\u001b[0;34m\u001b[0m\u001b[0m\n",
            "\u001b[0;31mImportError\u001b[0m: \n`load_boston` has been removed from scikit-learn since version 1.2.\n\nThe Boston housing prices dataset has an ethical problem: as\ninvestigated in [1], the authors of this dataset engineered a\nnon-invertible variable \"B\" assuming that racial self-segregation had a\npositive impact on house prices [2]. Furthermore the goal of the\nresearch that led to the creation of this dataset was to study the\nimpact of air quality but it did not give adequate demonstration of the\nvalidity of this assumption.\n\nThe scikit-learn maintainers therefore strongly discourage the use of\nthis dataset unless the purpose of the code is to study and educate\nabout ethical issues in data science and machine learning.\n\nIn this special case, you can fetch the dataset from the original\nsource::\n\n    import pandas as pd\n    import numpy as np\n\n    data_url = \"http://lib.stat.cmu.edu/datasets/boston\"\n    raw_df = pd.read_csv(data_url, sep=\"\\s+\", skiprows=22, header=None)\n    data = np.hstack([raw_df.values[::2, :], raw_df.values[1::2, :2]])\n    target = raw_df.values[1::2, 2]\n\nAlternative datasets include the California housing dataset and the\nAmes housing dataset. You can load the datasets as follows::\n\n    from sklearn.datasets import fetch_california_housing\n    housing = fetch_california_housing()\n\nfor the California housing dataset and::\n\n    from sklearn.datasets import fetch_openml\n    housing = fetch_openml(name=\"house_prices\", as_frame=True)\n\nfor the Ames housing dataset.\n\n[1] M Carlisle.\n\"Racist data destruction?\"\n<https://medium.com/@docintangible/racist-data-destruction-113e3eff54a8>\n\n[2] Harrison Jr, David, and Daniel L. Rubinfeld.\n\"Hedonic housing prices and the demand for clean air.\"\nJournal of environmental economics and management 5.1 (1978): 81-102.\n<https://www.researchgate.net/publication/4974606_Hedonic_housing_prices_and_the_demand_for_clean_air>\n",
            "",
            "\u001b[0;31m---------------------------------------------------------------------------\u001b[0;32m\nNOTE: If your import is failing due to a missing package, you can\nmanually install dependencies using either !pip or !apt.\n\nTo view examples of installing some common dependencies, click the\n\"Open Examples\" button below.\n\u001b[0;31m---------------------------------------------------------------------------\u001b[0m\n"
          ],
          "errorDetails": {
            "actions": [
              {
                "action": "open_url",
                "actionText": "Open Examples",
                "url": "/notebooks/snippets/importing_libraries.ipynb"
              }
            ]
          }
        }
      ]
    },
    {
      "cell_type": "markdown",
      "source": [
        "Here, in our housing marketing branch, I am using PCA on different variables on housing in California including the median Income, average amount of rooms, average amount of bedrooms, average amount of occupants, etc... To see of there is any correlation and to determine the most important parts of our data"
      ],
      "metadata": {
        "id": "MvEYoz27vseQ"
      }
    },
    {
      "cell_type": "code",
      "source": [
        "\n",
        "scaler=StandardScaler()\n",
        "df=scaler.fit_transform(df)\n",
        "n_components = 3\n",
        "\n",
        "pca = PCA(n_components=n_components)\n",
        "components = pca.fit_transform(df)\n",
        "\n",
        "total_var = pca.explained_variance_ratio_.sum() * 100\n",
        "\n",
        "labels = {str(i): f\"PC {i+1}\" for i in range(n_components)}\n",
        "labels['color'] = 'Median Price'\n",
        "\n",
        "fig = px.scatter_matrix(\n",
        "    components,\n",
        "    dimensions=range(n_components),\n",
        "    labels=labels,\n",
        "    title=f'Total Explained Variance: {total_var:.2f}%',\n",
        ")\n",
        "fig.update_traces(diagonal_visible=False)\n",
        "fig.show()\n",
        "\n",
        "\n",
        "pca.explained_variance_ratio_"
      ],
      "metadata": {
        "id": "KnfsibzXoc8b"
      },
      "execution_count": null,
      "outputs": []
    },
    {
      "cell_type": "markdown",
      "source": [
        "Running PCA on our data we find that with three components we can only explain about 71.21% of our variance, which is related to explaining our important data and any correlation.\n",
        "\n",
        "Using plotly, I can use a scatter matrix to graph each of my components and see if there are any notable features or obvious correlation.\n",
        "\n"
      ],
      "metadata": {
        "id": "MQbdrUGDxnd3"
      }
    },
    {
      "cell_type": "markdown",
      "source": [
        "So, around 71% of the variance of my data is explained in three dimensionally reduced components. Is this favorable? Well, Not really."
      ],
      "metadata": {
        "id": "oe56X9l5y6dn"
      }
    },
    {
      "cell_type": "code",
      "source": [
        "fig = px.scatter_3d(\n",
        "    components, x=0, y=1, z=2,\n",
        "    title=f'Total Explained Variance: {total_var:.2f}%',\n",
        "    labels={'0': 'PC 1', '1': 'PC 2', '2': 'PC 3'}\n",
        ")\n",
        "fig.show()\n",
        "pca.explained_variance_ratio_"
      ],
      "metadata": {
        "id": "owdIikc5qu7d"
      },
      "execution_count": null,
      "outputs": []
    },
    {
      "cell_type": "markdown",
      "source": [
        "It sounds nice knowing I can dimensionally reduce my data to three dimensions and explain 71% of my data, but that means the other 29% of my data is in higher dimensions that I cannot see or show. Plus, I cannot tell if i can distinguish the 29% as noisy data, meaning data that is not that important, or if it's actually important to me.\n",
        "\n",
        "The array below the 3d graph shows each of my components and their decimal approximations on how much each of them contribute to explaing the total variance. Notice that the first two components only explain about half of our data. This is not favorable as capturing the most important parts of our data should not be in higher dimensions, i.e. higher than my component count of three   "
      ],
      "metadata": {
        "id": "PWmsZYTVy1UH"
      }
    },
    {
      "cell_type": "markdown",
      "source": [
        "#Wine"
      ],
      "metadata": {
        "id": "Lzq5pfIxssjS"
      }
    },
    {
      "cell_type": "markdown",
      "source": [
        "Hello once again Boss person. As part of our associative branch, we also run important data analysis on wine to determine the important features of wine to make the best possible drink."
      ],
      "metadata": {
        "id": "bYYvdkvUz5be"
      }
    },
    {
      "cell_type": "code",
      "source": [
        "df3 = pd.read_csv(\"/content/drive/MyDrive/Christian Kolker/WineQT.csv\")\n",
        "df3.head()\n",
        "df3\n"
      ],
      "metadata": {
        "colab": {
          "base_uri": "https://localhost:8080/",
          "height": 485
        },
        "id": "c2Q5ltYBwVck",
        "outputId": "1b1842a1-b669-47cd-d321-1210c7025610"
      },
      "execution_count": null,
      "outputs": [
        {
          "output_type": "execute_result",
          "data": {
            "text/plain": [
              "      fixed acidity  volatile acidity  citric acid  residual sugar  chlorides  \\\n",
              "0               7.4             0.700         0.00             1.9      0.076   \n",
              "1               7.8             0.880         0.00             2.6      0.098   \n",
              "2               7.8             0.760         0.04             2.3      0.092   \n",
              "3              11.2             0.280         0.56             1.9      0.075   \n",
              "4               7.4             0.700         0.00             1.9      0.076   \n",
              "...             ...               ...          ...             ...        ...   \n",
              "1138            6.3             0.510         0.13             2.3      0.076   \n",
              "1139            6.8             0.620         0.08             1.9      0.068   \n",
              "1140            6.2             0.600         0.08             2.0      0.090   \n",
              "1141            5.9             0.550         0.10             2.2      0.062   \n",
              "1142            5.9             0.645         0.12             2.0      0.075   \n",
              "\n",
              "      free sulfur dioxide  total sulfur dioxide  density    pH  sulphates  \\\n",
              "0                    11.0                  34.0  0.99780  3.51       0.56   \n",
              "1                    25.0                  67.0  0.99680  3.20       0.68   \n",
              "2                    15.0                  54.0  0.99700  3.26       0.65   \n",
              "3                    17.0                  60.0  0.99800  3.16       0.58   \n",
              "4                    11.0                  34.0  0.99780  3.51       0.56   \n",
              "...                   ...                   ...      ...   ...        ...   \n",
              "1138                 29.0                  40.0  0.99574  3.42       0.75   \n",
              "1139                 28.0                  38.0  0.99651  3.42       0.82   \n",
              "1140                 32.0                  44.0  0.99490  3.45       0.58   \n",
              "1141                 39.0                  51.0  0.99512  3.52       0.76   \n",
              "1142                 32.0                  44.0  0.99547  3.57       0.71   \n",
              "\n",
              "      alcohol  quality  \n",
              "0         9.4        5  \n",
              "1         9.8        5  \n",
              "2         9.8        5  \n",
              "3         9.8        6  \n",
              "4         9.4        5  \n",
              "...       ...      ...  \n",
              "1138     11.0        6  \n",
              "1139      9.5        6  \n",
              "1140     10.5        5  \n",
              "1141     11.2        6  \n",
              "1142     10.2        5  \n",
              "\n",
              "[1143 rows x 12 columns]"
            ],
            "text/html": [
              "\n",
              "  <div id=\"df-e7c5e8ae-0737-4b3a-b876-9c2485f3b7fe\">\n",
              "    <div class=\"colab-df-container\">\n",
              "      <div>\n",
              "<style scoped>\n",
              "    .dataframe tbody tr th:only-of-type {\n",
              "        vertical-align: middle;\n",
              "    }\n",
              "\n",
              "    .dataframe tbody tr th {\n",
              "        vertical-align: top;\n",
              "    }\n",
              "\n",
              "    .dataframe thead th {\n",
              "        text-align: right;\n",
              "    }\n",
              "</style>\n",
              "<table border=\"1\" class=\"dataframe\">\n",
              "  <thead>\n",
              "    <tr style=\"text-align: right;\">\n",
              "      <th></th>\n",
              "      <th>fixed acidity</th>\n",
              "      <th>volatile acidity</th>\n",
              "      <th>citric acid</th>\n",
              "      <th>residual sugar</th>\n",
              "      <th>chlorides</th>\n",
              "      <th>free sulfur dioxide</th>\n",
              "      <th>total sulfur dioxide</th>\n",
              "      <th>density</th>\n",
              "      <th>pH</th>\n",
              "      <th>sulphates</th>\n",
              "      <th>alcohol</th>\n",
              "      <th>quality</th>\n",
              "    </tr>\n",
              "  </thead>\n",
              "  <tbody>\n",
              "    <tr>\n",
              "      <th>0</th>\n",
              "      <td>7.4</td>\n",
              "      <td>0.700</td>\n",
              "      <td>0.00</td>\n",
              "      <td>1.9</td>\n",
              "      <td>0.076</td>\n",
              "      <td>11.0</td>\n",
              "      <td>34.0</td>\n",
              "      <td>0.99780</td>\n",
              "      <td>3.51</td>\n",
              "      <td>0.56</td>\n",
              "      <td>9.4</td>\n",
              "      <td>5</td>\n",
              "    </tr>\n",
              "    <tr>\n",
              "      <th>1</th>\n",
              "      <td>7.8</td>\n",
              "      <td>0.880</td>\n",
              "      <td>0.00</td>\n",
              "      <td>2.6</td>\n",
              "      <td>0.098</td>\n",
              "      <td>25.0</td>\n",
              "      <td>67.0</td>\n",
              "      <td>0.99680</td>\n",
              "      <td>3.20</td>\n",
              "      <td>0.68</td>\n",
              "      <td>9.8</td>\n",
              "      <td>5</td>\n",
              "    </tr>\n",
              "    <tr>\n",
              "      <th>2</th>\n",
              "      <td>7.8</td>\n",
              "      <td>0.760</td>\n",
              "      <td>0.04</td>\n",
              "      <td>2.3</td>\n",
              "      <td>0.092</td>\n",
              "      <td>15.0</td>\n",
              "      <td>54.0</td>\n",
              "      <td>0.99700</td>\n",
              "      <td>3.26</td>\n",
              "      <td>0.65</td>\n",
              "      <td>9.8</td>\n",
              "      <td>5</td>\n",
              "    </tr>\n",
              "    <tr>\n",
              "      <th>3</th>\n",
              "      <td>11.2</td>\n",
              "      <td>0.280</td>\n",
              "      <td>0.56</td>\n",
              "      <td>1.9</td>\n",
              "      <td>0.075</td>\n",
              "      <td>17.0</td>\n",
              "      <td>60.0</td>\n",
              "      <td>0.99800</td>\n",
              "      <td>3.16</td>\n",
              "      <td>0.58</td>\n",
              "      <td>9.8</td>\n",
              "      <td>6</td>\n",
              "    </tr>\n",
              "    <tr>\n",
              "      <th>4</th>\n",
              "      <td>7.4</td>\n",
              "      <td>0.700</td>\n",
              "      <td>0.00</td>\n",
              "      <td>1.9</td>\n",
              "      <td>0.076</td>\n",
              "      <td>11.0</td>\n",
              "      <td>34.0</td>\n",
              "      <td>0.99780</td>\n",
              "      <td>3.51</td>\n",
              "      <td>0.56</td>\n",
              "      <td>9.4</td>\n",
              "      <td>5</td>\n",
              "    </tr>\n",
              "    <tr>\n",
              "      <th>...</th>\n",
              "      <td>...</td>\n",
              "      <td>...</td>\n",
              "      <td>...</td>\n",
              "      <td>...</td>\n",
              "      <td>...</td>\n",
              "      <td>...</td>\n",
              "      <td>...</td>\n",
              "      <td>...</td>\n",
              "      <td>...</td>\n",
              "      <td>...</td>\n",
              "      <td>...</td>\n",
              "      <td>...</td>\n",
              "    </tr>\n",
              "    <tr>\n",
              "      <th>1138</th>\n",
              "      <td>6.3</td>\n",
              "      <td>0.510</td>\n",
              "      <td>0.13</td>\n",
              "      <td>2.3</td>\n",
              "      <td>0.076</td>\n",
              "      <td>29.0</td>\n",
              "      <td>40.0</td>\n",
              "      <td>0.99574</td>\n",
              "      <td>3.42</td>\n",
              "      <td>0.75</td>\n",
              "      <td>11.0</td>\n",
              "      <td>6</td>\n",
              "    </tr>\n",
              "    <tr>\n",
              "      <th>1139</th>\n",
              "      <td>6.8</td>\n",
              "      <td>0.620</td>\n",
              "      <td>0.08</td>\n",
              "      <td>1.9</td>\n",
              "      <td>0.068</td>\n",
              "      <td>28.0</td>\n",
              "      <td>38.0</td>\n",
              "      <td>0.99651</td>\n",
              "      <td>3.42</td>\n",
              "      <td>0.82</td>\n",
              "      <td>9.5</td>\n",
              "      <td>6</td>\n",
              "    </tr>\n",
              "    <tr>\n",
              "      <th>1140</th>\n",
              "      <td>6.2</td>\n",
              "      <td>0.600</td>\n",
              "      <td>0.08</td>\n",
              "      <td>2.0</td>\n",
              "      <td>0.090</td>\n",
              "      <td>32.0</td>\n",
              "      <td>44.0</td>\n",
              "      <td>0.99490</td>\n",
              "      <td>3.45</td>\n",
              "      <td>0.58</td>\n",
              "      <td>10.5</td>\n",
              "      <td>5</td>\n",
              "    </tr>\n",
              "    <tr>\n",
              "      <th>1141</th>\n",
              "      <td>5.9</td>\n",
              "      <td>0.550</td>\n",
              "      <td>0.10</td>\n",
              "      <td>2.2</td>\n",
              "      <td>0.062</td>\n",
              "      <td>39.0</td>\n",
              "      <td>51.0</td>\n",
              "      <td>0.99512</td>\n",
              "      <td>3.52</td>\n",
              "      <td>0.76</td>\n",
              "      <td>11.2</td>\n",
              "      <td>6</td>\n",
              "    </tr>\n",
              "    <tr>\n",
              "      <th>1142</th>\n",
              "      <td>5.9</td>\n",
              "      <td>0.645</td>\n",
              "      <td>0.12</td>\n",
              "      <td>2.0</td>\n",
              "      <td>0.075</td>\n",
              "      <td>32.0</td>\n",
              "      <td>44.0</td>\n",
              "      <td>0.99547</td>\n",
              "      <td>3.57</td>\n",
              "      <td>0.71</td>\n",
              "      <td>10.2</td>\n",
              "      <td>5</td>\n",
              "    </tr>\n",
              "  </tbody>\n",
              "</table>\n",
              "<p>1143 rows × 12 columns</p>\n",
              "</div>\n",
              "      <button class=\"colab-df-convert\" onclick=\"convertToInteractive('df-e7c5e8ae-0737-4b3a-b876-9c2485f3b7fe')\"\n",
              "              title=\"Convert this dataframe to an interactive table.\"\n",
              "              style=\"display:none;\">\n",
              "        \n",
              "  <svg xmlns=\"http://www.w3.org/2000/svg\" height=\"24px\"viewBox=\"0 0 24 24\"\n",
              "       width=\"24px\">\n",
              "    <path d=\"M0 0h24v24H0V0z\" fill=\"none\"/>\n",
              "    <path d=\"M18.56 5.44l.94 2.06.94-2.06 2.06-.94-2.06-.94-.94-2.06-.94 2.06-2.06.94zm-11 1L8.5 8.5l.94-2.06 2.06-.94-2.06-.94L8.5 2.5l-.94 2.06-2.06.94zm10 10l.94 2.06.94-2.06 2.06-.94-2.06-.94-.94-2.06-.94 2.06-2.06.94z\"/><path d=\"M17.41 7.96l-1.37-1.37c-.4-.4-.92-.59-1.43-.59-.52 0-1.04.2-1.43.59L10.3 9.45l-7.72 7.72c-.78.78-.78 2.05 0 2.83L4 21.41c.39.39.9.59 1.41.59.51 0 1.02-.2 1.41-.59l7.78-7.78 2.81-2.81c.8-.78.8-2.07 0-2.86zM5.41 20L4 18.59l7.72-7.72 1.47 1.35L5.41 20z\"/>\n",
              "  </svg>\n",
              "      </button>\n",
              "      \n",
              "  <style>\n",
              "    .colab-df-container {\n",
              "      display:flex;\n",
              "      flex-wrap:wrap;\n",
              "      gap: 12px;\n",
              "    }\n",
              "\n",
              "    .colab-df-convert {\n",
              "      background-color: #E8F0FE;\n",
              "      border: none;\n",
              "      border-radius: 50%;\n",
              "      cursor: pointer;\n",
              "      display: none;\n",
              "      fill: #1967D2;\n",
              "      height: 32px;\n",
              "      padding: 0 0 0 0;\n",
              "      width: 32px;\n",
              "    }\n",
              "\n",
              "    .colab-df-convert:hover {\n",
              "      background-color: #E2EBFA;\n",
              "      box-shadow: 0px 1px 2px rgba(60, 64, 67, 0.3), 0px 1px 3px 1px rgba(60, 64, 67, 0.15);\n",
              "      fill: #174EA6;\n",
              "    }\n",
              "\n",
              "    [theme=dark] .colab-df-convert {\n",
              "      background-color: #3B4455;\n",
              "      fill: #D2E3FC;\n",
              "    }\n",
              "\n",
              "    [theme=dark] .colab-df-convert:hover {\n",
              "      background-color: #434B5C;\n",
              "      box-shadow: 0px 1px 3px 1px rgba(0, 0, 0, 0.15);\n",
              "      filter: drop-shadow(0px 1px 2px rgba(0, 0, 0, 0.3));\n",
              "      fill: #FFFFFF;\n",
              "    }\n",
              "  </style>\n",
              "\n",
              "      <script>\n",
              "        const buttonEl =\n",
              "          document.querySelector('#df-e7c5e8ae-0737-4b3a-b876-9c2485f3b7fe button.colab-df-convert');\n",
              "        buttonEl.style.display =\n",
              "          google.colab.kernel.accessAllowed ? 'block' : 'none';\n",
              "\n",
              "        async function convertToInteractive(key) {\n",
              "          const element = document.querySelector('#df-e7c5e8ae-0737-4b3a-b876-9c2485f3b7fe');\n",
              "          const dataTable =\n",
              "            await google.colab.kernel.invokeFunction('convertToInteractive',\n",
              "                                                     [key], {});\n",
              "          if (!dataTable) return;\n",
              "\n",
              "          const docLinkHtml = 'Like what you see? Visit the ' +\n",
              "            '<a target=\"_blank\" href=https://colab.research.google.com/notebooks/data_table.ipynb>data table notebook</a>'\n",
              "            + ' to learn more about interactive tables.';\n",
              "          element.innerHTML = '';\n",
              "          dataTable['output_type'] = 'display_data';\n",
              "          await google.colab.output.renderOutput(dataTable, element);\n",
              "          const docLink = document.createElement('div');\n",
              "          docLink.innerHTML = docLinkHtml;\n",
              "          element.appendChild(docLink);\n",
              "        }\n",
              "      </script>\n",
              "    </div>\n",
              "  </div>\n",
              "  "
            ]
          },
          "metadata": {},
          "execution_count": 4
        }
      ]
    },
    {
      "cell_type": "markdown",
      "source": [
        "Once again, we will use PCA to reduce our number of dimensions and determine the most important parts of our data. Using PCA, we can determine which chemical components are the most important to wine. Neat!"
      ],
      "metadata": {
        "id": "7A6iWiuE00jp"
      }
    },
    {
      "cell_type": "code",
      "source": [
        "\n",
        "scaler=StandardScaler()\n",
        "df=scaler.fit_transform(df3)\n",
        "n_components = 2\n",
        "\n",
        "pca = PCA(n_components=n_components)\n",
        "components_2 = pca.fit_transform(df3)\n",
        "\n",
        "total_var = pca.explained_variance_ratio_.sum() * 100\n",
        "\n",
        "labels = {str(i): f\"PC {i+1}\" for i in range(n_components)}\n",
        "labels['color'] = 'Median Price'\n",
        "\n",
        "fig = px.scatter(\n",
        "    components_2, x=0, y=1,\n",
        "    title=f'Total Explained Variance: {total_var:.2f}%',\n",
        "    labels={'0': 'PC 1', '1': 'PC 2', '2': 'PC 3'}\n",
        ")\n",
        "fig.show()\n",
        "\n",
        "\n",
        "pca.explained_variance_ratio_\n"
      ],
      "metadata": {
        "colab": {
          "base_uri": "https://localhost:8080/",
          "height": 559
        },
        "id": "dpZfrS9OvhFe",
        "outputId": "74e3cade-6a91-4885-80d2-44c914b55d3f"
      },
      "execution_count": null,
      "outputs": [
        {
          "output_type": "display_data",
          "data": {
            "text/html": [
              "<html>\n",
              "<head><meta charset=\"utf-8\" /></head>\n",
              "<body>\n",
              "    <div>            <script src=\"https://cdnjs.cloudflare.com/ajax/libs/mathjax/2.7.5/MathJax.js?config=TeX-AMS-MML_SVG\"></script><script type=\"text/javascript\">if (window.MathJax && window.MathJax.Hub && window.MathJax.Hub.Config) {window.MathJax.Hub.Config({SVG: {font: \"STIX-Web\"}});}</script>                <script type=\"text/javascript\">window.PlotlyConfig = {MathJaxConfig: 'local'};</script>\n",
              "        <script src=\"https://cdn.plot.ly/plotly-2.18.2.min.js\"></script>                <div id=\"a808a9df-a12f-4417-91ff-c59c7b2b8e35\" class=\"plotly-graph-div\" style=\"height:525px; width:100%;\"></div>            <script type=\"text/javascript\">                                    window.PLOTLYENV=window.PLOTLYENV || {};                                    if (document.getElementById(\"a808a9df-a12f-4417-91ff-c59c7b2b8e35\")) {                    Plotly.newPlot(                        \"a808a9df-a12f-4417-91ff-c59c7b2b8e35\",                        [{\"hovertemplate\":\"PC 1=%{x}<br>PC 2=%{y}<extra></extra>\",\"legendgroup\":\"\",\"marker\":{\"color\":\"#636efa\",\"symbol\":\"circle\"},\"mode\":\"markers\",\"name\":\"\",\"showlegend\":false,\"x\":[-12.614259823387652,22.609946154386485,7.77559841565036,14.03534741193527,-12.614259823387723,-6.327088730914775,12.656458813338096,-24.478761712982273,-28.682468306873492,18.528135615231694,12.880616028396885,-17.928079239193906,59.8879662087248,10.150577406694806,26.090573570779426,-9.902547078943021,19.194707019412466,-4.620067441848002,-23.35722910931062,-36.57862531669256,-10.995952210876569,-30.846953147554768,35.56178764938912,65.41174929999796,3.4567804661755397,-29.504067933612188,-32.892561058975524,-16.108734033460912,39.401944155446095,0.3915348556793945,-32.798366860472775,-23.79397537005619,17.032119589770872,67.88750756649414,-24.861554979448577,-31.81269927251996,-33.2167770688007,74.47695846287003,30.172964377549576,-37.55933329776633,8.200679446055425,-1.3172316316370147,6.670994569544179,65.50348108973785,7.3517132590459715,-36.56214350069258,-36.56214350069258,-32.2470529718811,-27.92219045199014,47.49177665143543,-3.8201714471160044,-5.237797242230192,-15.886875302558158,32.53892698975338,73.83376515817744,-32.87535940285978,27.620606955373074,15.251497864619271,-5.045975203863898,88.93750065759261,-15.974426986142614,81.17952112709058,-23.019146801242066,97.54583292257324,88.93750065759261,-15.974426986142614,43.61336532974842,-23.99546790558593,-37.33854983274299,-11.2171543658183,3.0038039143478183,-11.2171543658183,17.882443746243304,-11.935900484119694,17.882443746243304,23.067568099657592,17.55292323977204,0.2953833654328746,59.67295443282508,1.4345178275539054,0.2953833654328746,15.145701888016204,-6.765963462670162,40.90564992237211,9.498527602176713,-34.82884922759879,55.9437355845599,-35.82732901666856,-35.82594201850943,-31.92403547703489,89.12701092815107,52.15833873759861,-17.08033691780813,16.775646152912902,-1.4384597014210034,16.775646152912902,19.108663615518363,-27.991716634536484,19.108663615518363,96.38972227313147,48.139045633044844,-16.31173911303385,-36.37033120915954,26.060853033433137,53.865517150452796,53.865517150452796,82.86520192407866,84.05531676919254,82.86520192407866,-24.11955473040171,39.678536610729665,-27.14550592957196,-26.717973740795554,-14.277878073342816,77.75085110174437,77.53749561561396,48.59083679711363,54.333186021086114,-3.514796476466643,-2.8499221294600567,-39.504483476044804,-29.31714283086263,-2.0441925317129708,3.7445183034659646,-12.48929431563068,-9.354354002062243,-27.138075807345427,-5.017083110896882,-5.017083110896882,64.18344898459607,-3.7263574954508933,17.674199783141574,14.10094408371341,40.39701059004908,20.266116681048974,94.72163159185577,80.37554081128978,4.170865995765161,-19.329196453700686,-19.329196453700686,8.753912722925717,-19.27215085076597,-15.334639939331222,-22.841184456760057,-9.046965592170682,-18.94644482042565,-18.94644482042565,48.4749131817542,-28.582493568012115,14.522375688868598,21.28813459640782,-5.993977477542295,75.60175025444613,2.4496339385383523,-5.775766312701324,-3.06048669546027,13.597508059215714,25.5760334545745,-37.339851636079274,-19.12970582601653,19.546879416529848,36.69963141807586,59.416301690243984,2.241157330105778,12.319252299118615,-10.539677480604189,-8.067708750547887,13.451018877409533,-23.489032656478365,64.27070942639878,-22.648119962077246,-22.648119962077246,-24.43230516882606,5.06079963141983,-24.43230516882606,-8.648435966970496,-11.55460940237471,-26.613096617636362,37.54461880185708,71.71149064075017,-34.41761453816757,9.099134235964621,-2.5098431693087964,-12.977143969607194,-0.37977856542060384,19.845486984691817,-11.85928895543946,4.594656690593312,-20.767689536855247,16.969381879555975,-8.853509562361808,-20.298240644539383,-24.86977607626987,17.175230367678417,17.175230367678417,-20.298240644539383,-24.86977607626987,-34.423256611090224,-0.12259882710338481,-28.348919437051297,-37.34057261712784,-0.12259882710338481,28.003286115934618,28.003286115934618,4.987543151909813,9.783034277476565,3.939458724115107,54.58622024116133,3.939458724115107,2.533511102102214,-31.47972668438946,7.19603644387089,-20.748339782076837,25.736333253671468,-18.13707666637301,-16.821581257256714,-0.9334579336783668,-32.06288678589097,-18.2661964339178,42.304132218640554,6.072926902746027,-33.237450685521765,-35.404486628271584,57.5943307380937,51.60745222053965,90.10792367526184,27.70294239852084,13.915534738940815,30.49786050011905,42.14629855271128,3.4953399497254685,3.4953399497254685,-33.25158790044621,-34.41861665585617,-26.41739943846488,-1.7929471444641933,-7.447980602495621,-26.20775247377905,-31.296728103277545,14.668692590742124,-17.324525300335814,-33.24758182660753,-33.24758182660753,-15.667767771770814,-32.29174611963261,-0.05238484149199095,-20.438816019079006,-27.90508198856442,31.916572694571443,121.63789906681264,-13.305287833580474,11.712869249712389,-17.31853827504163,-23.606130662713447,-6.021648190556128,33.93729980046305,5.139429556373422,-10.775399113655649,-32.2767212275623,-5.665808745616244,-5.665808745616244,-22.39386863822779,-29.343300778897152,-21.412269749019888,2.284131491222726,1.7613333769986854,-29.343300778897152,-23.467336568231982,-19.46181228349559,9.483531083122669,8.500079905841469,40.32693482512194,-2.5810008725371647,-21.508186496109108,-9.599065434641442,87.50995239353686,2.4330353198751364,-5.229751221708173,87.50995239353686,18.364792344417168,-6.017646751330701,-18.593819655291405,-18.924675000809884,-16.345036450213353,5.229981539141247,41.374101215419074,30.249212298582457,-28.33400910336926,76.12458789438955,89.37308010166822,-27.392181716758156,80.20894642814616,-27.180839345246923,9.873604217495027,5.521853849023243,13.629023805053523,-23.484861219862005,5.521853849023243,2.7597682913106896,-15.658078587572742,-16.962746651827565,-11.24987274289709,-23.484861219862005,20.780619047632864,-29.338334385437484,9.254165776092918,-29.338334385437484,20.48392739677036,-25.4305529933089,2.1640039883751334,-18.609277034411022,-4.942541391824609,-20.747644632960885,28.74089089400684,-31.285567137460045,-20.32103811266058,-10.391085858966827,-10.391085858966827,-10.150877923376816,-25.646991529295445,21.74632969616005,-28.368521400559654,-25.62780885560772,21.502136268130982,-0.1393544728452265,-22.74435723860215,-28.333519385027664,-32.481531707535694,6.091930895650303,-29.13242924620663,-26.406143088246534,6.376663661307353,0.903001920738959,7.929563775234722,23.550343077190167,-19.770580545860966,-31.277563864511695,-27.390004962232368,-16.625213961293614,-24.33834666445224,-30.319650891777087,-29.114905180414695,-30.308513972086715,-33.45762012736984,-20.658038434836268,-21.23140232804379,-19.062318384304223,35.843304076430016,46.73028392744196,-31.515127089299984,-8.071363864053032,71.38119953775923,-31.515127089299984,35.843304076430016,-8.071363864053032,34.16710185324115,34.16710185324115,-25.43989830304012,-20.678952073066114,-26.41623196588266,-34.22050931940844,-1.312922676705164,17.915185908100362,2.8679990982364703,-32.27954179561624,-32.27954179561624,106.61724694089865,-33.46325975118319,-31.48015972719718,-12.754714701704849,98.6437548020127,70.04501878539779,41.890379337434716,-14.668270057553036,-20.62615006959296,-4.611991324451149,-4.611991324451149,-12.779026678012665,-14.159191009516045,-20.62615006959296,-14.668270057553036,-34.42351351807222,-12.943323681424511,-30.509442057561078,2.003395111482127,-30.493281790373707,-27.58323190188139,6.981357361664286,-32.28293613062375,63.477915008611376,-18.693755392435918,-26.407058321073063,24.954221174946724,-21.832758324785,-1.2413917862952193,-2.2196878604489507,52.43245886452005,-23.614847066202962,-29.453305938481027,-23.615455659247555,-1.0190533460826183,-28.584258468970305,68.0275857555762,15.767124496630519,-1.0190533460826183,-28.584258468970305,-32.46016864947057,-27.59145504489952,-3.10171788744153,-9.924362143295646,-18.7080891361684,-33.23017540509119,64.09999558347877,62.9089053982449,-5.284194725358325,-33.46062419366957,-33.46062419366957,-25.567119982336543,55.310926632476516,4.697285688543124,29.56587293589866,102.27809135793817,29.56587293589866,-4.248451355820771,64.74477400536432,-23.48278623394246,-17.812830257778216,-33.21452119657609,16.35627425041633,8.159892982399551,17.669219592253366,-6.883949568427947,12.837046604798507,-31.507109826770126,-16.011225711027187,27.144403178826227,-17.865519842890514,-31.284925121819153,64.65890451706599,56.41767798376482,-15.010818255932898,12.991869796987487,-32.45946249191898,-32.45946249191898,-16.40467363947075,38.1537404999299,-16.40467363947075,-28.559946110434783,-1.693534672920861,38.17494223122225,61.27491180243144,-10.833366704989155,101.82054634020179,100.07967958355293,12.821076715437826,-5.698786965621501,-5.698786965621501,-5.698786965621501,-33.44020284169295,-18.709171218444304,101.5688485967508,-15.22647695679612,25.837025550256485,-16.97312376256284,-18.355548689348336,7.860009862560368,-15.22647695679612,-2.2874943113151747,-27.578595723153214,-27.578595723153214,-3.94664899797238,-19.8857777154117,4.03423773490898,-31.276079662437315,-32.26792146623962,-32.26792146623962,-34.4158790226164,-34.4158790226164,-30.096871887838038,-15.338942868246464,46.40787947354628,3.9474460727357625,-16.443392486647912,15.302610892775164,-32.46501265964362,107.7691516184042,-32.46501265964362,-38.53406404170333,-30.50618831245214,45.23040942006383,15.801904302297011,75.48517734601616,79.0547308432387,-1.3679450972446663,-22.047114560600036,25.997822453205693,-28.58508892073915,43.3181333947483,-22.047114560600036,-23.787220566798663,38.58550292161804,-33.65528224401905,6.947663495496258,-27.48173995868977,-8.61548395888585,-11.652379124219488,38.34804314835908,64.65153608306227,31.513760585478863,2.253661460695631,-24.5571456180091,-0.5720290518316196,-24.5571456180091,62.84090748912053,83.57396306684481,-34.4159521406867,3.5204997638653173,-36.57133038246551,-36.57133038246551,14.23550797963675,-9.480929593063975,-33.65452984422913,-27.480404019922073,25.583241190530664,-8.156393731964972,-24.338161076207314,12.533688314472403,-7.006288585624862,-29.99003129299976,93.58197914089409,54.95541221743561,-18.26545162761974,10.066272649151694,-15.334632783679098,-18.26545162761974,-5.471774678129559,21.422464757810978,-5.471774678129559,-13.934907493622882,2.4165010065601034,-12.745887615919463,-15.762400099481471,-15.762400099481471,44.82752976410581,55.340469664207134,-12.928281143109613,-27.925731673467382,-2.8530584112168946,1.26881015946886,26.67571866696,48.771997975212834,-15.4250319550616,48.771997975212834,96.42168732666515,97.39719057135716,-4.985375704621888,-31.045411061841282,-29.313754505949646,-13.467227689270976,46.18466071458097,-1.6558811754577931,-10.102876106026187,39.13216245108076,13.750323384396133,12.51575381787028,12.51575381787028,72.55825284352042,35.770286243957635,84.15423730438556,40.44280253932229,-33.98725457331298,-21.31839595265518,11.913754972608466,19.460808323708395,-2.6977676092826686,-33.44288449268613,-29.86159094382549,38.809027948895235,-0.2540902644374045,-29.744544398211005,-37.58525171235693,-35.59784256738869,-32.67205818526636,-33.64566311494344,-23.27580450700363,-40.48672194055186,-4.110356667301872,11.3814790031307,-24.76313924532179,-3.7520675579841436,-9.80505180104337,-31.261420342869346,-39.522474128175276,-8.829604291158862,-38.31714655806919,-21.321402207612916,9.296614468854322,57.1787936634183,57.1787936634183,-18.940269032208167,-13.405123679732123,25.47755446984157,43.62437819860868,-14.902583615123497,-7.524414795795502,-14.902583615123497,-24.775969006009365,-24.775969006009365,14.268819614268448,14.268819614268448,14.268819614268448,1.1316963314917288,-13.332504216616377,38.06902559984763,-22.25965933715348,37.515697970796865,39.2571825040821,4.4311830650177955,4.688944194695214,-31.076111804091198,0.4229863792366913,-7.602710148809907,-19.806589499591404,25.62896909813553,-16.95919751882301,-19.131343096937332,21.16389862635133,53.46218800823929,39.25483810948793,-28.47853874405021,39.25483810948793,41.416186736988834,-0.4180568734138097,-2.5713024606072685,-0.4180568734138097,-2.5713024606072685,-7.960646134188073,-12.538309810209567,-12.538309810209567,-28.226423133749165,30.581354071412374,-38.11008835822862,18.657387115083804,-36.81264930190672,-38.71106324398774,-39.53566351778612,-41.697936717948934,13.887445273351648,1.378851450735697,35.80706007430063,4.839467353917575,-23.590473144605323,4.839467353917575,-17.85108387916502,38.32197567084049,34.20836760044989,27.441961066508334,-17.85108387916502,-27.50243896786569,-8.281758169754577,22.478708558302607,-22.0479003645062,26.190780893753757,-35.943446882839055,-29.666455543213736,5.37384740723082,-22.39882458843641,-22.40733307867541,-35.20302125395979,-25.561018703801615,-25.561018703801615,-35.20302125395979,-37.14841683734917,-38.35675023265923,-23.799559683205775,-37.36348308079714,-7.686543781634271,-7.235250096891794,-29.097833769623374,-31.259143474802535,-7.235250096891794,67.11793967989686,2.919514325585371,-37.15804490510739,-33.9844589236216,29.628294755721026,74.69007449480002,-17.929443238483547,-29.882821638715228,-18.065661658281773,31.059769243168706,-29.882821638715228,-35.95128669362979,27.67109843043465,-17.75080103288277,-24.705204174373954,-17.75080103288277,24.867627501663456,24.867627501663456,-4.079776790912186,-37.56834286702005,-34.98042935354233,-35.19205488849009,1.530348855438926,-39.53273471690692,-19.05785863801696,-21.22529289907588,-22.19024856175779,-34.9960471669677,-27.073703135456444,-14.571732139908983,-13.21088862616924,-40.71471255182353,-18.29699674533512,65.95005060283746,-23.57803955130469,-39.75886762924841,-39.75886762924841,-38.532422423561385,-38.76628801469873,-28.049794046354155,-2.553161550600017,-10.04720355211684,8.590069279796916,-28.049794046354155,-33.42019244531277,1.9051369042304704,-30.529453813970274,-8.463156013267009,-1.8160573476278101,-5.618909524034659,-20.00859699189485,6.156841869339255,-4.246843337676391,2.8072516507134244,7.39956430364917,-33.88463390989025,-30.312917371964136,-0.8112407142916502,-19.707122458753116,-26.74821228007483,28.10839910205451,-37.78334600883314,45.73438069564426,8.988162489625472,-37.78334600883314,-39.75359706818758,-31.09415218155927,-32.26169917225292,-30.319651671716734,-37.3622824049421,-27.364151656363234,-20.021575301489744,-37.80371127684355,8.589807243683563,-8.011343857825139,48.147595382949305,-8.626878404345623,-39.75051763602866,-39.70152263712728,231.4285507623878,242.1748420015132,26.814459661941353,16.26222311596289,22.877665349736994,-38.749530224138695,-15.050158787729112,-3.470900928982918,-3.470900928982918,33.02878021831226,-27.926248413862087,-30.42581498413932,-15.577680438080847,-29.628028075375642,-29.628028075375642,-29.534659768001443,-8.128764367870382,-20.785253542685577,-20.785253542685577,-20.364101416447213,2.454317928626005,-22.62857220631002,-34.615975735932665,22.026908904198162,-33.23610650832771,10.446585615569195,-12.723159325327314,36.166202774779066,-24.470084210420442,-24.470084210420442,-24.470084210420442,-21.76811772196385,-32.03380493885792,-29.894773715211,-10.19911388536681,-19.05642920426952,8.16606457910047,44.728149592450855,-37.36030652105349,-7.24851109797187,-28.448328403051164,-32.273032340993694,5.337291968141255,-34.22930166736183,49.854326643056815,39.24330576760459,36.03186420302334,26.289749341597823,-35.18193543715524,-25.231803560594557,27.67120828178708,8.246710036839566,-26.39016109792778,-33.22384216564223,-25.759754229982452,-36.18438684368936,23.611290640865594,-9.138277286705822,-7.4536055766767175,-9.138277286705822,47.35758014298025,53.89256322091697,-27.081465440826793,-25.54230196632894,4.873513259777346,-3.4916289854552933,-33.44682892781528,-35.4100136984194,-31.51200392770417,20.860664510553573,20.860664510553573,19.6877674317021,2.672183864425875,31.650735734290205,0.07118444817013382,-36.39121150853757,14.830841553423273,70.42229569201483,70.42229569201483,-28.55338450275219,-27.369074093693808,-35.172341061219676,-5.796248336992839,17.543379918952688,11.01165122527401,-38.54146228203004,31.08515612793924,48.55525679749162,-38.54146228203004,-37.362120590529564,-35.20734666693675,33.122379085796986,-0.08888449307010658,-0.08888449307010658,7.7217728866574715,-0.08888449307010658,-21.755256579588938,-31.82055044367113,-31.82055044367113,-38.13078222836739,31.12757089402294,5.9736470552270555,-1.604616719522437,-1.604616719522437,-26.96737251882376,30.880762933956294,2.537658582507462,-25.964013046197433,41.61213072799047,20.352841250936024,11.670753004734957,49.97656780719382,20.352841250936024,-28.265444456076533,-30.083180150971547,-28.265444456076533,-22.166840717253645,-26.27697723185757,18.1140084244105,37.971081400147,-11.768835238690173,1.910550985786301,-6.920373307798099,16.19632290409367,-33.220153277904934,-34.20333377512981,-9.72996788414363,19.607626141430256,21.803075385445375,-12.744116752246004,10.576574274783315,-21.10328738711705,23.538553143075205,7.165314105842053,-9.599795256426455,-9.599795256426455,-26.87307921617573,6.124291172861262,15.964338983678193,19.445434012674838,0.13797824416090412,2.059022091958688,-9.397109358572548,33.72274552190007,-37.74946067754716,-37.76974979506132,33.72274552190007,-38.780287985407966,10.540060423128049,10.540060423128049,-24.77919996158458,22.846947589854203,-9.171494968945112,1.973533819953193,63.56963814475961,63.56963814475961,-35.18334905479795,15.754140233045424,-17.845459919294093,38.43263656753747,-16.663718500663084,-28.259687928228395,-38.31626834307496,-17.630538145674073,11.761071392280217,-32.6920085926046,22.736574672025053,42.90865888761489,45.40269937150158,19.127472964547973,-19.249965727020143,-5.146072442511966,44.34371270413333,0.15880915199847703,18.172026197368826,0.16124352417687426,-28.694524685822383,-11.130745550366347,-11.130745550366347,-11.130745550366347,-11.130745550366347,-8.274891782211164,44.34507960936964,44.34507960936964,23.901945141933002,-22.48633222885637,1.2669772119884748,-36.57748768746473,-5.0616750066604235,-19.573074626498773,-19.573074626498773,-19.573074626498773,-15.131740773265088,-15.131740773265088,-15.131740773265088,-15.131740773265088,-26.959752873985277,-18.699838834833127,-34.41136634084315,-34.95970546557051,-1.5447165341143092,10.488258636409585,-15.8442924462466,-19.965204809144158,23.026315757296814,58.67675666436548,-19.579191436690227,7.346005148279359,-19.579191436690227,-15.775555873102347,-2.084378278237631,56.316522645674915,27.520420276690437,18.852919818107924,-33.44038365732575,18.852919818107924,-16.40991112924052,-18.69435007378649,-11.6450534457538,-11.6450534457538,59.72765518572869,59.72765518572869,38.15169257941862,42.121956711229814,-24.002005222363156,1.2195507223026898,-12.749572932084401,-14.879407290419357,-35.391092134344326,13.506968094626254,-35.82704434086358,-36.587097939998586,57.04878660562259,-22.607563602795896,96.60341653473361,-23.469064992361233,-34.852118076739146,-0.6880126498313541,-24.97004132833636,13.104663466149931,11.035528060348629,13.104663466149931,-31.493086331476263,-27.909247042153446,-24.97004132833636,41.3119612964196,-32.89605526182142,-28.879827019212577,-32.89605526182142,-7.570981221488205,-28.98085765187101,88.57671998347573,-28.98085765187101,13.600509333558852,13.858233742462252,-14.8889746950186,-24.433606337498254,11.30037567882487,25.368450552297784,1.5714248338712449,26.88259988257637,-21.41236511717165,56.44536098256068,45.49217696727619,-6.860454057359411,-39.724492051870456,48.300402304609165,-24.98873725337956,51.635501127374745,-5.382706233454999,-16.668384117035192,-17.641008932982928,-29.875960850188434,11.474176766245112,-24.250162662023282,-29.658482604155033,40.621451975386236,-26.94510000441514,-32.056822635273726,21.59583085367222,-34.18613830606559,-7.095676087998027,10.850935543693447,11.17803637962837,-12.8603113171439,11.17803637962837,3.967574661502678,-23.04450091882842,-30.838791625083118,-0.29684234940858956,-1.2307601020383288,42.24777251845425,42.16491434466047,42.24777251845425,42.16471730552892,-33.822841748932746,-24.55403226025075,-34.187845236757745,-24.55403226025075,-35.1878285086357,-22.043944699029613,-23.786943887950006,-29.64708008632358,-34.41151233716731,-28.905844137890902,-29.321263368353954,100.33404467831225,-17.633264596151754,-17.632166928318387,-31.062325969663252,-31.062325969663252,18.842105787449135,-33.220652842789875,-35.39951499472191,-35.1638436454477,-33.226952726375394,-35.39951499472191,-20.13563968814798,-27.15800296485675,4.262789932855285,-17.74632443623096,18.753663499044862,18.75356497946725,0.9889332711161753,-27.14817419673922,-18.8076236447685,13.394249838082535,17.598730667078105,-11.11798219767759,-7.213787316785851,13.931749362732623,11.573477797318196,-28.679965295794673,-18.039281975171345,-22.850469811243997,40.70793540968581,-17.086032095534584,-10.785917301140163,-19.580417202290917,-14.55865450349137,-27.077282261628135,-17.413663924804762,-19.15219431109112,4.6939526647792,-21.130098250861423,-17.955606279112516,11.406423380956811,-16.980628638796944,-21.545456519431625,-26.073846625347592,-22.512771489363928,78.28241624126085,86.40751582290896,86.40751582290896,86.40751582290896,-26.080246202176223,-26.080246202176223,-1.6099732397909468,7.732724544879367,-26.080246202176223,-1.8130007712394243,-11.771017884570945,-9.94546046195054,-20.559976204559195,60.88995476039627,3.8591982323056406,-26.094873216878696,-16.451600045246224,-19.013189207043887,-25.877624848581217,-20.871321612704094,-19.027844172802933,54.392865355519326,-9.856398415521522,17.676321648537307,-16.98786774128467,-8.45101382529384,-19.370573818168637,-2.9193983640505556,-5.083708274296401,1.633408411720524,9.95912891804841,1.6370212746115427],\"xaxis\":\"x\",\"y\":[-1.968043880381807,4.666566707738789,-2.3282521436568797,-1.7463013597000034,-1.96804388038179,-1.2949117733475919,-3.408674172748351,4.734180966793218,-0.5009593246321743,-4.655145357519659,-2.3572370721249674,-2.8748405925832428,6.760738923579172,-0.8103410368212699,1.8639035493331126,-3.599922237295826,-10.984168027229504,6.549163773968787,0.4019979874863706,-3.905943969645335,0.7563366429439218,-1.05539173022644,-6.3062740420511885,-14.918801005564266,-3.367512855253693,-4.386903185836393,-5.704597607092877,0.8414742743850688,-12.237600797396064,1.2867940960709403,-0.6050161386533996,-1.5798145087401065,-11.370128501839119,-8.292084869675312,-6.504637851523947,-0.8128803652776506,-2.5532445871581255,-1.5620637865911544,11.221994266126385,-3.7547083167161754,-0.3717740522063203,-6.463221214816267,1.9643920839647266,-9.819861357707685,-4.26008357351905,-3.8487919658467282,-3.8487919658467282,-2.7583702189111503,-1.6899286008998957,-7.930750237892557,-3.924634685073777,-5.646640034467195,1.865520808851684,-10.765137036218187,-4.508441065825313,-5.7010239898845105,-0.5229615487288165,-0.8344372598301855,4.591767869567695,-14.940452377893072,-3.287340382554273,1.0390482416328934,-2.761857958421405,5.691479500633693,-14.940452377893072,-3.287340382554273,16.52604402741535,-2.5055657651635728,-2.7059814689762764,-0.24665303052419413,-5.381038193773614,-0.24665303052419413,-7.622296069626889,-8.245514933461465,-7.622296069626889,-2.611011635319745,-4.426908544270512,-3.774376024012031,-17.762082420678947,6.15340564794104,-3.774376024012031,-6.01248376476202,-3.254247289052799,-14.674703172791467,-3.732446579024544,-5.2987303949824,-6.711280865877132,-5.090263725530678,-5.0866038823258455,-5.923632622138324,-4.751043858155118,-9.849846799389264,1.054477650504277,-3.294134490537592,-2.357433635849124,-3.294134490537592,7.621628605066381,-6.765291249901455,7.621628605066381,-4.294849798661961,-4.938470523923912,-0.09924686574382631,-2.8964385190791138,11.021773500821723,-2.1461132169656456,-2.1461132169656456,-5.352138516197992,-4.588912012932468,-5.352138516197992,1.5752916531666161,-6.192568109848919,-2.892573644654951,-0.9606201972529038,4.535594775471898,3.937969883005308,2.9636928802593023,-12.26795675279697,-9.383370897267508,2.1691870190342972,-4.05512666016101,-3.2911248307241943,-3.4505099748150587,9.063536991199033,2.658311452661029,-6.08208735159405,-5.722577792335004,-2.8702963633587006,-4.68534511721111,-4.68534511721111,-6.497184058250566,1.2169617763966567,-8.561375769263545,-10.838160160975013,1.7679112818644613,-6.076914035523795,-21.30954138212937,-12.044045176464342,4.643031709002692,-4.594143772459376,-4.594143772459376,-2.519540965666905,0.4028826881468436,-0.3134602719668122,-1.823864368290175,0.33559546174437344,-2.7510803565017485,-2.7510803565017485,-8.142151037772212,-4.63676054998876,-8.904755475670028,8.012430120498012,-4.4291246273689655,-5.809744976274095,-3.2238904901809478,-3.4839377765252397,-5.0744022463463425,5.60687843297016,-5.186804976995185,-2.695197465673504,-3.633798911625035,9.449065774159003,3.602385087948004,-9.37785152178061,-4.1892733623941565,-0.2613068393276116,-6.5314276424674595,0.11657282225633012,-13.84300789627958,-4.81616253155122,-1.3509164315905107,-1.0139262985232798,-1.0139262985232798,-4.483369025154878,-0.7001412712188136,-4.483369025154878,2.1927967413085017,2.9393868813479243,-5.135313311886328,-15.990231606009685,-14.237635450136526,-3.4095896238883663,-5.659933068460028,-7.25416826488985,1.1413205390099352,2.503701235343401,-8.023941060536771,-3.1666096021785664,6.533644126966829,-6.453524004737497,6.910697636506082,1.3803289093389313,-4.348385319318609,-6.5389326390784905,7.931479581422209,7.931479581422209,-4.348385319318609,-6.5389326390784905,-3.3181934623012386,-5.69324019415789,-3.747634540057597,-2.681692399772914,-5.69324019415789,10.595501468507644,10.595501468507644,8.395203990844509,11.586569498369382,3.6278676392371705,5.756180886499306,3.6278676392371705,1.8259792445718042,-3.9508705562074447,-0.30932896622258177,-6.427466634811717,4.923978880222339,-3.8182006326419287,-7.172372547536046,4.721042784818142,-1.9128502879629483,0.27664411661000565,-12.961210974693145,-10.141269353228411,-2.656560697518926,-3.2067219010616306,-13.201645566120204,-7.827511565415969,-4.972152010892267,4.609203442238799,2.460588035985857,8.026780434158841,0.3650664643578261,-3.4245403798463885,-3.4245403798463885,-2.6427105732478595,-3.379505101712338,-4.232663023435258,0.7806265649040728,3.08448019243832,-3.1567461572003035,-2.9964938287897547,10.500458439200251,-0.044871612747468294,-2.6730514998011587,-2.6730514998011587,-6.518143406825612,-2.9247502691675558,-0.6586886072017899,-0.29714187242756257,-1.70688059140757,0.48801405301204726,-1.0049167869811906,4.406228746137119,11.046830407064833,0.04836847481618786,-0.6861311463187023,-4.565973276613442,-9.080775889731763,4.373320668975762,-7.6064877404102615,-2.9346032911648257,-7.677132777944616,-7.677132777944616,0.07391990876681705,-3.4323837232115686,-0.06941065446077103,10.098617422935002,2.997766525631141,-3.4323837232115686,-4.728029225457737,-0.4928921055873262,5.474356940402051,5.692642318530653,-12.368251626846966,1.8161551117277694,-5.20429484809438,-6.76372658713836,34.579078505809285,-3.2908710242710972,-5.6621249098266055,34.579078505809285,-0.6581276522898536,-4.519275854503419,3.4212504726120003,-2.674920259409375,-0.22236303398185517,9.346283248194272,1.5627430752583846,-7.222446090659238,-3.6315401639980434,-8.066106763481107,-3.7562912209140955,-3.909572085105169,1.33418889744058,-2.9929148849265665,16.676763382632153,15.64420472993653,-3.588962537753781,-4.761670838378194,15.64420472993653,2.93122533136898,-6.455891416011981,-3.124575922217544,-0.35623249361127335,-4.761670838378194,0.9608011436223377,-3.5771405771778046,4.448981896596456,-3.5771405771778046,18.43042813245016,-4.35118976359966,-9.279084138196215,-5.89896700747125,-8.943826722706252,-6.205084197772082,9.335263777921648,-3.0373485061386143,-4.393688119523831,3.58532543695109,3.58532543695109,4.6882809163015695,-5.300482867344851,0.7986486515150936,-3.6465987800048394,-5.294665328768707,8.955872147524403,-5.8609484413811925,3.2967888534326883,-3.6758621605625574,-3.8884790644893816,4.132354915768172,-2.413332294013807,-4.188105703957995,19.419981124851834,-0.9708011744703177,7.8461823142413465,4.33770288784504,-6.596446795199528,-3.062831973536704,-3.9177929190398992,-6.2416415141968296,-4.495947262749477,-3.2121480340202706,-2.554663956054803,-3.2985791598342677,-3.6268015343603515,-1.2664877500397553,0.9620187479422702,1.5230654980445935,-0.2532849741756647,2.609910877024187,-4.025786304266621,0.09911720662382624,12.47470204185203,-4.025786304266621,-0.2532849741756647,0.09911720662382624,15.45133502058643,15.45133502058643,-4.340607695933624,-1.2437345593669227,-4.124603837160603,-2.4707348504100284,7.717541533189927,6.6582767228934,-1.3405128452062522,-2.8289902292504356,-2.8289902292504356,-4.452400045513868,-3.64141056932575,-4.11142997535481,2.106802176237197,1.3222048469847418,-7.777696927400041,8.698901978752122,-6.7062150671738925,-10.475599977437744,-2.8062307012938303,-2.8062307012938303,2.13431959134912,0.36122527928207004,-10.475599977437744,-6.7062150671738925,-3.338887003761233,-8.106089028404707,-4.258855930446823,4.0098550411842915,-4.19450115037537,-4.888557694123901,-1.2060026605357368,-3.0086069104538575,8.996596295760758,-1.657113717706283,-4.136152529038547,6.080238925837649,-1.973000951045608,-1.415587165791567,-1.2063443694238731,5.420939401733205,-0.7881430083926643,0.6451453433457963,-0.7909982374611403,-9.699655817705354,-4.742626727013554,11.079841912042628,6.179360058624032,-9.699655817705354,-4.742626727013554,-3.8074889162819274,-4.87598979160359,4.221960510263864,-3.65543573095759,-1.726802522105569,-2.655496006219467,-11.579085190615054,-12.336634027061603,3.512622351845401,-3.699724014957859,-3.699724014957859,-0.28016927078023673,-9.628108944047455,2.6068454318295236,-0.9803272339142698,-14.70066659671236,-0.9803272339142698,-5.906825146117707,0.5969863632529754,-4.855187722000175,-6.9889097129143405,-2.592613364731961,-5.235125589090935,8.837852180715174,-8.603611050450844,0.9775387047150863,6.758858401946184,-4.151766923941849,5.952184565561735,6.6876236748969955,2.139019834631474,-3.124999014744508,-13.727227086442788,-13.971875685738937,-3.5687534921299386,2.739130900153771,-3.8202480099828526,-3.8202480099828526,-5.260101980008009,-3.844141502992284,-5.260101980008009,-4.708489951674714,5.907265140423484,-13.096467151856293,17.69732400147164,10.9009065809083,-7.564042666426604,-6.159266831232963,6.77914549474079,1.5652119417269557,1.5652119417269557,1.5652119417269557,-3.5703082520907365,-1.64806398083413,-13.462955199482597,-4.562175904037813,0.7746523869818173,-3.068152496341796,-4.83894620450179,2.7101061422082324,-4.562175904037813,7.941709042708045,-4.828049933691484,-4.828049933691484,0.21935959104238184,-2.413041965785635,8.664282839469452,-3.0304240748275726,-2.9070951903082967,-2.9070951903082967,-3.374548774164519,-3.374548774164519,-2.339060004759391,-0.37597125864647674,19.920771678984703,3.5373461342960515,3.986165336868167,13.39701253684498,-3.760686341770837,-3.75470628965592,-3.760686341770837,-3.4852102276004704,-4.224818884362335,-13.60813202449211,-3.097043915491949,-11.001489477756147,-8.712590448377107,2.8635421814040365,-2.9548538975053757,-3.276564801666423,-4.722834407302971,1.1015162453793905,-2.9548538975053757,-1.553821185455338,-1.8903938966186788,-4.595838732745088,-6.221002479821659,0.27423230368757057,2.3005022190242777,-2.1426738259189615,-2.9379575265412154,-13.745792530297974,-1.430804273433813,-4.180129848532806,-0.4119283108283678,1.5711880123266606,-0.4119283108283678,6.077558577518386,2.6291834277073076,-3.3717966956088152,1.693401700878974,-3.8706750856513428,-3.8706750856513428,8.641022389146126,-1.6874760566350406,-4.536489411728131,0.25982067163352274,-5.167063777504243,-4.996418621160026,0.5828055776064587,0.7170282320296999,4.9463875377812645,2.880343913850208,-7.796283231602734,-6.585557653926288,0.3025767721902045,-5.910842889780936,-0.33234849279826123,0.3025767721902045,2.594082843387499,3.9024345856116116,2.594082843387499,1.3759406658109161,6.019986378483771,2.221765558237282,-2.317152924506317,-2.317152924506317,7.962158630389954,-18.876542180900252,-8.091199150256763,-1.722757607249765,-4.131036468411909,-4.008527207471899,-9.55149370692942,-2.038008530015793,-5.4586540352221,-2.038008530015793,-13.539794345156112,-13.756437144874264,-13.868191156899218,-2.013433278156574,-3.397785106902114,-5.870202864555375,-4.546232802863296,-3.315198646831724,-4.523492163731468,-4.031228523355092,-7.7913602018952846,0.6748418680303602,0.6748418680303602,-10.352111982299252,-5.346154250232433,-8.791562592715822,-7.379238887995625,-1.377480026050963,-4.183443660418312,-11.496482325673151,4.299362813752781,6.074376491116101,-3.577605361012436,-1.2879849441745863,-9.981285649209989,-1.5887956432870332,-5.398059244997244,-3.6456737806827157,-4.117398553592585,-4.728679856700494,-4.513721174615101,-3.860404555987965,-3.008281572747902,4.2483199838233885,-9.285835345608923,-1.347083745007004,1.3778948468161911,1.5388079534060262,-2.9840246459294937,-3.215749510454368,1.3346238121144314,-2.480753259942673,5.1274907641607745,18.693193473853373,8.453105987409142,8.453105987409142,-2.67380255157981,8.481374827578414,13.187893391393295,-16.275973431411476,1.6347308788192862,-2.0409515431130254,1.6347308788192862,-1.417158779004702,-1.417158779004702,22.823267358824147,22.823267358824147,22.823267358824147,0.17445144345708666,4.229036662798082,-8.919734059382307,-3.9366055577472383,-6.7520731816161055,-8.154024056106271,19.91479167549033,11.65004560030825,-2.01227451442857,15.682887713989503,16.40823196069317,2.698551960094374,9.11702684459093,-3.0891117681787286,-3.6351687156645163,12.2022670926282,-4.168049811888027,-8.156199923433727,0.39546274376391644,-8.156199923433727,-7.595826251470691,11.77806752169291,2.0191898078259594,11.77806752169291,2.0191898078259594,-4.008393520147384,3.1729332246913784,3.1729332246913784,1.5330348361902606,-10.333462330614518,-1.4369417055835951,14.769628364357574,-4.845359349790595,-4.411061728141396,-3.272778246492302,-3.793093866781346,-11.758578594346046,10.423797107594652,8.952721569643774,21.855614168161978,-0.6426706214410614,21.855614168161978,2.2373556345385115,29.88493484938018,29.718853269389545,-10.747671450888403,2.2373556345385115,0.2874232058660206,-0.8604109214847898,8.790620407044743,-2.9368986608278034,-2.2452052473805355,-0.9056760229818813,-0.27608278236353995,-3.8966203408219156,0.21458515144907636,0.1607131544639925,-2.117663512933354,-0.15737024290806562,-0.15737024290806562,-2.117663512933354,-1.7072746342838832,-2.514076988148059,-1.5920582601442974,-2.715451329163824,11.356615582818838,4.018741276367968,-2.4594669253680275,-2.9873298635602143,4.018741276367968,-7.125507140577268,13.061169441366205,-1.7867647589416273,-1.3439289721445316,13.371789716091234,-0.5884254371748482,-2.781337877714744,-1.295593265524135,1.2117333404220576,29.484253308509764,-1.295593265524135,-0.9293352216320276,13.797143651089062,7.323893701408841,3.695827908012548,7.323893701408841,10.321179106540963,10.321179106540963,4.3637124418524245,-3.7319239964324127,-1.0902319967403873,-2.1080797537427736,11.29778669081476,-3.170027206702181,1.4853595271518996,0.9348529916706784,1.170687682879531,-1.1631599051044832,2.188145358078891,-1.5407303491482292,9.42522092739952,-4.002252289976523,0.3172790471744786,6.4919372207470225,-0.5724789667427809,-4.296091566755966,-4.296091566755966,-3.4430917734869397,-4.413834097336333,2.4459614852255083,1.9697284789944203,0.5824075045718158,10.860743556372176,2.4459614852255083,-3.563549860254074,-1.0721645962836974,-4.238768292200729,12.532296092951578,10.062617652155605,6.726285506467024,1.718055254799257,-4.947155782252354,17.736005370584603,17.19042179534128,10.054687310125159,-5.538921646197547,-3.2501629845057702,0.5279380301368249,7.874883230310184,-0.8866647519341595,-17.01139406453171,-4.628516573299381,2.6972372578208375,12.73172268330366,-4.628516573299381,-4.34214277876721,-2.0084444455957207,-2.77599269238483,-3.2553154927261976,-2.6845797236673015,-3.8489047059692,1.7866387635443846,-4.725444346442559,10.8051511353697,5.191470988313273,4.2605199771725975,2.2929098891627486,-4.267222347489477,-4.211968945552848,-28.003749667580028,-30.34841481365064,9.901313776821317,13.224970768559524,19.9707583636967,-4.405580571323902,5.740810429497413,7.18138835460459,7.18138835460459,19.764639218112837,-1.6719427154580337,0.9485074710825454,-1.3165907446098333,-0.2146741323737464,-0.2146741323737464,-4.455082480882705,9.352490880519587,2.932605452208327,2.932605452208327,4.875233171532537,-3.124055317330832,-0.8049150264603223,-4.334892510953623,6.76825630047894,-2.597646398571192,5.397621100449611,-7.045730450128186,5.967006525699479,4.764813570193996,4.764813570193996,4.764813570193996,3.176329742667816,-1.709367092755855,-1.1953463170763243,13.952301820208826,1.4840882525245847,8.924153451230897,2.8475111864277975,-2.734083867832517,4.100964512477644,0.5480701624637024,-2.7753197025489658,5.392936697066199,-2.417919057641609,2.82259570873307,-8.181993257297819,9.932024059393427,2.8549144247547598,-2.10036931674762,5.92830750657606,13.80879999971169,13.94340829490824,-4.075765323945594,-2.5709816101438747,-1.115626193325295,-1.9700646755901785,-4.657598829812186,-4.7918857123340475,3.012500233712622,-4.7918857123340475,19.74337397806587,-11.223467174881444,2.2341564017579736,-0.21225809430070589,12.671930150854228,-6.944598179070081,-3.5227306342289118,-3.1644227595675285,-3.997735159317275,6.0731557236540965,6.0731557236540965,28.9017883296976,7.052225746429935,-5.402046035733441,-4.723074840046173,-2.9628820090946753,-2.82896169002671,-20.04046871040915,-20.04046871040915,-4.677141984083094,-3.834436237632921,-2.1087265224430487,-3.3813562519995393,-4.4368021554779355,3.15073481737685,-3.4710873934595448,-3.2971503090068075,-3.042240631449511,-3.4710873934595448,-2.677540927979282,-2.1304706383397276,10.516863867366114,8.644849921180796,8.644849921180796,6.823072321977556,8.644849921180796,3.175452364441167,-0.8030992469837311,-0.8030992469837311,-1.577200360891474,-12.540062563897125,8.273154396940008,1.700659398505027,1.700659398505027,-2.034783269057224,-4.346361665408639,11.105504789953583,-2.1690314918784956,-6.489107384888225,-0.981112412407985,-3.13177116463933,22.237922726384816,-0.981112412407985,1.5185204186889854,-2.254087952393456,1.5185204186889854,1.117952964641362,1.090769513402465,16.891430315991517,-14.049282787509402,1.9546243287345857,-1.039849479550614,10.131108731065874,8.117165091207632,-2.5726796908804994,-2.3904140724890075,6.619173375142697,23.725142026639826,-8.383272588183095,2.2147630238186,1.1136087107772479,6.074113680336548,13.60861077208059,9.070290226175214,2.5203185482432637,2.5203185482432637,3.1397852194426585,4.19763841849025,7.288813261085878,4.377794591332659,9.642765064900532,18.35150342072403,3.4922042500945003,-10.037988267802836,-4.6282243000408165,-4.638122717343731,-10.037988267802836,-4.468385412556092,10.401211994874782,10.401211994874782,-1.34284851046392,-3.579860537597938,4.4792391050344404,3.9523979993362945,-9.336414935968689,-9.336414935968689,-2.140268334746032,6.17141415809619,2.3464406298627924,27.85700185662898,3.064054901317951,1.5428783388782983,-2.4971385030366666,3.342957295281479,1.9850339636087684,-4.7614589385768475,0.540500347223689,-0.7828969852225244,-3.42858485053652,7.475868214224835,0.5997714301074106,-0.531920537662795,-8.246998814627277,0.4700954070722409,-1.5775192147319286,0.48151632334614664,-0.5281689476184506,4.913624020861105,4.913624020861105,4.913624020861105,4.913624020861105,-0.845226844902742,-8.243195252673962,-8.243195252673962,10.523495177210025,-4.948489096193921,-4.020567553691777,-3.884385226249366,4.653038284885193,3.680227126118379,3.680227126118379,3.680227126118379,0.6471539655397999,0.6471539655397999,0.6471539655397999,0.6471539655397999,-2.000425904247289,-1.66371454591175,-3.2780181721456474,-1.1782541961239348,-7.397472491043067,-3.932666563159462,-7.352636690054886,-7.476439333474976,6.665105811335976,24.449218857227745,-5.6771209176822115,-4.288921774394732,-5.6771209176822115,-2.250105486749111,-5.28235822856582,-19.011484008814435,-5.613698207675851,-7.857614845860027,-3.5131327744145224,-7.857614845860027,-5.253120408223904,-1.6421039042223637,-2.1462933965241313,-2.1462933965241313,-3.4410411578621556,-3.4410411578621556,-3.830426485568113,9.606966887912444,-2.5507364560015113,-9.001686090703977,2.2551382913240943,-7.600810791979275,-3.1275866585149763,0.5099358264252715,-5.115325068574979,-3.937999874739369,-11.019818758493262,-0.7674345979900022,-3.3009331323809135,-4.673106795740705,-5.261641255677574,-3.5312792210548816,-2.304035692362009,22.156832195111054,17.464998218563515,22.156832195111054,-3.9171606941947106,-1.6387162921377838,-2.304035692362009,-12.775875978963182,-5.799743219801686,-1.4543042421017514,-5.799743219801686,7.226536227764548,-6.5897832128024,-2.565481457922584,-6.5897832128024,5.603433943545353,20.949794784705897,1.661866729488141,-4.477553603166046,9.192384586153002,17.378950344758938,2.1107967483893253,-8.529118369167174,0.016849518986336354,28.015946091388518,1.6242167152953344,0.9383896834363852,-4.212448454551351,5.238294422851358,-2.288879307737071,-7.762311975924368,7.728193337242022,3.0681511262082197,3.271913466411412,-1.2346388222240567,19.446384260573627,-3.6174065159694404,-0.23992721388493063,2.769919315304966,-1.9257272235885394,-1.7799194548614734,14.151583051817383,-2.3371762630248067,-0.05438367561371602,16.458843703161303,13.328277868471334,6.3087454635909,13.328277868471334,3.6114121805907646,-2.8411949138415236,-0.9734568286516903,7.652744155879265,-1.3211720352467275,23.93536479448685,-8.658968379634205,23.93536479448685,-8.658414812808527,-5.484194898854808,-0.38236561087801735,-2.322613490836486,-0.38236561087801735,-2.16324109906224,-2.9617046485963616,-1.5434918574199883,-0.237224193891653,-3.2661882586190494,-1.420773872001953,-3.365107785141149,-14.342554515791832,3.26990544973316,3.2570773217381452,-1.9755122713192783,-1.9755122713192783,1.4061311895505946,-2.5126749907865342,-3.095764661687207,-2.15096358657062,-2.5366593879733164,-3.095764661687207,5.8465794459523,-2.8772011029667115,9.738602674781909,7.3514841790627194,-3.6566496014653556,-3.6563728180193014,13.525763530984511,-2.870384026672935,2.494236425156826,4.692771385295506,9.885204925411994,4.892691100499437,4.045632921793045,2.4745961683217033,24.495071106428778,-0.4443228732196176,1.3210349595542326,7.447528242467878,7.853730468209212,1.1336692355709446,1.7517932556121714,3.7248244516187996,-1.441888211789676,2.22707452970313,4.237323311748615,5.620593560551523,2.339105844442889,6.081118663384559,6.370115016313556,14.359115802226022,6.15029172583694,4.116218825459103,2.0255533144849487,4.3445574695283256,34.51860290881931,-3.120203792186583,-3.120203792186583,-3.120203792186583,2.0094539818802604,2.0094539818802604,11.026324717583444,6.947431516347576,2.0094539818802604,10.00105592223799,2.0157747420580154,5.718556821867495,3.924252667474624,6.549612625053966,-1.368380849258994,2.03948681701374,3.9909641440100714,1.5864270937146836,3.025445683951087,-2.161655227436659,1.5606808785321504,4.9355597379452005,10.802685488863276,14.989248565355574,6.224663301313191,12.540245370278313,4.720660988474699,14.397952094621473,13.805576751732726,16.45733419970335,21.831336092377192,16.461171478826934],\"yaxis\":\"y\",\"type\":\"scattergl\"}],                        {\"template\":{\"data\":{\"histogram2dcontour\":[{\"type\":\"histogram2dcontour\",\"colorbar\":{\"outlinewidth\":0,\"ticks\":\"\"},\"colorscale\":[[0.0,\"#0d0887\"],[0.1111111111111111,\"#46039f\"],[0.2222222222222222,\"#7201a8\"],[0.3333333333333333,\"#9c179e\"],[0.4444444444444444,\"#bd3786\"],[0.5555555555555556,\"#d8576b\"],[0.6666666666666666,\"#ed7953\"],[0.7777777777777778,\"#fb9f3a\"],[0.8888888888888888,\"#fdca26\"],[1.0,\"#f0f921\"]]}],\"choropleth\":[{\"type\":\"choropleth\",\"colorbar\":{\"outlinewidth\":0,\"ticks\":\"\"}}],\"histogram2d\":[{\"type\":\"histogram2d\",\"colorbar\":{\"outlinewidth\":0,\"ticks\":\"\"},\"colorscale\":[[0.0,\"#0d0887\"],[0.1111111111111111,\"#46039f\"],[0.2222222222222222,\"#7201a8\"],[0.3333333333333333,\"#9c179e\"],[0.4444444444444444,\"#bd3786\"],[0.5555555555555556,\"#d8576b\"],[0.6666666666666666,\"#ed7953\"],[0.7777777777777778,\"#fb9f3a\"],[0.8888888888888888,\"#fdca26\"],[1.0,\"#f0f921\"]]}],\"heatmap\":[{\"type\":\"heatmap\",\"colorbar\":{\"outlinewidth\":0,\"ticks\":\"\"},\"colorscale\":[[0.0,\"#0d0887\"],[0.1111111111111111,\"#46039f\"],[0.2222222222222222,\"#7201a8\"],[0.3333333333333333,\"#9c179e\"],[0.4444444444444444,\"#bd3786\"],[0.5555555555555556,\"#d8576b\"],[0.6666666666666666,\"#ed7953\"],[0.7777777777777778,\"#fb9f3a\"],[0.8888888888888888,\"#fdca26\"],[1.0,\"#f0f921\"]]}],\"heatmapgl\":[{\"type\":\"heatmapgl\",\"colorbar\":{\"outlinewidth\":0,\"ticks\":\"\"},\"colorscale\":[[0.0,\"#0d0887\"],[0.1111111111111111,\"#46039f\"],[0.2222222222222222,\"#7201a8\"],[0.3333333333333333,\"#9c179e\"],[0.4444444444444444,\"#bd3786\"],[0.5555555555555556,\"#d8576b\"],[0.6666666666666666,\"#ed7953\"],[0.7777777777777778,\"#fb9f3a\"],[0.8888888888888888,\"#fdca26\"],[1.0,\"#f0f921\"]]}],\"contourcarpet\":[{\"type\":\"contourcarpet\",\"colorbar\":{\"outlinewidth\":0,\"ticks\":\"\"}}],\"contour\":[{\"type\":\"contour\",\"colorbar\":{\"outlinewidth\":0,\"ticks\":\"\"},\"colorscale\":[[0.0,\"#0d0887\"],[0.1111111111111111,\"#46039f\"],[0.2222222222222222,\"#7201a8\"],[0.3333333333333333,\"#9c179e\"],[0.4444444444444444,\"#bd3786\"],[0.5555555555555556,\"#d8576b\"],[0.6666666666666666,\"#ed7953\"],[0.7777777777777778,\"#fb9f3a\"],[0.8888888888888888,\"#fdca26\"],[1.0,\"#f0f921\"]]}],\"surface\":[{\"type\":\"surface\",\"colorbar\":{\"outlinewidth\":0,\"ticks\":\"\"},\"colorscale\":[[0.0,\"#0d0887\"],[0.1111111111111111,\"#46039f\"],[0.2222222222222222,\"#7201a8\"],[0.3333333333333333,\"#9c179e\"],[0.4444444444444444,\"#bd3786\"],[0.5555555555555556,\"#d8576b\"],[0.6666666666666666,\"#ed7953\"],[0.7777777777777778,\"#fb9f3a\"],[0.8888888888888888,\"#fdca26\"],[1.0,\"#f0f921\"]]}],\"mesh3d\":[{\"type\":\"mesh3d\",\"colorbar\":{\"outlinewidth\":0,\"ticks\":\"\"}}],\"scatter\":[{\"fillpattern\":{\"fillmode\":\"overlay\",\"size\":10,\"solidity\":0.2},\"type\":\"scatter\"}],\"parcoords\":[{\"type\":\"parcoords\",\"line\":{\"colorbar\":{\"outlinewidth\":0,\"ticks\":\"\"}}}],\"scatterpolargl\":[{\"type\":\"scatterpolargl\",\"marker\":{\"colorbar\":{\"outlinewidth\":0,\"ticks\":\"\"}}}],\"bar\":[{\"error_x\":{\"color\":\"#2a3f5f\"},\"error_y\":{\"color\":\"#2a3f5f\"},\"marker\":{\"line\":{\"color\":\"#E5ECF6\",\"width\":0.5},\"pattern\":{\"fillmode\":\"overlay\",\"size\":10,\"solidity\":0.2}},\"type\":\"bar\"}],\"scattergeo\":[{\"type\":\"scattergeo\",\"marker\":{\"colorbar\":{\"outlinewidth\":0,\"ticks\":\"\"}}}],\"scatterpolar\":[{\"type\":\"scatterpolar\",\"marker\":{\"colorbar\":{\"outlinewidth\":0,\"ticks\":\"\"}}}],\"histogram\":[{\"marker\":{\"pattern\":{\"fillmode\":\"overlay\",\"size\":10,\"solidity\":0.2}},\"type\":\"histogram\"}],\"scattergl\":[{\"type\":\"scattergl\",\"marker\":{\"colorbar\":{\"outlinewidth\":0,\"ticks\":\"\"}}}],\"scatter3d\":[{\"type\":\"scatter3d\",\"line\":{\"colorbar\":{\"outlinewidth\":0,\"ticks\":\"\"}},\"marker\":{\"colorbar\":{\"outlinewidth\":0,\"ticks\":\"\"}}}],\"scattermapbox\":[{\"type\":\"scattermapbox\",\"marker\":{\"colorbar\":{\"outlinewidth\":0,\"ticks\":\"\"}}}],\"scatterternary\":[{\"type\":\"scatterternary\",\"marker\":{\"colorbar\":{\"outlinewidth\":0,\"ticks\":\"\"}}}],\"scattercarpet\":[{\"type\":\"scattercarpet\",\"marker\":{\"colorbar\":{\"outlinewidth\":0,\"ticks\":\"\"}}}],\"carpet\":[{\"aaxis\":{\"endlinecolor\":\"#2a3f5f\",\"gridcolor\":\"white\",\"linecolor\":\"white\",\"minorgridcolor\":\"white\",\"startlinecolor\":\"#2a3f5f\"},\"baxis\":{\"endlinecolor\":\"#2a3f5f\",\"gridcolor\":\"white\",\"linecolor\":\"white\",\"minorgridcolor\":\"white\",\"startlinecolor\":\"#2a3f5f\"},\"type\":\"carpet\"}],\"table\":[{\"cells\":{\"fill\":{\"color\":\"#EBF0F8\"},\"line\":{\"color\":\"white\"}},\"header\":{\"fill\":{\"color\":\"#C8D4E3\"},\"line\":{\"color\":\"white\"}},\"type\":\"table\"}],\"barpolar\":[{\"marker\":{\"line\":{\"color\":\"#E5ECF6\",\"width\":0.5},\"pattern\":{\"fillmode\":\"overlay\",\"size\":10,\"solidity\":0.2}},\"type\":\"barpolar\"}],\"pie\":[{\"automargin\":true,\"type\":\"pie\"}]},\"layout\":{\"autotypenumbers\":\"strict\",\"colorway\":[\"#636efa\",\"#EF553B\",\"#00cc96\",\"#ab63fa\",\"#FFA15A\",\"#19d3f3\",\"#FF6692\",\"#B6E880\",\"#FF97FF\",\"#FECB52\"],\"font\":{\"color\":\"#2a3f5f\"},\"hovermode\":\"closest\",\"hoverlabel\":{\"align\":\"left\"},\"paper_bgcolor\":\"white\",\"plot_bgcolor\":\"#E5ECF6\",\"polar\":{\"bgcolor\":\"#E5ECF6\",\"angularaxis\":{\"gridcolor\":\"white\",\"linecolor\":\"white\",\"ticks\":\"\"},\"radialaxis\":{\"gridcolor\":\"white\",\"linecolor\":\"white\",\"ticks\":\"\"}},\"ternary\":{\"bgcolor\":\"#E5ECF6\",\"aaxis\":{\"gridcolor\":\"white\",\"linecolor\":\"white\",\"ticks\":\"\"},\"baxis\":{\"gridcolor\":\"white\",\"linecolor\":\"white\",\"ticks\":\"\"},\"caxis\":{\"gridcolor\":\"white\",\"linecolor\":\"white\",\"ticks\":\"\"}},\"coloraxis\":{\"colorbar\":{\"outlinewidth\":0,\"ticks\":\"\"}},\"colorscale\":{\"sequential\":[[0.0,\"#0d0887\"],[0.1111111111111111,\"#46039f\"],[0.2222222222222222,\"#7201a8\"],[0.3333333333333333,\"#9c179e\"],[0.4444444444444444,\"#bd3786\"],[0.5555555555555556,\"#d8576b\"],[0.6666666666666666,\"#ed7953\"],[0.7777777777777778,\"#fb9f3a\"],[0.8888888888888888,\"#fdca26\"],[1.0,\"#f0f921\"]],\"sequentialminus\":[[0.0,\"#0d0887\"],[0.1111111111111111,\"#46039f\"],[0.2222222222222222,\"#7201a8\"],[0.3333333333333333,\"#9c179e\"],[0.4444444444444444,\"#bd3786\"],[0.5555555555555556,\"#d8576b\"],[0.6666666666666666,\"#ed7953\"],[0.7777777777777778,\"#fb9f3a\"],[0.8888888888888888,\"#fdca26\"],[1.0,\"#f0f921\"]],\"diverging\":[[0,\"#8e0152\"],[0.1,\"#c51b7d\"],[0.2,\"#de77ae\"],[0.3,\"#f1b6da\"],[0.4,\"#fde0ef\"],[0.5,\"#f7f7f7\"],[0.6,\"#e6f5d0\"],[0.7,\"#b8e186\"],[0.8,\"#7fbc41\"],[0.9,\"#4d9221\"],[1,\"#276419\"]]},\"xaxis\":{\"gridcolor\":\"white\",\"linecolor\":\"white\",\"ticks\":\"\",\"title\":{\"standoff\":15},\"zerolinecolor\":\"white\",\"automargin\":true,\"zerolinewidth\":2},\"yaxis\":{\"gridcolor\":\"white\",\"linecolor\":\"white\",\"ticks\":\"\",\"title\":{\"standoff\":15},\"zerolinecolor\":\"white\",\"automargin\":true,\"zerolinewidth\":2},\"scene\":{\"xaxis\":{\"backgroundcolor\":\"#E5ECF6\",\"gridcolor\":\"white\",\"linecolor\":\"white\",\"showbackground\":true,\"ticks\":\"\",\"zerolinecolor\":\"white\",\"gridwidth\":2},\"yaxis\":{\"backgroundcolor\":\"#E5ECF6\",\"gridcolor\":\"white\",\"linecolor\":\"white\",\"showbackground\":true,\"ticks\":\"\",\"zerolinecolor\":\"white\",\"gridwidth\":2},\"zaxis\":{\"backgroundcolor\":\"#E5ECF6\",\"gridcolor\":\"white\",\"linecolor\":\"white\",\"showbackground\":true,\"ticks\":\"\",\"zerolinecolor\":\"white\",\"gridwidth\":2}},\"shapedefaults\":{\"line\":{\"color\":\"#2a3f5f\"}},\"annotationdefaults\":{\"arrowcolor\":\"#2a3f5f\",\"arrowhead\":0,\"arrowwidth\":1},\"geo\":{\"bgcolor\":\"white\",\"landcolor\":\"#E5ECF6\",\"subunitcolor\":\"white\",\"showland\":true,\"showlakes\":true,\"lakecolor\":\"white\"},\"title\":{\"x\":0.05},\"mapbox\":{\"style\":\"light\"}}},\"xaxis\":{\"anchor\":\"y\",\"domain\":[0.0,1.0],\"title\":{\"text\":\"PC 1\"}},\"yaxis\":{\"anchor\":\"x\",\"domain\":[0.0,1.0],\"title\":{\"text\":\"PC 2\"}},\"legend\":{\"tracegroupgap\":0},\"title\":{\"text\":\"Total Explained Variance: 99.44%\"}},                        {\"responsive\": true}                    ).then(function(){\n",
              "                            \n",
              "var gd = document.getElementById('a808a9df-a12f-4417-91ff-c59c7b2b8e35');\n",
              "var x = new MutationObserver(function (mutations, observer) {{\n",
              "        var display = window.getComputedStyle(gd).display;\n",
              "        if (!display || display === 'none') {{\n",
              "            console.log([gd, 'removed!']);\n",
              "            Plotly.purge(gd);\n",
              "            observer.disconnect();\n",
              "        }}\n",
              "}});\n",
              "\n",
              "// Listen for the removal of the full notebook cells\n",
              "var notebookContainer = gd.closest('#notebook-container');\n",
              "if (notebookContainer) {{\n",
              "    x.observe(notebookContainer, {childList: true});\n",
              "}}\n",
              "\n",
              "// Listen for the clearing of the current output cell\n",
              "var outputEl = gd.closest('.output');\n",
              "if (outputEl) {{\n",
              "    x.observe(outputEl, {childList: true});\n",
              "}}\n",
              "\n",
              "                        })                };                            </script>        </div>\n",
              "</body>\n",
              "</html>"
            ]
          },
          "metadata": {}
        },
        {
          "output_type": "execute_result",
          "data": {
            "text/plain": [
              "array([0.94668078, 0.0477564 ])"
            ]
          },
          "metadata": {},
          "execution_count": 5
        }
      ]
    },
    {
      "cell_type": "markdown",
      "source": [
        "Standardizing our data and Running PCA, we find that the first two components explain over 99% of our data. This is exactly what we are looking for when doing PCA! This means that when we reduce our dimensions into 2 components that we can graph into the picture above, we capture nearly all of our important data.\n",
        "\n",
        "The array tells us that the first principal component accounts for 94% of our data and the second principal component captures the other 5%.\n",
        "\n",
        "So, here is an interesting fact about this data. Since our first two principal components capture nearly all of our important data, the rest of whatever is not captured is essentially noise and can be disgarded."
      ],
      "metadata": {
        "id": "87ROrxIR1J0F"
      }
    },
    {
      "cell_type": "code",
      "source": [
        "\n",
        "pca = PCA(n_components=2)\n",
        "X = df3\n",
        "components_u = pca.fit_transform(X)\n",
        "#print(pca.explained_variance_ratio_)\n",
        "#print(pca.feature_names_in_)\n",
        "\n",
        "pca2 = PCA(svd_solver='auto', whiten=True)\n",
        "pca2.fit(X)\n",
        "\n",
        "#print(pca.components_)\n",
        "#print(sum(pca.components_[0][0:6]))\n",
        "#print(sum(pca.components_[1][0:6]))\n",
        "#print(sum(pca.components_[0][0:6]) + sum(pca.components_[1][0:6]))\n",
        "#print(sum(pca.explained_variance_ratio_))\n",
        "\n",
        "#Print the PC percentages\n",
        "print(\"Principle Components\")\n",
        "print(\"PC1: \" + str(round(pca.explained_variance_ratio_[0] * 100, 2)) + \"%\")\n",
        "print(\"PC2: \" + str(round(pca.explained_variance_ratio_[1] * 100, 2)) + \"%\\n\")\n",
        "\n",
        "\n",
        "squares1 = [1, 2, 3, 4, 5, 6, 7, 8, 9, 10, 11, 12]\n",
        "i = 0\n",
        "for x in pca.components_[0]:\n",
        "  squares1[i] = x * x\n",
        "  i += 1\n",
        "\n",
        "squares2 = [1, 2, 3, 4, 5, 6, 7, 8, 9, 10, 11, 12]\n",
        "i = 0\n",
        "for x in pca.components_[1]:\n",
        "  squares2[i] = x * x\n",
        "  i += 1\n",
        "\n",
        "#print(sum(squares1))\n",
        "#print(squares1)\n",
        "\n",
        "#Print the feature percentages\n",
        "print(\"Feature percentages in PC1\")\n",
        "print(\"fixed acidity: \" + str(round(squares1[0] * 100, 2)) + \"%\")\n",
        "print(\"volatile acidity: \" + str(round(squares1[1] * 100, 2)) + \"%\")\n",
        "print(\"citric acid: \" + str(round(squares1[2] * 100, 2)) + \"%\")\n",
        "print(\"residual sugar: \" + str(round(squares1[3] * 100, 2)) + \"%\")\n",
        "print(\"chlorides: \" + str(round(squares1[4] * 100, 2)) + \"%\")\n",
        "print(\"free sulfur dioxide: \" + str(round(squares1[5] * 100, 2)) + \"%\")\n",
        "print(\"total sulfur dioxide: \" + str(round(squares1[6] * 100, 2)) + \"%\")\n",
        "print(\"density: \" + str(round(squares1[7] * 100, 2)) + \"%\")\n",
        "print(\"pH: \" + str(round(squares1[8] * 100, 2)) + \"%\")\n",
        "print(\"sulphates: \" + str(round(squares1[9] * 100, 2)) + \"%\")\n",
        "print(\"alcohol: \" + str(round(squares1[10] * 100, 2)) + \"%\")\n",
        "print(\"quality: \" + str(round(squares1[11] * 100, 2)) + \"%\\n\")\n",
        "\n",
        "print(\"Feature percentages in PC2\")\n",
        "print(\"fixed acidity: \" + str(round(squares2[0] * 100, 2)) + \"%\")\n",
        "print(\"volatile acidity: \" + str(round(squares2[1] * 100, 2)) + \"%\")\n",
        "print(\"citric acid: \" + str(round(squares2[2] * 100, 2)) + \"%\")\n",
        "print(\"residual sugar: \" + str(round(squares2[3] * 100, 2)) + \"%\")\n",
        "print(\"chlorides: \" + str(round(squares2[4] * 100, 2)) + \"%\")\n",
        "print(\"free sulfur dioxide: \" + str(round(squares2[5] * 100, 2)) + \"%\")\n",
        "print(\"total sulfur dioxide: \" + str(round(squares2[6] * 100, 2)) + \"%\")\n",
        "print(\"density: \" + str(round(squares1[7] * 100, 2)) + \"%\")\n",
        "print(\"pH: \" + str(round(squares1[8] * 100, 2)) + \"%\")\n",
        "print(\"sulphates: \" + str(round(squares1[9] * 100, 2)) + \"%\")\n",
        "print(\"alcohol: \" + str(round(squares1[10] * 100, 2)) + \"%\")\n",
        "print(\"quality: \" + str(round(squares1[11] * 100, 2)) + \"%\")\n",
        "\n",
        "features = ['fixed acidity', 'volatile acidity', 'citric acid', 'residual sugar', 'chlorides', 'free sulfur dioxide', 'total sulfur dioxide', 'density','pH', 'sulphates', 'alcohol', 'quality']\n",
        "\n",
        "X = df3[features]\n",
        "\n",
        "\n",
        "loadings = pca.components_.T * np.sqrt(pca.explained_variance_)\n",
        "#fig = px.scatter(components_5, x=0, y=1)\n",
        "total_var = pca.explained_variance_ratio_.sum() * 100\n",
        "\n",
        "labels = {str(i): f\"PC {i+1}\" for i in range(n_components)}\n",
        "labels['color'] = 'Median Price'\n",
        "\n",
        "fig = px.scatter(\n",
        "    components_u, x=0, y=1,\n",
        "    title=f'Total Explained Variance: {total_var:.2f}%',\n",
        "    labels={'0': 'PC 1', '1': 'PC 2', '2': 'PC 3'}\n",
        ")\n",
        "\n",
        "for i, feature in enumerate(features):\n",
        "    fig.add_shape(\n",
        "        type='line',\n",
        "        x0=0, y0=0,\n",
        "        x1=loadings[i, 0],\n",
        "        y1=loadings[i, 1]\n",
        "    )\n",
        "    fig.add_annotation(\n",
        "        x=loadings[i, 0],\n",
        "        y=loadings[i, 1],\n",
        "        ax=0, ay=0,\n",
        "        xanchor=\"center\",\n",
        "        yanchor=\"bottom\",\n",
        "        text=feature,\n",
        "    )\n",
        "\n",
        "\n",
        "#fig = px.scatter(components_u, x=0, y=1, color_continuous_scale=px.colors.sequential.Blackbody)\n",
        "fig.show()\n"
      ],
      "metadata": {
        "id": "7NaH6YABZdaO",
        "colab": {
          "base_uri": "https://localhost:8080/",
          "height": 1000
        },
        "outputId": "5eecbfcd-901b-4f17-b5c7-53cebf253653"
      },
      "execution_count": null,
      "outputs": [
        {
          "output_type": "stream",
          "name": "stdout",
          "text": [
            "Principle Components\n",
            "PC1: 94.67%\n",
            "PC2: 4.78%\n",
            "\n",
            "Feature percentages in PC1\n",
            "fixed acidity: 0.0%\n",
            "volatile acidity: 0.0%\n",
            "citric acid: 0.0%\n",
            "residual sugar: 0.01%\n",
            "chlorides: 0.0%\n",
            "free sulfur dioxide: 4.54%\n",
            "total sulfur dioxide: 95.44%\n",
            "density: 0.0%\n",
            "pH: 0.0%\n",
            "sulphates: 0.0%\n",
            "alcohol: 0.0%\n",
            "quality: 0.0%\n",
            "\n",
            "Feature percentages in PC2\n",
            "fixed acidity: 0.08%\n",
            "volatile acidity: 0.0%\n",
            "citric acid: 0.0%\n",
            "residual sugar: 0.01%\n",
            "chlorides: 0.0%\n",
            "free sulfur dioxide: 95.33%\n",
            "total sulfur dioxide: 4.54%\n",
            "density: 0.0%\n",
            "pH: 0.0%\n",
            "sulphates: 0.0%\n",
            "alcohol: 0.0%\n",
            "quality: 0.0%\n"
          ]
        },
        {
          "output_type": "display_data",
          "data": {
            "text/html": [
              "<html>\n",
              "<head><meta charset=\"utf-8\" /></head>\n",
              "<body>\n",
              "    <div>            <script src=\"https://cdnjs.cloudflare.com/ajax/libs/mathjax/2.7.5/MathJax.js?config=TeX-AMS-MML_SVG\"></script><script type=\"text/javascript\">if (window.MathJax && window.MathJax.Hub && window.MathJax.Hub.Config) {window.MathJax.Hub.Config({SVG: {font: \"STIX-Web\"}});}</script>                <script type=\"text/javascript\">window.PlotlyConfig = {MathJaxConfig: 'local'};</script>\n",
              "        <script src=\"https://cdn.plot.ly/plotly-2.18.2.min.js\"></script>                <div id=\"a9a486b6-fe9b-4656-a723-1c53c55f36be\" class=\"plotly-graph-div\" style=\"height:525px; width:100%;\"></div>            <script type=\"text/javascript\">                                    window.PLOTLYENV=window.PLOTLYENV || {};                                    if (document.getElementById(\"a9a486b6-fe9b-4656-a723-1c53c55f36be\")) {                    Plotly.newPlot(                        \"a9a486b6-fe9b-4656-a723-1c53c55f36be\",                        [{\"hovertemplate\":\"PC 1=%{x}<br>PC 2=%{y}<extra></extra>\",\"legendgroup\":\"\",\"marker\":{\"color\":\"#636efa\",\"symbol\":\"circle\"},\"mode\":\"markers\",\"name\":\"\",\"showlegend\":false,\"x\":[-12.614259823387702,22.60994615438646,7.775598415650353,14.035347411935298,-12.61425982338773,-6.327088730914782,12.656458813338093,-24.478761712982294,-28.682468306873503,18.52813561523167,12.88061602839685,-17.928079239193906,59.88796620872477,10.150577406694774,26.090573570779405,-9.902547078943025,19.194707019412473,-4.620067441848025,-23.357229109310644,-36.57862531669258,-10.995952210876585,-30.846953147554768,35.56178764938912,65.41174929999798,3.4567804661755037,-29.50406793361218,-32.892561058975524,-16.108734033460905,39.40194415544608,0.3915348556794014,-32.79836686047281,-23.79397537005618,17.032119589770836,67.88750756649414,-24.861554979448556,-31.812699272519975,-33.21677706880071,74.47695846287004,30.172964377549544,-37.5593332977663,8.200679446055416,-1.3172316316370136,6.670994569544184,65.50348108973785,7.351713259045962,-36.56214350069258,-36.56214350069258,-32.247052971881104,-27.922190451990136,47.491776651435416,-3.8201714471159973,-5.237797242230176,-15.886875302558181,32.53892698975336,73.83376515817741,-32.875359402859786,27.620606955373063,15.251497864619251,-5.045975203863921,88.93750065759258,-15.974426986142612,81.17952112709055,-23.019146801242076,97.54583292257324,88.93750065759258,-15.974426986142612,43.61336532974834,-23.995467905585944,-37.338549832742984,-11.2171543658183,3.003803914347826,-11.2171543658183,17.882443746243307,-11.935900484119694,17.882443746243307,23.06756809965756,17.552923239772014,0.29538336543287064,59.67295443282509,1.4345178275539194,0.29538336543287064,15.145701888016223,-6.7659634626701575,40.905649922372106,9.498527602176717,-34.8288492275988,55.94373558455988,-35.82732901666858,-35.825942018509444,-31.92403547703489,89.12701092815104,52.158338737598584,-17.080336917808133,16.775646152912895,-1.4384597014210105,16.775646152912895,19.108663615518303,-27.991716634536484,19.108663615518303,96.38972227313147,48.139045633044816,-16.311739113033866,-36.37033120915955,26.06085303343309,53.86551715045275,53.86551715045275,82.86520192407868,84.0553167691925,82.86520192407868,-24.119554730401717,39.67853661072965,-27.14550592957196,-26.717973740795557,-14.27787807334283,77.75085110174437,77.53749561561393,48.590836797113624,54.3331860210861,-3.5147964764666573,-2.849922129460071,-39.50448347604482,-29.317142830862622,-2.0441925317129996,3.7445183034659393,-12.489294315630675,-9.354354002062243,-27.13807580734543,-5.017083110896871,-5.017083110896871,64.18344898459605,-3.7263574954509076,17.674199783141557,14.100944083713404,40.39701059004907,20.266116681048967,94.72163159185578,80.37554081128978,4.170865995765131,-19.329196453700686,-19.329196453700686,8.753912722925708,-19.272150850765943,-15.334639939331238,-22.841184456760043,-9.046965592170695,-18.946444820425587,-18.946444820425587,48.474913181754204,-28.58249356801209,14.522375688868609,21.288134596407794,-5.993977477542298,75.60175025444613,2.4496339385383554,-5.775766312701316,-3.0604866954602716,13.597508059215695,25.57603345457449,-37.33985163607928,-19.129705826016526,19.54687941652982,36.69963141807583,59.41630169024395,2.241157330105777,12.319252299118611,-10.539677480604173,-8.067708750547903,13.451018877409544,-23.489032656478315,64.27070942639875,-22.648119962077157,-22.648119962077157,-24.432305168826062,5.060799631419814,-24.432305168826062,-8.648435966970467,-11.554609402374737,-26.613096617636316,37.544618801857084,71.71149064075018,-34.417614538167555,9.099134235964604,-2.5098431693088314,-12.977143969607168,-0.37977856542061245,19.845486984691806,-11.859288955439457,4.594656690593296,-20.76768953685519,16.969381879555954,-8.853509562361808,-20.298240644539394,-24.869776076269808,17.175230367678395,17.175230367678395,-20.298240644539394,-24.869776076269808,-34.42325661109019,-0.12259882710336031,-28.348919437051247,-37.34057261712784,-0.12259882710336031,28.003286115934614,28.003286115934614,4.987543151909844,9.783034277476533,3.939458724115102,54.58622024116135,3.939458724115102,2.533511102102232,-31.479726684389462,7.196036443870953,-20.748339782076787,25.73633325367148,-18.137076666373012,-16.82158125725672,-0.9334579336783858,-32.06288678589093,-18.2661964339178,42.30413221864055,6.072926902746034,-33.23745068552173,-35.40448662827157,57.59433073809371,51.607452220539656,90.10792367526187,27.70294239852082,13.915534738940838,30.497860500119035,42.146298552711286,3.495339949725521,3.495339949725521,-33.25158790044615,-34.41861665585612,-26.417399438464813,-1.7929471444642002,-7.4479806024956305,-26.207752473779003,-31.29672810327752,14.6686925907421,-17.324525300335754,-33.24758182660748,-33.24758182660748,-15.667767771770759,-32.29174611963254,-0.052384841491973574,-20.438816019078995,-27.905081988564422,31.91657269457149,121.63789906681258,-13.3052878335805,11.712869249712414,-17.318538275041593,-23.606130662713397,-6.021648190556065,33.937299800463045,5.139429556373421,-10.775399113655588,-32.27672122756224,-5.665808745616161,-5.665808745616161,-22.393868638227744,-29.34330077889712,-21.412269749019877,2.2841314912227215,1.7613333769987203,-29.34330077889712,-23.46733656823193,-19.461812283495576,9.483531083122653,8.500079905841453,40.32693482512189,-2.5810008725371003,-21.508186496109083,-9.599065434641378,87.50995239353679,2.4330353198751804,-5.229751221708153,87.50995239353679,18.364792344417214,-6.017646751330651,-18.593819655291412,-18.92467500080986,-16.3450364502133,5.229981539141293,41.37410121541906,30.249212298582435,-28.33400910336921,76.12458789438955,89.37308010166821,-27.392181716758117,80.20894642814616,-27.18083934524687,9.87360421749498,5.5218538490232,13.629023805053519,-23.484861219861973,5.5218538490232,2.759768291310662,-15.658078587572723,-16.962746651827548,-11.24987274289703,-23.484861219861973,20.780619047632847,-29.338334385437427,9.254165776092938,-29.338334385437427,20.483927396770326,-25.430552993308847,2.16400398837513,-18.609277034410955,-4.942541391824503,-20.747644632960913,28.74089089400687,-31.28556713746002,-20.321038112660567,-10.391085858966786,-10.391085858966786,-10.150877923376841,-25.646991529295395,21.74632969616004,-28.36852140055959,-25.62780885560771,21.502136268130982,-0.13935447284517455,-22.744357238602134,-28.333519385027657,-32.48153170753564,6.091930895650315,-29.132429246206627,-26.406143088246488,6.3766636613073295,0.9030019207390168,7.9295637752347226,23.550343077190202,-19.770580545860934,-31.27756386451166,-27.390004962232325,-16.625213961293593,-24.338346664452153,-30.319650891777055,-29.114905180414663,-30.308513972086683,-33.45762012736979,-20.658038434836254,-21.231402328043774,-19.062318384304213,35.84330407643002,46.730283927441945,-31.515127089299956,-8.071363864053037,71.38119953775919,-31.515127089299956,35.84330407643002,-8.071363864053037,34.16710185324117,34.16710185324117,-25.43989830304008,-20.67895207306607,-26.416231965882616,-34.220509319408386,-1.3129226767051112,17.91518590810037,2.8679990982364982,-32.27954179561622,-32.27954179561622,106.61724694089868,-33.46325975118311,-31.480159727197133,-12.754714701704831,98.64375480201268,70.0450187853978,41.89037933743468,-14.668270057553004,-20.626150069592935,-4.611991324451103,-4.611991324451103,-12.77902667801265,-14.159191009516029,-20.626150069592935,-14.668270057553004,-34.42351351807219,-12.943323681424438,-30.509442057561028,2.0033951114821313,-30.493281790373665,-27.58323190188136,6.981357361664317,-32.282936130623675,63.477915008611355,-18.69375539243592,-26.407058321073027,24.95422117494676,-21.83275832478502,-1.2413917862952044,-2.219687860448935,52.432458864519994,-23.614847066202874,-29.453305938480984,-23.615455659247466,-1.01905334608255,-28.584258468970244,68.02758575557617,15.767124496630498,-1.01905334608255,-28.584258468970244,-32.46016864947056,-27.591455044899508,-3.101717887441565,-9.924362143295596,-18.708089136168365,-33.23017540509115,64.0999955834788,62.90890539824492,-5.284194725358297,-33.46062419366952,-33.46062419366952,-25.56711998233649,55.310926632476495,4.697285688543077,29.56587293589867,102.27809135793811,29.56587293589867,-4.248451355820735,64.74477400536429,-23.482786233942402,-17.812830257778202,-33.21452119657609,16.356274250416327,8.159892982399546,17.669219592253395,-6.883949568427974,12.837046604798502,-31.507109826770066,-16.01122571102721,27.144403178826227,-17.86551984289047,-31.284925121819104,64.65890451706599,56.41767798376482,-15.010818255932877,12.991869796987467,-32.45946249191898,-32.45946249191898,-16.40467363947074,38.15374049992989,-16.40467363947074,-28.559946110434748,-1.693534672920878,38.17494223122231,61.274911802431404,-10.833366704989166,101.82054634020177,100.07967958355292,12.821076715437824,-5.698786965621477,-5.698786965621477,-5.698786965621477,-33.440202841692944,-18.709171218444283,101.56884859675078,-15.226476956796084,25.837025550256573,-16.97312376256282,-18.355548689348314,7.860009862560375,-15.226476956796084,-2.287494311315139,-27.57859572315322,-27.57859572315322,-3.9466489979723907,-19.885777715411706,4.034237734908977,-31.276079662437308,-32.26792146623957,-32.26792146623957,-34.41587902261639,-34.41587902261639,-30.09687188783801,-15.338942868246459,46.407879473546245,3.947446072735796,-16.443392486647923,15.302610892775144,-32.465012659643605,107.76915161840418,-32.465012659643605,-38.534064041703324,-30.50618831245213,45.23040942006385,15.801904302296991,75.48517734601612,79.05473084323872,-1.3679450972447107,-22.047114560600047,25.997822453205703,-28.585088920739086,43.31813339474831,-22.047114560600047,-23.787220566798673,38.585502921618016,-33.65528224401904,6.947663495496282,-27.48173995868979,-8.615483958885857,-11.652379124219499,38.34804314835909,64.6515360830623,31.513760585478874,2.2536614606956245,-24.557145618009084,-0.5720290518316327,-24.557145618009084,62.840907489120525,83.57396306684481,-34.41595214068667,3.520499763865308,-36.571330382465526,-36.571330382465526,14.235507979636713,-9.480929593063973,-33.65452984422911,-27.48040401992208,25.583241190530654,-8.15639373196497,-24.338161076207328,12.533688314472393,-7.006288585624859,-29.990031292999753,93.58197914089409,54.95541221743564,-18.265451627619758,10.06627264915171,-15.334632783679105,-18.265451627619758,-5.471774678129559,21.422464757810953,-5.471774678129559,-13.934907493622909,2.41650100656009,-12.745887615919488,-15.762400099481466,-15.762400099481466,44.82752976410579,55.34046966420713,-12.928281143109588,-27.92573167346737,-2.8530584112168795,1.268810159468877,26.675718666960012,48.77199797521283,-15.425031955061597,48.77199797521283,96.42168732666515,97.39719057135714,-4.9853757046218785,-31.045411061841303,-29.313754505949664,-13.467227689270963,46.18466071458094,-1.6558811754578155,-10.102876106026207,39.13216245108074,13.750323384396157,12.515753817870294,12.515753817870294,72.55825284352038,35.77028624395764,84.15423730438557,40.442802539322294,-33.987254573312974,-21.31839595265515,11.913754972608503,19.460808323708395,-2.697767609282661,-33.4428844926861,-29.861590943825483,38.8090279488952,-0.2540902644374132,-29.744544398210987,-37.58525171235692,-35.59784256738869,-32.672058185266344,-33.64566311494345,-23.275804507003578,-40.48672194055185,-4.110356667301827,11.381479003130716,-24.76313924532181,-3.7520675579841902,-9.80505180104339,-31.261420342869346,-39.52247412817526,-8.829604291158876,-38.317146558069176,-21.321402207612948,9.296614468854324,57.17879366341824,57.17879366341824,-18.940269032208136,-13.405123679732148,25.477554469841564,43.62437819860867,-14.902583615123524,-7.524414795795508,-14.902583615123524,-24.775969006009348,-24.775969006009348,14.268819614268422,14.268819614268422,14.268819614268422,1.1316963314917279,-13.332504216616341,38.069025599847606,-22.259659337153476,37.515697970796865,39.2571825040821,4.43118306501774,4.688944194695186,-31.076111804091184,0.42298637923666016,-7.602710148809939,-19.806589499591425,25.628969098135517,-16.959197518822997,-19.13134309693732,21.163898626351283,53.4621880082393,39.25483810948793,-28.47853874405019,39.25483810948793,41.41618673698885,-0.418056873413843,-2.5713024606072725,-0.418056873413843,-2.5713024606072725,-7.960646134188056,-12.538309810209581,-12.538309810209581,-28.226423133749172,30.58135407141236,-38.11008835822865,18.657387115083765,-36.81264930190669,-38.71106324398769,-39.535663517786084,-41.69793671794889,13.88744527335162,1.3788514507356855,35.80706007430062,4.839467353917541,-23.5904731446053,4.839467353917541,-17.85108387916502,38.32197567084043,34.20836760044985,27.441961066508338,-17.85108387916502,-27.502438967865682,-8.281758169754585,22.47870855830258,-22.047900364506205,26.190780893753757,-35.94344688283909,-29.666455543213704,5.37384740723085,-22.398824588436398,-22.407333078675375,-35.203021253959776,-25.561018703801604,-25.561018703801604,-35.203021253959776,-37.148416837349146,-38.35675023265921,-23.79955968320578,-37.363483080797124,-7.686543781634316,-7.235250096891793,-29.097833769623385,-31.259143474802546,-7.235250096891793,67.11793967989686,2.91951432558536,-37.158044905107346,-33.984458923621574,29.62829475572099,74.69007449479999,-17.929443238483557,-29.882821638715214,-18.065661658281766,31.05976924316864,-29.882821638715214,-35.95128669362979,27.67109843043461,-17.750801032882794,-24.705204174373936,-17.750801032882794,24.867627501663428,24.867627501663428,-4.079776790912202,-37.568342867020014,-34.980429353542334,-35.192054888490084,1.530348855438905,-39.53273471690693,-19.057858638016945,-21.22529289907586,-22.190248561757777,-34.99604716696769,-27.073703135456444,-14.571732139908987,-13.210888626169263,-40.714712551823496,-18.29699674533511,65.9500506028374,-23.578039551304713,-39.758867629248336,-39.758867629248336,-38.53242242356139,-38.7662880146987,-28.049794046354172,-2.5531615506000196,-10.047203552116848,8.590069279796875,-28.049794046354172,-33.42019244531276,1.9051369042304798,-30.529453813970246,-8.463156013267035,-1.816057347627808,-5.618909524034667,-20.00859699189487,6.156841869339243,-4.246843337676437,2.807251650713387,7.3995643036491385,-33.88463390989022,-30.31291737196411,-0.8112407142916748,-19.707122458753158,-26.748212280074824,28.108399102054516,-37.78334600883312,45.734380695644234,8.988162489625473,-37.78334600883312,-39.753597068187524,-31.094152181559267,-32.2616991722529,-30.31965167171669,-37.362282404942086,-27.364151656363234,-20.021575301489772,-37.8037112768435,8.589807243683545,-8.01134385782513,48.14759538294928,-8.626878404345629,-39.75051763602863,-39.70152263712727,231.4285507623878,242.1748420015132,26.814459661941303,16.262223115962875,22.87766534973694,-38.749530224138674,-15.050158787729117,-3.470900928982888,-3.470900928982888,33.02878021831224,-27.926248413862083,-30.425814984139336,-15.577680438080835,-29.628028075375646,-29.628028075375646,-29.53465976800143,-8.12876436787039,-20.7852535426856,-20.7852535426856,-20.36410141644722,2.454317928625982,-22.628572206310004,-34.61597573593266,22.026908904198173,-33.2361065083277,10.446585615569141,-12.723159325327307,36.166202774779016,-24.470084210420463,-24.470084210420463,-24.470084210420463,-21.768117721963876,-32.03380493885794,-29.894773715211002,-10.199113885366858,-19.056429204269506,8.166064579100434,44.728149592450876,-37.36030652105345,-7.24851109797189,-28.44832840305115,-32.27303234099367,5.337291968141241,-34.22930166736179,49.854326643056794,39.24330576760459,36.03186420302333,26.28974934159782,-35.18193543715524,-25.231803560594575,27.671208281787035,8.246710036839549,-26.39016109792779,-33.223842165642196,-25.75975422998245,-36.184386843689325,23.611290640865565,-9.138277286705819,-7.453605576676706,-9.138277286705819,47.3575801429802,53.89256322091693,-27.08146544082678,-25.54230196632893,4.873513259777326,-3.4916289854553066,-33.446828927815275,-35.41001369841935,-31.51200392770415,20.860664510553548,20.860664510553548,19.68776743170202,2.672183864425852,31.650735734290176,0.07118444817013879,-36.39121150853753,14.830841553423253,70.42229569201481,70.42229569201481,-28.553384502752177,-27.369074093693783,-35.1723410612197,-5.796248336992846,17.543379918952667,11.011651225273983,-38.54146228203004,31.085156127939218,48.555256797491595,-38.54146228203004,-37.36212059052957,-35.20734666693675,33.122379085797,-0.08888449307012967,-0.08888449307012967,7.721772886657479,-0.08888449307012967,-21.75525657958896,-31.820550443671138,-31.820550443671138,-38.130782228367366,31.12757089402294,5.973647055227054,-1.6046167195224144,-1.6046167195224144,-26.967372518823705,30.880762933956312,2.537658582507442,-25.964013046197415,41.61213072799042,20.35284125093601,11.670753004734951,49.97656780719375,20.35284125093601,-28.26544445607655,-30.083180150971543,-28.26544445607655,-22.166840717253645,-26.276977231857582,18.114008424410457,37.971081400147014,-11.768835238690187,1.9105509857862872,-6.920373307798128,16.196322904093638,-33.220153277904956,-34.20333377512981,-9.729967884143647,19.607626141430217,21.80307538544537,-12.74411675224603,10.576574274783292,-21.103287387117085,23.538553143075198,7.165314105842039,-9.599795256426471,-9.599795256426471,-26.873079216175697,6.124291172861239,15.96433898367813,19.44543401267482,0.13797824416085727,2.0590220919586524,-9.39710935857256,33.72274552190007,-37.749460677547134,-37.76974979506131,33.72274552190007,-38.780287985407924,10.540060423128017,10.540060423128017,-24.779199961584577,22.846947589854203,-9.171494968945135,1.973533819953221,63.5696381447596,63.5696381447596,-35.183349054797965,15.754140233045401,-17.84545991929412,38.432636567537415,-16.663718500663094,-28.259687928228438,-38.316268343074974,-17.630538145674112,11.761071392280186,-32.69200859260458,22.736574672025046,42.908658887614855,45.40269937150159,19.127472964547945,-19.249965727020154,-5.146072442511966,44.34371270413334,0.15880915199844053,18.172026197368808,0.16124352417683274,-28.694524685822365,-11.13074555036637,-11.13074555036637,-11.13074555036637,-11.13074555036637,-8.27489178221118,44.34507960936963,44.34507960936963,23.901945141932977,-22.486332228856362,1.2669772119884892,-36.57748768746474,-5.061675006660455,-19.573074626498805,-19.573074626498805,-19.573074626498805,-15.131740773265097,-15.131740773265097,-15.131740773265097,-15.131740773265097,-26.959752873985227,-18.699838834833113,-34.411366340843166,-34.959705465570515,-1.5447165341143145,10.488258636409576,-15.84429244624661,-19.965204809144165,23.026315757296782,58.6767566643654,-19.579191436690174,7.346005148279363,-19.579191436690174,-15.775555873102364,-2.0843782782376397,56.31652264567488,27.52042027669044,18.852919818107903,-33.44038365732573,18.852919818107903,-16.40991112924051,-18.69435007378649,-11.645053445753804,-11.645053445753804,59.72765518572868,59.72765518572868,38.15169257941859,42.12195671122979,-24.00200522236317,1.2195507223026942,-12.749572932084435,-14.879407290419342,-35.39109213434434,13.506968094626247,-35.827044340863544,-36.58709793999857,57.048786605622574,-22.60756360279591,96.60341653473357,-23.46906499236123,-34.852118076739146,-0.688012649831353,-24.970041328336347,13.104663466149866,11.0355280603486,13.104663466149866,-31.493086331476267,-27.909247042153453,-24.970041328336347,41.31196129641963,-32.896055261821374,-28.879827019212602,-32.896055261821374,-7.570981221488224,-28.980857651871013,88.57671998347574,-28.980857651871013,13.60050933355883,13.858233742462197,-14.888974695018621,-24.433606337498247,11.300375678824848,25.368450552297748,1.5714248338712296,26.882599882576372,-21.412365117171685,56.44536098256069,45.49217696727619,-6.8604540573594175,-39.724492051870484,48.30040230460913,-24.988737253379583,51.63550112737475,-5.382706233455033,-16.668384117035206,-17.64100893298295,-29.875960850188438,11.474176766245055,-24.25016266202323,-29.658482604155054,40.62145197538621,-26.945100004415124,-32.056822635273726,21.59583085367216,-34.1861383060656,-7.095676087998041,10.850935543693407,11.178036379628336,-12.860311317143925,11.178036379628336,3.96757466150266,-23.044500918828398,-30.838791625083125,-0.296842349408605,-1.2307601020383552,42.24777251845424,42.16491434466043,42.24777251845424,42.164717305528875,-33.82284174893274,-24.55403226025074,-34.187845236757774,-24.55403226025074,-35.187828508635675,-22.043944699029627,-23.786943887950024,-29.647080086323605,-34.41151233716733,-28.905844137890913,-29.32126336835397,100.33404467831227,-17.633264596151776,-17.632166928318405,-31.06232596966325,-31.06232596966325,18.84210578744913,-33.220652842789896,-35.399514994721905,-35.16384364544772,-33.22695272637541,-35.399514994721905,-20.135639688147997,-27.158002964856742,4.26278993285525,-17.74632443623098,18.753663499044848,18.753564979467246,0.9889332711161346,-27.14817419673922,-18.807623644768526,13.3942498380825,17.598730667078073,-11.117982197677616,-7.213787316785875,13.931749362732614,11.573477797318148,-28.679965295794688,-18.03928197517137,-22.85046981124401,40.70793540968577,-17.0860320955346,-10.785917301140177,-19.58041720229095,-14.558654503491386,-27.077282261628124,-17.413663924804784,-19.15219431109114,4.69395266477923,-21.13009825086143,-17.955606279112537,11.406423380956765,-16.98062863879697,-21.54545651943165,-26.07384662534761,-22.51277148936396,78.28241624126078,86.40751582290896,86.40751582290896,86.40751582290896,-26.080246202176244,-26.080246202176244,-1.6099732397909832,7.732724544879342,-26.080246202176244,-1.813000771239455,-11.771017884570973,-9.94546046195058,-20.55997620455923,60.889954760396236,3.8591982323056127,-26.0948732168787,-16.45160004524623,-19.013189207043908,-25.87762484858125,-20.871321612704104,-19.02784417280296,54.39286535551926,-9.856398415521552,17.676321648537275,-16.98786774128471,-8.451013825293883,-19.370573818168683,-2.9193983640506014,-5.083708274296434,1.6334084117204724,9.959128918048348,1.63702127461149],\"xaxis\":\"x\",\"y\":[-1.9680438803818041,4.666566707738807,-2.328252143656882,-1.746301359700009,-1.9680438803817897,-1.2949117733475917,-3.408674172748355,4.734180966793224,-0.5009593246321736,-4.6551453575196655,-2.3572370721249674,-2.8748405925832397,6.760738923579178,-0.8103410368212637,1.863903549333118,-3.5999222372958255,-10.984168027229513,6.549163773968795,0.40199798748637366,-3.905943969645335,0.7563366429439251,-1.055391730226441,-6.306274042051196,-14.91880100556429,-3.3675128552536933,-4.386903185836398,-5.704597607092886,0.8414742743850707,-12.237600797396079,1.2867940960709399,-0.6050161386533923,-1.5798145087401059,-11.370128501839128,-8.292084869675325,-6.504637851523957,-0.8128803652776503,-2.553244587158127,-1.5620637865911509,11.221994266126405,-3.754708316716179,-0.37177405220632,-6.463221214816275,1.964392083964729,-9.8198613577077,-4.260083573519055,-3.8487919658467336,-3.8487919658467336,-2.758370218911151,-1.689928600899895,-7.930750237892566,-3.924634685073782,-5.646640034467203,1.8655208088516877,-10.765137036218201,-4.508441065825312,-5.701023989884519,-0.5229615487288174,-0.8344372598301857,4.591767869567702,-14.940452377893077,-3.2873403825542753,1.0390482416328988,-2.7618579584214067,5.6914795006336965,-14.940452377893077,-3.2873403825542753,16.52604402741537,-2.5055657651635728,-2.7059814689762773,-0.24665303052419407,-5.38103819377362,-0.24665303052419407,-7.6222960696268975,-8.245514933461472,-7.6222960696268975,-2.6110116353197412,-4.426908544270514,-3.7743760240120334,-17.76208242067896,6.153405647941046,-3.7743760240120334,-6.012483764762034,-3.2542472890528042,-14.674703172791482,-3.732446579024548,-5.298730394982406,-6.711280865877139,-5.090263725530684,-5.086603882325851,-5.923632622138329,-4.751043858155124,-9.849846799389269,1.0544776505042777,-3.2941344905375947,-2.357433635849125,-3.2941344905375947,7.621628605066398,-6.76529124990146,7.621628605066398,-4.294849798661961,-4.938470523923915,-0.09924686574382365,-2.89643851907912,11.021773500821753,-2.146113216965645,-2.146113216965645,-5.352138516198003,-4.588912012932469,-5.352138516198003,1.5752916531666186,-6.192568109848929,-2.8925736446549504,-0.9606201972529008,4.535594775471906,3.9379698830053003,2.963692880259301,-12.267956752796987,-9.383370897267518,2.169187019034301,-4.055126660161014,-3.291124830724198,-3.4505099748150627,9.063536991199042,2.6583114526610365,-6.0820873515940574,-5.7225777923350085,-2.8702963633586998,-4.685345117211115,-4.685345117211115,-6.497184058250568,1.216961776396659,-8.56137576926355,-10.838160160975027,1.7679112818644611,-6.0769140355237985,-21.309541382129407,-12.044045176464353,4.643031709002699,-4.594143772459381,-4.594143772459381,-2.519540965666909,0.40288268814684414,-0.3134602719668135,-1.823864368290179,0.3355954617443748,-2.751080356501758,-2.751080356501758,-8.142151037772217,-4.6367605499887645,-8.904755475670036,8.01243012049802,-4.429124627368967,-5.809744976274101,-3.2238904901809513,-3.4839377765252477,-5.074402246346349,5.606878432970169,-5.186804976995192,-2.6951974656735045,-3.63379891162504,9.449065774159015,3.6023850879480164,-9.377851521780615,-4.189273362394162,-0.26130683932761134,-6.531427642467466,0.11657282225633217,-13.843007896279591,-4.816162531551232,-1.3509164315905156,-1.0139262985232833,-1.0139262985232833,-4.48336902515488,-0.7001412712188138,-4.48336902515488,2.1927967413085034,2.9393868813479322,-5.135313311886339,-15.990231606009706,-14.237635450136548,-3.4095896238883707,-5.659933068460031,-7.25416826488985,1.1413205390099364,2.5037012353434047,-8.023941060536782,-3.16660960217857,6.533644126966838,-6.45352400473751,6.910697636506097,1.3803289093389337,-4.34838531931861,-6.538932639078496,7.93147958142222,7.93147958142222,-4.34838531931861,-6.538932639078496,-3.318193462301241,-5.693240194157897,-3.747634540057602,-2.6816923997729147,-5.693240194157897,10.595501468507656,10.595501468507656,8.395203990844516,11.586569498369395,3.6278676392371754,5.75618088649931,3.6278676392371754,1.8259792445718042,-3.9508705562074495,-0.3093289662225859,-6.427466634811723,4.923978880222343,-3.818200632641931,-7.172372547536051,4.721042784818148,-1.9128502879629532,0.27664411661000743,-12.961210974693163,-10.141269353228422,-2.6565606975189313,-3.206721901061632,-13.201645566120218,-7.82751156541598,-4.972152010892275,4.609203442238808,2.460588035985858,8.026780434158848,0.3650664643578245,-3.424540379846397,-3.424540379846397,-2.6427105732478715,-3.379505101712343,-4.232663023435267,0.7806265649040742,3.0844801924383263,-3.156746157200311,-2.9964938287897613,10.50045843920027,-0.044871612747468315,-2.6730514998011654,-2.6730514998011654,-6.5181434068256205,-2.924750269167565,-0.6586886072017903,-0.2971418724275596,-1.7068805914075684,0.4880140530120432,-1.0049167869811844,4.406228746137127,11.046830407064846,0.04836847481618283,-0.686131146318705,-4.5659732766134535,-9.080775889731777,4.373320668975771,-7.606487740410276,-2.9346032911648314,-7.677132777944628,-7.677132777944628,0.07391990876681426,-3.4323837232115717,-0.06941065446076984,10.09861742293502,2.9977665256311434,-3.4323837232115717,-4.728029225457742,-0.4928921055873255,5.474356940402058,5.692642318530659,-12.368251626846975,1.8161551117277666,-5.204294848094389,-6.763726587138377,34.57907850580933,-3.290871024271106,-5.662124909826618,34.57907850580933,-0.6581276522898596,-4.5192758545034275,3.421250472612004,-2.67492025940938,-0.22236303398186144,9.34628324819428,1.5627430752583875,-7.222446090659245,-3.6315401639980522,-8.066106763481123,-3.7562912209140946,-3.9095720851051774,1.3341888974405727,-2.992914884926573,16.676763382632174,15.644204729936552,-3.5889625377537873,-4.7616708383781985,15.644204729936552,2.9312253313689838,-6.455891416011989,-3.1245759222175487,-0.3562324936112808,-4.7616708383781985,0.960801143622339,-3.5771405771778104,4.448981896596461,-3.5771405771778104,18.43042813245019,-4.351189763599675,-9.279084138196215,-5.898967007471263,-8.943826722706275,-6.205084197772088,9.335263777921655,-3.0373485061386183,-4.393688119523835,3.5853254369510905,3.5853254369510905,4.688280916301578,-5.300482867344862,0.7986486515150948,-3.6465987800048523,-5.294665328768716,8.955872147524413,-5.860948441381205,3.2967888534326906,-3.67586216056256,-3.8884790644893923,4.132354915768175,-2.41333229401381,-4.188105703958006,19.419981124851866,-0.9708011744703239,7.846182314241356,4.337702887845044,-6.596446795199535,-3.062831973536706,-3.9177929190399046,-6.24164151419684,-4.495947262749487,-3.2121480340202724,-2.5546639560548074,-3.298579159834273,-3.626801534360363,-1.2664877500397564,0.9620187479422702,1.5230654980445955,-0.2532849741756639,2.6099108770241877,-4.025786304266625,0.0991172066238272,12.474702041852046,-4.025786304266625,-0.2532849741756639,0.0991172066238272,15.451335020586452,15.451335020586452,-4.340607695933629,-1.2437345593669273,-4.12460383716061,-2.4707348504100346,7.71754153318993,6.658276722893408,-1.3405128452062551,-2.8289902292504423,-2.8289902292504423,-4.452400045513873,-3.6414105693257577,-4.111429975354814,2.1068021762372,1.3222048469847434,-7.777696927400059,8.69890197875214,-6.7062150671739005,-10.475599977437755,-2.806230701293838,-2.806230701293838,2.1343195913491226,0.36122527928206966,-10.475599977437755,-6.7062150671739005,-3.3388870037612435,-8.106089028404725,-4.258855930446838,4.009855041184296,-4.194501150375376,-4.888557694123907,-1.2060026605357397,-3.0086069104538655,8.99659629576077,-1.6571137177062814,-4.136152529038552,6.0802389258376595,-1.9730009510456061,-1.415587165791569,-1.2063443694238742,5.420939401733217,-0.7881430083926695,0.6451453433457951,-0.7909982374611475,-9.699655817705372,-4.742626727013563,11.079841912042644,6.17936005862404,-9.699655817705372,-4.742626727013563,-3.8074889162819283,-4.875989791603594,4.221960510263871,-3.6554357309575947,-1.7268025221055716,-2.655496006219472,-11.579085190615071,-12.336634027061622,3.5126223518454016,-3.6997240149578667,-3.6997240149578667,-0.2801692707802416,-9.628108944047462,2.6068454318295298,-0.980327233914273,-14.700666596712377,-0.980327233914273,-5.9068251461177175,0.5969863632529804,-4.85518772200018,-6.9889097129143485,-2.5926133647319616,-5.235125589090938,8.837852180715181,-8.603611050450855,0.9775387047150891,6.758858401946192,-4.151766923941855,5.952184565561744,6.687623674897004,2.139019834631476,-3.12499901474451,-13.72722708644281,-13.971875685738953,-3.5687534921299435,2.7391309001537776,-3.8202480099828557,-3.8202480099828557,-5.260101980008013,-3.8441415029922887,-5.260101980008013,-4.708489951674719,5.907265140423489,-13.096467151856315,17.69732400147166,10.900906580908314,-7.564042666426607,-6.159266831232967,6.779145494740806,1.5652119417269548,1.5652119417269548,1.5652119417269548,-3.5703082520907343,-1.6480639808341333,-13.462955199482609,-4.562175904037821,0.7746523869818109,-3.068152496341802,-4.83894620450179,2.7101061422082378,-4.562175904037821,7.941709042708052,-4.828049933691487,-4.828049933691487,0.2193595910423833,-2.4130419657856352,8.664282839469463,-3.0304240748275766,-2.9070951903083038,-2.9070951903083038,-3.374548774164522,-3.374548774164522,-2.3390600047593924,-0.3759712586464777,19.920771678984725,3.5373461342960537,3.986165336868172,13.397012536844999,-3.7606863417708416,-3.754706289655928,-3.7606863417708416,-3.485210227600472,-4.224818884362335,-13.608132024492125,-3.0970439154919474,-11.001489477756154,-8.712590448377117,2.863542181404043,-2.9548538975053753,-3.276564801666429,-4.722834407302983,1.1015162453793856,-2.9548538975053753,-1.5538211854553374,-1.8903938966186797,-4.595838732745091,-6.221002479821668,0.27423230368757345,2.30050221902428,-2.1426738259189624,-2.937957526541221,-13.745792530297997,-1.4308042734338167,-4.18012984853281,-0.4119283108283693,1.5711880123266635,-0.4119283108283693,6.077558577518394,2.6291834277073063,-3.371796695608822,1.6934017008789768,-3.870675085651342,-3.870675085651342,8.64102238914613,-1.687476056635042,-4.536489411728133,0.25982067163352585,-5.1670637775042465,-4.996418621160033,0.5828055776064608,0.7170282320297028,4.94638753778127,2.880343913850209,-7.796283231602743,-6.585557653926298,0.3025767721902078,-5.910842889780945,-0.3323484927982597,0.3025767721902078,2.5940828433875023,3.902434585611619,2.5940828433875023,1.3759406658109232,6.019986378483776,2.2217655582372853,-2.3171529245063205,-2.3171529245063205,7.962158630389963,-18.876542180900273,-8.091199150256779,-1.7227576072497652,-4.131036468411918,-4.008527207471905,-9.551493706929433,-2.038008530015798,-5.4586540352221045,-2.038008530015798,-13.539794345156121,-13.756437144874285,-13.86819115689923,-2.013433278156573,-3.3977851069021163,-5.870202864555382,-4.5462328028633,-3.315198646831724,-4.523492163731468,-4.031228523355093,-7.791360201895297,0.674841868030359,0.674841868030359,-10.352111982299261,-5.3461542502324395,-8.791562592715836,-7.379238887995637,-1.3774800260509625,-4.183443660418319,-11.496482325673165,4.299362813752788,6.074376491116106,-3.5776053610124463,-1.287984944174587,-9.981285649209996,-1.5887956432870334,-5.39805924499725,-3.6456737806827197,-4.1173985535925866,-4.728679856700502,-4.513721174615101,-3.8604045559879747,-3.0082815727479,4.248319983823389,-9.285835345608934,-1.3470837450070021,1.3778948468161971,1.5388079534060302,-2.9840246459294946,-3.2157495104543665,1.334623812114434,-2.480753259942674,5.127490764160784,18.6931934738534,8.45310598740915,8.45310598740915,-2.673802551579812,8.481374827578426,13.187893391393313,-16.27597343141148,1.6347308788192902,-2.0409515431130276,1.6347308788192902,-1.4171587790047044,-1.4171587790047044,22.82326735882417,22.82326735882417,22.82326735882417,0.17445144345708807,4.229036662798083,-8.91973405938232,-3.9366055577472454,-6.752073181616116,-8.154024056106278,19.914791675490353,11.650045600308273,-2.012274514428574,15.682887713989524,16.408231960693186,2.6985519600943806,9.117026844590937,-3.0891117681787335,-3.6351687156645194,12.202267092628219,-4.168049811888036,-8.15619992343374,0.3954627437639183,-8.15619992343374,-7.595826251470703,11.778067521692925,2.019189807825963,11.778067521692925,2.019189807825963,-4.008393520147387,3.172933224691383,3.172933224691383,1.5330348361902628,-10.333462330614529,-1.436941705583593,14.769628364357587,-4.845359349790603,-4.411061728141411,-3.2727782464923085,-3.793093866781355,-11.758578594346057,10.423797107594666,8.952721569643785,21.85561416816201,-0.6426706214410624,21.85561416816201,2.2373556345385146,29.88493484938021,29.718853269389584,-10.747671450888413,2.2373556345385146,0.28742320586601944,-0.8604109214847888,8.790620407044752,-2.9368986608278043,-2.245205247380538,-0.905676022981878,-0.2760827823635428,-3.896620340821923,0.2145851514490755,0.16071315446399156,-2.1176635129333587,-0.1573702429080649,-0.1573702429080649,-2.1176635129333587,-1.70727463428389,-2.5140769881480622,-1.5920582601442965,-2.7154513291638285,11.356615582818854,4.0187412763679715,-2.4594669253680292,-2.987329863560213,4.0187412763679715,-7.125507140577282,13.06116944136622,-1.7867647589416322,-1.3439289721445382,13.371789716091246,-0.5884254371748504,-2.781337877714747,-1.295593265524135,1.2117333404220572,29.484253308509803,-1.295593265524135,-0.929335221632029,13.79714365108908,7.323893701408851,3.695827908012552,7.323893701408851,10.321179106540974,10.321179106540974,4.363712441852431,-3.731923996432422,-1.090231996740393,-2.108079753742774,11.297786690814771,-3.1700272067021817,1.4853595271519004,0.9348529916706786,1.170687682879531,-1.1631599051044876,2.1881453580788937,-1.540730349148232,9.42522092739953,-4.002252289976531,0.3172790471744789,6.491937220747027,-0.5724789667427768,-4.296091566755978,-4.296091566755978,-3.443091773486938,-4.413834097336346,2.4459614852255105,1.9697284789944232,0.5824075045718164,10.860743556372189,2.4459614852255105,-3.5635498602540805,-1.0721645962837005,-4.238768292200734,12.53229609295159,10.062617652155618,6.726285506467035,1.7180552547992607,-4.947155782252359,17.73600537058463,17.190421795341315,10.054687310125171,-5.5389216461975535,-3.2501629845057756,0.5279380301368333,7.874883230310197,-0.8866647519341618,-17.01139406453174,-4.62851657329939,2.6972372578208437,12.73172268330367,-4.62851657329939,-4.34214277876722,-2.008444445595726,-2.7759926923848375,-3.255315492726207,-2.6845797236673086,-3.848904705969206,1.7866387635443888,-4.725444346442569,10.805151135369712,5.191470988313279,4.260519977172602,2.2929098891627517,-4.267222347489482,-4.2119689455528535,-28.003749667580063,-30.34841481365067,9.901313776821327,13.224970768559553,19.97075836369672,-4.405580571323907,5.740810429497419,7.181388354604598,7.181388354604598,19.764639218112862,-1.6719427154580353,0.9485074710825502,-1.3165907446098337,-0.2146741323737461,-0.2146741323737461,-4.455082480882711,9.352490880519602,2.932605452208331,2.932605452208331,4.8752331715325425,-3.124055317330834,-0.8049150264603215,-4.334892510953624,6.768256300478948,-2.597646398571191,5.397621100449619,-7.045730450128194,5.967006525699485,4.7648135701940015,4.7648135701940015,4.7648135701940015,3.176329742667822,-1.7093670927558533,-1.1953463170763285,13.952301820208843,1.4840882525245853,8.924153451230909,2.8475111864278007,-2.7340838678325228,4.100964512477649,0.5480701624637048,-2.775319702548971,5.392936697066206,-2.4179190576416185,2.822595708733076,-8.181993257297833,9.93202405939344,2.8549144247547655,-2.1003693167476243,5.928307506576074,13.80879999971171,13.943408294908258,-4.075765323945594,-2.5709816101438876,-1.1156261933252953,-1.970064675590183,-4.657598829812191,-4.791885712334055,3.012500233712624,-4.791885712334055,19.743373978065907,-11.223467174881456,2.234156401757975,-0.21225809430070475,12.671930150854244,-6.944598179070085,-3.522730634228918,-3.1644227595675343,-3.997735159317283,6.073155723654102,6.073155723654102,28.90178832969765,7.052225746429943,-5.402046035733448,-4.723074840046178,-2.9628820090946832,-2.828961690026712,-20.040468710409176,-20.040468710409176,-4.677141984083102,-3.8344362376329277,-2.1087265224430496,-3.38135625199954,-4.436802155477941,3.150734817376855,-3.471087393459551,-3.2971503090068093,-3.0422406314495145,-3.471087393459551,-2.6775409279792868,-2.1304706383397276,10.516863867366126,8.644849921180812,8.644849921180812,6.823072321977567,8.644849921180812,3.175452364441174,-0.8030992469837298,-0.8030992469837298,-1.57720036089148,-12.54006256389714,8.273154396940013,1.700659398505028,1.700659398505028,-2.0347832690572294,-4.346361665408645,11.1055047899536,-2.169031491878495,-6.489107384888232,-0.9811124124079852,-3.131771164639331,22.237922726384845,-0.9811124124079852,1.5185204186889882,-2.254087952393456,1.5185204186889882,1.1179529646413646,1.0907695134024686,16.891430315991535,-14.049282787509414,1.9546243287345904,-1.0398494795506157,10.13110873106589,8.117165091207642,-2.5726796908805,-2.390414072489007,6.619173375142705,23.725142026639865,-8.383272588183107,2.214763023818605,1.113608710777253,6.0741136803365565,13.60861077208061,9.070290226175223,2.5203185482432677,2.5203185482432677,3.1397852194426594,4.197638418490255,7.288813261085891,4.377794591332666,9.642765064900539,18.35150342072404,3.4922042500945056,-10.037988267802849,-4.628224300040824,-4.638122717343739,-10.037988267802849,-4.468385412556099,10.401211994874792,10.401211994874792,-1.3428485104639194,-3.579860537597943,4.479239105034445,3.952397999336297,-9.3364149359687,-9.3364149359687,-2.1402683347460276,6.1714141580962005,2.3464406298627973,27.857001856629022,3.0640549013179545,1.5428783388783045,-2.4971385030366755,3.3429572952814866,1.9850339636087728,-4.761458938576857,0.5405003472236857,-0.7828969852225286,-3.428584850536522,7.475868214224848,0.5997714301074111,-0.5319205376627995,-8.246998814627286,0.4700954070722436,-1.5775192147319252,0.48151632334614963,-0.5281689476184536,4.9136240208611115,4.9136240208611115,4.9136240208611115,4.9136240208611115,-0.8452268449027426,-8.243195252673972,-8.243195252673972,10.523495177210036,-4.94848909619393,-4.020567553691784,-3.8843852262493677,4.6530382848852,3.680227126118386,3.680227126118386,3.680227126118386,0.647153965539801,0.647153965539801,0.647153965539801,0.647153965539801,-2.000425904247293,-1.6637145459117524,-3.278018172145648,-1.1782541961239321,-7.397472491043077,-3.932666563159466,-7.352636690054896,-7.476439333474987,6.665105811335986,24.449218857227788,-5.67712091768222,-4.2889217743947405,-5.67712091768222,-2.2501054867491104,-5.282358228565825,-19.011484008814463,-5.613698207675861,-7.857614845860031,-3.513132774414527,-7.857614845860031,-5.253120408223912,-1.6421039042223653,-2.1462933965241335,-2.1462933965241335,-3.441041157862158,-3.441041157862158,-3.830426485568115,9.606966887912451,-2.550736456001512,-9.001686090703988,2.2551382913240987,-7.600810791979287,-3.127586658514977,0.5099358264252706,-5.115325068574988,-3.9379998747393703,-11.019818758493273,-0.7674345979900005,-3.30093313238092,-4.673106795740706,-5.261641255677576,-3.531279221054886,-2.304035692362009,22.156832195111086,17.464998218563537,22.156832195111086,-3.9171606941947164,-1.6387162921377862,-2.304035692362009,-12.775875978963201,-5.799743219801691,-1.4543042421017485,-5.799743219801691,7.22653622776456,-6.589783212802405,-2.565481457922595,-6.589783212802405,5.60343394354536,20.949794784705926,1.6618667294881462,-4.4775536031660526,9.19238458615301,17.378950344758955,2.1107967483893293,-8.529118369167188,0.016849518986339584,28.015946091388546,1.6242167152953362,0.9383896834363838,-4.212448454551356,5.238294422851369,-2.288879307737074,-7.7623119759243835,7.728193337242036,3.068151126208226,3.271913466411419,-1.2346388222240545,19.44638426057365,-3.6174065159694506,-0.23992721388493005,2.7699193153049717,-1.9257272235885405,-1.7799194548614723,14.151583051817404,-2.337176263024807,-0.0543836756137157,16.45884370316133,13.328277868471353,6.308745463590909,13.328277868471353,3.611412180590768,-2.841194913841529,-0.9734568286516908,7.652744155879275,-1.3211720352467278,23.935364794486887,-8.658968379634212,23.935364794486887,-8.658414812808534,-5.484194898854815,-0.38236561087801907,-2.322613490836489,-0.38236561087801907,-2.163241099062245,-2.9617046485963643,-1.5434918574199896,-0.2372241938916478,-3.2661882586190494,-1.420773872001954,-3.3651077851411517,-14.342554515791853,3.2699054497331668,3.2570773217381532,-1.975512271319282,-1.975512271319282,1.4061311895505968,-2.512674990786537,-3.0957646616872134,-2.150963586570621,-2.5366593879733217,-3.0957646616872134,5.846579445952308,-2.877201102966714,9.738602674781921,7.351484179062731,-3.656649601465359,-3.656372818019306,13.525763530984529,-2.870384026672934,2.4942364251568305,4.692771385295517,9.885204925412008,4.892691100499446,4.045632921793053,2.474596168321706,24.495071106428814,-0.44432287321961406,1.321034959554236,7.447528242467886,7.853730468209221,1.133669235570945,1.7517932556121745,3.7248244516188076,-1.4418882117896765,2.2270745297031325,4.237323311748619,5.62059356055153,2.3391058444428885,6.081118663384568,6.370115016313567,14.359115802226041,6.150291725836951,4.11621882545911,2.025553314484951,4.344557469528336,34.51860290881935,-3.1202037921865924,-3.1202037921865924,-3.1202037921865924,2.009453981880263,2.009453981880263,11.026324717583458,6.947431516347583,2.009453981880263,10.001055922238002,2.015774742058019,5.718556821867505,3.924252667474633,6.549612625053972,-1.368380849258994,2.0394868170137426,3.9909641440100794,1.5864270937146867,3.0254456839510953,-2.1616552274366607,1.5606808785321518,4.935559737945215,10.802685488863288,14.989248565355597,6.224663301313202,12.540245370278333,4.720660988474707,14.397952094621493,13.805576751732747,16.457334199703375,21.831336092377217,16.46117147882695],\"yaxis\":\"y\",\"type\":\"scattergl\"}],                        {\"template\":{\"data\":{\"histogram2dcontour\":[{\"type\":\"histogram2dcontour\",\"colorbar\":{\"outlinewidth\":0,\"ticks\":\"\"},\"colorscale\":[[0.0,\"#0d0887\"],[0.1111111111111111,\"#46039f\"],[0.2222222222222222,\"#7201a8\"],[0.3333333333333333,\"#9c179e\"],[0.4444444444444444,\"#bd3786\"],[0.5555555555555556,\"#d8576b\"],[0.6666666666666666,\"#ed7953\"],[0.7777777777777778,\"#fb9f3a\"],[0.8888888888888888,\"#fdca26\"],[1.0,\"#f0f921\"]]}],\"choropleth\":[{\"type\":\"choropleth\",\"colorbar\":{\"outlinewidth\":0,\"ticks\":\"\"}}],\"histogram2d\":[{\"type\":\"histogram2d\",\"colorbar\":{\"outlinewidth\":0,\"ticks\":\"\"},\"colorscale\":[[0.0,\"#0d0887\"],[0.1111111111111111,\"#46039f\"],[0.2222222222222222,\"#7201a8\"],[0.3333333333333333,\"#9c179e\"],[0.4444444444444444,\"#bd3786\"],[0.5555555555555556,\"#d8576b\"],[0.6666666666666666,\"#ed7953\"],[0.7777777777777778,\"#fb9f3a\"],[0.8888888888888888,\"#fdca26\"],[1.0,\"#f0f921\"]]}],\"heatmap\":[{\"type\":\"heatmap\",\"colorbar\":{\"outlinewidth\":0,\"ticks\":\"\"},\"colorscale\":[[0.0,\"#0d0887\"],[0.1111111111111111,\"#46039f\"],[0.2222222222222222,\"#7201a8\"],[0.3333333333333333,\"#9c179e\"],[0.4444444444444444,\"#bd3786\"],[0.5555555555555556,\"#d8576b\"],[0.6666666666666666,\"#ed7953\"],[0.7777777777777778,\"#fb9f3a\"],[0.8888888888888888,\"#fdca26\"],[1.0,\"#f0f921\"]]}],\"heatmapgl\":[{\"type\":\"heatmapgl\",\"colorbar\":{\"outlinewidth\":0,\"ticks\":\"\"},\"colorscale\":[[0.0,\"#0d0887\"],[0.1111111111111111,\"#46039f\"],[0.2222222222222222,\"#7201a8\"],[0.3333333333333333,\"#9c179e\"],[0.4444444444444444,\"#bd3786\"],[0.5555555555555556,\"#d8576b\"],[0.6666666666666666,\"#ed7953\"],[0.7777777777777778,\"#fb9f3a\"],[0.8888888888888888,\"#fdca26\"],[1.0,\"#f0f921\"]]}],\"contourcarpet\":[{\"type\":\"contourcarpet\",\"colorbar\":{\"outlinewidth\":0,\"ticks\":\"\"}}],\"contour\":[{\"type\":\"contour\",\"colorbar\":{\"outlinewidth\":0,\"ticks\":\"\"},\"colorscale\":[[0.0,\"#0d0887\"],[0.1111111111111111,\"#46039f\"],[0.2222222222222222,\"#7201a8\"],[0.3333333333333333,\"#9c179e\"],[0.4444444444444444,\"#bd3786\"],[0.5555555555555556,\"#d8576b\"],[0.6666666666666666,\"#ed7953\"],[0.7777777777777778,\"#fb9f3a\"],[0.8888888888888888,\"#fdca26\"],[1.0,\"#f0f921\"]]}],\"surface\":[{\"type\":\"surface\",\"colorbar\":{\"outlinewidth\":0,\"ticks\":\"\"},\"colorscale\":[[0.0,\"#0d0887\"],[0.1111111111111111,\"#46039f\"],[0.2222222222222222,\"#7201a8\"],[0.3333333333333333,\"#9c179e\"],[0.4444444444444444,\"#bd3786\"],[0.5555555555555556,\"#d8576b\"],[0.6666666666666666,\"#ed7953\"],[0.7777777777777778,\"#fb9f3a\"],[0.8888888888888888,\"#fdca26\"],[1.0,\"#f0f921\"]]}],\"mesh3d\":[{\"type\":\"mesh3d\",\"colorbar\":{\"outlinewidth\":0,\"ticks\":\"\"}}],\"scatter\":[{\"fillpattern\":{\"fillmode\":\"overlay\",\"size\":10,\"solidity\":0.2},\"type\":\"scatter\"}],\"parcoords\":[{\"type\":\"parcoords\",\"line\":{\"colorbar\":{\"outlinewidth\":0,\"ticks\":\"\"}}}],\"scatterpolargl\":[{\"type\":\"scatterpolargl\",\"marker\":{\"colorbar\":{\"outlinewidth\":0,\"ticks\":\"\"}}}],\"bar\":[{\"error_x\":{\"color\":\"#2a3f5f\"},\"error_y\":{\"color\":\"#2a3f5f\"},\"marker\":{\"line\":{\"color\":\"#E5ECF6\",\"width\":0.5},\"pattern\":{\"fillmode\":\"overlay\",\"size\":10,\"solidity\":0.2}},\"type\":\"bar\"}],\"scattergeo\":[{\"type\":\"scattergeo\",\"marker\":{\"colorbar\":{\"outlinewidth\":0,\"ticks\":\"\"}}}],\"scatterpolar\":[{\"type\":\"scatterpolar\",\"marker\":{\"colorbar\":{\"outlinewidth\":0,\"ticks\":\"\"}}}],\"histogram\":[{\"marker\":{\"pattern\":{\"fillmode\":\"overlay\",\"size\":10,\"solidity\":0.2}},\"type\":\"histogram\"}],\"scattergl\":[{\"type\":\"scattergl\",\"marker\":{\"colorbar\":{\"outlinewidth\":0,\"ticks\":\"\"}}}],\"scatter3d\":[{\"type\":\"scatter3d\",\"line\":{\"colorbar\":{\"outlinewidth\":0,\"ticks\":\"\"}},\"marker\":{\"colorbar\":{\"outlinewidth\":0,\"ticks\":\"\"}}}],\"scattermapbox\":[{\"type\":\"scattermapbox\",\"marker\":{\"colorbar\":{\"outlinewidth\":0,\"ticks\":\"\"}}}],\"scatterternary\":[{\"type\":\"scatterternary\",\"marker\":{\"colorbar\":{\"outlinewidth\":0,\"ticks\":\"\"}}}],\"scattercarpet\":[{\"type\":\"scattercarpet\",\"marker\":{\"colorbar\":{\"outlinewidth\":0,\"ticks\":\"\"}}}],\"carpet\":[{\"aaxis\":{\"endlinecolor\":\"#2a3f5f\",\"gridcolor\":\"white\",\"linecolor\":\"white\",\"minorgridcolor\":\"white\",\"startlinecolor\":\"#2a3f5f\"},\"baxis\":{\"endlinecolor\":\"#2a3f5f\",\"gridcolor\":\"white\",\"linecolor\":\"white\",\"minorgridcolor\":\"white\",\"startlinecolor\":\"#2a3f5f\"},\"type\":\"carpet\"}],\"table\":[{\"cells\":{\"fill\":{\"color\":\"#EBF0F8\"},\"line\":{\"color\":\"white\"}},\"header\":{\"fill\":{\"color\":\"#C8D4E3\"},\"line\":{\"color\":\"white\"}},\"type\":\"table\"}],\"barpolar\":[{\"marker\":{\"line\":{\"color\":\"#E5ECF6\",\"width\":0.5},\"pattern\":{\"fillmode\":\"overlay\",\"size\":10,\"solidity\":0.2}},\"type\":\"barpolar\"}],\"pie\":[{\"automargin\":true,\"type\":\"pie\"}]},\"layout\":{\"autotypenumbers\":\"strict\",\"colorway\":[\"#636efa\",\"#EF553B\",\"#00cc96\",\"#ab63fa\",\"#FFA15A\",\"#19d3f3\",\"#FF6692\",\"#B6E880\",\"#FF97FF\",\"#FECB52\"],\"font\":{\"color\":\"#2a3f5f\"},\"hovermode\":\"closest\",\"hoverlabel\":{\"align\":\"left\"},\"paper_bgcolor\":\"white\",\"plot_bgcolor\":\"#E5ECF6\",\"polar\":{\"bgcolor\":\"#E5ECF6\",\"angularaxis\":{\"gridcolor\":\"white\",\"linecolor\":\"white\",\"ticks\":\"\"},\"radialaxis\":{\"gridcolor\":\"white\",\"linecolor\":\"white\",\"ticks\":\"\"}},\"ternary\":{\"bgcolor\":\"#E5ECF6\",\"aaxis\":{\"gridcolor\":\"white\",\"linecolor\":\"white\",\"ticks\":\"\"},\"baxis\":{\"gridcolor\":\"white\",\"linecolor\":\"white\",\"ticks\":\"\"},\"caxis\":{\"gridcolor\":\"white\",\"linecolor\":\"white\",\"ticks\":\"\"}},\"coloraxis\":{\"colorbar\":{\"outlinewidth\":0,\"ticks\":\"\"}},\"colorscale\":{\"sequential\":[[0.0,\"#0d0887\"],[0.1111111111111111,\"#46039f\"],[0.2222222222222222,\"#7201a8\"],[0.3333333333333333,\"#9c179e\"],[0.4444444444444444,\"#bd3786\"],[0.5555555555555556,\"#d8576b\"],[0.6666666666666666,\"#ed7953\"],[0.7777777777777778,\"#fb9f3a\"],[0.8888888888888888,\"#fdca26\"],[1.0,\"#f0f921\"]],\"sequentialminus\":[[0.0,\"#0d0887\"],[0.1111111111111111,\"#46039f\"],[0.2222222222222222,\"#7201a8\"],[0.3333333333333333,\"#9c179e\"],[0.4444444444444444,\"#bd3786\"],[0.5555555555555556,\"#d8576b\"],[0.6666666666666666,\"#ed7953\"],[0.7777777777777778,\"#fb9f3a\"],[0.8888888888888888,\"#fdca26\"],[1.0,\"#f0f921\"]],\"diverging\":[[0,\"#8e0152\"],[0.1,\"#c51b7d\"],[0.2,\"#de77ae\"],[0.3,\"#f1b6da\"],[0.4,\"#fde0ef\"],[0.5,\"#f7f7f7\"],[0.6,\"#e6f5d0\"],[0.7,\"#b8e186\"],[0.8,\"#7fbc41\"],[0.9,\"#4d9221\"],[1,\"#276419\"]]},\"xaxis\":{\"gridcolor\":\"white\",\"linecolor\":\"white\",\"ticks\":\"\",\"title\":{\"standoff\":15},\"zerolinecolor\":\"white\",\"automargin\":true,\"zerolinewidth\":2},\"yaxis\":{\"gridcolor\":\"white\",\"linecolor\":\"white\",\"ticks\":\"\",\"title\":{\"standoff\":15},\"zerolinecolor\":\"white\",\"automargin\":true,\"zerolinewidth\":2},\"scene\":{\"xaxis\":{\"backgroundcolor\":\"#E5ECF6\",\"gridcolor\":\"white\",\"linecolor\":\"white\",\"showbackground\":true,\"ticks\":\"\",\"zerolinecolor\":\"white\",\"gridwidth\":2},\"yaxis\":{\"backgroundcolor\":\"#E5ECF6\",\"gridcolor\":\"white\",\"linecolor\":\"white\",\"showbackground\":true,\"ticks\":\"\",\"zerolinecolor\":\"white\",\"gridwidth\":2},\"zaxis\":{\"backgroundcolor\":\"#E5ECF6\",\"gridcolor\":\"white\",\"linecolor\":\"white\",\"showbackground\":true,\"ticks\":\"\",\"zerolinecolor\":\"white\",\"gridwidth\":2}},\"shapedefaults\":{\"line\":{\"color\":\"#2a3f5f\"}},\"annotationdefaults\":{\"arrowcolor\":\"#2a3f5f\",\"arrowhead\":0,\"arrowwidth\":1},\"geo\":{\"bgcolor\":\"white\",\"landcolor\":\"#E5ECF6\",\"subunitcolor\":\"white\",\"showland\":true,\"showlakes\":true,\"lakecolor\":\"white\"},\"title\":{\"x\":0.05},\"mapbox\":{\"style\":\"light\"}}},\"xaxis\":{\"anchor\":\"y\",\"domain\":[0.0,1.0],\"title\":{\"text\":\"PC 1\"}},\"yaxis\":{\"anchor\":\"x\",\"domain\":[0.0,1.0],\"title\":{\"text\":\"PC 2\"}},\"legend\":{\"tracegroupgap\":0},\"title\":{\"text\":\"Total Explained Variance: 99.44%\"},\"shapes\":[{\"type\":\"line\",\"x0\":0,\"x1\":-0.2039751921704355,\"y0\":0,\"y1\":-0.21493409927756066},{\"type\":\"line\",\"x0\":0,\"x1\":0.01335102505736586,\"y0\":0,\"y1\":-0.013294016547177349},{\"type\":\"line\",\"x0\":0,\"x1\":0.006151341700813339,\"y0\":0,\"y1\":-0.022540511734043492},{\"type\":\"line\",\"x0\":0,\"x1\":0.2621500162997288,\"y0\":0,\"y1\":0.058471015175542665},{\"type\":\"line\",\"x0\":0,\"x1\":0.002224613866347438,\"y0\":0,\"y1\":-0.001215628025603662},{\"type\":\"line\",\"x0\":0,\"x1\":7.144841580183106,\"y0\":0,\"y1\":7.349879094552774},{\"type\":\"line\",\"x0\":0,\"x1\":32.74283559842809,\"y0\":0,\"y1\":-1.6045472397615523},{\"type\":\"line\",\"x0\":0,\"x1\":8.553375325760368e-05,\"y0\":0,\"y1\":-0.00023863786842027697},{\"type\":\"line\",\"x0\":0,\"x1\":-0.008085332266308726,\"y0\":0,\"y1\":0.024539881070299804},{\"type\":\"line\",\"x0\":0,\"x1\":0.004745615924650928,\"y0\":0,\"y1\":0.0034362102569143694},{\"type\":\"line\",\"x0\":0,\"x1\":-0.1981180976371003,\"y0\":0,\"y1\":0.12501315597980772},{\"type\":\"line\",\"x0\":0,\"x1\":-0.14467955413295414,\"y0\":0,\"y1\":0.07047534704445894}],\"annotations\":[{\"ax\":0,\"ay\":0,\"text\":\"fixed acidity\",\"x\":-0.2039751921704355,\"xanchor\":\"center\",\"y\":-0.21493409927756066,\"yanchor\":\"bottom\"},{\"ax\":0,\"ay\":0,\"text\":\"volatile acidity\",\"x\":0.01335102505736586,\"xanchor\":\"center\",\"y\":-0.013294016547177349,\"yanchor\":\"bottom\"},{\"ax\":0,\"ay\":0,\"text\":\"citric acid\",\"x\":0.006151341700813339,\"xanchor\":\"center\",\"y\":-0.022540511734043492,\"yanchor\":\"bottom\"},{\"ax\":0,\"ay\":0,\"text\":\"residual sugar\",\"x\":0.2621500162997288,\"xanchor\":\"center\",\"y\":0.058471015175542665,\"yanchor\":\"bottom\"},{\"ax\":0,\"ay\":0,\"text\":\"chlorides\",\"x\":0.002224613866347438,\"xanchor\":\"center\",\"y\":-0.001215628025603662,\"yanchor\":\"bottom\"},{\"ax\":0,\"ay\":0,\"text\":\"free sulfur dioxide\",\"x\":7.144841580183106,\"xanchor\":\"center\",\"y\":7.349879094552774,\"yanchor\":\"bottom\"},{\"ax\":0,\"ay\":0,\"text\":\"total sulfur dioxide\",\"x\":32.74283559842809,\"xanchor\":\"center\",\"y\":-1.6045472397615523,\"yanchor\":\"bottom\"},{\"ax\":0,\"ay\":0,\"text\":\"density\",\"x\":8.553375325760368e-05,\"xanchor\":\"center\",\"y\":-0.00023863786842027697,\"yanchor\":\"bottom\"},{\"ax\":0,\"ay\":0,\"text\":\"pH\",\"x\":-0.008085332266308726,\"xanchor\":\"center\",\"y\":0.024539881070299804,\"yanchor\":\"bottom\"},{\"ax\":0,\"ay\":0,\"text\":\"sulphates\",\"x\":0.004745615924650928,\"xanchor\":\"center\",\"y\":0.0034362102569143694,\"yanchor\":\"bottom\"},{\"ax\":0,\"ay\":0,\"text\":\"alcohol\",\"x\":-0.1981180976371003,\"xanchor\":\"center\",\"y\":0.12501315597980772,\"yanchor\":\"bottom\"},{\"ax\":0,\"ay\":0,\"text\":\"quality\",\"x\":-0.14467955413295414,\"xanchor\":\"center\",\"y\":0.07047534704445894,\"yanchor\":\"bottom\"}]},                        {\"responsive\": true}                    ).then(function(){\n",
              "                            \n",
              "var gd = document.getElementById('a9a486b6-fe9b-4656-a723-1c53c55f36be');\n",
              "var x = new MutationObserver(function (mutations, observer) {{\n",
              "        var display = window.getComputedStyle(gd).display;\n",
              "        if (!display || display === 'none') {{\n",
              "            console.log([gd, 'removed!']);\n",
              "            Plotly.purge(gd);\n",
              "            observer.disconnect();\n",
              "        }}\n",
              "}});\n",
              "\n",
              "// Listen for the removal of the full notebook cells\n",
              "var notebookContainer = gd.closest('#notebook-container');\n",
              "if (notebookContainer) {{\n",
              "    x.observe(notebookContainer, {childList: true});\n",
              "}}\n",
              "\n",
              "// Listen for the clearing of the current output cell\n",
              "var outputEl = gd.closest('.output');\n",
              "if (outputEl) {{\n",
              "    x.observe(outputEl, {childList: true});\n",
              "}}\n",
              "\n",
              "                        })                };                            </script>        </div>\n",
              "</body>\n",
              "</html>"
            ]
          },
          "metadata": {}
        }
      ]
    },
    {
      "cell_type": "markdown",
      "source": [
        "Credit to my good friend Spencer Moon for this wonderful way of explaining each of the components in terms of the columns of our dataframe they make up.\n",
        "\n",
        "Here, we use our principal components to calculate the sum of the squares of each the components and find how our data contributes to the variation captured by each of our components.\n",
        "\n",
        "On the graph, we see two vectors, also called loadings, that have the greatest magnititude and point in different directions. These are the important features of our data. These two vectors are like this because they help to explain the most amount of variance in our data according to our components and the linear combination of our original data variables.\n",
        "\n",
        "The points closer to the total sulfur dioxide arrow are the wine samples that associate more with total sulfur dioxide, and the same goes for free sulfur dioxide\n",
        "\n",
        "In terms of wine, the total amount of sulfur dioxode seems to be the most important factor taking up 95% of the explained variance in the first principal component, while free sulfur dioxide is second."
      ],
      "metadata": {
        "id": "K9qJ-bII9AT_"
      }
    },
    {
      "cell_type": "code",
      "source": [
        "n_pcs = pca.components_.shape[0]\n",
        "print(\"number of principal components: \", n_pcs)\n",
        "\n",
        "important_components = [np.abs(pca.components_[i]).argmax() for i in range(n_pcs)]\n",
        "print(\"indicies of important features: \", important_components)\n",
        "\n",
        "important_features = [features[important_components[i]] for i in range(n_pcs)]\n",
        "print(\"most important features \", important_features, \"\\n\")"
      ],
      "metadata": {
        "colab": {
          "base_uri": "https://localhost:8080/"
        },
        "id": "Qt84NXMpvCOW",
        "outputId": "b49cfbcb-2a58-4c03-f940-f3e15b87a30d"
      },
      "execution_count": null,
      "outputs": [
        {
          "output_type": "stream",
          "name": "stdout",
          "text": [
            "number of principal components:  2\n",
            "indicies of important features:  [6, 5]\n",
            "most important features  ['total sulfur dioxide', 'free sulfur dioxide'] \n",
            "\n"
          ]
        }
      ]
    },
    {
      "cell_type": "markdown",
      "source": [
        "Credit to Justin Marotta for this block of code.\n",
        "\n",
        "What this does block of code does is it determines the most important features of our componenets.\n",
        "\n",
        "First, it finds the number of components and assigns it to n_pcs.\n",
        "\n",
        "Then, it will find the indices of the most important features on each component. This is done by using a for loop in the range of our number of components, n_pcs, and finds the largest absolute value of each explained variance. Using list comprehension, these important components can be put into a list quite easily.\n",
        "\n",
        "Finally, after having the indices, we can locate the columns of our data that are the most important features. This confirms our data and our graph with the loadings above."
      ],
      "metadata": {
        "id": "nz3Jhl30eyGt"
      }
    },
    {
      "cell_type": "markdown",
      "source": [
        "#Breast Cancer data analysis"
      ],
      "metadata": {
        "id": "vVJ-_1dW9b-A"
      }
    },
    {
      "cell_type": "markdown",
      "source": [
        "As another part of our other department branch, we analyze cancer cells to determine the important and distinct features of each of our measurements and data."
      ],
      "metadata": {
        "id": "aXlohqb2jyWz"
      }
    },
    {
      "cell_type": "code",
      "source": [
        "df5 = pd.read_csv(\"/content/drive/MyDrive/Christian Kolker/data.csv\")\n",
        "df5 = df5.drop('id', 1)\n",
        "df5 = df5.drop('diagnosis', 1)\n",
        "df5 = df5.drop('Unnamed: 32', 1)\n",
        "\n",
        "df5.columns\n"
      ],
      "metadata": {
        "colab": {
          "base_uri": "https://localhost:8080/"
        },
        "id": "z9fPR1jJvxmz",
        "outputId": "ad5cb3ad-15da-4097-d534-5f8a43a18c1c"
      },
      "execution_count": null,
      "outputs": [
        {
          "output_type": "execute_result",
          "data": {
            "text/plain": [
              "Index(['radius_mean', 'texture_mean', 'perimeter_mean', 'area_mean',\n",
              "       'smoothness_mean', 'compactness_mean', 'concavity_mean',\n",
              "       'concave points_mean', 'symmetry_mean', 'fractal_dimension_mean',\n",
              "       'radius_se', 'texture_se', 'perimeter_se', 'area_se', 'smoothness_se',\n",
              "       'compactness_se', 'concavity_se', 'concave points_se', 'symmetry_se',\n",
              "       'fractal_dimension_se', 'radius_worst', 'texture_worst',\n",
              "       'perimeter_worst', 'area_worst', 'smoothness_worst',\n",
              "       'compactness_worst', 'concavity_worst', 'concave points_worst',\n",
              "       'symmetry_worst', 'fractal_dimension_worst'],\n",
              "      dtype='object')"
            ]
          },
          "metadata": {},
          "execution_count": 10
        }
      ]
    },
    {
      "cell_type": "markdown",
      "source": [
        "Here, we have a whole list of data on breast cancer cells including the radius, perimeter, smoothness, compactness, concavitiy, etc.."
      ],
      "metadata": {
        "id": "63LACMyemJMe"
      }
    },
    {
      "cell_type": "code",
      "source": [
        "scaler=StandardScaler()\n",
        "df=scaler.fit_transform(df5)\n",
        "n_components = 2\n",
        "\n",
        "pca = PCA(n_components=n_components)\n",
        "components_5 = pca.fit_transform(df5)\n",
        "\n",
        "total_var = pca.explained_variance_ratio_.sum() * 100\n",
        "\n",
        "labels = {str(i): f\"PC {i+1}\" for i in range(n_components)}\n",
        "labels['color'] = 'Median Price'\n",
        "\n",
        "fig = px.scatter(\n",
        "    components_5, x=0, y=1,\n",
        "    title=f'Total Explained Variance: {total_var:.2f}%',\n",
        "    labels={'0': 'PC 1', '1': 'PC 2', '2': 'PC 3'}\n",
        ")\n",
        "fig.show()\n",
        "pca.explained_variance_ratio_"
      ],
      "metadata": {
        "colab": {
          "base_uri": "https://localhost:8080/",
          "height": 559
        },
        "id": "ujXSig3ehtZi",
        "outputId": "2d015b4b-3b86-443c-d0b8-ee83765ff2fc"
      },
      "execution_count": null,
      "outputs": [
        {
          "output_type": "display_data",
          "data": {
            "text/html": [
              "<html>\n",
              "<head><meta charset=\"utf-8\" /></head>\n",
              "<body>\n",
              "    <div>            <script src=\"https://cdnjs.cloudflare.com/ajax/libs/mathjax/2.7.5/MathJax.js?config=TeX-AMS-MML_SVG\"></script><script type=\"text/javascript\">if (window.MathJax) {MathJax.Hub.Config({SVG: {font: \"STIX-Web\"}});}</script>                <script type=\"text/javascript\">window.PlotlyConfig = {MathJaxConfig: 'local'};</script>\n",
              "        <script src=\"https://cdn.plot.ly/plotly-2.8.3.min.js\"></script>                <div id=\"c78ff2e2-722f-476f-b093-bb32924cb73e\" class=\"plotly-graph-div\" style=\"height:525px; width:100%;\"></div>            <script type=\"text/javascript\">                                    window.PLOTLYENV=window.PLOTLYENV || {};                                    if (document.getElementById(\"c78ff2e2-722f-476f-b093-bb32924cb73e\")) {                    Plotly.newPlot(                        \"c78ff2e2-722f-476f-b093-bb32924cb73e\",                        [{\"hovertemplate\":\"PC 1=%{x}<br>PC 2=%{y}<extra></extra>\",\"legendgroup\":\"\",\"marker\":{\"color\":\"#636efa\",\"symbol\":\"circle\"},\"mode\":\"markers\",\"name\":\"\",\"orientation\":\"v\",\"showlegend\":false,\"x\":[1160.142573704138,1269.12244319365,995.7938889594561,-407.1808025313542,930.3411801543022,-211.59125901232858,821.2108998864409,-25.089977583608466,-191.29283442652164,-238.2928631808369,304.68781806154266,424.3611282803775,634.5143351580112,63.04269063463106,-196.44120953852118,56.004682832280444,235.85811954240236,447.3927796639041,1615.093452592812,-191.62104540131688,-285.0512749325815,-683.5839523267607,112.56045884124141,1873.7331160048814,1273.730656589876,634.8797685243497,8.591841257438405,677.7845259117674,373.71988149392223,453.6780888143271,903.9812789509612,-103.68931153801604,524.9452025118677,1062.1715855602606,404.385934219201,410.0497559248329,-80.65779457655513,-355.8778497351392,-128.97315587393803,-170.24572278092268,-127.99476077774783,-462.02800769272636,897.0274270790969,-34.375201460396774,-184.70736262610947,807.5645732939272,-783.838667793368,-166.75718349978052,-362.699506610377,-205.1117444009308,-430.0340798055236,-235.8935302836465,-416.4695068365347,576.3603078504783,157.4040789382249,-448.9827192068149,1342.138565456154,90.99894938374155,-286.14543587451584,-744.0918348203469,-616.7297207155955,-745.6008079689061,64.4083862104586,-693.9616993308931,-74.27680463298513,45.175429675414996,-672.3767040120721,-490.87952918427754,-687.2231991566653,-358.98187287202353,1092.4010478406913,-724.6625829953202,828.5811984980512,-95.55636164961165,-327.21552272128974,379.60238651966307,-285.2781192349356,811.3900045303533,946.8658579311727,-299.25019585340146,-436.50393933071183,-298.36265594032864,2077.405938684911,606.8243265597957,-378.661385859514,838.2360335394156,-64.46308433683849,854.6137988360956,-360.5001225883079,-66.79162714579823,-61.94248440527737,-4.7370832092968875,-96.55625224920335,-207.47721223676004,150.75303730593268,1062.2037615492743,-436.37354746181245,-628.7692957851033,-442.12124953207336,-53.105552826605695,-15.097025311119538,-863.1423077842003,-388.02703929350713,-631.2101936674545,-575.3755936192505,-110.47836154087018,-433.8558747315034,-387.2585890800814,1716.419221553118,-445.5942604789751,-629.9309318085045,-393.4956178595381,-159.55009014974095,-600.7745424199295,-732.3505584692602,-367.7523085142356,-736.7440057069265,198.25072141969622,402.2178698307655,495.88690069594753,-448.93254730341374,793.4673048111413,1604.7984048131127,-123.52459557997835,-266.5533198677566,-167.7471277632848,-70.65063465659901,815.3241590523212,-90.24696964579438,885.9992730856386,-391.3685339746682,284.948132135214,332.77568762884874,91.16660917847854,826.1321270650718,-272.4439652376027,-406.0460326988665,-492.11867583324533,93.69534279103272,-523.1634568042626,-652.2748059610533,385.44959125734874,-457.44912892948264,-277.6489990541789,-532.8415854308619,-433.3320985969117,-363.4605352113647,-42.35855196397387,-105.46867534728507,-169.6293550733235,-296.3114453674483,-776.0886039540317,-611.7500008258812,-519.5616007245803,-234.8847408390912,-373.0137107576382,523.8767669136269,247.07096244346528,-406.20905465248626,-502.29356491885136,-409.9784220245151,790.6213915469888,1448.4283594106173,-379.9908399561032,1839.3688857048414,-67.10631802110233,-555.4062102978911,446.2026756731018,842.4144495601727,-58.89248165458556,-383.8674532207173,50.48770751130388,232.51516353307488,-562.0950015274667,-563.8450420493372,-755.9676240324952,-603.4441352372024,178.68853567170623,-300.7341386109584,-342.03887734536175,2828.2414387277445,1376.3923121108492,390.1991571556589,-486.0239429197083,107.05828016411378,-555.7488397526523,652.5821051266248,-430.248092856244,-453.4658366940095,-386.06738640177235,-124.35086617549459,-333.2983591608544,-685.4696420386189,-187.83080167427562,-73.13316190951426,-312.6973207016115,-96.1624218935998,490.8180293591755,947.8732192115655,132.41975071964228,-308.5258875746515,461.21781216628597,1482.6088555027657,204.4185987978624,-263.6234357741017,124.67005378541802,-658.2074596830212,412.9429228531266,-272.4127379050758,80.26989191608797,997.0514718261724,-405.09296998336276,2366.7007076111654,273.638271447833,-81.93358584577024,-151.62188772894214,-415.42810887682543,-582.3541502985684,1267.95996610663,1662.8153479705793,-194.87652215601594,-215.20650019339806,-611.0931152467036,232.6157189819384,-204.01509321162436,-12.7813835601137,-585.7551316163455,-46.99959732338018,-302.94396180222105,-228.32773556943746,388.50433778473683,-502.7210827664537,-491.1508939293148,1194.0117341257485,-662.8705125024256,-168.80290632122455,2296.4799883834007,1083.9297489648804,-116.08623480364597,589.7968322817043,-210.73336541172998,-382.93115167718776,-487.5823378588819,-182.89246177688125,719.906380107621,-574.5745078930559,-298.65071655985884,-281.2557369753036,-524.7691587481017,-462.96033397495086,1338.8984509605775,-447.2489388606062,1188.5326991475804,433.7297747003535,1201.437579128661,-73.88624475122393,1184.9305126899053,73.35754373991135,363.60715841569737,178.6064950289266,1153.0743659080083,433.28477089249606,509.67967263921054,145.36968319644012,617.2429672389706,2584.8281423407725,-550.8155363984238,-236.5922188847303,-317.4472299846824,-564.2881410610978,-180.88438597543626,-502.1585716358594,1726.0947626575814,-640.7234009990432,554.7930597266499,-462.64785555149837,-497.11807969622214,535.8523047873846,-164.87330187939696,-216.0548897379208,973.8915505994004,-415.1336490216267,894.419139797563,206.70012261494006,-316.32140781140845,-357.93574714011845,-397.8346403594246,-333.4562894261654,-514.6765634401735,-496.15538919872705,-96.62634421349249,-44.15070772083834,-327.0230188037161,-427.17330986291586,-365.5121348405113,-226.42313250178265,-570.8850772746129,-395.5124487113655,-64.34429922653855,-610.8850976794306,1299.2324588263102,-377.5103415330161,1010.0107137458224,-600.5741323290257,-465.98835965959245,-470.29605855718785,-270.8680782250695,-723.5675604827877,-202.7842225004206,-243.0666378937541,-464.3306831116913,-29.53065115273158,-302.98906163883174,-482.50022567367154,-775.0549461651599,-379.3529254983867,-416.34825804997195,710.4537911042547,-713.2699224318409,-404.81301265412947,-592.3004762532134,987.0231110934172,-319.48375000727356,1222.2125243045314,-357.8126602554335,-348.7658030511914,-132.65799495324993,-415.42431049701685,288.8444289455428,171.3254116149879,233.8193273883963,-284.45188560603583,-520.4291766002743,-470.8422271637972,-388.1389498690872,551.6560219816536,-334.9555905363163,1078.0479395447478,-605.0352978796905,2304.2175929917444,-23.01414259847702,-647.0164312259265,-524.4292475705524,845.9471416340368,-434.23447373600425,-622.2553363332084,-382.097430027347,7.115016552911462,-478.8999958266087,-447.9988682117001,-411.61468871447596,84.93189007765451,2721.000901457776,178.49341562164614,-506.4148934011192,-373.29188083114406,-322.37884918280855,-192.01671480854125,-710.8782248952139,-573.512755926591,-337.6628305986647,-279.26417938120613,-340.80935912257746,204.75700585322141,-240.38040179575117,1102.177092945194,980.5214691150436,-322.05401361942404,2404.942290109097,1586.128292359415,340.252375808382,-24.214580451885915,939.3997207932628,1265.8824979303931,-220.1416396903559,52.15293688398309,-618.2891774720159,-220.45440909325342,-231.15305560248058,-471.86724766247414,-486.6485950294654,-518.9772933292967,-444.3804169188526,-340.081211491767,-279.52955785909694,-99.76975919064687,-401.1275189955001,-146.8905143337272,-505.8081350467943,641.4979257530459,-590.7192808988001,-701.7313486533496,457.68725888591604,1418.9768840819202,-383.9077624002499,-192.9155745414615,-226.83533263086446,-324.22305436684354,-473.75753750098056,-389.2302596538764,539.3990893771493,-360.4707429947487,-289.4054923126912,-334.3066070801598,-394.35934246189635,-497.8615131285468,132.17336241646274,-273.6692120454305,576.2095875976408,-330.16420465774104,-441.24795200917106,-497.86764524594497,-698.4528161332669,8.282176937484191,77.34963631456908,-421.8636636544866,-646.3088544980601,826.2111420647175,-352.59992772401614,-505.32489037200696,-436.33800916668844,-59.15737336682467,-475.74290513230517,-189.06448918835497,-617.1943848015306,-613.8294426723077,-544.4131556407202,-488.80488178835105,-537.1739759434421,-331.99306372709515,-24.865791301777165,-410.1868409974154,821.5897280605317,857.3901811100627,-79.1889283559293,-39.12097262056092,-293.1703345918444,-134.66989029550828,-145.25073033042213,-190.1649363823208,-493.6908431246834,488.3762284392567,-185.1452470627854,-604.822970790096,525.7068877957113,-425.63351220260085,646.0462246717887,-34.32414152475293,-41.021318517794576,1356.4599399015117,-436.19258451877033,741.3848904263357,-416.9411526274064,-117.87133456199449,-296.96896401313,-200.88095262801718,-427.1058702626386,-273.8215572468308,-286.5887660875727,-644.9288874515333,803.7161116078016,3867.178053083485,-130.33436709115165,-457.05415859664,-227.41102730012628,-183.92813510474826,-225.39549834611776,-620.8721713220823,648.811118369163,-429.74820889148566,-615.0589770498855,-373.87229896010666,38.130554249480156,-373.89333439714227,-538.1164417147546,-313.28262000875554,-63.492672521989164,-168.34386689538636,-484.48154138457045,134.50326121385825,-389.8089526119003,-70.46296606003378,-246.25859276943328,-210.51342079112348,24.434706553842094,-349.0918378038644,-37.62907412316288,1002.148504619298,-405.35320295917427,278.6794179871476,-319.37250712338954,457.33940619919105,652.2445284166555,-389.69452806044035,-259.6417096611359,-70.23449408452025,-300.0301102587314,-325.92898226429276,832.6097733851403,1099.4868885071478,-2.306756774543215,-109.46470092465061,-374.935084229063,2166.1851650417757,-708.6523660711414,-672.591115097528,-418.65329424105227,-552.9796632000755,125.26154655195566,64.5965121288272,-468.33564323221134,-90.54705820824584,-81.75387140521845,-13.882991760754177,98.35553603957354,-482.1490269996674,731.3671966675388,946.295946455357,-260.05262511478287,-303.49255568657117,-681.583641037866,2127.018093128934,-520.8085196022859,-196.89352231137133,-620.5612042917487,-745.0221205013281,-192.430669990529,-368.5778409815167,-225.52346946896802,-392.92901807270727,-401.6743881431759,-407.5358312812277,-134.10339182550447,991.3787299309218,-556.6167977980713,1135.5819475137087,-143.9945673237705,-465.8665376817316,-790.3132418220583,-815.9802671359,-493.647932579957,-60.782511678598496,-39.662071920959995,-276.2578632608918,-201.2540784145784,-171.84116898755326,-597.2254139066799,-623.0764928227632,-635.0640424502507,-473.47275214963463,-554.7642704495925,-524.6600562154315,-322.05434227949075,-704.9670336773063,-317.92633756714287,-622.214536225976,-636.0462558586825,-670.6770269811252,-125.24513573335436,-479.3357068859722,-177.2428159553763,-518.011863081586,61.940798611059996,1167.1369776033066,1414.1266836031496,1045.0188544396447,314.50175618001884,1124.8581153057114,-771.52762187675],\"xaxis\":\"x\",\"y\":[-293.91754363738823,15.630181843400228,39.156743243945996,-67.38031982267417,189.34074157803806,-79.87744625773017,-47.14966994165578,-74.18601460628592,-42.12648962430941,-65.38650691770236,-17.725059837393,-109.22029973153349,167.20543573639074,111.6775756686909,29.65793424609214,-29.148348577333977,-108.4256429597911,-102.15156644218102,-270.3333510573436,12.259177667475347,14.557361895064565,-32.57612601586487,-9.1605539883831,-260.19605533302024,-479.32141873753534,-79.93167625015724,-16.9844205449657,104.82466196501717,-135.3347627521768,77.3999546756565,-38.91018766131964,-187.68532430520347,-31.227626601502646,-50.24014887747317,-67.07954492366319,2.8641318972828733,23.363527333296663,61.53556617424995,132.60688701385578,-9.054875298495867,-30.687498226413947,-52.80258738773118,-15.172052511056672,-107.67276149641089,-33.0806588523473,4.271380335250552,-56.826555991466265,-40.01468420854894,-21.215395240792702,13.940287250910389,-5.319685089485898,45.130605207674265,-2.5706880303046615,95.4517242241536,-28.15674752171023,-16.141200147234493,-231.14827000559853,-52.664248730219576,23.933298243737234,-54.30082746794704,-27.73524531512661,-56.16454295227257,-48.46995593403411,-41.22118759129436,-137.54307074090627,-11.522659024918665,-44.88246240781626,-8.460320040721863,-57.79596750506491,38.710491154298474,-105.03575927178237,-42.228105153254894,-180.66786869609916,-25.017342829966218,-17.594247794402495,-38.20142278469065,61.3464750354361,-77.41738010023147,120.57415109578918,7.078303393126641,-32.450334486379774,22.67217733916666,173.51833851335962,191.9233703560383,-18.840995654300922,-15.47440777064405,31.641266251501996,-25.184530650140765,-2.828566866388234,37.836772576456,46.67275027715996,88.70351580664392,-62.35469643282049,8.710406583718251,-31.266360519032347,69.83217009921839,25.7538378246928,-41.65559211625094,-16.257399170390844,17.596386926345836,-75.3359462501785,-77.39952056671814,4.613189883850236,-35.82481722116667,-24.892221432370434,-78.76476106140161,-21.21052060755412,13.499559802925948,-36.5487343596068,-33.17914078144941,-45.66881436269843,34.154773934716225,68.20417402097551,-11.691616018206116,-53.7548690671913,-30.68792326318072,-33.809550989024736,-87.51014142473413,-93.7147014324311,82.41878561287099,-23.222632693996616,14.432702278102244,328.6675700099645,58.30163904145179,42.263065146388755,23.65573256294095,-54.09744156108709,72.15386433938684,78.6144251226826,91.83357476015078,3.8337641432157104,-62.392014515933205,-20.219026487325472,69.69070588009347,-8.924603675547806,-9.516460123704306,-24.617348747871755,-1.0894672287909704,-26.591725389151893,0.8733328162750587,-34.63870445686575,-47.38332620451788,-23.897089425220837,0.8769783427219466,-28.434757015243015,2.7697495837794843,-40.668458679376336,66.69742405975958,46.561009825055656,20.523077075567294,21.176185601906724,-59.07337811404697,-43.85212648840671,-5.354182412170307,6.375290024776238,-2.359773081828633,46.05374874959573,114.29591562801382,3.9832222628754272,-33.53432416735918,-26.302284250567695,111.27201099143107,-223.240780611534,7.119261741333149,91.28889734073825,81.31249367554842,-12.222872729046044,1.224992074464103,-122.19219673494334,71.76859982003899,8.911869351414511,-135.3955277600937,-44.38499742376413,9.808525488642779,-16.18673539688605,-43.84109420585185,-47.20851629826905,100.33921825866776,30.927455172671806,35.94391615708071,151.24856843565325,-65.75980251103046,-106.224104889209,-1.7537113134606475,-0.3821965660159854,-58.6793616128681,55.34526803924498,-14.406183038559067,9.496864328484163,9.76166538391841,23.025589759752553,30.343634994648593,-14.722242109876872,-94.08380087375562,64.2803758463699,26.822885472593,-18.04956111574434,135.75393654791645,2.667546795432826,-95.37957052988627,-40.277911785976336,67.93643511305581,307.4171140192085,-190.38327716201488,-42.76855264657507,-3.634179216071289,-22.91607621978815,42.592979693472074,17.94658072398835,33.451773348023465,141.2159699945374,-20.742181170325203,739.6209180076581,178.22700539380628,-1.7803102361367968,2.8801522506822046,-9.195412209893657,-38.21530734281559,-93.60121265430998,-343.27903718299984,17.094854852049735,20.86693074090403,-30.543169484817607,-16.608823851017828,-3.686248706612391,-7.595199704995461,-26.66118502446689,63.13510946736294,-2.576844194378072,-39.08896593039943,45.54736514334493,0.15779414594476512,-17.225724244346303,53.17521251508296,-38.72301745925107,41.60113817658932,-203.0992810363721,105.65976229726411,33.93519067112016,-46.66243308500594,34.39792974618379,22.28950211071492,-15.619326187953911,35.22318148424925,149.65220843841044,-23.65424361870019,47.567929637198525,3.451978882137584,-43.287198782619804,-10.932203697812241,20.729350369422182,-18.88388181739591,-74.67443443447874,56.66964781728184,-126.87795668487847,-16.358728853415098,-70.06960794529704,25.598230003416518,-76.68936918107714,-3.3266989776562585,41.07052593543821,62.777986874193935,35.90133597117104,32.500650980148635,-54.54308163002213,-671.5322625684621,-27.398911070545093,33.418778765445836,24.84442113460096,-21.259892018723313,82.62404026102571,-8.767657527956061,-64.80927334506062,-39.89149519996606,66.04534443562912,24.51071559934672,-1.7391369208827452,197.97587501559275,2.6825450855874275,51.6788181299081,-24.588466668832254,-14.609542309206017,31.330960769079443,50.76272082385291,29.77859597594592,22.312701609847597,-9.414852459863726,38.69446326391392,6.927028097841601,-3.0067082041602378,56.14720796709997,64.59926529007757,32.504517402109364,-1.953839494524725,30.5004075585459,52.29901035079159,4.281056806920857,-21.66200179958013,12.89665229081222,-5.745246677882886,-127.45438813368573,13.964653470815412,83.9111358660974,-12.33147281093066,-12.618854698543492,6.160132052247479,25.8779137455832,-41.168175657923214,18.57140743909929,1.8113204053463285,4.044395696588189,29.229752749958514,7.023243848847535,3.9706483871935006,-39.07941269799139,26.286312912214008,25.1942427180735,4.611699016859162,-48.44546089489584,37.42873796660383,-28.60091973870577,126.62998854856652,17.557839411542005,-27.803585621466244,-14.167255068495916,17.807915475697747,35.096633991558704,6.569583563227263,11.239600798359772,98.38313932174269,20.255707455109732,7.416193944603644,1.6432495839852062,-25.48156131372734,11.381618677574831,-24.06430799396713,37.9811419192037,-141.2503388181753,-36.952913776467746,-117.53510923306011,-1.9145921764201457,-47.12542571995779,-11.803778721815503,119.0009967952453,-11.635228088023185,-13.53281579346783,-14.423929542978614,11.86803264601156,-5.782675266322124,4.479181210206593,-24.702551822186653,71.36345366895522,-62.7362934604986,-35.04702502698125,-9.527172321335266,28.44266794214287,28.122162110002243,44.29091435374993,-54.05302173728205,-93.44911858135299,13.603108833074684,41.51814841243445,20.72875989681532,90.21172538535531,24.96807422423592,78.98759046638668,85.49752423541523,-35.33922089826697,-412.3091426120433,8.948258947751421,11.238895862646576,80.77795295957772,285.852964205689,28.63915600999656,44.19961305996036,124.55117035160747,3.493500169306462,24.165514539158313,52.56296298877765,-57.722761270296786,-19.861394949352245,-16.573427638414298,26.30579365218603,-18.8140420208931,36.72480785055867,71.94993836165528,17.062983145894815,20.388088995579892,-1.3589690744260672,219.95620029454636,-32.99985090699603,-67.73170087810749,-171.34284019713115,20.35717888066562,-11.905534974294765,62.57301862244462,23.875102860187674,25.06591478665093,-37.67429167676185,-25.52449552003678,70.83058340827718,-30.53239418188497,23.34547149370351,29.56062988931614,21.52568095267777,-32.0077974552421,89.3647205765185,1.8292241895431212,45.166396182850896,-21.296952574902683,-32.13544342384487,-28.827235276084885,-29.991105075797027,40.24890704467733,28.79057904736625,-3.600945380195145,-58.21306207238823,-322.9015164172035,26.095556926205767,-15.815993122571452,-23.007910541542024,38.71074425336094,-0.849174312553779,21.171275823261375,-53.22721108744157,-36.087272722724244,-46.54315517856176,-49.73863718446016,4.071926861792577,21.100847001681924,51.020052696397435,29.410370227318744,198.67610182869615,14.629346781824582,69.74141685635594,-41.604967149668504,7.068710749297327,30.52391502494546,14.958265177724988,58.19443084387169,-32.796791339849754,24.94406606087909,31.46796939318859,-1.9407421451918176,73.27576144273019,7.489608710311388,-9.448464861418932,43.65001697706467,30.10846555064906,30.999424545702208,3.0451395364094775,178.11106480329764,3.2148860291598838,58.96001150203986,-10.440447987168396,7.045430597052524,-22.323864525286613,28.27681178990759,15.44977297561955,-36.5603366684023,-162.0986902230632,-171.01743974416027,68.15347825973676,-7.285455349739077,-0.5028891064306078,-19.402888981351477,-1.4661046665995088,-56.00227675066388,-9.67822498812096,-27.507014390157224,-56.189823837722486,-12.997158021366012,14.014796421157392,4.6241571646618445,-21.06841632086869,16.05461011573788,-4.079858830918089,36.43806690102228,0.4195570835860878,107.45721821070406,2.076005472208767,-18.56009661243387,21.653073229598963,29.118560782808597,92.96041872312503,3.5387958852005776,35.2365591392197,-7.998199968180797,-28.820549365857488,67.77140994922037,-27.68526209113432,117.67460389611756,18.509404115101457,28.04872502978057,21.104887672499327,72.65161951835223,-16.597658873051717,-7.7785301526056045,-19.683788956563003,112.59742081599224,42.173155335626106,-2.2292689584262457,17.870071550927,-108.42261504116038,-46.30996976156004,-40.410246552316224,16.975835019553827,-3.1069554472634118,116.51010173723597,50.65087436281206,15.365046805321558,84.70293714301319,-65.15700805082965,13.242216100412033,-4.575815812081878,-17.043362658161506,22.000256147012095,81.05050905999619,-31.315041596069744,-4.5459955007723645,-52.40106340988521,100.28766870237429,2.302135137349538,21.103080118413658,-48.09379428942213,-57.43169133066497,-5.308366188528773,4.341581125303633,66.51805817157872,-7.6661238568596834,-28.114738073953756,-33.11642143181443,-12.278802022487408,154.52676659735187,-2.1265798961007465,77.07462712079462,57.604678712223205,-8.713392671852958,-79.81649145669861,-74.33641814294425,3.9309706240240643,38.56071307375307,39.81482204306248,30.42193031801523,39.81824002705639,8.356060682247621,-25.310299771789982,-14.52324738908946,-48.234602997708286,-56.55340725626613,-9.017131455011683,-6.280799591255217,22.374055436518407,-31.301244805435406,27.369409115615134,-14.274316865595354,-17.043600214341932,-43.20695935983881,78.42343252500878,-4.377873489549666,43.72314321603035,-1.5308547244236965,35.26480218351579,105.59667912515266,110.22249212513101,77.05758852132999,47.553525184896124,34.12922497015682,-88.643106363453],\"yaxis\":\"y\",\"type\":\"scatter\"}],                        {\"template\":{\"data\":{\"bar\":[{\"error_x\":{\"color\":\"#2a3f5f\"},\"error_y\":{\"color\":\"#2a3f5f\"},\"marker\":{\"line\":{\"color\":\"#E5ECF6\",\"width\":0.5},\"pattern\":{\"fillmode\":\"overlay\",\"size\":10,\"solidity\":0.2}},\"type\":\"bar\"}],\"barpolar\":[{\"marker\":{\"line\":{\"color\":\"#E5ECF6\",\"width\":0.5},\"pattern\":{\"fillmode\":\"overlay\",\"size\":10,\"solidity\":0.2}},\"type\":\"barpolar\"}],\"carpet\":[{\"aaxis\":{\"endlinecolor\":\"#2a3f5f\",\"gridcolor\":\"white\",\"linecolor\":\"white\",\"minorgridcolor\":\"white\",\"startlinecolor\":\"#2a3f5f\"},\"baxis\":{\"endlinecolor\":\"#2a3f5f\",\"gridcolor\":\"white\",\"linecolor\":\"white\",\"minorgridcolor\":\"white\",\"startlinecolor\":\"#2a3f5f\"},\"type\":\"carpet\"}],\"choropleth\":[{\"colorbar\":{\"outlinewidth\":0,\"ticks\":\"\"},\"type\":\"choropleth\"}],\"contour\":[{\"colorbar\":{\"outlinewidth\":0,\"ticks\":\"\"},\"colorscale\":[[0.0,\"#0d0887\"],[0.1111111111111111,\"#46039f\"],[0.2222222222222222,\"#7201a8\"],[0.3333333333333333,\"#9c179e\"],[0.4444444444444444,\"#bd3786\"],[0.5555555555555556,\"#d8576b\"],[0.6666666666666666,\"#ed7953\"],[0.7777777777777778,\"#fb9f3a\"],[0.8888888888888888,\"#fdca26\"],[1.0,\"#f0f921\"]],\"type\":\"contour\"}],\"contourcarpet\":[{\"colorbar\":{\"outlinewidth\":0,\"ticks\":\"\"},\"type\":\"contourcarpet\"}],\"heatmap\":[{\"colorbar\":{\"outlinewidth\":0,\"ticks\":\"\"},\"colorscale\":[[0.0,\"#0d0887\"],[0.1111111111111111,\"#46039f\"],[0.2222222222222222,\"#7201a8\"],[0.3333333333333333,\"#9c179e\"],[0.4444444444444444,\"#bd3786\"],[0.5555555555555556,\"#d8576b\"],[0.6666666666666666,\"#ed7953\"],[0.7777777777777778,\"#fb9f3a\"],[0.8888888888888888,\"#fdca26\"],[1.0,\"#f0f921\"]],\"type\":\"heatmap\"}],\"heatmapgl\":[{\"colorbar\":{\"outlinewidth\":0,\"ticks\":\"\"},\"colorscale\":[[0.0,\"#0d0887\"],[0.1111111111111111,\"#46039f\"],[0.2222222222222222,\"#7201a8\"],[0.3333333333333333,\"#9c179e\"],[0.4444444444444444,\"#bd3786\"],[0.5555555555555556,\"#d8576b\"],[0.6666666666666666,\"#ed7953\"],[0.7777777777777778,\"#fb9f3a\"],[0.8888888888888888,\"#fdca26\"],[1.0,\"#f0f921\"]],\"type\":\"heatmapgl\"}],\"histogram\":[{\"marker\":{\"pattern\":{\"fillmode\":\"overlay\",\"size\":10,\"solidity\":0.2}},\"type\":\"histogram\"}],\"histogram2d\":[{\"colorbar\":{\"outlinewidth\":0,\"ticks\":\"\"},\"colorscale\":[[0.0,\"#0d0887\"],[0.1111111111111111,\"#46039f\"],[0.2222222222222222,\"#7201a8\"],[0.3333333333333333,\"#9c179e\"],[0.4444444444444444,\"#bd3786\"],[0.5555555555555556,\"#d8576b\"],[0.6666666666666666,\"#ed7953\"],[0.7777777777777778,\"#fb9f3a\"],[0.8888888888888888,\"#fdca26\"],[1.0,\"#f0f921\"]],\"type\":\"histogram2d\"}],\"histogram2dcontour\":[{\"colorbar\":{\"outlinewidth\":0,\"ticks\":\"\"},\"colorscale\":[[0.0,\"#0d0887\"],[0.1111111111111111,\"#46039f\"],[0.2222222222222222,\"#7201a8\"],[0.3333333333333333,\"#9c179e\"],[0.4444444444444444,\"#bd3786\"],[0.5555555555555556,\"#d8576b\"],[0.6666666666666666,\"#ed7953\"],[0.7777777777777778,\"#fb9f3a\"],[0.8888888888888888,\"#fdca26\"],[1.0,\"#f0f921\"]],\"type\":\"histogram2dcontour\"}],\"mesh3d\":[{\"colorbar\":{\"outlinewidth\":0,\"ticks\":\"\"},\"type\":\"mesh3d\"}],\"parcoords\":[{\"line\":{\"colorbar\":{\"outlinewidth\":0,\"ticks\":\"\"}},\"type\":\"parcoords\"}],\"pie\":[{\"automargin\":true,\"type\":\"pie\"}],\"scatter\":[{\"marker\":{\"colorbar\":{\"outlinewidth\":0,\"ticks\":\"\"}},\"type\":\"scatter\"}],\"scatter3d\":[{\"line\":{\"colorbar\":{\"outlinewidth\":0,\"ticks\":\"\"}},\"marker\":{\"colorbar\":{\"outlinewidth\":0,\"ticks\":\"\"}},\"type\":\"scatter3d\"}],\"scattercarpet\":[{\"marker\":{\"colorbar\":{\"outlinewidth\":0,\"ticks\":\"\"}},\"type\":\"scattercarpet\"}],\"scattergeo\":[{\"marker\":{\"colorbar\":{\"outlinewidth\":0,\"ticks\":\"\"}},\"type\":\"scattergeo\"}],\"scattergl\":[{\"marker\":{\"colorbar\":{\"outlinewidth\":0,\"ticks\":\"\"}},\"type\":\"scattergl\"}],\"scattermapbox\":[{\"marker\":{\"colorbar\":{\"outlinewidth\":0,\"ticks\":\"\"}},\"type\":\"scattermapbox\"}],\"scatterpolar\":[{\"marker\":{\"colorbar\":{\"outlinewidth\":0,\"ticks\":\"\"}},\"type\":\"scatterpolar\"}],\"scatterpolargl\":[{\"marker\":{\"colorbar\":{\"outlinewidth\":0,\"ticks\":\"\"}},\"type\":\"scatterpolargl\"}],\"scatterternary\":[{\"marker\":{\"colorbar\":{\"outlinewidth\":0,\"ticks\":\"\"}},\"type\":\"scatterternary\"}],\"surface\":[{\"colorbar\":{\"outlinewidth\":0,\"ticks\":\"\"},\"colorscale\":[[0.0,\"#0d0887\"],[0.1111111111111111,\"#46039f\"],[0.2222222222222222,\"#7201a8\"],[0.3333333333333333,\"#9c179e\"],[0.4444444444444444,\"#bd3786\"],[0.5555555555555556,\"#d8576b\"],[0.6666666666666666,\"#ed7953\"],[0.7777777777777778,\"#fb9f3a\"],[0.8888888888888888,\"#fdca26\"],[1.0,\"#f0f921\"]],\"type\":\"surface\"}],\"table\":[{\"cells\":{\"fill\":{\"color\":\"#EBF0F8\"},\"line\":{\"color\":\"white\"}},\"header\":{\"fill\":{\"color\":\"#C8D4E3\"},\"line\":{\"color\":\"white\"}},\"type\":\"table\"}]},\"layout\":{\"annotationdefaults\":{\"arrowcolor\":\"#2a3f5f\",\"arrowhead\":0,\"arrowwidth\":1},\"autotypenumbers\":\"strict\",\"coloraxis\":{\"colorbar\":{\"outlinewidth\":0,\"ticks\":\"\"}},\"colorscale\":{\"diverging\":[[0,\"#8e0152\"],[0.1,\"#c51b7d\"],[0.2,\"#de77ae\"],[0.3,\"#f1b6da\"],[0.4,\"#fde0ef\"],[0.5,\"#f7f7f7\"],[0.6,\"#e6f5d0\"],[0.7,\"#b8e186\"],[0.8,\"#7fbc41\"],[0.9,\"#4d9221\"],[1,\"#276419\"]],\"sequential\":[[0.0,\"#0d0887\"],[0.1111111111111111,\"#46039f\"],[0.2222222222222222,\"#7201a8\"],[0.3333333333333333,\"#9c179e\"],[0.4444444444444444,\"#bd3786\"],[0.5555555555555556,\"#d8576b\"],[0.6666666666666666,\"#ed7953\"],[0.7777777777777778,\"#fb9f3a\"],[0.8888888888888888,\"#fdca26\"],[1.0,\"#f0f921\"]],\"sequentialminus\":[[0.0,\"#0d0887\"],[0.1111111111111111,\"#46039f\"],[0.2222222222222222,\"#7201a8\"],[0.3333333333333333,\"#9c179e\"],[0.4444444444444444,\"#bd3786\"],[0.5555555555555556,\"#d8576b\"],[0.6666666666666666,\"#ed7953\"],[0.7777777777777778,\"#fb9f3a\"],[0.8888888888888888,\"#fdca26\"],[1.0,\"#f0f921\"]]},\"colorway\":[\"#636efa\",\"#EF553B\",\"#00cc96\",\"#ab63fa\",\"#FFA15A\",\"#19d3f3\",\"#FF6692\",\"#B6E880\",\"#FF97FF\",\"#FECB52\"],\"font\":{\"color\":\"#2a3f5f\"},\"geo\":{\"bgcolor\":\"white\",\"lakecolor\":\"white\",\"landcolor\":\"#E5ECF6\",\"showlakes\":true,\"showland\":true,\"subunitcolor\":\"white\"},\"hoverlabel\":{\"align\":\"left\"},\"hovermode\":\"closest\",\"mapbox\":{\"style\":\"light\"},\"paper_bgcolor\":\"white\",\"plot_bgcolor\":\"#E5ECF6\",\"polar\":{\"angularaxis\":{\"gridcolor\":\"white\",\"linecolor\":\"white\",\"ticks\":\"\"},\"bgcolor\":\"#E5ECF6\",\"radialaxis\":{\"gridcolor\":\"white\",\"linecolor\":\"white\",\"ticks\":\"\"}},\"scene\":{\"xaxis\":{\"backgroundcolor\":\"#E5ECF6\",\"gridcolor\":\"white\",\"gridwidth\":2,\"linecolor\":\"white\",\"showbackground\":true,\"ticks\":\"\",\"zerolinecolor\":\"white\"},\"yaxis\":{\"backgroundcolor\":\"#E5ECF6\",\"gridcolor\":\"white\",\"gridwidth\":2,\"linecolor\":\"white\",\"showbackground\":true,\"ticks\":\"\",\"zerolinecolor\":\"white\"},\"zaxis\":{\"backgroundcolor\":\"#E5ECF6\",\"gridcolor\":\"white\",\"gridwidth\":2,\"linecolor\":\"white\",\"showbackground\":true,\"ticks\":\"\",\"zerolinecolor\":\"white\"}},\"shapedefaults\":{\"line\":{\"color\":\"#2a3f5f\"}},\"ternary\":{\"aaxis\":{\"gridcolor\":\"white\",\"linecolor\":\"white\",\"ticks\":\"\"},\"baxis\":{\"gridcolor\":\"white\",\"linecolor\":\"white\",\"ticks\":\"\"},\"bgcolor\":\"#E5ECF6\",\"caxis\":{\"gridcolor\":\"white\",\"linecolor\":\"white\",\"ticks\":\"\"}},\"title\":{\"x\":0.05},\"xaxis\":{\"automargin\":true,\"gridcolor\":\"white\",\"linecolor\":\"white\",\"ticks\":\"\",\"title\":{\"standoff\":15},\"zerolinecolor\":\"white\",\"zerolinewidth\":2},\"yaxis\":{\"automargin\":true,\"gridcolor\":\"white\",\"linecolor\":\"white\",\"ticks\":\"\",\"title\":{\"standoff\":15},\"zerolinecolor\":\"white\",\"zerolinewidth\":2}}},\"xaxis\":{\"anchor\":\"y\",\"domain\":[0.0,1.0],\"title\":{\"text\":\"PC 1\"}},\"yaxis\":{\"anchor\":\"x\",\"domain\":[0.0,1.0],\"title\":{\"text\":\"PC 2\"}},\"legend\":{\"tracegroupgap\":0},\"title\":{\"text\":\"Total Explained Variance: 99.82%\"}},                        {\"responsive\": true}                    ).then(function(){\n",
              "                            \n",
              "var gd = document.getElementById('c78ff2e2-722f-476f-b093-bb32924cb73e');\n",
              "var x = new MutationObserver(function (mutations, observer) {{\n",
              "        var display = window.getComputedStyle(gd).display;\n",
              "        if (!display || display === 'none') {{\n",
              "            console.log([gd, 'removed!']);\n",
              "            Plotly.purge(gd);\n",
              "            observer.disconnect();\n",
              "        }}\n",
              "}});\n",
              "\n",
              "// Listen for the removal of the full notebook cells\n",
              "var notebookContainer = gd.closest('#notebook-container');\n",
              "if (notebookContainer) {{\n",
              "    x.observe(notebookContainer, {childList: true});\n",
              "}}\n",
              "\n",
              "// Listen for the clearing of the current output cell\n",
              "var outputEl = gd.closest('.output');\n",
              "if (outputEl) {{\n",
              "    x.observe(outputEl, {childList: true});\n",
              "}}\n",
              "\n",
              "                        })                };                            </script>        </div>\n",
              "</body>\n",
              "</html>"
            ]
          },
          "metadata": {}
        },
        {
          "output_type": "execute_result",
          "data": {
            "text/plain": [
              "array([0.98204467, 0.01617649])"
            ]
          },
          "metadata": {},
          "execution_count": 11
        }
      ]
    },
    {
      "cell_type": "markdown",
      "source": [
        "Upon executing PCA, we find that the first principal component captures 98% of the explained variance. WOW! This means 99% of our variance is within the first two components. So, the most important parts of our data is the first two dimensions which is what we reduced to. Therefore, nearly all the other higher dimensional data of the other components are just noise!"
      ],
      "metadata": {
        "id": "e_mxrNhhmY4u"
      }
    },
    {
      "cell_type": "code",
      "source": [
        "pca = PCA(n_components=2)\n",
        "X = df5.loc[:, ['compactness_se', 'concavity_se', 'concave points_se', 'symmetry_se',\n",
        "       'fractal_dimension_se', 'radius_worst', 'texture_worst',]]\n",
        "components_u = pca.fit_transform(X)\n",
        "#print(pca.explained_variance_ratio_)\n",
        "#print(pca.feature_names_in_)\n",
        "\n",
        "pca2 = PCA(svd_solver='auto', whiten=True)\n",
        "pca2.fit(X)\n",
        "\n",
        "#print(pca.components_)\n",
        "#print(sum(pca.components_[0][0:6]))\n",
        "#print(sum(pca.components_[1][0:6]))\n",
        "#print(sum(pca.components_[0][0:6]) + sum(pca.components_[1][0:6]))\n",
        "#print(sum(pca.explained_variance_ratio_))\n",
        "\n",
        "#Print the PC percentages\n",
        "print(\"Principle Components\")\n",
        "print(\"PC1: \" + str(round(pca.explained_variance_ratio_[0] * 100, 2)) + \"%\")\n",
        "print(\"PC2: \" + str(round(pca.explained_variance_ratio_[1] * 100, 2)) + \"%\\n\")\n",
        "\n",
        "\n",
        "squares1 = [1, 2, 3, 4, 5, 6, 7]\n",
        "i = 0\n",
        "for x in pca.components_[0]:\n",
        "  squares1[i] = x * x\n",
        "  i += 1\n",
        "\n",
        "squares2 = [1, 2, 3, 4, 5, 6, 7]\n",
        "i = 0\n",
        "for x in pca.components_[1]:\n",
        "  squares2[i] = x * x\n",
        "  i += 1\n",
        "\n",
        "#print(sum(squares1))\n",
        "#print(squares1)\n",
        "\n",
        "#Print the feature percentages\n",
        "print(\"Feature percentages in PC1\")\n",
        "print(\"compactness_se: \" + str(round(squares1[0] * 100, 2)) + \"%\")\n",
        "print(\"concavity_se: \" + str(round(squares1[1] * 100, 2)) + \"%\")\n",
        "print(\"concave points_se: \" + str(round(squares1[2] * 100, 2)) + \"%\")\n",
        "print(\"symmetry_se: \" + str(round(squares1[3] * 100, 2)) + \"%\")\n",
        "print(\"fractal_dimension_se: \" + str(round(squares1[4] * 100, 2)) + \"%\")\n",
        "print(\"radius_worst: \" + str(round(squares1[5] * 100, 2)) + \"%\")\n",
        "print(\"texture_worst: \" + str(round(squares1[6] * 100, 2)) + \"%\\n\")\n",
        "\n",
        "print(\"Feature percentages in PC2\")\n",
        "print(\"compactness_se: \" + str(round(squares2[0] * 100, 2)) + \"%\")\n",
        "print(\"concavity_se: \" + str(round(squares2[1] * 100, 2)) + \"%\")\n",
        "print(\"concave points_se: \" + str(round(squares2[2] * 100, 2)) + \"%\")\n",
        "print(\"symmetry_se: \" + str(round(squares2[3] * 100, 2)) + \"%\")\n",
        "print(\"fractal_dimension_se: \" + str(round(squares2[4] * 100, 2)) + \"%\")\n",
        "print(\"radius_worst: \" + str(round(squares2[5] * 100, 2)) + \"%\")\n",
        "print(\"texture_worst: \" + str(round(squares2[6] * 100, 2)) + \"%\")\n",
        "\n",
        "features = ['compactness_se', 'concavity_se', 'concave points_se', 'symmetry_se',\n",
        "       'fractal_dimension_se', 'radius_worst', 'texture_worst',]\n",
        "X = df5[features]\n",
        "\n",
        "\n",
        "loadings = pca.components_.T * np.sqrt(pca.explained_variance_)\n",
        "#fig = px.scatter(components_5, x=0, y=1)\n",
        "total_var = pca.explained_variance_ratio_.sum() * 100\n",
        "\n",
        "labels = {str(i): f\"PC {i+1}\" for i in range(n_components)}\n",
        "labels['color'] = 'Median Price'\n",
        "\n",
        "fig = px.scatter(\n",
        "    components_u, x=0, y=1,\n",
        "    title=f'Total Explained Variance: {total_var:.2f}%',\n",
        "    labels={'0': 'PC 1', '1': 'PC 2', '2': 'PC 3'}\n",
        ")\n",
        "for i, feature in enumerate(features):\n",
        "    fig.add_shape(\n",
        "        type='line',\n",
        "        x0=0, y0=0,\n",
        "        x1=loadings[i, 0],\n",
        "        y1=loadings[i, 1]\n",
        "    )\n",
        "    fig.add_annotation(\n",
        "        x=loadings[i, 0],\n",
        "        y=loadings[i, 1],\n",
        "        ax=0, ay=0,\n",
        "        xanchor=\"center\",\n",
        "        yanchor=\"bottom\",\n",
        "        text=feature,\n",
        "    )\n",
        "\n",
        "\n",
        "#fig = px.scatter(components_u, x=0, y=1, color_continuous_scale=px.colors.sequential.Blackbody)\n",
        "fig.show()"
      ],
      "metadata": {
        "colab": {
          "base_uri": "https://localhost:8080/",
          "height": 906
        },
        "id": "HuqWsNFaWyOH",
        "outputId": "75904b8a-de8c-4581-e0a9-9c30cd82ce85"
      },
      "execution_count": null,
      "outputs": [
        {
          "output_type": "stream",
          "name": "stdout",
          "text": [
            "Principle Components\n",
            "PC1: 71.09%\n",
            "PC2: 28.91%\n",
            "\n",
            "Feature percentages in PC1\n",
            "compactness_se: 0.0%\n",
            "concavity_se: 0.0%\n",
            "concave points_se: 0.0%\n",
            "symmetry_se: 0.0%\n",
            "fractal_dimension_se: 0.0%\n",
            "radius_worst: 22.05%\n",
            "texture_worst: 77.95%\n",
            "\n",
            "Feature percentages in PC2\n",
            "compactness_se: 0.0%\n",
            "concavity_se: 0.0%\n",
            "concave points_se: 0.0%\n",
            "symmetry_se: 0.0%\n",
            "fractal_dimension_se: 0.0%\n",
            "radius_worst: 77.95%\n",
            "texture_worst: 22.05%\n"
          ]
        },
        {
          "output_type": "display_data",
          "data": {
            "text/html": [
              "<html>\n",
              "<head><meta charset=\"utf-8\" /></head>\n",
              "<body>\n",
              "    <div>            <script src=\"https://cdnjs.cloudflare.com/ajax/libs/mathjax/2.7.5/MathJax.js?config=TeX-AMS-MML_SVG\"></script><script type=\"text/javascript\">if (window.MathJax) {MathJax.Hub.Config({SVG: {font: \"STIX-Web\"}});}</script>                <script type=\"text/javascript\">window.PlotlyConfig = {MathJaxConfig: 'local'};</script>\n",
              "        <script src=\"https://cdn.plot.ly/plotly-2.8.3.min.js\"></script>                <div id=\"2cfbb0db-7e92-4634-8cd6-42d067dfe053\" class=\"plotly-graph-div\" style=\"height:525px; width:100%;\"></div>            <script type=\"text/javascript\">                                    window.PLOTLYENV=window.PLOTLYENV || {};                                    if (document.getElementById(\"2cfbb0db-7e92-4634-8cd6-42d067dfe053\")) {                    Plotly.newPlot(                        \"2cfbb0db-7e92-4634-8cd6-42d067dfe053\",                        [{\"hovertemplate\":\"PC 1=%{x}<br>PC 2=%{y}<extra></extra>\",\"legendgroup\":\"\",\"marker\":{\"color\":\"#636efa\",\"symbol\":\"circle\"},\"mode\":\"markers\",\"name\":\"\",\"orientation\":\"v\",\"showlegend\":false,\"x\":[-3.0914482658263074,2.0933575857681257,3.2983168673850174,0.08821732140536577,-5.007760924443575,-2.0768024637143077,4.854843750335944,2.545709436321664,4.095172454666563,12.69216116773349,8.61368286800569,3.364204646128586,5.966331696604459,2.018631455027615,5.009295160708179,10.670755315650988,5.908666956559069,7.32591550409384,9.782683603646648,-6.210050709877898,-5.410538686009414,-11.679994406910332,-4.978979507253314,14.809803663029687,9.97920914375619,-0.9678669819681217,7.2849336405402365,3.764478847458887,11.619435902762294,-3.679561038268905,10.588020098099092,2.415365054716543,7.8269278200113215,8.311791955027292,3.2479286158394207,4.707906680865573,3.9563389369221484,-3.9257315208400887,-1.022026868515771,-0.044472559310209075,3.877971233884747,6.9209113833968505,10.28785548719103,2.5723612199572585,3.7010053045226865,-0.7708281072638462,-6.71226463465441,1.7252477767728407,-5.572615784197898,4.897848376695923,-1.506780484519465,-2.946910601773972,-5.326324461134049,0.6676128706282918,6.168317085591138,-4.441918947156833,6.809459372965768,5.186267414519156,-3.9834524377103824,-12.249053308305891,-9.728667305091946,-1.9449434151899607,4.041762984138525,-8.631352461022761,7.265609650055842,7.298278362036517,2.442503923941916,-3.4718347850414206,-5.470788124146469,-6.543416638672344,4.831083565949458,-11.904479646474458,10.500104326442175,-4.11184392889494,-3.192207154357597,0.6575119701284162,-12.670892952151878,-3.100510675262791,8.66955588260742,-1.7097064412356895,4.240100212658071,-2.543043440826202,13.460306879098374,8.124878280208952,-1.9067336549786023,4.895984792995494,3.1265978844016207,8.071695031196978,3.112600583014814,-6.532992723356572,2.9559997352463285,0.2192358883307492,-2.8949538966377815,-0.3170346102664117,-0.35697236745416083,8.953862293595261,-5.815094015717875,-1.970860427075962,-9.026760025791626,4.604388887984426,8.80784845074911,-9.334418673514245,4.948453565881559,-1.5692092635216104,-4.310721089259343,-2.8742509988215366,1.6938089484354983,0.20150776861894365,7.756008066329209,1.5356373894582331,-6.165331773877634,-1.5631064767822118,-2.174193956785841,-4.983558174925817,-8.466416283885316,-0.8031157350808829,-10.818214087198486,2.6876417414194074,6.099134704344237,3.9249027827902143,-10.190099107532147,2.122241153467449,3.0892114962781494,-8.828882914661131,-3.527871726821635,-2.2175334052466926,9.087553041230718,2.8879189949221447,-6.561543169745952,9.964193572502458,-8.321399138504201,1.6893826386485045,6.802815665531381,-5.096596928570982,7.9789857868494485,5.9564102297982044,-1.554308291211275,-5.083393518854769,-2.6787973615749743,-10.78927923599345,-12.874191294555994,1.3547955169102595,-0.6824841161055032,-4.2456877626635565,-6.404891242614606,-9.558354170082467,-0.5671596055997732,-0.1919417365861813,-5.341648175353881,-3.2767990280610566,-2.3741300277920434,0.19914153483622576,-7.927255153853669,-10.288499486428893,-5.274915474826045,-1.6617754048348603,1.471830859947973,3.028616588237334,-7.885586898695048,-8.437270445893686,-0.9144808912665107,-4.240754561190611,5.541455940733097,1.3883500311490884,7.758198378624847,-0.009765797739504844,-14.25040932491579,2.325218987953446,9.100066019497529,-2.4384716368743975,-10.16214193585481,4.505108605872153,-6.442012469732617,-10.129916161100825,-7.939433276799679,-10.916173776876409,-3.488583454392648,3.1622216022904057,1.8857187632675094,-9.6508320371371,14.245521896800769,11.7776903504164,8.109840645634444,-8.873964274199597,2.796063414336724,-6.036344434168068,2.9698419567008973,-5.3156073224144675,-1.0283081885259089,-6.7451496571020435,9.9073196860903,-3.105214743461042,-7.23849610020787,11.772004774861086,1.76771456397432,-4.368506865352011,7.413682767429162,0.7764529052943616,8.96497834047751,4.890184450701202,1.5096419651884487,2.092833312187651,10.33887557048865,15.655049384327516,-1.5258305184603835,-4.095744844806886,-4.916125025029425,1.1041998372993593,2.267620672443944,-8.092975329560906,5.1828454697504664,-2.0010163158661682,-0.80301594142021,2.9582906212197573,8.376004492024371,0.8622769704127408,-0.16155464798694083,-3.314716785177122,7.058386991422847,22.883450493799618,-8.67126679630024,-8.151649925840948,-4.899441178422437,5.617861056730795,-2.3642167449227127,-7.514179301809398,-7.4190857578711045,-5.5554393372551205,4.001487035013815,3.446928805643704,0.8643382330173243,5.160227328576208,12.381313770053824,14.183187589957914,-8.458401286620964,3.622710051962348,14.720328209944078,4.16859085651931,12.878428133353838,19.87567491619449,-6.5175529589150205,-6.126949368087866,0.28314485455094657,-0.0061245836018455945,6.811184541040786,1.090875908104558,0.7981009704447423,-7.925395393451748,6.511412016984535,-5.66123038277814,5.540052590586859,-4.389701335208008,4.154291683777655,1.1629983721941521,3.4509192327319016,-3.1280569041305974,13.475548518978695,-1.9778949934663328,6.946002731772733,22.111083128251963,15.688981988675724,6.795836369957928,3.3148245025307594,6.061436598378172,5.718821696871626,26.583855207326607,-4.477725109667763,3.1619608442792795,-2.9111697196617796,-2.562746026194567,-5.076766141584634,-10.239483599716904,7.8074422656527,-6.827130981455326,10.141196642352934,-7.720989878834789,-7.814918058829818,0.5171670116233893,0.012048072628881839,-4.081530214334387,12.524331721077333,-7.938185507663702,6.1562307335724045,0.5525698240257599,-6.398543398406526,-3.5934432234463056,0.0014943828372327495,-10.194082099782051,-5.025620699196547,-1.4271005776447823,-3.3661341436608976,0.44370265339102616,-6.261831389611222,-1.4427222936295037,-8.537628399029897,-8.473819415286753,-11.886315924952529,-3.3854757221941405,-0.3914812742607036,-3.793742289648963,5.0333773930403725,-3.621009844752826,6.793275868387961,-3.4501733877920686,-5.276321288752254,3.448717406171113,-5.488132835807951,-8.035806021702431,-8.324121173736483,-8.030687916572164,-0.9477246949676813,-3.3777404023236164,-9.167119011335242,-13.152465169948115,-6.294129447697066,-6.643920365347057,-9.734574638677545,2.017995795996775,-4.926159474527618,-6.409080492417109,-6.816598904184281,0.8515813199738832,-5.105634382823843,9.699372853766903,-4.97695383010011,-5.242947764834334,-7.125286447422116,-4.528160292390518,5.565845600489052,0.2734754356054346,-2.094613903381621,-4.159058875885355,-1.923390996438974,-4.841478801258116,1.0860822222713493,8.814437582362064,-8.937548095444969,11.5585668609287,-1.372563954201465,11.223330868462627,-3.490988051142489,-4.8935580579894,-7.142944251683127,10.974062257035724,-8.14386954757859,-8.002105850503881,-0.013788662226580026,-6.3700162008546855,-6.0801381953702105,-8.649736144351598,-6.645604503184289,-0.8184330313912581,6.065828710034625,7.711696896336244,-10.651207387913436,-4.228306226425139,-1.7066660373713254,-0.6301925814496042,-9.995805226088994,-2.575589631556683,-5.344210357307313,2.13857529253564,-0.9068191843473392,0.6731658296993606,-4.234242010421208,4.387411582810498,10.899812527784393,-2.3748853885601853,7.473277826803398,5.457255937204472,6.1867093216595075,-8.814825802699875,-0.37278998390260093,2.059911008919451,-5.498097989062963,-5.4425874726194685,-5.0672287164753005,8.0456493813135,-6.142202786056849,4.883882710261062,-6.154716887727593,-6.242033911704913,0.9405801007560534,-3.2299389828531964,-8.287241037514402,5.101270114948815,-7.113303802762902,-5.395370834822705,-7.9429269538236245,6.3420069910370165,-11.148820001971297,-5.4043361379270625,5.611042784991979,7.381474619780598,-1.1637865993789152,-0.9312991540285342,0.6545495087051988,-5.26414003008755,-6.388772321962844,-2.3720243091608797,3.98411041837589,-6.048259039620886,-1.946748018886638,-3.4773555091851236,-9.244113491597172,-1.9027268045220995,-4.706632560119801,0.29899323844698517,2.0231103034935614,1.8090952871087425,7.884741755175374,-1.1387569444227608,-0.918362396285981,5.415500273880548,10.382572374592824,-0.1583874580451158,2.3665881940146045,4.982220872043461,-8.961609586626206,1.0273314287409703,-0.3520467640998779,-6.388344909207163,-7.007913513058385,-0.6867040290916744,-4.589303227638364,0.4580151512768936,-5.569876624484469,3.9698070819687343,-6.9113336671030705,-5.314903387932343,1.7091164678396986,-4.03462569415982,2.1690439575865446,7.638626977172366,-4.516463674019214,4.884800616207103,-1.9995794036966017,-3.90348227401226,1.7594149699472643,-6.259833284647149,-0.7825351989431722,10.56749181371175,-7.688820455681065,-4.592475452921996,-1.2985992110999802,2.5898517140389057,13.826789613286717,-2.517754807845388,2.4095545987257614,10.063219680667713,0.5759777817546118,7.092217489962705,9.280855796891409,-7.943187479949675,-4.020078981505225,13.494389445809482,10.116039375530512,6.649948753128401,4.5704520727064075,7.296888672703222,10.92256654835075,14.310054594060823,5.156505045367057,-3.106296917001358,-2.2208787112167663,-0.545784325946083,-0.8816673145509597,-3.3372859763776397,5.308057734787096,-1.6108271856874008,-2.459073034589598,5.503167804769673,-6.156234121565062,9.59996241001685,-7.6191359837476265,-6.609550459789595,1.4823266701963764,-3.9534295748357615,-5.151753664936709,-1.7931988507876409,0.5604897316344463,0.7218941762262534,-7.171457632231399,-2.5105477771900486,-9.785278655679715,-5.271778417273404,-0.119857635358324,7.772300574715256,-4.993459506914497,2.146224508349259,4.5877454283210914,-4.739987910422071,2.808305251979494,-9.672038612977362,1.6261048317276712,2.352825853654101,-4.001277826368974,-2.21802435260019,0.5736017769144351,8.05201269009121,-4.402267138756779,6.290543989277958,-5.043809494788178,5.223054104336268,-11.02080704662003,-9.40493091714397,-2.7907117670610457,-6.509321222649619,-6.496624605080765,9.800103990208443,-8.924699622866294,-7.458527869583878,3.5824822560041496,-7.218685215014711,2.719253299861863,-4.121232340000809,3.086861155131073,3.1085676377376994,-1.7266514019792973,-4.330402553469512,-9.595630195938357,7.516167074294989,-1.3729889734344112,-0.5860291506399581,-4.734131480860871,-9.572196234177454,-0.8882983500365842,-6.905599073111795,-9.865734053513492,-10.070845057602043,0.732743965925415,1.395106890328694,-5.032661598407341,4.568941009564817,-1.447883051118002,3.5969561510740227,7.1266970860781775,4.2055485486710085,1.251490317545905,1.9206280780589389,-7.1774927588740915,5.32086228200968,5.951428668183683,9.255044285329411,-1.3911454462111255,2.5814716480072013,-5.806570385658305,-5.765388786306818,-2.584178100182735,3.575671981072292,-2.965377283009607,0.2849967958547967,7.987271043183664,-3.5704163397899866,7.767132698001687,5.602136230162828,-5.108303813036633,4.846202006433487,1.03569936700988,8.358754249062876,6.160195069146803,9.102235781509975,15.696117447711108,7.062060781580061,4.949241328650493,14.585039332718145,8.727006241698666,16.580693214199478,0.9438670206772648],\"xaxis\":\"x\",\"y\":[11.96354454135658,8.764144234893742,6.514967847066662,-1.5863318802312771,9.766049503504737,0.19938938035648893,4.9055453996184974,-0.4582655155577909,-3.0605987218437756,-8.08598926951674,-1.2731034624718243,2.9120900769593394,2.1398581954463496,-0.4270817349062403,-4.067756629921451,-4.326581539104628,0.029690572776886113,1.4166253385945948,7.313558350939704,1.9899296676419185,0.873780264180408,-0.6281049225316662,4.687865568345441,6.735180622711495,6.234952280645299,7.288903510728807,-2.34459951559392,3.7072705676582167,-1.6484511803333888,6.194021781184037,2.1621476078090343,-0.6607541034971489,1.059569575664851,4.5054072564215515,2.736066638934635,1.7330401762830827,-2.5336904559321973,-1.275115899119642,-0.9053056009837727,-0.8135852809440357,-2.4467610032352307,-7.565024867787651,3.3865816154903277,-0.11000890364013885,-2.0128438337394368,7.829730999590927,-4.704185688899211,-1.5962653470655526,0.12183305871347636,-3.872642296057166,-2.9241102221184923,-0.24399319326697047,-0.7567196989551871,4.550169836078291,-1.2070752525230897,-1.521589954007094,7.558384833696089,-0.9452417972820869,-0.19107627395722476,-1.1443507746947095,-0.7711816887153183,-6.5589987554802125,-0.5629637286575188,-2.498700940261305,-2.934621600173147,-2.7028276006224266,-7.9354591409799164,-2.615176428670512,-3.83953046710241,0.29835763279861605,7.160815282700487,-1.0715281365842786,2.4014614741414713,2.527624314308244,-0.7477942649353835,3.6154604408605415,4.259579565468739,8.581770160238698,3.4317777179644264,-1.3890361671564369,-5.833392420292604,0.5153307488536688,8.393106319524193,0.27813643959810364,-1.9298508521271214,4.940304600345441,-1.7299282248750893,5.097480571102575,-4.4182065613759685,3.55488607797386,-1.7525224042276792,0.06555482775985441,1.6425404929174365,-1.1556781406304928,2.410787871453854,4.243208439491399,-0.8025708869850944,-5.010527772194141,1.1661055660640656,-2.3800182557632352,-3.8681582255269373,-4.480738281631875,-5.949657714137972,-5.4053337341167795,-3.0637724125448003,1.574962086599948,-4.445123759571893,-3.4815637309017697,9.614860012478712,-4.5082573459042345,-2.63236587660602,-2.4976485197627776,0.05880565481352289,-3.136282373430551,-3.019115946247958,-2.516818780253078,-2.010555833236603,1.4483692239866717,1.1970160976419515,2.795060219381086,1.5130077894986536,5.645370305992836,9.40129904995919,4.05105026137432,-0.39932003604193,0.296838512326851,-4.130200712358823,5.317431919714231,3.309550433992229,1.904957765096969,1.1080884801367397,2.488983166792977,0.00719009089318171,4.104729171820422,2.836187847385374,-5.1831944773176755,-2.5023810526461214,-1.7693773406867845,4.008140477966187,0.8123418216855139,0.4487343629020576,3.4144861696882454,-3.5890437585246633,0.23158195938853726,-1.4855924751536471,1.550815596336732,-2.562991205198879,0.08039337235266426,2.3662304586363136,0.6903418895066099,-1.1262716873006853,-8.235018412882273,-1.7287213243935218,0.6252414785970241,1.107477005851574,-2.150747319803071,3.97524424026664,0.598760107523968,0.649756754646312,0.05970412036699136,-2.85398698268894,8.780450645872623,8.901058361284031,-3.784293279200365,9.171825008547545,-0.32239855474674994,2.2907026813731663,3.0455981622118196,2.942207270935435,1.1165876992954509,2.2683355976399766,-0.4583880240670854,6.281449786483517,-0.1839784640301203,-1.1338469909761009,-2.1307869120533036,-3.8180101357921736,0.04070741825401442,-3.573178434846131,2.1436145121781762,11.50925853025515,5.527625464440559,0.03692211535634401,0.30339091532426293,0.24671017496327152,-1.7722506900072454,4.12984581466288,-0.8643466621407143,-3.6429726222958374,0.2810793600211217,-5.8685318557763395,-1.2018081754069223,-3.2871641798352633,-6.962388234320603,-1.1544142791499281,-0.38266853731556844,-3.8061969587987265,3.540925277078341,3.263210569378875,-0.26677017138260506,-2.874763327185563,3.5882739750960333,4.526026302489376,-5.006772507930728,-0.6599944028248592,3.8782319493987094,-4.010370677847369,3.411833580559445,-3.15329403895567,5.5624718514069835,5.138905766145499,-2.298782077213927,13.838514704920685,0.46646359792605213,-3.785694195938991,-1.0466512106826804,-3.3336851793005415,-3.6614244977041235,6.961620193489754,1.0026794099143594,3.559455811822303,2.8753558377295754,-3.1697627203932788,0.7393647928045523,-0.021550776261859663,4.563728975120873,-1.4332445883045404,3.1142282834602772,-4.471893301446152,-3.0442692062054557,3.3015736106429547,-7.4894072546738935,-11.0129158480103,1.745069432792265,-2.0244256270532097,-2.9905857462838217,8.866876789910798,6.788317090654957,-7.4375955007093015,-3.5025297584728508,1.8589823400176744,-0.21764567224775294,-4.329025645919027,-1.4229513412544008,2.4719282947729946,-6.00465585068439,-3.0626270957422586,2.086858576653888,-8.015513594898993,-1.0882697647548678,7.599348562347036,-1.4021167200439577,7.996568170564432,3.4372003922743035,8.846297465664243,1.8005313004785874,2.778393462201339,2.70658358710879,0.3615508652911633,-9.244674863610612,0.7856029311160899,0.44128689675322114,2.9044141251576834,-1.3654377654297207,2.97359141656563,4.233378789125923,-2.5898345532024845,-3.345795396313608,-1.135113641411466,-3.823480192246463,1.1606145433535944,0.9729477983558686,9.349569920668886,-2.620206022135317,-0.12605318935883708,-0.2759270793047416,-0.45252424646318135,3.9052848846025894,-0.8776666460606488,0.7105951636201533,1.777881983262146,0.8702960474506447,5.244107604610663,2.2894644857082063,0.7197755236428525,-1.2253357821301658,-3.4317420776347975,2.421238255299791,-2.3209779669897648,-3.6687215544779295,1.225063706156065,-0.2577461107218196,0.4657528417545836,-2.8675602532344246,1.4043042420922343,2.6955485053191612,0.7728228254904289,-1.494492370881972,0.1524638726840724,-4.029662622301236,8.265201994451775,-1.2558997392197702,4.780771536573483,-4.065153174517685,-1.2589989901801082,-6.171365804872236,0.8130828718659566,-3.1677779470228273,2.955715444151526,2.527818208304685,-3.640529841808762,2.012563833595149,2.5206714915608166,2.5449010682920115,-4.940200298808535,0.21587582212593576,1.3046967228489388,5.236416333227894,-4.412622235957516,-0.4073742331749883,-2.0254444523839847,7.238609428653782,0.19060475337024146,5.069931284214638,-0.20631923192720764,-0.1101536222409534,2.9523912872462135,-1.2152291212523796,0.4499022785151666,1.5091589172295816,3.935253994838869,0.11759639501972206,-3.835186347758242,-1.3997066063223027,-3.884085402848668,0.6589287219903914,1.8662248103603987,3.220312387351794,-5.056890327565997,10.34168038946036,2.31071160906391,-3.6485319522359365,-1.1270183870613188,1.5037591661493541,0.6965287732389303,-1.8479917777328134,-2.970639876661714,4.521505473182286,-1.0240574256362724,0.6824169503879653,0.148819830090238,1.6709005009841855,15.871082429746094,-1.5635051542081468,0.9654562420659263,-1.0348105225511188,-1.447228048732911,-0.9778174999029243,-1.8058648053889188,-3.4429716049265466,-0.044989831789705,-3.4810997009228237,-2.37106178379581,1.7495759074690362,0.5086522287822394,6.773838804990032,3.174285349759186,-0.978624357929067,12.426779132263714,9.999196857815388,0.23299816262240108,4.609878509748544,7.470750255529797,9.212350825096117,1.305438185146981,3.6884534186333315,-3.4427303413730748,-6.067874920618643,1.308248284143703,-6.02850391028199,-0.6105972354121478,-1.4136428870024393,-4.690082304409594,-0.6483911614855703,2.1093200727962444,-3.2559241468198734,0.22774159352299392,2.009680618938518,-0.565495211889947,1.7814329776959428,0.3919021703999585,-4.033877670168075,2.600561905105704,7.356119515472347,-2.4495900770736823,-1.03285970808946,-2.012194826073795,-0.06484060102353702,-0.6673407414474414,-1.9315590275359222,3.0128275062516696,0.4201030444723396,-1.3875217342769917,-0.8793027678672154,1.4176152504598933,-3.370431377994503,4.135174516949011,-2.2761058823334466,4.37290006344667,-3.41911988896677,-7.839821006322578,-3.7654534757454585,-6.651935985674438,-2.3243853024775434,-4.399888187157698,-3.561962560560531,-7.396727393771244,5.166314521615858,1.7997029937018265,-4.974153630227728,-3.436281962271918,3.613885956117026,-0.3833326541431337,-0.9137250454198251,-3.2894067642804328,-6.087164149982365,-1.7257721440349894,-6.086048159046576,-1.5220700080344776,0.05269911971403324,-0.8173937721482081,-1.6928435023479056,5.371329016064602,3.1758344577032513,2.4483318992695215,-1.7250077715720227,-0.9970299693515875,1.3860920962921717,-1.6597842166056231,1.7898575721506567,-4.011447329960822,-0.9643412920675791,2.9576297609293944,-3.593516235981603,5.346738097132796,-5.1029270329573775,-1.3953370078957743,1.5212084464621416,-1.246655985095628,5.306820099767215,-4.2469434759169795,2.084606213958107,-8.537021507455409,3.6932295269294997,-0.04698818715014029,-8.558101336246038,-8.947231454284802,-5.710644863977656,-4.615975893345153,-10.222844039756096,1.7689758713354777,14.782335779445273,-3.7270536332901476,-2.311225030441211,-0.36962575473200304,-0.6488045529421771,-1.1951150008951972,-4.0232680863247055,3.180839308173057,-2.438298031514938,-4.501652031849481,-5.950189566849459,4.305873726298134,-8.299048758490057,-0.8510875061824029,1.0471270703487552,-0.5835978752976461,0.8236758142784268,-1.6423712653169684,2.2232958038159576,-3.615853978990419,-0.2244928817113175,2.1841116870665545,-0.1476065749487444,6.043491125751893,-0.01535799290086665,0.27984040102685714,4.577147168308835,-0.6845654636975537,2.1553732886212646,-4.817717541397581,6.542775399264772,4.4649848884486465,1.656530737764037,-2.8687502679689696,-1.5449695868971813,-0.011651620559540794,-1.3225674535116563,7.0353761103919314,4.3151150230196125,2.897293149080124,-3.6392579502960833,-0.37461655606637784,13.668936778511055,-0.9220256844597968,-1.4189850991200383,-2.0373131270497327,-1.724532640901345,4.645484869175031,-4.259913713938433,0.42096326110311366,3.2202545488524157,-1.74589737719034,4.395250805210068,0.03839988734776901,-2.1112102359931506,4.690586522306579,6.797086627314161,-0.4625858123933066,0.2426665529663401,-1.3515947075750978,11.463910397838749,-4.184553983117268,-1.0012731881132684,-3.178391200627088,-2.6065751478634236,-0.5686889613214735,0.6608797975275061,3.379307247583375,2.1631449072829287,-3.526238245664726,-4.048423083008763,2.2018465721628884,5.454066076092889,-4.495764035105356,7.182949756254303,-4.899472331412438,-5.962248586015301,-8.811847306641319,-9.619497128881468,-0.7234910072705407,-2.8856575891799308,-2.8926139451456567,-7.073539687416984,-0.641016246923804,-2.414118659164069,-2.5966853353309465,-3.0942590813657684,-4.672979632852772,-5.57063643421407,-3.6434420936585954,-4.9643807498207755,-6.96558261502373,-5.377328055227877,-6.82580869500891,-9.12886276051457,-3.6476491478570114,-9.123316757841872,-1.444657885800266,-8.737461633338443,-4.37413026585463,-9.767264047515235,-6.931385365585031,5.328730375271622,7.766281166532792,0.6478903571219398,-1.5711606534257099,1.9084560785851359,-8.218966338478083],\"yaxis\":\"y\",\"type\":\"scatter\"}],                        {\"template\":{\"data\":{\"bar\":[{\"error_x\":{\"color\":\"#2a3f5f\"},\"error_y\":{\"color\":\"#2a3f5f\"},\"marker\":{\"line\":{\"color\":\"#E5ECF6\",\"width\":0.5},\"pattern\":{\"fillmode\":\"overlay\",\"size\":10,\"solidity\":0.2}},\"type\":\"bar\"}],\"barpolar\":[{\"marker\":{\"line\":{\"color\":\"#E5ECF6\",\"width\":0.5},\"pattern\":{\"fillmode\":\"overlay\",\"size\":10,\"solidity\":0.2}},\"type\":\"barpolar\"}],\"carpet\":[{\"aaxis\":{\"endlinecolor\":\"#2a3f5f\",\"gridcolor\":\"white\",\"linecolor\":\"white\",\"minorgridcolor\":\"white\",\"startlinecolor\":\"#2a3f5f\"},\"baxis\":{\"endlinecolor\":\"#2a3f5f\",\"gridcolor\":\"white\",\"linecolor\":\"white\",\"minorgridcolor\":\"white\",\"startlinecolor\":\"#2a3f5f\"},\"type\":\"carpet\"}],\"choropleth\":[{\"colorbar\":{\"outlinewidth\":0,\"ticks\":\"\"},\"type\":\"choropleth\"}],\"contour\":[{\"colorbar\":{\"outlinewidth\":0,\"ticks\":\"\"},\"colorscale\":[[0.0,\"#0d0887\"],[0.1111111111111111,\"#46039f\"],[0.2222222222222222,\"#7201a8\"],[0.3333333333333333,\"#9c179e\"],[0.4444444444444444,\"#bd3786\"],[0.5555555555555556,\"#d8576b\"],[0.6666666666666666,\"#ed7953\"],[0.7777777777777778,\"#fb9f3a\"],[0.8888888888888888,\"#fdca26\"],[1.0,\"#f0f921\"]],\"type\":\"contour\"}],\"contourcarpet\":[{\"colorbar\":{\"outlinewidth\":0,\"ticks\":\"\"},\"type\":\"contourcarpet\"}],\"heatmap\":[{\"colorbar\":{\"outlinewidth\":0,\"ticks\":\"\"},\"colorscale\":[[0.0,\"#0d0887\"],[0.1111111111111111,\"#46039f\"],[0.2222222222222222,\"#7201a8\"],[0.3333333333333333,\"#9c179e\"],[0.4444444444444444,\"#bd3786\"],[0.5555555555555556,\"#d8576b\"],[0.6666666666666666,\"#ed7953\"],[0.7777777777777778,\"#fb9f3a\"],[0.8888888888888888,\"#fdca26\"],[1.0,\"#f0f921\"]],\"type\":\"heatmap\"}],\"heatmapgl\":[{\"colorbar\":{\"outlinewidth\":0,\"ticks\":\"\"},\"colorscale\":[[0.0,\"#0d0887\"],[0.1111111111111111,\"#46039f\"],[0.2222222222222222,\"#7201a8\"],[0.3333333333333333,\"#9c179e\"],[0.4444444444444444,\"#bd3786\"],[0.5555555555555556,\"#d8576b\"],[0.6666666666666666,\"#ed7953\"],[0.7777777777777778,\"#fb9f3a\"],[0.8888888888888888,\"#fdca26\"],[1.0,\"#f0f921\"]],\"type\":\"heatmapgl\"}],\"histogram\":[{\"marker\":{\"pattern\":{\"fillmode\":\"overlay\",\"size\":10,\"solidity\":0.2}},\"type\":\"histogram\"}],\"histogram2d\":[{\"colorbar\":{\"outlinewidth\":0,\"ticks\":\"\"},\"colorscale\":[[0.0,\"#0d0887\"],[0.1111111111111111,\"#46039f\"],[0.2222222222222222,\"#7201a8\"],[0.3333333333333333,\"#9c179e\"],[0.4444444444444444,\"#bd3786\"],[0.5555555555555556,\"#d8576b\"],[0.6666666666666666,\"#ed7953\"],[0.7777777777777778,\"#fb9f3a\"],[0.8888888888888888,\"#fdca26\"],[1.0,\"#f0f921\"]],\"type\":\"histogram2d\"}],\"histogram2dcontour\":[{\"colorbar\":{\"outlinewidth\":0,\"ticks\":\"\"},\"colorscale\":[[0.0,\"#0d0887\"],[0.1111111111111111,\"#46039f\"],[0.2222222222222222,\"#7201a8\"],[0.3333333333333333,\"#9c179e\"],[0.4444444444444444,\"#bd3786\"],[0.5555555555555556,\"#d8576b\"],[0.6666666666666666,\"#ed7953\"],[0.7777777777777778,\"#fb9f3a\"],[0.8888888888888888,\"#fdca26\"],[1.0,\"#f0f921\"]],\"type\":\"histogram2dcontour\"}],\"mesh3d\":[{\"colorbar\":{\"outlinewidth\":0,\"ticks\":\"\"},\"type\":\"mesh3d\"}],\"parcoords\":[{\"line\":{\"colorbar\":{\"outlinewidth\":0,\"ticks\":\"\"}},\"type\":\"parcoords\"}],\"pie\":[{\"automargin\":true,\"type\":\"pie\"}],\"scatter\":[{\"marker\":{\"colorbar\":{\"outlinewidth\":0,\"ticks\":\"\"}},\"type\":\"scatter\"}],\"scatter3d\":[{\"line\":{\"colorbar\":{\"outlinewidth\":0,\"ticks\":\"\"}},\"marker\":{\"colorbar\":{\"outlinewidth\":0,\"ticks\":\"\"}},\"type\":\"scatter3d\"}],\"scattercarpet\":[{\"marker\":{\"colorbar\":{\"outlinewidth\":0,\"ticks\":\"\"}},\"type\":\"scattercarpet\"}],\"scattergeo\":[{\"marker\":{\"colorbar\":{\"outlinewidth\":0,\"ticks\":\"\"}},\"type\":\"scattergeo\"}],\"scattergl\":[{\"marker\":{\"colorbar\":{\"outlinewidth\":0,\"ticks\":\"\"}},\"type\":\"scattergl\"}],\"scattermapbox\":[{\"marker\":{\"colorbar\":{\"outlinewidth\":0,\"ticks\":\"\"}},\"type\":\"scattermapbox\"}],\"scatterpolar\":[{\"marker\":{\"colorbar\":{\"outlinewidth\":0,\"ticks\":\"\"}},\"type\":\"scatterpolar\"}],\"scatterpolargl\":[{\"marker\":{\"colorbar\":{\"outlinewidth\":0,\"ticks\":\"\"}},\"type\":\"scatterpolargl\"}],\"scatterternary\":[{\"marker\":{\"colorbar\":{\"outlinewidth\":0,\"ticks\":\"\"}},\"type\":\"scatterternary\"}],\"surface\":[{\"colorbar\":{\"outlinewidth\":0,\"ticks\":\"\"},\"colorscale\":[[0.0,\"#0d0887\"],[0.1111111111111111,\"#46039f\"],[0.2222222222222222,\"#7201a8\"],[0.3333333333333333,\"#9c179e\"],[0.4444444444444444,\"#bd3786\"],[0.5555555555555556,\"#d8576b\"],[0.6666666666666666,\"#ed7953\"],[0.7777777777777778,\"#fb9f3a\"],[0.8888888888888888,\"#fdca26\"],[1.0,\"#f0f921\"]],\"type\":\"surface\"}],\"table\":[{\"cells\":{\"fill\":{\"color\":\"#EBF0F8\"},\"line\":{\"color\":\"white\"}},\"header\":{\"fill\":{\"color\":\"#C8D4E3\"},\"line\":{\"color\":\"white\"}},\"type\":\"table\"}]},\"layout\":{\"annotationdefaults\":{\"arrowcolor\":\"#2a3f5f\",\"arrowhead\":0,\"arrowwidth\":1},\"autotypenumbers\":\"strict\",\"coloraxis\":{\"colorbar\":{\"outlinewidth\":0,\"ticks\":\"\"}},\"colorscale\":{\"diverging\":[[0,\"#8e0152\"],[0.1,\"#c51b7d\"],[0.2,\"#de77ae\"],[0.3,\"#f1b6da\"],[0.4,\"#fde0ef\"],[0.5,\"#f7f7f7\"],[0.6,\"#e6f5d0\"],[0.7,\"#b8e186\"],[0.8,\"#7fbc41\"],[0.9,\"#4d9221\"],[1,\"#276419\"]],\"sequential\":[[0.0,\"#0d0887\"],[0.1111111111111111,\"#46039f\"],[0.2222222222222222,\"#7201a8\"],[0.3333333333333333,\"#9c179e\"],[0.4444444444444444,\"#bd3786\"],[0.5555555555555556,\"#d8576b\"],[0.6666666666666666,\"#ed7953\"],[0.7777777777777778,\"#fb9f3a\"],[0.8888888888888888,\"#fdca26\"],[1.0,\"#f0f921\"]],\"sequentialminus\":[[0.0,\"#0d0887\"],[0.1111111111111111,\"#46039f\"],[0.2222222222222222,\"#7201a8\"],[0.3333333333333333,\"#9c179e\"],[0.4444444444444444,\"#bd3786\"],[0.5555555555555556,\"#d8576b\"],[0.6666666666666666,\"#ed7953\"],[0.7777777777777778,\"#fb9f3a\"],[0.8888888888888888,\"#fdca26\"],[1.0,\"#f0f921\"]]},\"colorway\":[\"#636efa\",\"#EF553B\",\"#00cc96\",\"#ab63fa\",\"#FFA15A\",\"#19d3f3\",\"#FF6692\",\"#B6E880\",\"#FF97FF\",\"#FECB52\"],\"font\":{\"color\":\"#2a3f5f\"},\"geo\":{\"bgcolor\":\"white\",\"lakecolor\":\"white\",\"landcolor\":\"#E5ECF6\",\"showlakes\":true,\"showland\":true,\"subunitcolor\":\"white\"},\"hoverlabel\":{\"align\":\"left\"},\"hovermode\":\"closest\",\"mapbox\":{\"style\":\"light\"},\"paper_bgcolor\":\"white\",\"plot_bgcolor\":\"#E5ECF6\",\"polar\":{\"angularaxis\":{\"gridcolor\":\"white\",\"linecolor\":\"white\",\"ticks\":\"\"},\"bgcolor\":\"#E5ECF6\",\"radialaxis\":{\"gridcolor\":\"white\",\"linecolor\":\"white\",\"ticks\":\"\"}},\"scene\":{\"xaxis\":{\"backgroundcolor\":\"#E5ECF6\",\"gridcolor\":\"white\",\"gridwidth\":2,\"linecolor\":\"white\",\"showbackground\":true,\"ticks\":\"\",\"zerolinecolor\":\"white\"},\"yaxis\":{\"backgroundcolor\":\"#E5ECF6\",\"gridcolor\":\"white\",\"gridwidth\":2,\"linecolor\":\"white\",\"showbackground\":true,\"ticks\":\"\",\"zerolinecolor\":\"white\"},\"zaxis\":{\"backgroundcolor\":\"#E5ECF6\",\"gridcolor\":\"white\",\"gridwidth\":2,\"linecolor\":\"white\",\"showbackground\":true,\"ticks\":\"\",\"zerolinecolor\":\"white\"}},\"shapedefaults\":{\"line\":{\"color\":\"#2a3f5f\"}},\"ternary\":{\"aaxis\":{\"gridcolor\":\"white\",\"linecolor\":\"white\",\"ticks\":\"\"},\"baxis\":{\"gridcolor\":\"white\",\"linecolor\":\"white\",\"ticks\":\"\"},\"bgcolor\":\"#E5ECF6\",\"caxis\":{\"gridcolor\":\"white\",\"linecolor\":\"white\",\"ticks\":\"\"}},\"title\":{\"x\":0.05},\"xaxis\":{\"automargin\":true,\"gridcolor\":\"white\",\"linecolor\":\"white\",\"ticks\":\"\",\"title\":{\"standoff\":15},\"zerolinecolor\":\"white\",\"zerolinewidth\":2},\"yaxis\":{\"automargin\":true,\"gridcolor\":\"white\",\"linecolor\":\"white\",\"ticks\":\"\",\"title\":{\"standoff\":15},\"zerolinecolor\":\"white\",\"zerolinewidth\":2}}},\"xaxis\":{\"anchor\":\"y\",\"domain\":[0.0,1.0],\"title\":{\"text\":\"PC 1\"}},\"yaxis\":{\"anchor\":\"x\",\"domain\":[0.0,1.0],\"title\":{\"text\":\"PC 2\"}},\"legend\":{\"tracegroupgap\":0},\"title\":{\"text\":\"Total Explained Variance: 100.00%\"},\"shapes\":[{\"type\":\"line\",\"x0\":0,\"x1\":0.00336939415377994,\"y0\":0,\"y1\":0.0019612528077803536},{\"type\":\"line\",\"x0\":0,\"x1\":0.004433021929938752,\"y0\":0,\"y1\":0.003649643535212735},{\"type\":\"line\",\"x0\":0,\"x1\":0.0012012865561356362,\"y0\":0,\"y1\":0.0018755792212163823},{\"type\":\"line\",\"x0\":0,\"x1\":-0.0008917291665674939,\"y0\":0,\"y1\":-0.0006353346554517003},{\"type\":\"line\",\"x0\":0,\"x1\":-4.109844247533873e-05,\"y0\":0,\"y1\":-9.486569110860546e-05},{\"type\":\"line\",\"x0\":0,\"x1\":3.0957543688949563,\"y0\":0,\"y1\":3.711674697595815},{\"type\":\"line\",\"x0\":0,\"x1\":5.820601868295832,\"y0\":0,\"y1\":-1.9741014815535334}],\"annotations\":[{\"ax\":0,\"ay\":0,\"text\":\"compactness_se\",\"x\":0.00336939415377994,\"xanchor\":\"center\",\"y\":0.0019612528077803536,\"yanchor\":\"bottom\"},{\"ax\":0,\"ay\":0,\"text\":\"concavity_se\",\"x\":0.004433021929938752,\"xanchor\":\"center\",\"y\":0.003649643535212735,\"yanchor\":\"bottom\"},{\"ax\":0,\"ay\":0,\"text\":\"concave points_se\",\"x\":0.0012012865561356362,\"xanchor\":\"center\",\"y\":0.0018755792212163823,\"yanchor\":\"bottom\"},{\"ax\":0,\"ay\":0,\"text\":\"symmetry_se\",\"x\":-0.0008917291665674939,\"xanchor\":\"center\",\"y\":-0.0006353346554517003,\"yanchor\":\"bottom\"},{\"ax\":0,\"ay\":0,\"text\":\"fractal_dimension_se\",\"x\":-4.109844247533873e-05,\"xanchor\":\"center\",\"y\":-9.486569110860546e-05,\"yanchor\":\"bottom\"},{\"ax\":0,\"ay\":0,\"text\":\"radius_worst\",\"x\":3.0957543688949563,\"xanchor\":\"center\",\"y\":3.711674697595815,\"yanchor\":\"bottom\"},{\"ax\":0,\"ay\":0,\"text\":\"texture_worst\",\"x\":5.820601868295832,\"xanchor\":\"center\",\"y\":-1.9741014815535334,\"yanchor\":\"bottom\"}]},                        {\"responsive\": true}                    ).then(function(){\n",
              "                            \n",
              "var gd = document.getElementById('2cfbb0db-7e92-4634-8cd6-42d067dfe053');\n",
              "var x = new MutationObserver(function (mutations, observer) {{\n",
              "        var display = window.getComputedStyle(gd).display;\n",
              "        if (!display || display === 'none') {{\n",
              "            console.log([gd, 'removed!']);\n",
              "            Plotly.purge(gd);\n",
              "            observer.disconnect();\n",
              "        }}\n",
              "}});\n",
              "\n",
              "// Listen for the removal of the full notebook cells\n",
              "var notebookContainer = gd.closest('#notebook-container');\n",
              "if (notebookContainer) {{\n",
              "    x.observe(notebookContainer, {childList: true});\n",
              "}}\n",
              "\n",
              "// Listen for the clearing of the current output cell\n",
              "var outputEl = gd.closest('.output');\n",
              "if (outputEl) {{\n",
              "    x.observe(outputEl, {childList: true});\n",
              "}}\n",
              "\n",
              "                        })                };                            </script>        </div>\n",
              "</body>\n",
              "</html>"
            ]
          },
          "metadata": {}
        }
      ]
    },
    {
      "cell_type": "markdown",
      "source": [
        "First, we will subset our data to look at specific columns including the standard error of compactness, concavity, concave points, symmetry, and fractal dimension. As well as the 'worst' or largest(mean of the three largest values) of the radius and texture of the cancer cell nuclei. Subsetting our dataframe and performing PCA, we find that our first two components capture almost all of our subsetted data!\n",
        "\n",
        "Seeing the feature percentages, we find that texture_worst captures 77.95% of variance on the first component and radius_worst  contributes about 22% of the rest on the first componenet. In terms of cell measurements, this makes sense as the largest measurements and most extreme will seemingly take over any account on standard error of other measurements.\n",
        "\n",
        "Interestingly, the percentages are flipped on the second component. This must mean that out of these features, radius_worst and texture_worst contribute to mostly all of the variance and have a relationship togethor.\n",
        "\n",
        "Looking at the loading vectors, we find that radius_worst and texture_worst have the greatest magnitude and thus explain the most amount of variance for each of the components, while all the other loadings are grouping around the same point because of their insignificance to the components.\n",
        "\n"
      ],
      "metadata": {
        "id": "lQErD98JhU7k"
      }
    },
    {
      "cell_type": "code",
      "source": [
        "n_pcs = pca.components_.shape[0]\n",
        "print(\"number of principal components: \", n_pcs)\n",
        "\n",
        "important_components = [np.abs(pca.components_[i]).argmax() for i in range(n_pcs)]\n",
        "print(\"indicies of important features: \", important_components)\n",
        "\n",
        "important_features = [features[important_components[i]] for i in range(n_pcs)]\n",
        "print(\"most important features \", important_features, \"\\n\")"
      ],
      "metadata": {
        "colab": {
          "base_uri": "https://localhost:8080/"
        },
        "id": "q77xYJVO3v_s",
        "outputId": "d20cbae2-2662-4e89-8c1c-598779f626dd"
      },
      "execution_count": null,
      "outputs": [
        {
          "output_type": "stream",
          "name": "stdout",
          "text": [
            "number of principal components:  2\n",
            "indicies of important features:  [6, 5]\n",
            "most important features  ['texture_worst', 'radius_worst'] \n",
            "\n"
          ]
        }
      ]
    },
    {
      "cell_type": "markdown",
      "source": [
        "Finding our important features once again from our components confirm our findings and our graph above that texture_worst and radius_worst are the important feautres"
      ],
      "metadata": {
        "id": "BQeC7KbwlIz4"
      }
    },
    {
      "cell_type": "code",
      "source": [
        "important_feature_data = df5.loc[:, important_features]\n",
        "#important_feature_data['Hue'] = X['Hue']\n",
        "\n",
        "\n",
        "\n",
        "loadings = pca.components_.T * np.sqrt(pca.explained_variance_)\n",
        "fig = px.scatter(important_feature_data,\n",
        "                    x=important_features[0],\n",
        "                    y=important_features[1],\n",
        "                 trendline=\"ols\", trendline_scope=\"overall\")\n",
        "\n",
        "\n",
        "\n",
        "\n",
        "\n",
        "fig.update_traces(marker_coloraxis=None)\n",
        "fig.show()\n"
      ],
      "metadata": {
        "colab": {
          "base_uri": "https://localhost:8080/",
          "height": 542
        },
        "id": "rPtgpaF8nKbU",
        "outputId": "7501767c-0257-450f-b0df-416f8465e4fe"
      },
      "execution_count": null,
      "outputs": [
        {
          "output_type": "display_data",
          "data": {
            "text/html": [
              "<html>\n",
              "<head><meta charset=\"utf-8\" /></head>\n",
              "<body>\n",
              "    <div>            <script src=\"https://cdnjs.cloudflare.com/ajax/libs/mathjax/2.7.5/MathJax.js?config=TeX-AMS-MML_SVG\"></script><script type=\"text/javascript\">if (window.MathJax) {MathJax.Hub.Config({SVG: {font: \"STIX-Web\"}});}</script>                <script type=\"text/javascript\">window.PlotlyConfig = {MathJaxConfig: 'local'};</script>\n",
              "        <script src=\"https://cdn.plot.ly/plotly-2.8.3.min.js\"></script>                <div id=\"9497d541-9144-4202-b2c7-4bfb3f63a055\" class=\"plotly-graph-div\" style=\"height:525px; width:100%;\"></div>            <script type=\"text/javascript\">                                    window.PLOTLYENV=window.PLOTLYENV || {};                                    if (document.getElementById(\"9497d541-9144-4202-b2c7-4bfb3f63a055\")) {                    Plotly.newPlot(                        \"9497d541-9144-4202-b2c7-4bfb3f63a055\",                        [{\"hovertemplate\":\"texture_worst=%{x}<br>radius_worst=%{y}<extra></extra>\",\"legendgroup\":\"\",\"marker\":{\"color\":\"#636efa\",\"symbol\":\"circle\"},\"mode\":\"markers\",\"name\":\"\",\"orientation\":\"v\",\"showlegend\":false,\"x\":[17.33,23.41,25.53,26.5,16.67,23.75,27.66,28.14,30.73,40.68,33.88,27.28,29.94,27.66,32.01,37.13,30.88,31.48,30.88,19.26,20.49,15.66,19.08,35.59,31.56,21.4,33.21,27.26,36.71,19.52,34.01,28.12,32.09,30.9,27.26,29.02,30.36,22.81,25.2,26.02,30.25,35.34,33.17,28.0,29.89,21.32,21.96,27.95,20.7,31.82,25.72,23.19,21.33,24.13,31.69,22.47,28.14,30.7,22.25,15.4,17.45,27.04,29.51,19.23,33.47,33.39,31.56,23.84,22.65,19.76,26.58,15.67,33.82,20.86,23.21,24.56,12.49,18.91,31.72,24.82,32.16,23.19,33.62,32.72,24.9,27.68,29.25,30.41,30.5,18.24,29.11,25.84,22.35,25.94,24.23,31.59,20.92,26.29,17.16,30.86,35.27,19.54,32.84,26.83,23.31,22.4,29.26,27.49,28.01,29.15,21.47,25.47,23.73,22.75,19.62,26.15,17.07,27.37,30.5,27.83,15.97,24.9,23.99,15.98,22.75,23.58,35.64,25.73,18.33,33.58,17.81,26.0,31.68,19.25,31.39,33.37,25.48,22.02,21.43,15.77,14.1,25.27,26.76,21.82,20.72,16.51,26.38,25.47,19.85,22.46,24.11,29.72,19.49,16.3,20.5,25.22,25.11,28.07,18.41,18.2,26.21,17.81,26.39,28.68,28.22,25.82,12.02,26.3,32.33,23.0,15.64,29.87,17.04,16.82,19.2,17.04,24.39,28.45,29.02,16.15,32.85,33.48,32.82,17.7,28.03,21.18,26.36,21.39,26.48,19.59,37.18,23.5,20.83,39.34,27.78,22.0,34.01,24.7,32.06,30.12,28.36,25.84,32.68,41.85,24.64,20.24,23.22,25.05,29.16,15.92,27.84,24.99,18.47,28.07,34.85,26.93,27.1,24.47,28.64,45.41,16.35,17.13,22.84,30.29,23.6,16.9,19.8,19.31,31.31,30.15,24.89,33.75,41.78,37.38,19.16,30.28,34.51,26.17,40.54,44.87,19.05,20.37,27.96,26.34,30.53,29.46,27.82,17.7,35.19,21.19,27.0,22.46,25.59,25.09,24.57,22.07,36.27,22.66,31.64,49.54,39.16,31.47,27.24,31.67,29.33,47.16,22.94,30.04,23.64,25.21,20.65,16.18,28.18,20.88,34.69,18.99,18.99,24.3,26.1,21.74,35.9,18.26,28.65,25.09,19.69,23.08,27.29,15.54,22.33,26.14,22.13,26.19,19.93,25.75,17.48,16.93,14.82,23.39,25.26,24.22,26.24,23.07,29.43,24.54,21.61,31.62,20.45,20.07,16.94,17.4,26.55,21.75,16.4,12.87,22.44,19.71,16.47,25.0,23.4,20.21,20.61,23.03,21.08,31.86,21.38,21.1,18.0,22.25,30.38,25.21,21.98,21.95,25.78,22.06,28.46,33.15,16.91,34.37,26.84,30.73,21.51,23.07,19.9,34.66,18.16,19.48,27.06,17.93,20.79,17.72,19.74,24.17,23.58,33.22,15.82,22.43,24.85,25.58,17.7,25.02,20.98,29.2,25.99,25.45,21.7,26.37,33.81,24.04,26.44,25.8,31.03,15.73,21.84,23.17,20.21,19.14,22.82,35.63,19.64,32.82,20.53,20.83,28.71,23.13,17.37,31.71,19.29,19.97,18.93,30.44,15.65,22.8,29.41,28.74,25.8,25.34,27.2,21.06,20.35,24.49,27.78,20.14,24.61,23.02,16.85,25.58,19.58,27.01,25.41,28.88,36.32,26.44,27.99,31.55,36.91,27.21,31.24,27.65,16.92,28.92,26.98,18.34,19.67,25.5,23.17,28.94,21.57,32.04,20.29,20.96,27.57,22.91,25.07,30.93,20.54,30.8,24.38,21.58,28.01,19.31,26.87,35.46,17.5,23.31,22.02,30.36,38.54,22.74,28.39,32.07,28.18,30.96,37.88,16.93,22.15,41.61,38.81,34.23,31.88,36.92,34.49,31.37,31.98,24.02,23.89,25.5,25.46,24.62,28.87,25.4,25.62,33.33,18.22,38.05,19.35,19.35,27.26,21.8,21.9,23.05,27.87,26.42,18.32,23.53,14.2,21.03,25.44,30.39,21.59,26.56,31.99,18.42,26.06,16.36,28.46,28.48,22.15,24.34,22.88,30.76,20.43,32.94,21.4,23.87,16.38,18.04,24.17,20.74,17.76,36.33,17.6,17.58,29.66,17.24,28.06,23.03,26.2,25.23,24.37,21.74,17.84,26.93,26.43,25.63,22.99,18.45,25.16,19.27,15.38,15.77,27.98,28.81,20.2,27.15,26.51,25.48,34.27,32.19,30.92,31.89,19.68,31.73,32.29,37.17,24.75,29.09,21.77,22.04,25.59,31.45,24.77,28.26,36.0,25.05,35.74,34.91,22.88,34.24,27.27,37.16,33.17,38.3,42.79,29.41,26.4,38.25,34.12,39.42,30.37],\"xaxis\":\"x\",\"y\":[25.38,24.99,23.57,14.91,22.54,15.47,22.88,17.06,15.49,15.09,19.19,20.42,20.96,16.84,15.03,17.46,19.07,20.96,27.32,15.11,14.5,10.23,18.07,29.17,26.46,22.25,17.62,21.31,20.27,20.01,23.15,16.82,20.88,24.15,20.21,20.01,15.89,13.3,14.99,15.53,15.93,12.84,24.09,17.38,16.23,22.82,8.964,15.67,13.76,15.15,12.98,14.67,13.1,20.6,18.1,12.84,26.14,17.87,14.23,9.507,11.02,9.565,17.67,10.01,17.09,17.31,10.41,12.33,10.31,13.46,24.86,9.733,23.32,16.57,14.11,19.77,14.08,22.39,23.37,14.24,13.11,15.53,30.0,20.33,13.67,22.93,16.21,24.56,13.83,16.34,16.11,16.43,16.36,15.1,18.23,24.22,12.83,10.92,13.06,16.33,16.99,7.93,13.34,10.76,11.54,16.31,13.14,13.29,28.4,13.01,11.05,13.33,15.3,11.16,9.628,13.67,9.414,18.81,20.19,20.58,12.82,22.25,26.02,15.7,14.26,15.49,16.89,22.32,16.11,22.63,13.34,19.26,19.47,17.5,22.52,14.49,13.33,12.32,18.55,11.92,10.62,19.92,12.78,14.48,11.95,13.15,13.74,16.25,15.85,15.34,14.16,9.092,11.02,11.99,14.77,13.59,20.47,18.22,13.14,12.36,13.32,22.03,26.73,13.58,28.01,15.98,11.6,20.05,23.14,16.11,13.5,17.98,18.79,11.35,11.54,9.262,11.26,17.79,14.0,13.63,33.12,26.68,20.11,12.37,17.8,11.87,21.31,13.01,12.57,13.35,15.74,13.75,9.968,15.65,16.08,13.88,16.39,19.76,23.36,18.33,14.44,20.42,25.12,19.2,14.97,17.77,10.42,19.8,14.55,17.38,23.24,13.3,28.11,18.07,16.86,15.75,13.25,11.48,25.73,27.9,15.34,14.98,11.17,19.56,15.14,16.77,11.52,16.41,14.2,15.2,19.59,12.08,12.36,24.47,10.51,15.33,31.01,24.22,15.75,22.51,14.85,13.2,12.58,15.01,21.65,11.48,13.94,14.39,12.25,12.65,25.58,12.97,25.28,19.85,25.7,16.39,25.05,17.73,19.85,18.49,24.33,19.85,20.39,17.91,21.58,32.49,11.88,14.8,13.9,11.69,14.91,12.32,28.19,10.75,20.92,12.4,12.2,19.96,15.5,14.98,23.72,13.31,23.79,18.55,13.9,13.5,13.24,13.62,11.86,12.36,15.77,16.25,13.74,13.06,13.5,14.67,11.37,13.36,16.22,10.93,25.93,13.46,23.68,11.06,12.68,12.44,14.41,9.699,14.97,14.73,12.61,16.46,14.19,12.34,8.952,13.34,12.85,21.84,10.06,12.9,11.28,23.06,14.04,25.3,13.75,13.71,15.53,13.07,19.28,17.73,18.76,14.42,11.98,12.76,13.35,20.99,13.72,24.54,11.16,30.67,16.67,10.75,11.92,22.75,13.06,10.88,13.64,17.27,12.51,12.81,13.28,17.36,33.13,18.51,12.12,13.37,14.19,15.11,9.981,12.02,13.72,14.2,13.75,18.13,14.73,24.31,24.19,14.29,30.75,27.66,19.38,16.2,22.69,25.37,14.84,16.97,10.85,14.69,14.54,13.24,12.84,12.09,12.57,14.18,14.24,15.79,13.13,15.51,12.04,20.82,11.38,10.17,21.2,26.23,13.56,14.92,14.8,13.74,12.68,13.45,20.8,13.8,14.13,13.86,13.18,12.4,17.71,14.4,21.08,14.1,13.05,12.41,9.965,16.76,17.26,13.05,10.85,23.17,13.65,12.36,13.07,16.46,12.64,15.14,11.21,11.11,12.13,12.76,11.68,13.82,16.35,12.88,22.03,22.66,16.31,17.04,14.45,15.66,15.63,14.91,12.36,20.38,15.27,10.94,20.38,12.98,21.53,16.43,16.3,25.68,12.79,21.44,13.09,15.8,14.34,15.05,13.12,14.35,14.34,10.67,22.96,36.04,15.4,12.77,14.9,15.44,14.8,11.15,21.57,13.36,11.14,13.6,17.18,13.45,11.94,14.09,16.45,15.14,12.4,17.39,13.34,16.41,14.83,14.96,17.01,13.78,16.46,23.96,13.32,19.18,14.17,19.82,21.53,13.19,14.5,16.01,14.38,14.06,22.75,23.86,16.76,16.01,13.57,30.79,10.28,10.6,13.16,11.69,17.32,17.11,12.45,15.61,16.41,16.76,17.58,12.47,21.86,23.73,15.05,14.45,10.57,29.92,11.93,15.11,11.24,9.473,15.35,13.61,14.62,13.45,13.5,13.35,15.85,23.23,11.62,24.3,15.29,12.98,9.077,8.678,12.26,16.22,16.51,14.37,15.05,15.35,11.25,10.83,10.93,13.03,11.66,12.02,13.87,9.845,13.89,10.84,10.65,10.49,15.48,12.48,15.3,11.92,17.52,24.29,25.45,23.69,18.98,25.74,9.456],\"yaxis\":\"y\",\"type\":\"scatter\"},{\"hovertemplate\":\"<b>OLS trendline</b><br>radius_worst = 0.283031 * texture_worst + 9.00173<br>R<sup>2</sup>=0.129543<br><br>texture_worst=%{x}<br>radius_worst=%{y} <b>(trend)</b><extra></extra>\",\"legendgroup\":\"Overall Trendline\",\"line\":{\"color\":\"#EF553B\"},\"mode\":\"lines\",\"name\":\"Overall Trendline\",\"showlegend\":true,\"x\":[12.02,12.49,12.87,14.1,14.2,14.82,15.38,15.4,15.54,15.64,15.65,15.66,15.67,15.73,15.77,15.77,15.82,15.92,15.97,15.98,16.15,16.18,16.3,16.35,16.36,16.38,16.4,16.47,16.51,16.67,16.82,16.85,16.9,16.91,16.92,16.93,16.93,16.94,17.04,17.04,17.07,17.13,17.16,17.24,17.33,17.37,17.4,17.45,17.48,17.5,17.58,17.6,17.7,17.7,17.7,17.72,17.76,17.81,17.81,17.84,17.93,18.0,18.04,18.16,18.2,18.22,18.24,18.26,18.32,18.33,18.34,18.41,18.42,18.45,18.47,18.91,18.93,18.99,18.99,19.05,19.08,19.14,19.16,19.2,19.23,19.25,19.26,19.27,19.29,19.31,19.31,19.35,19.35,19.48,19.49,19.52,19.54,19.58,19.59,19.62,19.64,19.67,19.68,19.69,19.71,19.74,19.76,19.8,19.85,19.9,19.93,19.97,20.07,20.14,20.2,20.21,20.21,20.24,20.29,20.35,20.37,20.43,20.45,20.49,20.5,20.53,20.54,20.61,20.65,20.7,20.72,20.74,20.79,20.83,20.83,20.86,20.88,20.92,20.96,20.98,21.03,21.06,21.08,21.1,21.18,21.19,21.32,21.33,21.38,21.39,21.4,21.4,21.43,21.47,21.51,21.57,21.58,21.59,21.61,21.7,21.74,21.74,21.75,21.77,21.8,21.82,21.84,21.9,21.95,21.96,21.98,22.0,22.02,22.02,22.04,22.06,22.07,22.13,22.15,22.15,22.25,22.25,22.33,22.35,22.4,22.43,22.44,22.46,22.46,22.47,22.65,22.66,22.74,22.75,22.75,22.8,22.81,22.82,22.84,22.88,22.88,22.91,22.94,22.99,23.0,23.02,23.03,23.03,23.05,23.07,23.07,23.08,23.13,23.17,23.17,23.19,23.19,23.21,23.22,23.31,23.31,23.39,23.4,23.41,23.5,23.53,23.58,23.58,23.6,23.64,23.73,23.75,23.84,23.87,23.89,23.99,24.02,24.04,24.11,24.13,24.17,24.17,24.22,24.23,24.3,24.34,24.37,24.38,24.39,24.47,24.49,24.54,24.56,24.57,24.61,24.62,24.64,24.7,24.75,24.77,24.82,24.85,24.89,24.9,24.9,24.99,25.0,25.02,25.05,25.05,25.07,25.09,25.09,25.11,25.16,25.2,25.21,25.21,25.22,25.23,25.26,25.27,25.34,25.4,25.41,25.44,25.45,25.46,25.47,25.47,25.48,25.48,25.5,25.5,25.53,25.58,25.58,25.59,25.59,25.62,25.63,25.72,25.73,25.75,25.78,25.8,25.8,25.82,25.84,25.84,25.94,25.99,26.0,26.02,26.06,26.1,26.14,26.15,26.17,26.19,26.2,26.21,26.24,26.29,26.3,26.34,26.36,26.37,26.38,26.39,26.4,26.42,26.43,26.44,26.44,26.48,26.5,26.51,26.55,26.56,26.58,26.76,26.83,26.84,26.87,26.93,26.93,26.98,27.0,27.01,27.04,27.06,27.1,27.15,27.2,27.21,27.24,27.26,27.26,27.26,27.27,27.28,27.29,27.37,27.49,27.57,27.65,27.66,27.66,27.68,27.78,27.78,27.82,27.83,27.84,27.87,27.95,27.96,27.98,27.99,28.0,28.01,28.01,28.03,28.06,28.07,28.07,28.12,28.14,28.14,28.18,28.18,28.22,28.26,28.36,28.39,28.45,28.46,28.46,28.48,28.64,28.65,28.68,28.71,28.74,28.81,28.87,28.88,28.92,28.94,29.02,29.02,29.09,29.11,29.15,29.16,29.2,29.25,29.26,29.33,29.41,29.41,29.43,29.46,29.51,29.66,29.72,29.87,29.89,29.94,30.04,30.12,30.15,30.25,30.28,30.29,30.36,30.36,30.37,30.38,30.39,30.41,30.44,30.5,30.5,30.53,30.7,30.73,30.73,30.76,30.8,30.86,30.88,30.88,30.9,30.92,30.93,30.96,31.03,31.24,31.31,31.37,31.39,31.45,31.47,31.48,31.55,31.56,31.56,31.59,31.62,31.64,31.67,31.68,31.69,31.71,31.72,31.73,31.82,31.86,31.88,31.89,31.98,31.99,32.01,32.04,32.06,32.07,32.09,32.16,32.19,32.29,32.33,32.68,32.72,32.82,32.82,32.84,32.85,32.94,33.15,33.17,33.17,33.21,33.22,33.33,33.37,33.39,33.47,33.48,33.58,33.62,33.75,33.81,33.82,33.88,34.01,34.01,34.12,34.23,34.24,34.27,34.37,34.49,34.51,34.66,34.69,34.85,34.91,35.19,35.27,35.34,35.46,35.59,35.63,35.64,35.74,35.9,36.0,36.27,36.32,36.33,36.71,36.91,36.92,37.13,37.16,37.17,37.18,37.38,37.88,38.05,38.25,38.3,38.54,38.81,39.16,39.34,39.42,40.54,40.68,41.61,41.78,41.85,42.79,44.87,45.41,47.16,49.54],\"y\":[12.403766682087213,12.536791444305706,12.644343379716403,12.99247201275629,13.020775153653842,13.196254627218664,13.354752216244954,13.360412844424463,13.400037241681035,13.428340382578588,13.431170696668342,13.434001010758099,13.436831324847853,13.453813209386386,13.465134465745404,13.465134465745404,13.479286036194182,13.507589177091733,13.521740747540509,13.524571061630265,13.572686401156101,13.581177343425367,13.61514111250243,13.629292682951206,13.63212299704096,13.637783625220472,13.64344425339998,13.663256452028268,13.67457770838729,13.719862733823373,13.7623174451697,13.770808387438965,13.78495995788774,13.787790271977496,13.790620586067252,13.793450900157005,13.793450900157005,13.796281214246761,13.824584355144314,13.824584355144314,13.833075297413579,13.85005718195211,13.858548124221375,13.881190636939415,13.906663463747213,13.917984720106233,13.926475662375498,13.940627232824276,13.949118175093542,13.95477880327305,13.977421315991092,13.983081944170603,14.011385085068156,14.011385085068156,14.011385085068156,14.017045713247665,14.028366969606687,14.042518540055461,14.042518540055461,14.051009482324726,14.076482309132523,14.09629450776081,14.107615764119831,14.141579533196893,14.152900789555915,14.158561417735424,14.164222045914933,14.169882674094445,14.186864558632976,14.18969487272273,14.192525186812485,14.212337385440772,14.215167699530529,14.223658641799794,14.229319269979303,14.353853089928531,14.359513718108042,14.376495602646573,14.376495602646573,14.393477487185105,14.401968429454369,14.418950313992902,14.42461094217241,14.435932198531432,14.444423140800698,14.450083768980207,14.452914083069963,14.455744397159718,14.461405025339229,14.467065653518738,14.467065653518738,14.47838690987776,14.47838690987776,14.515180993044577,14.518011307134332,14.526502249403597,14.532162877583108,14.543484133942128,14.546314448031882,14.55480539030115,14.56046601848066,14.568956960749926,14.57178727483968,14.574617588929435,14.580278217108946,14.588769159378211,14.594429787557722,14.605751043916744,14.619902614365518,14.634054184814293,14.64254512708356,14.65386638344258,14.682169524340132,14.70198172296842,14.71896360750695,14.721793921596705,14.721793921596705,14.73028486386597,14.744436434314746,14.761418318853277,14.767078947032788,14.784060831571319,14.78972145975083,14.80104271610985,14.803873030199604,14.812363972468871,14.815194286558626,14.835006485186913,14.846327741545933,14.860479311994709,14.866139940174218,14.871800568353729,14.885952138802505,14.897273395161525,14.897273395161525,14.905764337430792,14.911424965610301,14.922746221969323,14.934067478328345,14.939728106507854,14.95387967695663,14.962370619225894,14.968031247405404,14.973691875584915,14.996334388302957,14.999164702392711,15.03595878555953,15.038789099649286,15.05294067009806,15.055770984187816,15.058601298277571,15.058601298277571,15.067092240546836,15.078413496905856,15.089734753264878,15.106716637803409,15.109546951893165,15.11237726598292,15.11803789416243,15.143510720970227,15.154831977329247,15.154831977329247,15.157662291419001,15.163322919598514,15.17181386186778,15.177474490047288,15.183135118226799,15.20011700276533,15.214268573214106,15.217098887303862,15.222759515483371,15.228420143662882,15.234080771842393,15.234080771842393,15.239741400021902,15.245402028201411,15.248232342291168,15.265214226829698,15.27087485500921,15.27087485500921,15.299177995906762,15.299177995906762,15.321820508624803,15.327481136804312,15.341632707253089,15.350123649522354,15.35295396361211,15.358614591791621,15.358614591791621,15.361444905881374,15.412390559496968,15.415220873586723,15.437863386304764,15.44069370039452,15.44069370039452,15.454845270843297,15.457675584933051,15.460505899022806,15.466166527202317,15.477487783561337,15.477487783561337,15.485978725830602,15.49446966809987,15.508621238548645,15.5114515526384,15.51711218081791,15.519942494907665,15.519942494907665,15.525603123087176,15.531263751266685,15.531263751266685,15.534094065356442,15.548245635805216,15.559566892164238,15.559566892164238,15.565227520343749,15.565227520343749,15.57088814852326,15.573718462613012,15.59919128942081,15.59919128942081,15.621833802138852,15.624664116228606,15.627494430318361,15.652967257126159,15.661458199395424,15.6756097698442,15.6756097698442,15.681270398023711,15.692591654382731,15.718064481190527,15.723725109370038,15.749197936177834,15.757688878447102,15.76334950662661,15.791652647524163,15.800143589793429,15.805804217972938,15.825616416601225,15.831277044780734,15.842598301139756,15.842598301139756,15.856749871588532,15.859580185678286,15.879392384306573,15.890713640665595,15.89920458293486,15.902034897024613,15.90486521111437,15.927507723832411,15.933168352011922,15.947319922460697,15.952980550640207,15.955810864729962,15.967132121088984,15.96996243517874,15.975623063358249,15.99260494789678,16.006756518345554,16.012417146525067,16.02656871697384,16.03505965924311,16.04638091560213,16.049211229691885,16.049211229691885,16.07468405649968,16.077514370589434,16.083174998768946,16.09166594103821,16.09166594103821,16.09732656921772,16.102987197397233,16.102987197397233,16.108647825576742,16.12279939602552,16.13412065238454,16.136950966474295,16.136950966474295,16.13978128056405,16.142611594653804,16.15110253692307,16.153932851012826,16.173745049641113,16.190726934179644,16.1935572482694,16.20204819053866,16.204878504628418,16.207708818718174,16.21053913280793,16.21053913280793,16.213369446897683,16.213369446897683,16.219030075077193,16.219030075077193,16.22752101734646,16.241672587795236,16.241672587795236,16.244502901884992,16.244502901884992,16.252993844154258,16.25582415824401,16.28129698505181,16.284127299141563,16.289787927321072,16.29827886959034,16.30393949776985,16.30393949776985,16.30960012594936,16.31526075412887,16.31526075412887,16.343563895026424,16.3577154654752,16.36054577956495,16.366206407744464,16.377527664103482,16.388848920462507,16.400170176821526,16.403000490911282,16.40866111909079,16.414321747270304,16.417152061360056,16.419982375449813,16.428473317719078,16.442624888167853,16.44545520225761,16.45677645861663,16.46243708679614,16.465267400885896,16.46809771497565,16.470928029065405,16.47375834315516,16.47941897133467,16.482249285424427,16.485079599514183,16.485079599514183,16.4964008558732,16.502061484052714,16.504891798142467,16.51621305450149,16.519043368591245,16.524703996770754,16.575649650386346,16.595461849014633,16.59829216310439,16.606783105373655,16.623764989912186,16.623764989912186,16.63791656036096,16.643577188540473,16.646407502630225,16.65489844489949,16.660559073079003,16.671880329438025,16.6860318998868,16.700183470335574,16.70301378442533,16.711504726694596,16.717165354874105,16.717165354874105,16.717165354874105,16.71999566896386,16.722825983053617,16.72565629714337,16.748298809861414,16.782262578938475,16.804905091656515,16.82754760437456,16.830377918464315,16.830377918464315,16.836038546643824,16.864341687541376,16.864341687541376,16.875662943900394,16.87849325799015,16.881323572079907,16.889814514349172,16.912457027067212,16.91528734115697,16.92094796933648,16.923778283426234,16.92660859751599,16.929438911605743,16.929438911605743,16.935099539785256,16.94359048205452,16.946420796144274,16.946420796144274,16.960572366593052,16.96623299477256,16.96623299477256,16.977554251131583,16.977554251131583,16.988875507490604,17.000196763849623,17.028499904747175,17.03699084701644,17.05397273155497,17.056803045644727,17.056803045644727,17.06246367382424,17.10774869926032,17.110579013350076,17.11906995561934,17.127560897888607,17.136051840157872,17.15586403878616,17.17284592332469,17.175676237414443,17.186997493773468,17.192658121952977,17.215300634671017,17.215300634671017,17.235112833299304,17.240773461478817,17.252094717837835,17.25492503192759,17.26624628828661,17.280397858735387,17.28322817282514,17.303040371453427,17.32568288417147,17.32568288417147,17.33134351235098,17.339834454620245,17.35398602506902,17.39644073641535,17.41342262095388,17.455877332300208,17.461537960479717,17.475689530928495,17.503992671826047,17.526635184544087,17.535126126813353,17.563429267710905,17.57192020998017,17.574750524069927,17.594562722698214,17.594562722698214,17.597393036787967,17.60022335087772,17.603053664967476,17.60871429314699,17.617205235416254,17.634187119954785,17.634187119954785,17.64267806222405,17.690793401749886,17.699284344019155,17.699284344019155,17.707775286288417,17.719096542647442,17.736078427185973,17.74173905536548,17.74173905536548,17.74739968354499,17.753060311724504,17.755890625814256,17.76438156808352,17.78419376671181,17.843630362596667,17.863442561224954,17.880424445763484,17.886085073942994,17.903066958481524,17.908727586661037,17.911557900750793,17.93137009937908,17.934200413468833,17.934200413468833,17.9426913557381,17.951182298007364,17.956842926186873,17.965333868456142,17.968164182545895,17.97099449663565,17.97665512481516,17.979485438904916,17.982315752994673,18.00778857980247,18.01910983616149,18.024770464341,18.027600778430752,18.053073605238552,18.055903919328305,18.061564547507814,18.070055489777083,18.075716117956595,18.07854643204635,18.084207060225857,18.104019258854144,18.11251020112341,18.140813342020962,18.15213459837998,18.251195591521416,18.262516847880434,18.290819988777987,18.290819988777987,18.296480616957496,18.299310931047252,18.324783757855048,18.384220353739906,18.38988098191942,18.38988098191942,18.401202238278437,18.404032552368193,18.435166007355498,18.44648726371452,18.45214789189403,18.474790404612072,18.47762071870183,18.505923859599378,18.5172451159584,18.554039199125217,18.57102108366375,18.573851397753504,18.590833282292035,18.62762736545885,18.62762736545885,18.658760820446158,18.689894275433467,18.692724589523223,18.70121553179249,18.729518672690038,18.763482441767103,18.769143069946608,18.81159778129294,18.820088723562204,18.865373748998287,18.882355633536818,18.961604428049963,18.984246940768006,19.00405913939629,19.03802290847335,19.07481699164017,19.086138247999195,19.088968562088947,19.1172717029865,19.16255672842258,19.190859869320132,19.267278349743524,19.2814299201923,19.28426023428205,19.39181216969275,19.448418451487854,19.45124876557761,19.51068536146247,19.519176303731733,19.52200661782149,19.524836931911246,19.58144321370635,19.72295891819411,19.771074257719945,19.82768053951505,19.841832109963825,19.909759648117948,19.98617812854134,20.08523912168277,20.136184775298364,20.158827288016404,20.475822466068983,20.515446863325558,20.778666073672788,20.826781413198624,20.84659361182691,21.112643136263898,21.701348466932977,21.854185427779754,22.34949039348691,23.023105146848643],\"type\":\"scatter\",\"xaxis\":\"x\",\"yaxis\":\"y\"}],                        {\"template\":{\"data\":{\"bar\":[{\"error_x\":{\"color\":\"#2a3f5f\"},\"error_y\":{\"color\":\"#2a3f5f\"},\"marker\":{\"line\":{\"color\":\"#E5ECF6\",\"width\":0.5},\"pattern\":{\"fillmode\":\"overlay\",\"size\":10,\"solidity\":0.2}},\"type\":\"bar\"}],\"barpolar\":[{\"marker\":{\"line\":{\"color\":\"#E5ECF6\",\"width\":0.5},\"pattern\":{\"fillmode\":\"overlay\",\"size\":10,\"solidity\":0.2}},\"type\":\"barpolar\"}],\"carpet\":[{\"aaxis\":{\"endlinecolor\":\"#2a3f5f\",\"gridcolor\":\"white\",\"linecolor\":\"white\",\"minorgridcolor\":\"white\",\"startlinecolor\":\"#2a3f5f\"},\"baxis\":{\"endlinecolor\":\"#2a3f5f\",\"gridcolor\":\"white\",\"linecolor\":\"white\",\"minorgridcolor\":\"white\",\"startlinecolor\":\"#2a3f5f\"},\"type\":\"carpet\"}],\"choropleth\":[{\"colorbar\":{\"outlinewidth\":0,\"ticks\":\"\"},\"type\":\"choropleth\"}],\"contour\":[{\"colorbar\":{\"outlinewidth\":0,\"ticks\":\"\"},\"colorscale\":[[0.0,\"#0d0887\"],[0.1111111111111111,\"#46039f\"],[0.2222222222222222,\"#7201a8\"],[0.3333333333333333,\"#9c179e\"],[0.4444444444444444,\"#bd3786\"],[0.5555555555555556,\"#d8576b\"],[0.6666666666666666,\"#ed7953\"],[0.7777777777777778,\"#fb9f3a\"],[0.8888888888888888,\"#fdca26\"],[1.0,\"#f0f921\"]],\"type\":\"contour\"}],\"contourcarpet\":[{\"colorbar\":{\"outlinewidth\":0,\"ticks\":\"\"},\"type\":\"contourcarpet\"}],\"heatmap\":[{\"colorbar\":{\"outlinewidth\":0,\"ticks\":\"\"},\"colorscale\":[[0.0,\"#0d0887\"],[0.1111111111111111,\"#46039f\"],[0.2222222222222222,\"#7201a8\"],[0.3333333333333333,\"#9c179e\"],[0.4444444444444444,\"#bd3786\"],[0.5555555555555556,\"#d8576b\"],[0.6666666666666666,\"#ed7953\"],[0.7777777777777778,\"#fb9f3a\"],[0.8888888888888888,\"#fdca26\"],[1.0,\"#f0f921\"]],\"type\":\"heatmap\"}],\"heatmapgl\":[{\"colorbar\":{\"outlinewidth\":0,\"ticks\":\"\"},\"colorscale\":[[0.0,\"#0d0887\"],[0.1111111111111111,\"#46039f\"],[0.2222222222222222,\"#7201a8\"],[0.3333333333333333,\"#9c179e\"],[0.4444444444444444,\"#bd3786\"],[0.5555555555555556,\"#d8576b\"],[0.6666666666666666,\"#ed7953\"],[0.7777777777777778,\"#fb9f3a\"],[0.8888888888888888,\"#fdca26\"],[1.0,\"#f0f921\"]],\"type\":\"heatmapgl\"}],\"histogram\":[{\"marker\":{\"pattern\":{\"fillmode\":\"overlay\",\"size\":10,\"solidity\":0.2}},\"type\":\"histogram\"}],\"histogram2d\":[{\"colorbar\":{\"outlinewidth\":0,\"ticks\":\"\"},\"colorscale\":[[0.0,\"#0d0887\"],[0.1111111111111111,\"#46039f\"],[0.2222222222222222,\"#7201a8\"],[0.3333333333333333,\"#9c179e\"],[0.4444444444444444,\"#bd3786\"],[0.5555555555555556,\"#d8576b\"],[0.6666666666666666,\"#ed7953\"],[0.7777777777777778,\"#fb9f3a\"],[0.8888888888888888,\"#fdca26\"],[1.0,\"#f0f921\"]],\"type\":\"histogram2d\"}],\"histogram2dcontour\":[{\"colorbar\":{\"outlinewidth\":0,\"ticks\":\"\"},\"colorscale\":[[0.0,\"#0d0887\"],[0.1111111111111111,\"#46039f\"],[0.2222222222222222,\"#7201a8\"],[0.3333333333333333,\"#9c179e\"],[0.4444444444444444,\"#bd3786\"],[0.5555555555555556,\"#d8576b\"],[0.6666666666666666,\"#ed7953\"],[0.7777777777777778,\"#fb9f3a\"],[0.8888888888888888,\"#fdca26\"],[1.0,\"#f0f921\"]],\"type\":\"histogram2dcontour\"}],\"mesh3d\":[{\"colorbar\":{\"outlinewidth\":0,\"ticks\":\"\"},\"type\":\"mesh3d\"}],\"parcoords\":[{\"line\":{\"colorbar\":{\"outlinewidth\":0,\"ticks\":\"\"}},\"type\":\"parcoords\"}],\"pie\":[{\"automargin\":true,\"type\":\"pie\"}],\"scatter\":[{\"marker\":{\"colorbar\":{\"outlinewidth\":0,\"ticks\":\"\"}},\"type\":\"scatter\"}],\"scatter3d\":[{\"line\":{\"colorbar\":{\"outlinewidth\":0,\"ticks\":\"\"}},\"marker\":{\"colorbar\":{\"outlinewidth\":0,\"ticks\":\"\"}},\"type\":\"scatter3d\"}],\"scattercarpet\":[{\"marker\":{\"colorbar\":{\"outlinewidth\":0,\"ticks\":\"\"}},\"type\":\"scattercarpet\"}],\"scattergeo\":[{\"marker\":{\"colorbar\":{\"outlinewidth\":0,\"ticks\":\"\"}},\"type\":\"scattergeo\"}],\"scattergl\":[{\"marker\":{\"colorbar\":{\"outlinewidth\":0,\"ticks\":\"\"}},\"type\":\"scattergl\"}],\"scattermapbox\":[{\"marker\":{\"colorbar\":{\"outlinewidth\":0,\"ticks\":\"\"}},\"type\":\"scattermapbox\"}],\"scatterpolar\":[{\"marker\":{\"colorbar\":{\"outlinewidth\":0,\"ticks\":\"\"}},\"type\":\"scatterpolar\"}],\"scatterpolargl\":[{\"marker\":{\"colorbar\":{\"outlinewidth\":0,\"ticks\":\"\"}},\"type\":\"scatterpolargl\"}],\"scatterternary\":[{\"marker\":{\"colorbar\":{\"outlinewidth\":0,\"ticks\":\"\"}},\"type\":\"scatterternary\"}],\"surface\":[{\"colorbar\":{\"outlinewidth\":0,\"ticks\":\"\"},\"colorscale\":[[0.0,\"#0d0887\"],[0.1111111111111111,\"#46039f\"],[0.2222222222222222,\"#7201a8\"],[0.3333333333333333,\"#9c179e\"],[0.4444444444444444,\"#bd3786\"],[0.5555555555555556,\"#d8576b\"],[0.6666666666666666,\"#ed7953\"],[0.7777777777777778,\"#fb9f3a\"],[0.8888888888888888,\"#fdca26\"],[1.0,\"#f0f921\"]],\"type\":\"surface\"}],\"table\":[{\"cells\":{\"fill\":{\"color\":\"#EBF0F8\"},\"line\":{\"color\":\"white\"}},\"header\":{\"fill\":{\"color\":\"#C8D4E3\"},\"line\":{\"color\":\"white\"}},\"type\":\"table\"}]},\"layout\":{\"annotationdefaults\":{\"arrowcolor\":\"#2a3f5f\",\"arrowhead\":0,\"arrowwidth\":1},\"autotypenumbers\":\"strict\",\"coloraxis\":{\"colorbar\":{\"outlinewidth\":0,\"ticks\":\"\"}},\"colorscale\":{\"diverging\":[[0,\"#8e0152\"],[0.1,\"#c51b7d\"],[0.2,\"#de77ae\"],[0.3,\"#f1b6da\"],[0.4,\"#fde0ef\"],[0.5,\"#f7f7f7\"],[0.6,\"#e6f5d0\"],[0.7,\"#b8e186\"],[0.8,\"#7fbc41\"],[0.9,\"#4d9221\"],[1,\"#276419\"]],\"sequential\":[[0.0,\"#0d0887\"],[0.1111111111111111,\"#46039f\"],[0.2222222222222222,\"#7201a8\"],[0.3333333333333333,\"#9c179e\"],[0.4444444444444444,\"#bd3786\"],[0.5555555555555556,\"#d8576b\"],[0.6666666666666666,\"#ed7953\"],[0.7777777777777778,\"#fb9f3a\"],[0.8888888888888888,\"#fdca26\"],[1.0,\"#f0f921\"]],\"sequentialminus\":[[0.0,\"#0d0887\"],[0.1111111111111111,\"#46039f\"],[0.2222222222222222,\"#7201a8\"],[0.3333333333333333,\"#9c179e\"],[0.4444444444444444,\"#bd3786\"],[0.5555555555555556,\"#d8576b\"],[0.6666666666666666,\"#ed7953\"],[0.7777777777777778,\"#fb9f3a\"],[0.8888888888888888,\"#fdca26\"],[1.0,\"#f0f921\"]]},\"colorway\":[\"#636efa\",\"#EF553B\",\"#00cc96\",\"#ab63fa\",\"#FFA15A\",\"#19d3f3\",\"#FF6692\",\"#B6E880\",\"#FF97FF\",\"#FECB52\"],\"font\":{\"color\":\"#2a3f5f\"},\"geo\":{\"bgcolor\":\"white\",\"lakecolor\":\"white\",\"landcolor\":\"#E5ECF6\",\"showlakes\":true,\"showland\":true,\"subunitcolor\":\"white\"},\"hoverlabel\":{\"align\":\"left\"},\"hovermode\":\"closest\",\"mapbox\":{\"style\":\"light\"},\"paper_bgcolor\":\"white\",\"plot_bgcolor\":\"#E5ECF6\",\"polar\":{\"angularaxis\":{\"gridcolor\":\"white\",\"linecolor\":\"white\",\"ticks\":\"\"},\"bgcolor\":\"#E5ECF6\",\"radialaxis\":{\"gridcolor\":\"white\",\"linecolor\":\"white\",\"ticks\":\"\"}},\"scene\":{\"xaxis\":{\"backgroundcolor\":\"#E5ECF6\",\"gridcolor\":\"white\",\"gridwidth\":2,\"linecolor\":\"white\",\"showbackground\":true,\"ticks\":\"\",\"zerolinecolor\":\"white\"},\"yaxis\":{\"backgroundcolor\":\"#E5ECF6\",\"gridcolor\":\"white\",\"gridwidth\":2,\"linecolor\":\"white\",\"showbackground\":true,\"ticks\":\"\",\"zerolinecolor\":\"white\"},\"zaxis\":{\"backgroundcolor\":\"#E5ECF6\",\"gridcolor\":\"white\",\"gridwidth\":2,\"linecolor\":\"white\",\"showbackground\":true,\"ticks\":\"\",\"zerolinecolor\":\"white\"}},\"shapedefaults\":{\"line\":{\"color\":\"#2a3f5f\"}},\"ternary\":{\"aaxis\":{\"gridcolor\":\"white\",\"linecolor\":\"white\",\"ticks\":\"\"},\"baxis\":{\"gridcolor\":\"white\",\"linecolor\":\"white\",\"ticks\":\"\"},\"bgcolor\":\"#E5ECF6\",\"caxis\":{\"gridcolor\":\"white\",\"linecolor\":\"white\",\"ticks\":\"\"}},\"title\":{\"x\":0.05},\"xaxis\":{\"automargin\":true,\"gridcolor\":\"white\",\"linecolor\":\"white\",\"ticks\":\"\",\"title\":{\"standoff\":15},\"zerolinecolor\":\"white\",\"zerolinewidth\":2},\"yaxis\":{\"automargin\":true,\"gridcolor\":\"white\",\"linecolor\":\"white\",\"ticks\":\"\",\"title\":{\"standoff\":15},\"zerolinecolor\":\"white\",\"zerolinewidth\":2}}},\"xaxis\":{\"anchor\":\"y\",\"domain\":[0.0,1.0],\"title\":{\"text\":\"texture_worst\"}},\"yaxis\":{\"anchor\":\"x\",\"domain\":[0.0,1.0],\"title\":{\"text\":\"radius_worst\"}},\"legend\":{\"tracegroupgap\":0},\"margin\":{\"t\":60}},                        {\"responsive\": true}                    ).then(function(){\n",
              "                            \n",
              "var gd = document.getElementById('9497d541-9144-4202-b2c7-4bfb3f63a055');\n",
              "var x = new MutationObserver(function (mutations, observer) {{\n",
              "        var display = window.getComputedStyle(gd).display;\n",
              "        if (!display || display === 'none') {{\n",
              "            console.log([gd, 'removed!']);\n",
              "            Plotly.purge(gd);\n",
              "            observer.disconnect();\n",
              "        }}\n",
              "}});\n",
              "\n",
              "// Listen for the removal of the full notebook cells\n",
              "var notebookContainer = gd.closest('#notebook-container');\n",
              "if (notebookContainer) {{\n",
              "    x.observe(notebookContainer, {childList: true});\n",
              "}}\n",
              "\n",
              "// Listen for the clearing of the current output cell\n",
              "var outputEl = gd.closest('.output');\n",
              "if (outputEl) {{\n",
              "    x.observe(outputEl, {childList: true});\n",
              "}}\n",
              "\n",
              "                        })                };                            </script>        </div>\n",
              "</body>\n",
              "</html>"
            ]
          },
          "metadata": {}
        }
      ]
    },
    {
      "cell_type": "markdown",
      "source": [
        "Graghing texture_worst and radius_worst togethor on a scatter plot with a overall trend line, we see a positive correlation peaking through. This shows that there is indeed a distinct relationship between these two variables in general, which then carries over into the principal components."
      ],
      "metadata": {
        "id": "mziSYObPnz8n"
      }
    },
    {
      "cell_type": "markdown",
      "source": [
        "#Breast Cancer data analysis 2"
      ],
      "metadata": {
        "id": "3Dti09Xm9lyw"
      }
    },
    {
      "cell_type": "markdown",
      "source": [
        " Since this data is so cool, let us do some further PCA analysis on more subsetted data. This time on the worst or largest radius, texture, perimeter, area, and smoothness. Also the standard error on concave points, symmetry, and fractal dimension."
      ],
      "metadata": {
        "id": "fVCJDGsynBK_"
      }
    },
    {
      "cell_type": "code",
      "source": [
        "pca = PCA(n_components=2)\n",
        "X = df5.loc[:, ['concave points_se', 'symmetry_se',\n",
        "       'fractal_dimension_se', 'radius_worst', 'texture_worst',\n",
        "       'perimeter_worst', 'area_worst', 'smoothness_worst']]\n",
        "components_b = pca.fit_transform(X)\n",
        "#print(pca.explained_variance_ratio_)\n",
        "#print(pca.feature_names_in_)\n",
        "\n",
        "pca2 = PCA(svd_solver='auto', whiten=True)\n",
        "pca2.fit(X)\n",
        "\n",
        "#print(pca.components_)\n",
        "#print(sum(pca.components_[0][0:6]))\n",
        "#print(sum(pca.components_[1][0:6]))\n",
        "#print(sum(pca.components_[0][0:6]) + sum(pca.components_[1][0:6]))\n",
        "#print(sum(pca.explained_variance_ratio_))\n",
        "\n",
        "#Print the PC percentages\n",
        "print(\"Principle Components\")\n",
        "print(\"PC1: \" + str(round(pca.explained_variance_ratio_[0] * 100, 2)) + \"%\")\n",
        "print(\"PC2: \" + str(round(pca.explained_variance_ratio_[1] * 100, 2)) + \"%\\n\")\n",
        "\n",
        "\n",
        "squares1 = [1, 2, 3, 4, 5, 6, 7, 8]\n",
        "i = 0\n",
        "for x in pca.components_[0]:\n",
        "  squares1[i] = x * x\n",
        "  i += 1\n",
        "\n",
        "squares2 = [1, 2, 3, 4, 5, 6, 7, 8]\n",
        "i = 0\n",
        "for x in pca.components_[1]:\n",
        "  squares2[i] = x * x\n",
        "  i += 1\n",
        "\n",
        "#print(sum(squares1))\n",
        "#print(squares1)\n",
        "\n",
        "#Print the feature percentages\n",
        "\n",
        "\n",
        "\n",
        "print(\"Feature percentages in PC1\")\n",
        "print(\"concave points_se: \" + str(round(squares1[0] * 100, 2)) + \"%\")\n",
        "print(\"symmetry_se: \" + str(round(squares1[1] * 100, 2)) + \"%\")\n",
        "print(\"fractal_dimension_se: \" + str(round(squares1[2] * 100, 2)) + \"%\")\n",
        "print(\"radius_worst: \" + str(round(squares1[3] * 100, 2)) + \"%\")\n",
        "print(\"texture_worst: \" + str(round(squares1[4] * 100, 2)) + \"%\")\n",
        "print(\"perimeter_worst: \" + str(round(squares1[5] * 100, 2)) + \"%\")\n",
        "print(\"area_worst: \" + str(round(squares1[6] * 100, 2)) + \"%\")\n",
        "print(\"smoothness_worst: \" + str(round(squares1[7] * 100, 2)) + \"%\\n\")\n",
        "\n",
        "print(\"Feature percentages in PC2\")\n",
        "print(\"concave points_se: \" + str(round(squares2[0] * 100, 2)) + \"%\")\n",
        "print(\"symmetry_se: \" + str(round(squares2[1] * 100, 2)) + \"%\")\n",
        "print(\"fractal_dimension_se: \" + str(round(squares2[2] * 100, 2)) + \"%\")\n",
        "print(\"radius_worst: \" + str(round(squares2[3] * 100, 2)) + \"%\")\n",
        "print(\"texture_worst: \" + str(round(squares2[4] * 100, 2)) + \"%\")\n",
        "print(\"perimeter_worst: \" + str(round(squares2[5] * 100, 2)) + \"%\")\n",
        "print(\"area_worst: \" + str(round(squares2[6] * 100, 2)) + \"%\")\n",
        "print(\"smoothness_worst: \" + str(round(squares2[7] * 100, 2)) + \"%\")\n",
        "\n",
        "features = ['concave points_se', 'symmetry_se',\n",
        "       'fractal_dimension_se', 'radius_worst', 'texture_worst',\n",
        "       'perimeter_worst', 'area_worst', 'smoothness_worst']\n",
        "X = df5[features]\n",
        "\n",
        "\n",
        "loadings = pca.components_.T * np.sqrt(pca.explained_variance_)\n",
        "#fig = px.scatter(components_5, x=0, y=1)\n",
        "total_var = pca.explained_variance_ratio_.sum() * 100\n",
        "\n",
        "labels = {str(i): f\"PC {i+1}\" for i in range(n_components)}\n",
        "labels['color'] = 'Median Price'\n",
        "\n",
        "fig = px.scatter(\n",
        "    components_b, x=0, y=1,\n",
        "    title=f'Total Explained Variance: {total_var:.2f}%',\n",
        "    labels={'0': 'PC 1', '1': 'PC 2', '2': 'PC 3'}\n",
        ")\n",
        "\n",
        "for i, feature in enumerate(features):\n",
        "    fig.add_shape(\n",
        "        type='line',\n",
        "        x0=0, y0=0,\n",
        "        x1=loadings[i, 0],\n",
        "        y1=loadings[i, 1]\n",
        "    )\n",
        "    fig.add_annotation(\n",
        "        x=loadings[i, 0],\n",
        "        y=loadings[i, 1],\n",
        "        ax=0, ay=0,\n",
        "        xanchor=\"center\",\n",
        "        yanchor=\"bottom\",\n",
        "        text=feature,\n",
        "    )\n",
        "\n",
        "\n",
        "#fig = px.scatter(components_u, x=0, y=1, color_continuous_scale=px.colors.sequential.Blackbody)\n",
        "fig.show()\n"
      ],
      "metadata": {
        "colab": {
          "base_uri": "https://localhost:8080/",
          "height": 235
        },
        "id": "vjfDMWeoilQ6",
        "outputId": "b08a1fd5-4594-46fd-e137-2fc4b0096dde"
      },
      "execution_count": null,
      "outputs": [
        {
          "output_type": "error",
          "ename": "NameError",
          "evalue": "ignored",
          "traceback": [
            "\u001b[0;31m---------------------------------------------------------------------------\u001b[0m",
            "\u001b[0;31mNameError\u001b[0m                                 Traceback (most recent call last)",
            "\u001b[0;32m<ipython-input-8-4878b076db7f>\u001b[0m in \u001b[0;36m<module>\u001b[0;34m\u001b[0m\n\u001b[1;32m      1\u001b[0m \u001b[0mpca\u001b[0m \u001b[0;34m=\u001b[0m \u001b[0mPCA\u001b[0m\u001b[0;34m(\u001b[0m\u001b[0mn_components\u001b[0m\u001b[0;34m=\u001b[0m\u001b[0;36m2\u001b[0m\u001b[0;34m)\u001b[0m\u001b[0;34m\u001b[0m\u001b[0;34m\u001b[0m\u001b[0m\n\u001b[0;32m----> 2\u001b[0;31m X = df5.loc[:, ['concave points_se', 'symmetry_se',\n\u001b[0m\u001b[1;32m      3\u001b[0m        \u001b[0;34m'fractal_dimension_se'\u001b[0m\u001b[0;34m,\u001b[0m \u001b[0;34m'radius_worst'\u001b[0m\u001b[0;34m,\u001b[0m \u001b[0;34m'texture_worst'\u001b[0m\u001b[0;34m,\u001b[0m\u001b[0;34m\u001b[0m\u001b[0;34m\u001b[0m\u001b[0m\n\u001b[1;32m      4\u001b[0m        'perimeter_worst', 'area_worst', 'smoothness_worst']]\n\u001b[1;32m      5\u001b[0m \u001b[0mcomponents_b\u001b[0m \u001b[0;34m=\u001b[0m \u001b[0mpca\u001b[0m\u001b[0;34m.\u001b[0m\u001b[0mfit_transform\u001b[0m\u001b[0;34m(\u001b[0m\u001b[0mX\u001b[0m\u001b[0;34m)\u001b[0m\u001b[0;34m\u001b[0m\u001b[0;34m\u001b[0m\u001b[0m\n",
            "\u001b[0;31mNameError\u001b[0m: name 'df5' is not defined"
          ]
        }
      ]
    },
    {
      "cell_type": "markdown",
      "source": [
        "Running PCA, we find our first principal component to capture 99.97% of our variance!!!! Awesome! This means all of our important data is essentially can be reduced to just one dimension.\n",
        "\n",
        "On our first component, we find that area_worst captures 99.66% of our variance. And on the second component, we find that perimeter_worst captures 90.62% of variance.\n",
        "\n",
        "This makes sense as perimeter and area are directly related to one another. So, in terms of cancer nucleic cells, the largest areas and perimeters seems to not only makeup the most important features, but correlate strongly as well.\n",
        "\n",
        "The loadings of our components and their features tell us that perimeter_worst and area_worst have the greatest magnitude and describe the points closest to whatever direction the projected points of our data align with."
      ],
      "metadata": {
        "id": "NOhlyHO0pHBu"
      }
    },
    {
      "cell_type": "code",
      "source": [
        "n_pcs = pca.components_.shape[0]\n",
        "print(\"number of principal components: \", n_pcs)\n",
        "\n",
        "important_components = [np.abs(pca.components_[i]).argmax() for i in range(n_pcs)]\n",
        "print(\"indicies of important features: \", important_components)\n",
        "\n",
        "important_features = [features[important_components[i]] for i in range(n_pcs)]\n",
        "print(\"most important features \", important_features, \"\\n\")"
      ],
      "metadata": {
        "colab": {
          "base_uri": "https://localhost:8080/",
          "height": 235
        },
        "id": "CanPiF0Uh3e3",
        "outputId": "db52673b-fbc7-408d-c906-1d0647cbcef8"
      },
      "execution_count": null,
      "outputs": [
        {
          "output_type": "error",
          "ename": "AttributeError",
          "evalue": "ignored",
          "traceback": [
            "\u001b[0;31m---------------------------------------------------------------------------\u001b[0m",
            "\u001b[0;31mAttributeError\u001b[0m                            Traceback (most recent call last)",
            "\u001b[0;32m<ipython-input-9-d707b3f98c7b>\u001b[0m in \u001b[0;36m<module>\u001b[0;34m\u001b[0m\n\u001b[0;32m----> 1\u001b[0;31m \u001b[0mn_pcs\u001b[0m \u001b[0;34m=\u001b[0m \u001b[0mpca\u001b[0m\u001b[0;34m.\u001b[0m\u001b[0mcomponents_\u001b[0m\u001b[0;34m.\u001b[0m\u001b[0mshape\u001b[0m\u001b[0;34m[\u001b[0m\u001b[0;36m0\u001b[0m\u001b[0;34m]\u001b[0m\u001b[0;34m\u001b[0m\u001b[0;34m\u001b[0m\u001b[0m\n\u001b[0m\u001b[1;32m      2\u001b[0m \u001b[0mprint\u001b[0m\u001b[0;34m(\u001b[0m\u001b[0;34m\"number of principal components: \"\u001b[0m\u001b[0;34m,\u001b[0m \u001b[0mn_pcs\u001b[0m\u001b[0;34m)\u001b[0m\u001b[0;34m\u001b[0m\u001b[0;34m\u001b[0m\u001b[0m\n\u001b[1;32m      3\u001b[0m \u001b[0;34m\u001b[0m\u001b[0m\n\u001b[1;32m      4\u001b[0m \u001b[0mimportant_components\u001b[0m \u001b[0;34m=\u001b[0m \u001b[0;34m[\u001b[0m\u001b[0mnp\u001b[0m\u001b[0;34m.\u001b[0m\u001b[0mabs\u001b[0m\u001b[0;34m(\u001b[0m\u001b[0mpca\u001b[0m\u001b[0;34m.\u001b[0m\u001b[0mcomponents_\u001b[0m\u001b[0;34m[\u001b[0m\u001b[0mi\u001b[0m\u001b[0;34m]\u001b[0m\u001b[0;34m)\u001b[0m\u001b[0;34m.\u001b[0m\u001b[0margmax\u001b[0m\u001b[0;34m(\u001b[0m\u001b[0;34m)\u001b[0m \u001b[0;32mfor\u001b[0m \u001b[0mi\u001b[0m \u001b[0;32min\u001b[0m \u001b[0mrange\u001b[0m\u001b[0;34m(\u001b[0m\u001b[0mn_pcs\u001b[0m\u001b[0;34m)\u001b[0m\u001b[0;34m]\u001b[0m\u001b[0;34m\u001b[0m\u001b[0;34m\u001b[0m\u001b[0m\n\u001b[1;32m      5\u001b[0m \u001b[0mprint\u001b[0m\u001b[0;34m(\u001b[0m\u001b[0;34m\"indicies of important features: \"\u001b[0m\u001b[0;34m,\u001b[0m \u001b[0mimportant_components\u001b[0m\u001b[0;34m)\u001b[0m\u001b[0;34m\u001b[0m\u001b[0;34m\u001b[0m\u001b[0m\n",
            "\u001b[0;31mAttributeError\u001b[0m: 'PCA' object has no attribute 'components_'"
          ]
        }
      ]
    },
    {
      "cell_type": "markdown",
      "source": [
        "Additionally, the important features of our data is the area_worst and perimeter_worst measurements of the cancer nucleic cells."
      ],
      "metadata": {
        "id": "S7XjScNrscF6"
      }
    },
    {
      "cell_type": "code",
      "source": [
        "important_feature_data = df5.loc[:, important_features]\n",
        "#important_feature_data['Hue'] = X['Hue']\n",
        "\n",
        "\n",
        "\n",
        "loadings = pca.components_.T * np.sqrt(pca.explained_variance_)\n",
        "fig = px.scatter(important_feature_data,\n",
        "                    x=important_features[0],\n",
        "                    y=important_features[1],\n",
        "                   )\n",
        "\n",
        "\n",
        "\n",
        "\n",
        "fig.update_traces(marker_coloraxis=None)\n",
        "fig.show()\n"
      ],
      "metadata": {
        "colab": {
          "base_uri": "https://localhost:8080/",
          "height": 542
        },
        "id": "zCsutYP60aDl",
        "outputId": "2d25fa4a-601a-4ec3-dab7-44efe19d6077"
      },
      "execution_count": null,
      "outputs": [
        {
          "output_type": "display_data",
          "data": {
            "text/html": [
              "<html>\n",
              "<head><meta charset=\"utf-8\" /></head>\n",
              "<body>\n",
              "    <div>            <script src=\"https://cdnjs.cloudflare.com/ajax/libs/mathjax/2.7.5/MathJax.js?config=TeX-AMS-MML_SVG\"></script><script type=\"text/javascript\">if (window.MathJax) {MathJax.Hub.Config({SVG: {font: \"STIX-Web\"}});}</script>                <script type=\"text/javascript\">window.PlotlyConfig = {MathJaxConfig: 'local'};</script>\n",
              "        <script src=\"https://cdn.plot.ly/plotly-2.8.3.min.js\"></script>                <div id=\"5ab1fa3a-a403-46c2-bcef-26545487a770\" class=\"plotly-graph-div\" style=\"height:525px; width:100%;\"></div>            <script type=\"text/javascript\">                                    window.PLOTLYENV=window.PLOTLYENV || {};                                    if (document.getElementById(\"5ab1fa3a-a403-46c2-bcef-26545487a770\")) {                    Plotly.newPlot(                        \"5ab1fa3a-a403-46c2-bcef-26545487a770\",                        [{\"hovertemplate\":\"area_worst=%{x}<br>perimeter_worst=%{y}<extra></extra>\",\"legendgroup\":\"\",\"marker\":{\"color\":\"#636efa\",\"symbol\":\"circle\"},\"mode\":\"markers\",\"name\":\"\",\"orientation\":\"v\",\"showlegend\":false,\"x\":[2019.0,1956.0,1709.0,567.7,1575.0,741.6,1606.0,897.0,739.3,711.4,1150.0,1299.0,1332.0,876.5,697.7,943.2,1138.0,1315.0,2398.0,711.2,630.5,314.9,980.9,2615.0,2215.0,1461.0,896.9,1403.0,1269.0,1227.0,1670.0,888.7,1344.0,1813.0,1261.0,1229.0,799.6,545.9,698.8,740.4,787.9,514.0,1651.0,907.2,740.7,1567.0,242.2,759.4,582.6,698.8,516.5,656.7,527.2,1321.0,1030.0,506.2,2145.0,985.5,624.1,274.9,368.6,273.9,959.5,310.1,888.3,925.1,330.7,466.7,324.7,554.9,1866.0,284.4,1681.0,812.4,611.1,1223.0,605.5,1610.0,1623.0,622.1,525.1,614.9,2562.0,1298.0,567.9,1603.0,808.9,1623.0,574.7,803.6,803.7,830.9,830.6,699.4,1025.0,1750.0,495.2,366.1,512.5,826.4,906.5,185.2,547.8,361.2,402.8,827.2,521.7,544.1,2360.0,518.1,367.0,527.4,709.0,374.4,284.4,583.0,270.0,1095.0,1272.0,1261.0,510.5,1549.0,2073.0,745.5,632.1,725.9,848.7,1538.0,762.6,1589.0,545.2,1156.0,1175.0,922.8,1590.0,653.6,546.7,462.0,971.4,434.0,342.9,1233.0,503.0,643.8,441.2,509.6,591.7,809.7,766.9,725.9,616.7,249.8,380.5,440.8,677.3,564.2,1302.0,1032.0,532.8,470.0,543.9,1495.0,2232.0,553.0,2403.0,782.1,414.0,1260.0,1660.0,793.7,549.1,993.6,1102.0,396.5,408.3,259.2,390.2,981.2,608.8,570.7,3216.0,2089.0,1269.0,467.2,973.1,437.0,1410.0,521.5,489.5,546.7,762.4,579.5,303.8,768.9,784.7,600.6,806.9,1228.0,1688.0,1044.0,638.4,1239.0,1986.0,1153.0,677.9,989.5,331.6,1210.0,639.3,932.7,1656.0,546.3,2499.0,1021.0,811.3,750.1,531.2,403.7,2009.0,2477.0,706.2,686.6,375.6,1088.0,708.8,873.2,395.4,808.2,624.0,706.0,1189.0,452.3,470.9,1872.0,335.9,715.5,2944.0,1750.0,764.0,1408.0,683.4,543.4,472.9,706.0,1417.0,402.8,602.0,639.1,455.7,491.8,2010.0,508.9,1933.0,1222.0,1972.0,826.0,1926.0,928.8,1226.0,1035.0,1844.0,1218.0,1295.0,988.6,1436.0,3432.0,424.8,661.5,597.5,410.4,684.6,457.5,2384.0,355.2,1320.0,472.4,458.0,1236.0,739.1,670.0,1724.0,533.7,1628.0,1031.0,595.6,564.1,546.1,577.0,437.6,459.3,767.3,809.8,585.4,517.8,553.7,661.1,392.2,553.6,819.7,362.7,2053.0,551.3,1696.0,375.4,489.8,476.5,636.9,285.5,698.7,672.4,483.1,840.8,618.8,467.8,240.1,544.2,513.1,1485.0,297.1,515.9,390.4,1657.0,599.5,1938.0,583.1,574.4,749.9,523.4,1121.0,975.2,1070.0,634.3,436.1,492.7,544.3,1362.0,576.0,1873.0,384.0,2906.0,862.1,353.6,440.0,1540.0,516.4,357.1,562.6,880.8,475.8,496.2,542.5,915.3,3234.0,1050.0,453.5,547.4,591.2,694.4,302.0,439.6,585.7,621.2,579.7,1009.0,663.5,1780.0,1671.0,624.6,3143.0,2227.0,1165.0,819.1,1535.0,1946.0,670.6,861.5,351.9,680.6,657.0,508.1,476.1,447.1,488.4,600.5,623.7,758.2,529.9,745.3,450.0,1313.0,394.5,317.0,1359.0,2081.0,559.5,684.5,675.2,591.0,496.7,562.0,1304.0,589.5,621.9,580.9,533.1,472.4,947.9,645.8,1349.0,610.2,521.3,471.4,301.0,867.1,931.4,522.9,359.4,1748.0,566.9,458.0,520.5,809.2,475.7,708.8,380.9,376.3,440.4,489.5,421.1,586.8,832.7,515.8,1479.0,1603.0,777.5,869.3,626.9,750.0,749.1,688.9,476.4,1284.0,706.6,366.3,1292.0,513.9,1437.0,829.5,830.5,2022.0,507.2,1421.0,523.7,749.9,633.5,705.6,527.8,632.9,628.5,349.9,1648.0,4254.0,734.6,495.1,687.6,733.5,689.1,380.2,1437.0,528.1,385.2,567.6,906.6,558.9,433.1,605.8,828.5,718.9,467.6,939.7,547.4,830.5,660.2,686.5,854.3,580.6,831.0,1740.0,549.8,1084.0,622.9,1210.0,1426.0,534.0,648.3,783.6,633.7,607.3,1600.0,1760.0,856.9,788.0,552.0,2782.0,300.2,328.1,515.3,411.1,928.2,909.4,473.8,760.2,844.4,862.0,967.0,478.6,1493.0,1646.0,674.7,624.1,326.6,2642.0,435.9,701.9,376.5,275.6,719.8,564.9,653.3,549.9,552.3,550.6,773.4,1645.0,407.5,1809.0,728.3,487.7,248.0,223.6,457.8,808.9,826.4,629.6,688.6,729.8,384.9,357.4,364.2,505.6,412.3,436.6,594.7,295.8,595.7,357.6,347.3,330.6,733.5,474.2,706.7,439.6,915.0,1819.0,2027.0,1731.0,1124.0,1821.0,268.6],\"xaxis\":\"x\",\"y\":[184.6,158.8,152.5,98.87,152.2,103.4,153.2,110.6,106.2,97.65,123.8,136.5,151.7,112.0,108.8,124.1,123.4,136.8,186.8,99.7,96.09,65.13,125.1,188.0,177.0,152.4,122.4,139.9,149.3,134.9,160.5,119.4,136.1,161.4,132.7,133.5,116.2,84.46,95.54,107.3,102.5,87.22,177.4,113.1,105.5,150.6,57.26,102.8,89.88,99.0,82.98,96.08,83.67,135.1,117.7,81.81,170.1,115.7,90.24,59.9,69.86,62.06,119.1,65.59,111.8,114.6,67.03,78.0,65.5,85.67,165.9,62.56,151.6,110.3,89.71,128.8,91.36,150.1,170.3,91.88,84.53,96.66,211.7,141.3,87.78,152.2,108.4,152.9,91.46,109.4,102.9,107.5,104.5,97.59,123.5,156.1,82.14,68.81,82.96,109.5,108.6,50.41,84.58,72.22,74.22,106.4,85.51,85.56,206.8,83.99,71.68,89.0,107.0,72.62,64.48,87.54,63.34,127.1,130.3,129.2,83.74,145.4,180.9,102.8,91.99,100.3,113.2,148.2,105.9,148.7,91.38,124.9,129.7,114.3,145.6,92.04,86.16,79.93,121.4,76.53,66.53,129.0,82.66,97.17,77.79,86.26,91.93,107.1,108.6,97.19,90.82,58.08,71.04,76.25,97.67,86.6,132.9,120.3,84.08,78.07,88.91,146.6,174.9,87.36,184.2,102.3,73.66,130.7,155.3,104.6,86.97,116.6,125.0,72.01,73.2,58.36,73.07,123.5,88.18,86.7,220.8,176.5,129.3,79.12,113.8,75.39,139.2,84.42,79.57,86.65,106.4,89.04,62.25,101.7,118.6,90.81,111.6,129.1,166.4,117.9,92.15,139.5,177.0,128.5,96.05,117.7,67.08,130.0,99.48,113.7,158.3,85.22,188.5,120.4,115.0,104.4,86.2,75.4,170.3,180.2,99.71,101.1,71.94,125.9,98.84,110.4,73.47,114.2,90.67,105.3,133.5,79.82,78.44,162.7,65.74,98.27,206.0,161.7,102.5,141.2,94.11,83.85,87.16,98.0,144.9,73.68,88.28,105.0,77.98,80.88,165.3,83.12,159.8,130.9,163.1,108.1,178.6,119.8,143.7,126.3,162.3,128.2,137.9,115.9,140.5,214.0,78.28,97.66,89.27,76.51,94.44,78.27,195.9,68.09,135.1,79.46,77.37,129.0,98.91,98.37,159.8,84.7,152.4,126.9,92.12,85.56,92.2,87.4,78.27,79.29,101.7,109.1,88.81,84.35,88.54,94.17,72.42,85.1,105.8,70.1,171.1,88.13,158.8,70.76,82.69,81.39,92.0,60.9,95.48,93.96,80.92,103.7,92.04,81.23,56.65,84.48,81.6,140.9,68.62,81.76,71.53,150.2,92.8,171.1,91.11,88.7,98.4,82.74,129.8,113.7,124.3,99.21,76.91,82.08,84.53,143.2,87.38,161.1,71.98,202.4,111.4,71.25,79.76,157.6,84.16,70.89,86.54,114.2,79.67,83.09,83.61,119.4,229.3,121.2,79.62,89.02,94.22,96.74,65.27,75.79,86.82,92.94,87.82,117.2,93.76,161.2,160.0,93.85,199.5,195.0,129.3,104.5,152.1,166.8,99.16,113.1,76.51,97.11,97.96,91.76,84.93,79.73,87.36,95.23,96.59,102.2,87.65,99.66,79.73,142.0,73.23,64.01,142.1,172.0,88.33,96.42,97.33,90.72,80.79,86.0,149.6,87.64,96.31,89.69,84.11,82.76,115.9,91.63,138.1,89.0,85.07,79.93,66.61,110.2,110.1,85.09,68.73,157.1,88.12,79.26,86.43,114.1,81.93,101.4,71.79,69.92,81.41,83.69,74.35,88.87,125.4,89.61,146.0,145.3,102.3,113.9,95.14,101.2,100.9,96.53,90.14,132.8,97.9,69.35,133.3,84.48,145.4,105.9,108.1,168.2,83.51,139.8,85.07,103.1,91.62,96.69,86.04,91.29,91.06,68.03,152.1,251.2,100.4,82.68,95.1,115.0,100.9,71.11,143.6,88.14,70.88,87.24,112.0,85.08,80.78,93.22,112.1,101.2,82.04,122.1,88.83,104.4,94.94,95.78,112.5,97.82,106.0,153.9,86.57,127.3,92.74,127.1,143.4,83.24,95.29,103.9,95.29,92.82,146.4,163.2,109.7,106.0,86.67,211.5,69.05,69.47,85.13,76.08,109.8,117.7,81.25,101.7,113.3,108.5,113.8,79.15,142.2,160.5,99.31,93.63,67.84,205.7,76.38,99.43,74.32,63.3,101.9,87.22,94.52,86.92,88.52,87.0,101.6,152.0,76.43,160.2,104.3,86.12,57.17,54.49,78.78,113.5,107.4,92.48,99.17,97.58,71.12,71.08,69.1,83.9,74.08,77.8,88.1,62.86,88.84,69.57,67.88,66.5,105.9,82.28,100.2,75.19,128.7,179.1,166.1,155.0,126.7,184.6,59.16],\"yaxis\":\"y\",\"type\":\"scatter\"}],                        {\"template\":{\"data\":{\"bar\":[{\"error_x\":{\"color\":\"#2a3f5f\"},\"error_y\":{\"color\":\"#2a3f5f\"},\"marker\":{\"line\":{\"color\":\"#E5ECF6\",\"width\":0.5},\"pattern\":{\"fillmode\":\"overlay\",\"size\":10,\"solidity\":0.2}},\"type\":\"bar\"}],\"barpolar\":[{\"marker\":{\"line\":{\"color\":\"#E5ECF6\",\"width\":0.5},\"pattern\":{\"fillmode\":\"overlay\",\"size\":10,\"solidity\":0.2}},\"type\":\"barpolar\"}],\"carpet\":[{\"aaxis\":{\"endlinecolor\":\"#2a3f5f\",\"gridcolor\":\"white\",\"linecolor\":\"white\",\"minorgridcolor\":\"white\",\"startlinecolor\":\"#2a3f5f\"},\"baxis\":{\"endlinecolor\":\"#2a3f5f\",\"gridcolor\":\"white\",\"linecolor\":\"white\",\"minorgridcolor\":\"white\",\"startlinecolor\":\"#2a3f5f\"},\"type\":\"carpet\"}],\"choropleth\":[{\"colorbar\":{\"outlinewidth\":0,\"ticks\":\"\"},\"type\":\"choropleth\"}],\"contour\":[{\"colorbar\":{\"outlinewidth\":0,\"ticks\":\"\"},\"colorscale\":[[0.0,\"#0d0887\"],[0.1111111111111111,\"#46039f\"],[0.2222222222222222,\"#7201a8\"],[0.3333333333333333,\"#9c179e\"],[0.4444444444444444,\"#bd3786\"],[0.5555555555555556,\"#d8576b\"],[0.6666666666666666,\"#ed7953\"],[0.7777777777777778,\"#fb9f3a\"],[0.8888888888888888,\"#fdca26\"],[1.0,\"#f0f921\"]],\"type\":\"contour\"}],\"contourcarpet\":[{\"colorbar\":{\"outlinewidth\":0,\"ticks\":\"\"},\"type\":\"contourcarpet\"}],\"heatmap\":[{\"colorbar\":{\"outlinewidth\":0,\"ticks\":\"\"},\"colorscale\":[[0.0,\"#0d0887\"],[0.1111111111111111,\"#46039f\"],[0.2222222222222222,\"#7201a8\"],[0.3333333333333333,\"#9c179e\"],[0.4444444444444444,\"#bd3786\"],[0.5555555555555556,\"#d8576b\"],[0.6666666666666666,\"#ed7953\"],[0.7777777777777778,\"#fb9f3a\"],[0.8888888888888888,\"#fdca26\"],[1.0,\"#f0f921\"]],\"type\":\"heatmap\"}],\"heatmapgl\":[{\"colorbar\":{\"outlinewidth\":0,\"ticks\":\"\"},\"colorscale\":[[0.0,\"#0d0887\"],[0.1111111111111111,\"#46039f\"],[0.2222222222222222,\"#7201a8\"],[0.3333333333333333,\"#9c179e\"],[0.4444444444444444,\"#bd3786\"],[0.5555555555555556,\"#d8576b\"],[0.6666666666666666,\"#ed7953\"],[0.7777777777777778,\"#fb9f3a\"],[0.8888888888888888,\"#fdca26\"],[1.0,\"#f0f921\"]],\"type\":\"heatmapgl\"}],\"histogram\":[{\"marker\":{\"pattern\":{\"fillmode\":\"overlay\",\"size\":10,\"solidity\":0.2}},\"type\":\"histogram\"}],\"histogram2d\":[{\"colorbar\":{\"outlinewidth\":0,\"ticks\":\"\"},\"colorscale\":[[0.0,\"#0d0887\"],[0.1111111111111111,\"#46039f\"],[0.2222222222222222,\"#7201a8\"],[0.3333333333333333,\"#9c179e\"],[0.4444444444444444,\"#bd3786\"],[0.5555555555555556,\"#d8576b\"],[0.6666666666666666,\"#ed7953\"],[0.7777777777777778,\"#fb9f3a\"],[0.8888888888888888,\"#fdca26\"],[1.0,\"#f0f921\"]],\"type\":\"histogram2d\"}],\"histogram2dcontour\":[{\"colorbar\":{\"outlinewidth\":0,\"ticks\":\"\"},\"colorscale\":[[0.0,\"#0d0887\"],[0.1111111111111111,\"#46039f\"],[0.2222222222222222,\"#7201a8\"],[0.3333333333333333,\"#9c179e\"],[0.4444444444444444,\"#bd3786\"],[0.5555555555555556,\"#d8576b\"],[0.6666666666666666,\"#ed7953\"],[0.7777777777777778,\"#fb9f3a\"],[0.8888888888888888,\"#fdca26\"],[1.0,\"#f0f921\"]],\"type\":\"histogram2dcontour\"}],\"mesh3d\":[{\"colorbar\":{\"outlinewidth\":0,\"ticks\":\"\"},\"type\":\"mesh3d\"}],\"parcoords\":[{\"line\":{\"colorbar\":{\"outlinewidth\":0,\"ticks\":\"\"}},\"type\":\"parcoords\"}],\"pie\":[{\"automargin\":true,\"type\":\"pie\"}],\"scatter\":[{\"marker\":{\"colorbar\":{\"outlinewidth\":0,\"ticks\":\"\"}},\"type\":\"scatter\"}],\"scatter3d\":[{\"line\":{\"colorbar\":{\"outlinewidth\":0,\"ticks\":\"\"}},\"marker\":{\"colorbar\":{\"outlinewidth\":0,\"ticks\":\"\"}},\"type\":\"scatter3d\"}],\"scattercarpet\":[{\"marker\":{\"colorbar\":{\"outlinewidth\":0,\"ticks\":\"\"}},\"type\":\"scattercarpet\"}],\"scattergeo\":[{\"marker\":{\"colorbar\":{\"outlinewidth\":0,\"ticks\":\"\"}},\"type\":\"scattergeo\"}],\"scattergl\":[{\"marker\":{\"colorbar\":{\"outlinewidth\":0,\"ticks\":\"\"}},\"type\":\"scattergl\"}],\"scattermapbox\":[{\"marker\":{\"colorbar\":{\"outlinewidth\":0,\"ticks\":\"\"}},\"type\":\"scattermapbox\"}],\"scatterpolar\":[{\"marker\":{\"colorbar\":{\"outlinewidth\":0,\"ticks\":\"\"}},\"type\":\"scatterpolar\"}],\"scatterpolargl\":[{\"marker\":{\"colorbar\":{\"outlinewidth\":0,\"ticks\":\"\"}},\"type\":\"scatterpolargl\"}],\"scatterternary\":[{\"marker\":{\"colorbar\":{\"outlinewidth\":0,\"ticks\":\"\"}},\"type\":\"scatterternary\"}],\"surface\":[{\"colorbar\":{\"outlinewidth\":0,\"ticks\":\"\"},\"colorscale\":[[0.0,\"#0d0887\"],[0.1111111111111111,\"#46039f\"],[0.2222222222222222,\"#7201a8\"],[0.3333333333333333,\"#9c179e\"],[0.4444444444444444,\"#bd3786\"],[0.5555555555555556,\"#d8576b\"],[0.6666666666666666,\"#ed7953\"],[0.7777777777777778,\"#fb9f3a\"],[0.8888888888888888,\"#fdca26\"],[1.0,\"#f0f921\"]],\"type\":\"surface\"}],\"table\":[{\"cells\":{\"fill\":{\"color\":\"#EBF0F8\"},\"line\":{\"color\":\"white\"}},\"header\":{\"fill\":{\"color\":\"#C8D4E3\"},\"line\":{\"color\":\"white\"}},\"type\":\"table\"}]},\"layout\":{\"annotationdefaults\":{\"arrowcolor\":\"#2a3f5f\",\"arrowhead\":0,\"arrowwidth\":1},\"autotypenumbers\":\"strict\",\"coloraxis\":{\"colorbar\":{\"outlinewidth\":0,\"ticks\":\"\"}},\"colorscale\":{\"diverging\":[[0,\"#8e0152\"],[0.1,\"#c51b7d\"],[0.2,\"#de77ae\"],[0.3,\"#f1b6da\"],[0.4,\"#fde0ef\"],[0.5,\"#f7f7f7\"],[0.6,\"#e6f5d0\"],[0.7,\"#b8e186\"],[0.8,\"#7fbc41\"],[0.9,\"#4d9221\"],[1,\"#276419\"]],\"sequential\":[[0.0,\"#0d0887\"],[0.1111111111111111,\"#46039f\"],[0.2222222222222222,\"#7201a8\"],[0.3333333333333333,\"#9c179e\"],[0.4444444444444444,\"#bd3786\"],[0.5555555555555556,\"#d8576b\"],[0.6666666666666666,\"#ed7953\"],[0.7777777777777778,\"#fb9f3a\"],[0.8888888888888888,\"#fdca26\"],[1.0,\"#f0f921\"]],\"sequentialminus\":[[0.0,\"#0d0887\"],[0.1111111111111111,\"#46039f\"],[0.2222222222222222,\"#7201a8\"],[0.3333333333333333,\"#9c179e\"],[0.4444444444444444,\"#bd3786\"],[0.5555555555555556,\"#d8576b\"],[0.6666666666666666,\"#ed7953\"],[0.7777777777777778,\"#fb9f3a\"],[0.8888888888888888,\"#fdca26\"],[1.0,\"#f0f921\"]]},\"colorway\":[\"#636efa\",\"#EF553B\",\"#00cc96\",\"#ab63fa\",\"#FFA15A\",\"#19d3f3\",\"#FF6692\",\"#B6E880\",\"#FF97FF\",\"#FECB52\"],\"font\":{\"color\":\"#2a3f5f\"},\"geo\":{\"bgcolor\":\"white\",\"lakecolor\":\"white\",\"landcolor\":\"#E5ECF6\",\"showlakes\":true,\"showland\":true,\"subunitcolor\":\"white\"},\"hoverlabel\":{\"align\":\"left\"},\"hovermode\":\"closest\",\"mapbox\":{\"style\":\"light\"},\"paper_bgcolor\":\"white\",\"plot_bgcolor\":\"#E5ECF6\",\"polar\":{\"angularaxis\":{\"gridcolor\":\"white\",\"linecolor\":\"white\",\"ticks\":\"\"},\"bgcolor\":\"#E5ECF6\",\"radialaxis\":{\"gridcolor\":\"white\",\"linecolor\":\"white\",\"ticks\":\"\"}},\"scene\":{\"xaxis\":{\"backgroundcolor\":\"#E5ECF6\",\"gridcolor\":\"white\",\"gridwidth\":2,\"linecolor\":\"white\",\"showbackground\":true,\"ticks\":\"\",\"zerolinecolor\":\"white\"},\"yaxis\":{\"backgroundcolor\":\"#E5ECF6\",\"gridcolor\":\"white\",\"gridwidth\":2,\"linecolor\":\"white\",\"showbackground\":true,\"ticks\":\"\",\"zerolinecolor\":\"white\"},\"zaxis\":{\"backgroundcolor\":\"#E5ECF6\",\"gridcolor\":\"white\",\"gridwidth\":2,\"linecolor\":\"white\",\"showbackground\":true,\"ticks\":\"\",\"zerolinecolor\":\"white\"}},\"shapedefaults\":{\"line\":{\"color\":\"#2a3f5f\"}},\"ternary\":{\"aaxis\":{\"gridcolor\":\"white\",\"linecolor\":\"white\",\"ticks\":\"\"},\"baxis\":{\"gridcolor\":\"white\",\"linecolor\":\"white\",\"ticks\":\"\"},\"bgcolor\":\"#E5ECF6\",\"caxis\":{\"gridcolor\":\"white\",\"linecolor\":\"white\",\"ticks\":\"\"}},\"title\":{\"x\":0.05},\"xaxis\":{\"automargin\":true,\"gridcolor\":\"white\",\"linecolor\":\"white\",\"ticks\":\"\",\"title\":{\"standoff\":15},\"zerolinecolor\":\"white\",\"zerolinewidth\":2},\"yaxis\":{\"automargin\":true,\"gridcolor\":\"white\",\"linecolor\":\"white\",\"ticks\":\"\",\"title\":{\"standoff\":15},\"zerolinecolor\":\"white\",\"zerolinewidth\":2}}},\"xaxis\":{\"anchor\":\"y\",\"domain\":[0.0,1.0],\"title\":{\"text\":\"area_worst\"}},\"yaxis\":{\"anchor\":\"x\",\"domain\":[0.0,1.0],\"title\":{\"text\":\"perimeter_worst\"}},\"legend\":{\"tracegroupgap\":0},\"margin\":{\"t\":60}},                        {\"responsive\": true}                    ).then(function(){\n",
              "                            \n",
              "var gd = document.getElementById('5ab1fa3a-a403-46c2-bcef-26545487a770');\n",
              "var x = new MutationObserver(function (mutations, observer) {{\n",
              "        var display = window.getComputedStyle(gd).display;\n",
              "        if (!display || display === 'none') {{\n",
              "            console.log([gd, 'removed!']);\n",
              "            Plotly.purge(gd);\n",
              "            observer.disconnect();\n",
              "        }}\n",
              "}});\n",
              "\n",
              "// Listen for the removal of the full notebook cells\n",
              "var notebookContainer = gd.closest('#notebook-container');\n",
              "if (notebookContainer) {{\n",
              "    x.observe(notebookContainer, {childList: true});\n",
              "}}\n",
              "\n",
              "// Listen for the clearing of the current output cell\n",
              "var outputEl = gd.closest('.output');\n",
              "if (outputEl) {{\n",
              "    x.observe(outputEl, {childList: true});\n",
              "}}\n",
              "\n",
              "                        })                };                            </script>        </div>\n",
              "</body>\n",
              "</html>"
            ]
          },
          "metadata": {}
        }
      ]
    },
    {
      "cell_type": "markdown",
      "source": [
        "Graphing our perimeter_worst and area_worst, we find that an extremely strong correlation with a positive slope."
      ],
      "metadata": {
        "id": "xFlsu1V4s_p7"
      }
    },
    {
      "cell_type": "markdown",
      "source": [
        "#Pizza"
      ],
      "metadata": {
        "id": "4qSCkqRH4inO"
      }
    },
    {
      "cell_type": "markdown",
      "source": [
        "Hello once more Boss. We also serve delicious pizza as part of our business on top of celluar cancer research.\n",
        "(we try not to mix them up) Here, I used data from other pizza coporations to show what parts of pizza are the most correlated and important to craft the most delicious pizza.  "
      ],
      "metadata": {
        "id": "Vb5q-Q54OuM3"
      }
    },
    {
      "cell_type": "code",
      "source": [
        "dfa = pd.read_csv(\"/content/drive/MyDrive/Christian Kolker/Pizza.csv\")\n",
        "dfa = dfa.drop('brand', 1)\n",
        "dfa = dfa.drop('id', 1)\n",
        "#df5 = df5.drop('Unnamed: 32', 1)\n",
        "dfa.head()\n"
      ],
      "metadata": {
        "colab": {
          "base_uri": "https://localhost:8080/",
          "height": 206
        },
        "id": "9QloOa3N4fCW",
        "outputId": "4716ca82-dcac-4693-f225-7e3ac3fc01ee"
      },
      "execution_count": null,
      "outputs": [
        {
          "output_type": "execute_result",
          "data": {
            "text/plain": [
              "    mois   prot    fat   ash  sodium  carb   cal\n",
              "0  27.82  21.43  44.87  5.11    1.77  0.77  4.93\n",
              "1  28.49  21.26  43.89  5.34    1.79  1.02  4.84\n",
              "2  28.35  19.99  45.78  5.08    1.63  0.80  4.95\n",
              "3  30.55  20.15  43.13  4.79    1.61  1.38  4.74\n",
              "4  30.49  21.28  41.65  4.82    1.64  1.76  4.67"
            ],
            "text/html": [
              "\n",
              "  <div id=\"df-60b0ebed-ddc5-436c-8c35-6ffe2c59d7ab\">\n",
              "    <div class=\"colab-df-container\">\n",
              "      <div>\n",
              "<style scoped>\n",
              "    .dataframe tbody tr th:only-of-type {\n",
              "        vertical-align: middle;\n",
              "    }\n",
              "\n",
              "    .dataframe tbody tr th {\n",
              "        vertical-align: top;\n",
              "    }\n",
              "\n",
              "    .dataframe thead th {\n",
              "        text-align: right;\n",
              "    }\n",
              "</style>\n",
              "<table border=\"1\" class=\"dataframe\">\n",
              "  <thead>\n",
              "    <tr style=\"text-align: right;\">\n",
              "      <th></th>\n",
              "      <th>mois</th>\n",
              "      <th>prot</th>\n",
              "      <th>fat</th>\n",
              "      <th>ash</th>\n",
              "      <th>sodium</th>\n",
              "      <th>carb</th>\n",
              "      <th>cal</th>\n",
              "    </tr>\n",
              "  </thead>\n",
              "  <tbody>\n",
              "    <tr>\n",
              "      <th>0</th>\n",
              "      <td>27.82</td>\n",
              "      <td>21.43</td>\n",
              "      <td>44.87</td>\n",
              "      <td>5.11</td>\n",
              "      <td>1.77</td>\n",
              "      <td>0.77</td>\n",
              "      <td>4.93</td>\n",
              "    </tr>\n",
              "    <tr>\n",
              "      <th>1</th>\n",
              "      <td>28.49</td>\n",
              "      <td>21.26</td>\n",
              "      <td>43.89</td>\n",
              "      <td>5.34</td>\n",
              "      <td>1.79</td>\n",
              "      <td>1.02</td>\n",
              "      <td>4.84</td>\n",
              "    </tr>\n",
              "    <tr>\n",
              "      <th>2</th>\n",
              "      <td>28.35</td>\n",
              "      <td>19.99</td>\n",
              "      <td>45.78</td>\n",
              "      <td>5.08</td>\n",
              "      <td>1.63</td>\n",
              "      <td>0.80</td>\n",
              "      <td>4.95</td>\n",
              "    </tr>\n",
              "    <tr>\n",
              "      <th>3</th>\n",
              "      <td>30.55</td>\n",
              "      <td>20.15</td>\n",
              "      <td>43.13</td>\n",
              "      <td>4.79</td>\n",
              "      <td>1.61</td>\n",
              "      <td>1.38</td>\n",
              "      <td>4.74</td>\n",
              "    </tr>\n",
              "    <tr>\n",
              "      <th>4</th>\n",
              "      <td>30.49</td>\n",
              "      <td>21.28</td>\n",
              "      <td>41.65</td>\n",
              "      <td>4.82</td>\n",
              "      <td>1.64</td>\n",
              "      <td>1.76</td>\n",
              "      <td>4.67</td>\n",
              "    </tr>\n",
              "  </tbody>\n",
              "</table>\n",
              "</div>\n",
              "      <button class=\"colab-df-convert\" onclick=\"convertToInteractive('df-60b0ebed-ddc5-436c-8c35-6ffe2c59d7ab')\"\n",
              "              title=\"Convert this dataframe to an interactive table.\"\n",
              "              style=\"display:none;\">\n",
              "        \n",
              "  <svg xmlns=\"http://www.w3.org/2000/svg\" height=\"24px\"viewBox=\"0 0 24 24\"\n",
              "       width=\"24px\">\n",
              "    <path d=\"M0 0h24v24H0V0z\" fill=\"none\"/>\n",
              "    <path d=\"M18.56 5.44l.94 2.06.94-2.06 2.06-.94-2.06-.94-.94-2.06-.94 2.06-2.06.94zm-11 1L8.5 8.5l.94-2.06 2.06-.94-2.06-.94L8.5 2.5l-.94 2.06-2.06.94zm10 10l.94 2.06.94-2.06 2.06-.94-2.06-.94-.94-2.06-.94 2.06-2.06.94z\"/><path d=\"M17.41 7.96l-1.37-1.37c-.4-.4-.92-.59-1.43-.59-.52 0-1.04.2-1.43.59L10.3 9.45l-7.72 7.72c-.78.78-.78 2.05 0 2.83L4 21.41c.39.39.9.59 1.41.59.51 0 1.02-.2 1.41-.59l7.78-7.78 2.81-2.81c.8-.78.8-2.07 0-2.86zM5.41 20L4 18.59l7.72-7.72 1.47 1.35L5.41 20z\"/>\n",
              "  </svg>\n",
              "      </button>\n",
              "      \n",
              "  <style>\n",
              "    .colab-df-container {\n",
              "      display:flex;\n",
              "      flex-wrap:wrap;\n",
              "      gap: 12px;\n",
              "    }\n",
              "\n",
              "    .colab-df-convert {\n",
              "      background-color: #E8F0FE;\n",
              "      border: none;\n",
              "      border-radius: 50%;\n",
              "      cursor: pointer;\n",
              "      display: none;\n",
              "      fill: #1967D2;\n",
              "      height: 32px;\n",
              "      padding: 0 0 0 0;\n",
              "      width: 32px;\n",
              "    }\n",
              "\n",
              "    .colab-df-convert:hover {\n",
              "      background-color: #E2EBFA;\n",
              "      box-shadow: 0px 1px 2px rgba(60, 64, 67, 0.3), 0px 1px 3px 1px rgba(60, 64, 67, 0.15);\n",
              "      fill: #174EA6;\n",
              "    }\n",
              "\n",
              "    [theme=dark] .colab-df-convert {\n",
              "      background-color: #3B4455;\n",
              "      fill: #D2E3FC;\n",
              "    }\n",
              "\n",
              "    [theme=dark] .colab-df-convert:hover {\n",
              "      background-color: #434B5C;\n",
              "      box-shadow: 0px 1px 3px 1px rgba(0, 0, 0, 0.15);\n",
              "      filter: drop-shadow(0px 1px 2px rgba(0, 0, 0, 0.3));\n",
              "      fill: #FFFFFF;\n",
              "    }\n",
              "  </style>\n",
              "\n",
              "      <script>\n",
              "        const buttonEl =\n",
              "          document.querySelector('#df-60b0ebed-ddc5-436c-8c35-6ffe2c59d7ab button.colab-df-convert');\n",
              "        buttonEl.style.display =\n",
              "          google.colab.kernel.accessAllowed ? 'block' : 'none';\n",
              "\n",
              "        async function convertToInteractive(key) {\n",
              "          const element = document.querySelector('#df-60b0ebed-ddc5-436c-8c35-6ffe2c59d7ab');\n",
              "          const dataTable =\n",
              "            await google.colab.kernel.invokeFunction('convertToInteractive',\n",
              "                                                     [key], {});\n",
              "          if (!dataTable) return;\n",
              "\n",
              "          const docLinkHtml = 'Like what you see? Visit the ' +\n",
              "            '<a target=\"_blank\" href=https://colab.research.google.com/notebooks/data_table.ipynb>data table notebook</a>'\n",
              "            + ' to learn more about interactive tables.';\n",
              "          element.innerHTML = '';\n",
              "          dataTable['output_type'] = 'display_data';\n",
              "          await google.colab.output.renderOutput(dataTable, element);\n",
              "          const docLink = document.createElement('div');\n",
              "          docLink.innerHTML = docLinkHtml;\n",
              "          element.appendChild(docLink);\n",
              "        }\n",
              "      </script>\n",
              "    </div>\n",
              "  </div>\n",
              "  "
            ]
          },
          "metadata": {},
          "execution_count": 18
        }
      ]
    },
    {
      "cell_type": "code",
      "source": [
        "scaler=StandardScaler()\n",
        "df=scaler.fit_transform(dfa)\n",
        "n_components = 2\n",
        "\n",
        "pca = PCA(n_components=n_components)\n",
        "components_a = pca.fit_transform(dfa)\n",
        "\n",
        "total_var = pca.explained_variance_ratio_.sum() * 100\n",
        "\n",
        "labels = {str(i): f\"PC {i+1}\" for i in range(n_components)}\n",
        "labels['color'] = 'Median Price'\n",
        "\n",
        "fig = px.scatter(\n",
        "    components_a, x=0, y=1,\n",
        "    title=f'Total Explained Variance: {total_var:.2f}%',\n",
        "    labels={'0': 'PC 1', '1': 'PC 2', '2': 'PC 3'}\n",
        ")\n",
        "fig.show()\n",
        "pca.explained_variance_ratio_"
      ],
      "metadata": {
        "colab": {
          "base_uri": "https://localhost:8080/",
          "height": 559
        },
        "id": "ydmX6VN37Ppy",
        "outputId": "260d38f3-0edc-424c-b281-2d6115ef8457"
      },
      "execution_count": null,
      "outputs": [
        {
          "output_type": "display_data",
          "data": {
            "text/html": [
              "<html>\n",
              "<head><meta charset=\"utf-8\" /></head>\n",
              "<body>\n",
              "    <div>            <script src=\"https://cdnjs.cloudflare.com/ajax/libs/mathjax/2.7.5/MathJax.js?config=TeX-AMS-MML_SVG\"></script><script type=\"text/javascript\">if (window.MathJax) {MathJax.Hub.Config({SVG: {font: \"STIX-Web\"}});}</script>                <script type=\"text/javascript\">window.PlotlyConfig = {MathJaxConfig: 'local'};</script>\n",
              "        <script src=\"https://cdn.plot.ly/plotly-2.8.3.min.js\"></script>                <div id=\"d0a6a175-219a-4177-8499-bfa7b197c63c\" class=\"plotly-graph-div\" style=\"height:525px; width:100%;\"></div>            <script type=\"text/javascript\">                                    window.PLOTLYENV=window.PLOTLYENV || {};                                    if (document.getElementById(\"d0a6a175-219a-4177-8499-bfa7b197c63c\")) {                    Plotly.newPlot(                        \"d0a6a175-219a-4177-8499-bfa7b197c63c\",                        [{\"hovertemplate\":\"PC 1=%{x}<br>PC 2=%{y}<extra></extra>\",\"legendgroup\":\"\",\"marker\":{\"color\":\"#636efa\",\"symbol\":\"circle\"},\"mode\":\"markers\",\"name\":\"\",\"orientation\":\"v\",\"showlegend\":false,\"x\":[-24.951747905872853,-24.61197575334278,-24.93841904930396,-24.325560947807197,-23.866048304206434,-24.271647346883775,-23.880669494152055,-22.38949232007803,-24.50742145644644,-25.09284686951359,-24.81856744356993,-23.93952540012187,-24.4496723921193,-22.848003872587196,-24.281219246690444,-23.87863023820137,-23.239033795884108,-23.608121264667396,-23.483322761237527,-23.086164709040023,-24.431753695318235,-23.981213867435518,-24.351367001815113,-25.376453914161917,-23.92636757670515,-25.01067621852099,-24.657085286873947,-23.57554036102949,-24.860455593928076,-21.54273192477148,-21.699408430269337,-21.149455734818996,-21.50652996747141,-20.638310384572396,-21.683590330139022,-22.907095204467574,-22.096501891217343,-21.362294917240842,-20.299110176583675,-22.73826260253618,-22.0054774014227,-21.816571377906556,-21.0334434536613,-20.971036067609855,-20.6744794355901,-21.992063097241473,-21.863627230150712,-21.927537444469607,-20.21190410887237,-21.2515310186902,-21.277674822619854,-20.892153969089133,-21.64545052960891,-21.81338953749659,-21.733497622933935,-22.149571508200548,-22.788743035287393,-22.90330199845379,-22.607688868421146,-22.122805293031853,-25.28315006152292,-23.82084846248318,-24.10284024598865,-23.04555785181726,-25.290021953267946,-23.850384212177417,-23.451803968314426,-24.11135226615267,-22.693379912415907,-23.571364999917872,-22.43369734618425,-23.46360918920314,-25.10942881465673,-23.553388549937427,-23.411832648288943,-23.41909273265978,-22.855328414292753,-24.778565254289312,-23.72839539447588,-24.743330678321712,-24.64369755365943,-22.53608423539648,-22.618310663049648,-22.885696685276017,-24.86511583725643,-22.66610302816148,-24.8783178187995,-23.107989475835524,-23.508283472602418,-20.080075971934857,-18.745898320536977,-18.999895061845937,-22.179908811602683,-19.182932854594775,-20.114622346985996,-23.717010327721912,-20.041580264981597,-19.656502272106355,-19.327494530213343,-18.706758854645148,-22.918254444591845,-21.95320999550998,-22.789866507303056,-19.8322476152937,-19.112880936545725,-19.90075837403669,-19.534952750766745,-20.055645665352667,-19.740026868563525,-19.6313485796729,-22.68157046159627,-19.083102177603912,-24.615623861200202,-19.76345875509531,-23.375853920413533,-24.066104579509908,-23.69763633565427,-22.62870623771779,-24.778565254289312,19.948144062059374,15.943460299606388,19.081111012407575,26.58293097040493,21.15617490860368,26.622034272639574,22.0355065197129,13.308759957652303,18.65473526491743,17.876285703539327,18.649161834847504,21.192127435621476,16.472735008974748,17.530192442790323,12.715601619573395,18.875521378993643,21.82495188766552,12.715601619573395,21.467529824453994,18.658895153032848,17.749861433883748,17.02815098492258,15.335430906414109,17.468837340157123,16.720261736979527,25.85471261861919,18.649161834847504,22.490680390778056,24.57895772677856,25.613020887803533,26.662856504485887,19.56007991006804,23.580116966890614,25.60456758427802,26.567582959272478,26.227562187198377,26.445146458385274,24.695403479637136,20.91611638680029,26.616861875970347,21.951497631248298,25.991839513207783,26.59231408522981,24.647792684978658,21.016599003683126,26.848810270692894,25.556529467811114,26.188044921506275,27.292703770646106,28.81648989787357,25.15416222456848,25.692396037251495,24.27868072157133,25.4614530119484,24.848369801429545,24.214323809917655,23.265712810245233,25.83240441986828,27.29042808161778,27.75115552934518,26.460751020426926,27.661866369897357,21.128059764117495,25.958951757511375,25.880743800165916,27.43211341018952,26.321821995075084,26.322023618028794,28.694462078421413,28.021121561594363,26.742994561590432,25.945091210429307,24.36147767794066,28.147830907833217,28.837180011135374,28.165364315471543,22.292621000263512,27.458644912959674,24.599413937208002,28.924185763918203,29.207920227372153,27.413198307769715,26.830867808029016,28.06450764790601,28.950472229105813,29.492689579147424,26.29818372686522,22.06924319241007,15.339171846885,19.583417847601577,28.261459416513038,18.091681304265858,17.895443939973195,24.77415156193487,18.360309041894162,22.333740107348326,21.701073655189045,27.385561400847113,18.575274572265474,17.74263035610337,20.509433888224873,20.6803513711886,21.309400745890787,18.77928655330533,19.408156204698113,20.838976402318462,20.490780754854562,20.322219840004685,15.190414608407773,16.913774833356218,21.05316617909111,17.83843667219289,18.682814035981544,15.396903968743183,19.85791179015373,21.471781664722844,18.343650896599115,24.785511601971805,20.809738315759056,20.322219840004685,-3.5306970864020055,-3.4036426981173666,-2.500258606545714,-4.666395179036356,-2.837782030614902,-2.8155394135386222,-2.0084002477722627,-5.163962617466951,-1.5609741384206355,-5.911294214417406,-4.5042801588742485,-3.8076864308897385,-4.31173696039971,-5.0349289951636775,-3.91843833520135,-4.823474512166222,-2.491373063898336,-2.963971137834497,-2.399490807336195,-1.8482851580005717,-4.69132545760308,-4.619874226040418,-3.7394718264795963,-3.808227248126069,-3.305106281025323,-4.447506105122604,-3.0095467730495704,-2.543974661272349,-3.587612783924838,2.2821302073145686,3.8912121072381236,1.7678599456942734,2.917398300580776,3.3492272182667873,2.5640794465524634,1.5007325953033273,0.9064962634722575,0.72372170164857,0.4609742074076877,1.74955894619658,4.316268503053378,0.3854490311557837,1.4028290453400976,2.764188565368356,2.372352050803221,0.9605164664107437,0.35843910258965617,2.229552023124267,3.732763119135012,0.019041267245249335,2.6939883591049796,2.2091274960478997,1.862279221340131,4.672430412370067,0.7647427212267083,1.2989538834447654,2.605256586573114,1.4514509837385752,3.5395006104151965,1.7678599456942734,2.9173983005807758],\"xaxis\":\"x\",\"y\":[26.811667755251495,25.65956339970047,26.930570984735965,23.523567118610877,22.65281282008109,22.54962611084177,21.88529689375981,23.935850562428985,26.603318002191518,27.150816299288138,27.61590211909104,27.52740799437201,26.22219897830941,22.770209771874825,22.565655704644858,23.999599104491875,19.65767848635386,18.86949313781054,20.84030059509881,22.56876790454975,28.834310623402526,27.22515769213169,22.7327853699517,22.425469917241504,20.618615223800294,24.30459287346164,26.09880315333355,24.11536066744898,24.44763229096259,-0.4587113321290859,-4.983265372131438,1.1476339900289363,-1.3735387467260456,-2.2496008475422737,-0.7116508124377168,-0.8230207887297164,-0.8985898119687887,-6.415792084163569,-4.915239417531986,-0.8994469024040895,-0.2172745235535144,-2.720701008326086,-0.7454821244689228,-8.511207323501637,-9.30845805632448,-6.594863728140962,0.04303192560548962,-1.4786313435860232,-5.561791391787704,-0.9303831421951425,-0.28032110910926245,-0.07407383194556774,-2.3658246503809783,-2.5344515130340692,-6.628386986821933,-3.798903310050484,-2.93896235365715,-2.4345845798471872,-2.4000086005941257,-2.6029586330241443,-3.961115045711722,-6.7132577700535565,-4.720304807476923,-5.823292944424319,-3.121797903409359,-5.963635962007446,-8.888610373405841,-5.459046873063368,-7.896632799718482,-9.640761077512567,-11.234935756666626,-5.653096701751098,-3.490789962126078,-3.963876390423506,-3.8410716783017915,-4.820551544165864,-6.410932035943376,-9.922097709093002,-3.0729988170052507,-4.91008035233404,-10.072286316278069,-7.104160156967699,-9.314291189848523,-7.200820532957464,-1.3394187259389356,-9.163498586950494,-5.295303577809817,-0.510485592798125,0.6333803660551662,-3.762817899550926,-4.765596493346043,-3.240652847572015,-1.5772976833787187,-3.905453273819184,-4.258859282610281,-7.024402125989832,-3.3149658606039774,-3.1986694992211606,-3.4995464265751837,-5.015374021847791,-3.7264334377286152,-3.608807828889123,-4.340696450990308,-3.7120324350668983,-4.2915582554821965,-4.474356987179294,-4.170866565156966,-3.7403108802629785,-4.389877511157446,-5.329492016240833,-0.03763176726512978,-6.273424133839143,-4.075121127836509,-4.474991503391139,0.08062972865251519,0.44996747109858926,-0.35887926135552933,-0.5824461641913539,-9.922097709093002,1.5951481379477952,0.49450187143257013,0.9071020739212492,-9.662558451032199,0.7574116468174832,-9.969144719043134,-0.36296277418275014,-1.7728687559512075,0.03597214642353812,-0.2156902105561614,-2.840498152788047,-0.4988054740917648,3.584762339025955,4.814929696081457,1.8027057802403477,-2.3791828258638152,-2.3393268083843433,1.8027057802403477,0.7034620403014997,-0.9229614393765394,3.023872816951272,1.8461416593005784,3.6258035904888737,4.450874339063503,3.16527164331494,-5.80679394096892,-2.840498152788047,0.14053687745448412,7.920852077898014,4.2520720132508,3.9455272527716208,7.7596777554631675,7.924373150292923,3.8860125695491043,5.931262068634286,2.4638209364949635,4.063191692394025,4.679503531111995,7.105221295083132,4.591669332176446,7.92196639761998,4.34373583557127,7.469208182021546,7.415123018730779,8.256093431905123,3.9034902653469903,7.41979934304143,3.2671163502742715,2.3299106603035873,2.257043669308483,5.626428820574992,4.9006438958892,6.785256713884268,6.067318343354481,6.539885405445795,7.762884003417768,8.270455209629663,2.95980400713751,5.898360597347548,5.3794546726102705,2.6910938833103355,5.557524127241608,8.497797247461396,6.626044255503854,5.923106892672815,6.348299881087122,6.6213363371673735,6.414821159405209,5.0293367270430736,5.043585334245384,5.413977594995754,-0.05176970608608419,10.263363978139884,6.389146009171613,5.805542370323335,6.129977054040201,5.309177707079276,4.351696194309726,6.8412190063953195,6.139571655195119,4.5545694565033426,8.728011003257,8.816084793607141,6.026915097937811,9.204875704339852,3.0457020504742514,5.902292785615704,-2.3863603722161324,3.1389389563017893,0.3773272652247129,-5.774841307881179,0.8138482259471346,0.893355351255456,-10.43518526848223,0.9935023774106752,2.419714733554917,1.3760471825670115,-9.413284122213426,3.9483770111906855,-0.4952541914896326,-0.7497580034310023,-2.3032900565084375,-0.9072084851696994,-1.1899228860632156,0.5140771910349214,1.852913518598327,-0.7238750479173444,-0.5503930184937083,2.6730234610142434,0.8427146097381131,-0.6623432296679913,0.7392540130985698,0.12513324675060472,1.2724726245864297,-0.35266883801479376,-2.1264453627667175,2.6502889127296783,-4.525741552873371,-1.2045219677191241,-0.5503930184937083,-15.314215798684383,-14.82510434133115,-14.629188950637273,-14.299508976420068,-13.067170557478898,-16.605138225285156,-17.53228849503934,-16.323414223144102,-15.681657953488012,-13.004067851657865,-14.770413151954203,-13.539301294350894,-15.912690677109053,-14.958101355067047,-16.244436152310225,-15.412506060187944,-15.404390719882768,-15.601169220398356,-15.426545308752463,-13.829361048954997,-14.905625435820667,-14.375582387174648,-15.023157027603585,-14.44552028841227,-18.578436657556473,-15.07229148772802,-14.747259260628057,-14.573222592133504,-15.82248146624585,-6.832262581703218,-4.807431872419299,-8.546536367061377,-7.802846112569985,-6.9462381153409165,-9.158474960426128,-5.985821310538761,-6.720923065301933,-6.058752060722882,-8.76160938434234,-6.026409714185247,-8.218912544125304,-7.535185735496295,-6.960275779157341,-5.94148287131564,-8.146733625071077,-2.5508630853982974,-7.897395175031176,-5.391330616887573,-5.803326289015388,-8.2034396087996,-6.258848235958435,-6.65152963131598,-8.185917085721325,-6.14345417777598,-5.934079971599734,-3.735186485080982,-5.291556076587163,-2.9585715314157093,-5.670590345883204,-8.546536367061377,-7.802846112569985],\"yaxis\":\"y\",\"type\":\"scatter\"}],                        {\"template\":{\"data\":{\"bar\":[{\"error_x\":{\"color\":\"#2a3f5f\"},\"error_y\":{\"color\":\"#2a3f5f\"},\"marker\":{\"line\":{\"color\":\"#E5ECF6\",\"width\":0.5},\"pattern\":{\"fillmode\":\"overlay\",\"size\":10,\"solidity\":0.2}},\"type\":\"bar\"}],\"barpolar\":[{\"marker\":{\"line\":{\"color\":\"#E5ECF6\",\"width\":0.5},\"pattern\":{\"fillmode\":\"overlay\",\"size\":10,\"solidity\":0.2}},\"type\":\"barpolar\"}],\"carpet\":[{\"aaxis\":{\"endlinecolor\":\"#2a3f5f\",\"gridcolor\":\"white\",\"linecolor\":\"white\",\"minorgridcolor\":\"white\",\"startlinecolor\":\"#2a3f5f\"},\"baxis\":{\"endlinecolor\":\"#2a3f5f\",\"gridcolor\":\"white\",\"linecolor\":\"white\",\"minorgridcolor\":\"white\",\"startlinecolor\":\"#2a3f5f\"},\"type\":\"carpet\"}],\"choropleth\":[{\"colorbar\":{\"outlinewidth\":0,\"ticks\":\"\"},\"type\":\"choropleth\"}],\"contour\":[{\"colorbar\":{\"outlinewidth\":0,\"ticks\":\"\"},\"colorscale\":[[0.0,\"#0d0887\"],[0.1111111111111111,\"#46039f\"],[0.2222222222222222,\"#7201a8\"],[0.3333333333333333,\"#9c179e\"],[0.4444444444444444,\"#bd3786\"],[0.5555555555555556,\"#d8576b\"],[0.6666666666666666,\"#ed7953\"],[0.7777777777777778,\"#fb9f3a\"],[0.8888888888888888,\"#fdca26\"],[1.0,\"#f0f921\"]],\"type\":\"contour\"}],\"contourcarpet\":[{\"colorbar\":{\"outlinewidth\":0,\"ticks\":\"\"},\"type\":\"contourcarpet\"}],\"heatmap\":[{\"colorbar\":{\"outlinewidth\":0,\"ticks\":\"\"},\"colorscale\":[[0.0,\"#0d0887\"],[0.1111111111111111,\"#46039f\"],[0.2222222222222222,\"#7201a8\"],[0.3333333333333333,\"#9c179e\"],[0.4444444444444444,\"#bd3786\"],[0.5555555555555556,\"#d8576b\"],[0.6666666666666666,\"#ed7953\"],[0.7777777777777778,\"#fb9f3a\"],[0.8888888888888888,\"#fdca26\"],[1.0,\"#f0f921\"]],\"type\":\"heatmap\"}],\"heatmapgl\":[{\"colorbar\":{\"outlinewidth\":0,\"ticks\":\"\"},\"colorscale\":[[0.0,\"#0d0887\"],[0.1111111111111111,\"#46039f\"],[0.2222222222222222,\"#7201a8\"],[0.3333333333333333,\"#9c179e\"],[0.4444444444444444,\"#bd3786\"],[0.5555555555555556,\"#d8576b\"],[0.6666666666666666,\"#ed7953\"],[0.7777777777777778,\"#fb9f3a\"],[0.8888888888888888,\"#fdca26\"],[1.0,\"#f0f921\"]],\"type\":\"heatmapgl\"}],\"histogram\":[{\"marker\":{\"pattern\":{\"fillmode\":\"overlay\",\"size\":10,\"solidity\":0.2}},\"type\":\"histogram\"}],\"histogram2d\":[{\"colorbar\":{\"outlinewidth\":0,\"ticks\":\"\"},\"colorscale\":[[0.0,\"#0d0887\"],[0.1111111111111111,\"#46039f\"],[0.2222222222222222,\"#7201a8\"],[0.3333333333333333,\"#9c179e\"],[0.4444444444444444,\"#bd3786\"],[0.5555555555555556,\"#d8576b\"],[0.6666666666666666,\"#ed7953\"],[0.7777777777777778,\"#fb9f3a\"],[0.8888888888888888,\"#fdca26\"],[1.0,\"#f0f921\"]],\"type\":\"histogram2d\"}],\"histogram2dcontour\":[{\"colorbar\":{\"outlinewidth\":0,\"ticks\":\"\"},\"colorscale\":[[0.0,\"#0d0887\"],[0.1111111111111111,\"#46039f\"],[0.2222222222222222,\"#7201a8\"],[0.3333333333333333,\"#9c179e\"],[0.4444444444444444,\"#bd3786\"],[0.5555555555555556,\"#d8576b\"],[0.6666666666666666,\"#ed7953\"],[0.7777777777777778,\"#fb9f3a\"],[0.8888888888888888,\"#fdca26\"],[1.0,\"#f0f921\"]],\"type\":\"histogram2dcontour\"}],\"mesh3d\":[{\"colorbar\":{\"outlinewidth\":0,\"ticks\":\"\"},\"type\":\"mesh3d\"}],\"parcoords\":[{\"line\":{\"colorbar\":{\"outlinewidth\":0,\"ticks\":\"\"}},\"type\":\"parcoords\"}],\"pie\":[{\"automargin\":true,\"type\":\"pie\"}],\"scatter\":[{\"marker\":{\"colorbar\":{\"outlinewidth\":0,\"ticks\":\"\"}},\"type\":\"scatter\"}],\"scatter3d\":[{\"line\":{\"colorbar\":{\"outlinewidth\":0,\"ticks\":\"\"}},\"marker\":{\"colorbar\":{\"outlinewidth\":0,\"ticks\":\"\"}},\"type\":\"scatter3d\"}],\"scattercarpet\":[{\"marker\":{\"colorbar\":{\"outlinewidth\":0,\"ticks\":\"\"}},\"type\":\"scattercarpet\"}],\"scattergeo\":[{\"marker\":{\"colorbar\":{\"outlinewidth\":0,\"ticks\":\"\"}},\"type\":\"scattergeo\"}],\"scattergl\":[{\"marker\":{\"colorbar\":{\"outlinewidth\":0,\"ticks\":\"\"}},\"type\":\"scattergl\"}],\"scattermapbox\":[{\"marker\":{\"colorbar\":{\"outlinewidth\":0,\"ticks\":\"\"}},\"type\":\"scattermapbox\"}],\"scatterpolar\":[{\"marker\":{\"colorbar\":{\"outlinewidth\":0,\"ticks\":\"\"}},\"type\":\"scatterpolar\"}],\"scatterpolargl\":[{\"marker\":{\"colorbar\":{\"outlinewidth\":0,\"ticks\":\"\"}},\"type\":\"scatterpolargl\"}],\"scatterternary\":[{\"marker\":{\"colorbar\":{\"outlinewidth\":0,\"ticks\":\"\"}},\"type\":\"scatterternary\"}],\"surface\":[{\"colorbar\":{\"outlinewidth\":0,\"ticks\":\"\"},\"colorscale\":[[0.0,\"#0d0887\"],[0.1111111111111111,\"#46039f\"],[0.2222222222222222,\"#7201a8\"],[0.3333333333333333,\"#9c179e\"],[0.4444444444444444,\"#bd3786\"],[0.5555555555555556,\"#d8576b\"],[0.6666666666666666,\"#ed7953\"],[0.7777777777777778,\"#fb9f3a\"],[0.8888888888888888,\"#fdca26\"],[1.0,\"#f0f921\"]],\"type\":\"surface\"}],\"table\":[{\"cells\":{\"fill\":{\"color\":\"#EBF0F8\"},\"line\":{\"color\":\"white\"}},\"header\":{\"fill\":{\"color\":\"#C8D4E3\"},\"line\":{\"color\":\"white\"}},\"type\":\"table\"}]},\"layout\":{\"annotationdefaults\":{\"arrowcolor\":\"#2a3f5f\",\"arrowhead\":0,\"arrowwidth\":1},\"autotypenumbers\":\"strict\",\"coloraxis\":{\"colorbar\":{\"outlinewidth\":0,\"ticks\":\"\"}},\"colorscale\":{\"diverging\":[[0,\"#8e0152\"],[0.1,\"#c51b7d\"],[0.2,\"#de77ae\"],[0.3,\"#f1b6da\"],[0.4,\"#fde0ef\"],[0.5,\"#f7f7f7\"],[0.6,\"#e6f5d0\"],[0.7,\"#b8e186\"],[0.8,\"#7fbc41\"],[0.9,\"#4d9221\"],[1,\"#276419\"]],\"sequential\":[[0.0,\"#0d0887\"],[0.1111111111111111,\"#46039f\"],[0.2222222222222222,\"#7201a8\"],[0.3333333333333333,\"#9c179e\"],[0.4444444444444444,\"#bd3786\"],[0.5555555555555556,\"#d8576b\"],[0.6666666666666666,\"#ed7953\"],[0.7777777777777778,\"#fb9f3a\"],[0.8888888888888888,\"#fdca26\"],[1.0,\"#f0f921\"]],\"sequentialminus\":[[0.0,\"#0d0887\"],[0.1111111111111111,\"#46039f\"],[0.2222222222222222,\"#7201a8\"],[0.3333333333333333,\"#9c179e\"],[0.4444444444444444,\"#bd3786\"],[0.5555555555555556,\"#d8576b\"],[0.6666666666666666,\"#ed7953\"],[0.7777777777777778,\"#fb9f3a\"],[0.8888888888888888,\"#fdca26\"],[1.0,\"#f0f921\"]]},\"colorway\":[\"#636efa\",\"#EF553B\",\"#00cc96\",\"#ab63fa\",\"#FFA15A\",\"#19d3f3\",\"#FF6692\",\"#B6E880\",\"#FF97FF\",\"#FECB52\"],\"font\":{\"color\":\"#2a3f5f\"},\"geo\":{\"bgcolor\":\"white\",\"lakecolor\":\"white\",\"landcolor\":\"#E5ECF6\",\"showlakes\":true,\"showland\":true,\"subunitcolor\":\"white\"},\"hoverlabel\":{\"align\":\"left\"},\"hovermode\":\"closest\",\"mapbox\":{\"style\":\"light\"},\"paper_bgcolor\":\"white\",\"plot_bgcolor\":\"#E5ECF6\",\"polar\":{\"angularaxis\":{\"gridcolor\":\"white\",\"linecolor\":\"white\",\"ticks\":\"\"},\"bgcolor\":\"#E5ECF6\",\"radialaxis\":{\"gridcolor\":\"white\",\"linecolor\":\"white\",\"ticks\":\"\"}},\"scene\":{\"xaxis\":{\"backgroundcolor\":\"#E5ECF6\",\"gridcolor\":\"white\",\"gridwidth\":2,\"linecolor\":\"white\",\"showbackground\":true,\"ticks\":\"\",\"zerolinecolor\":\"white\"},\"yaxis\":{\"backgroundcolor\":\"#E5ECF6\",\"gridcolor\":\"white\",\"gridwidth\":2,\"linecolor\":\"white\",\"showbackground\":true,\"ticks\":\"\",\"zerolinecolor\":\"white\"},\"zaxis\":{\"backgroundcolor\":\"#E5ECF6\",\"gridcolor\":\"white\",\"gridwidth\":2,\"linecolor\":\"white\",\"showbackground\":true,\"ticks\":\"\",\"zerolinecolor\":\"white\"}},\"shapedefaults\":{\"line\":{\"color\":\"#2a3f5f\"}},\"ternary\":{\"aaxis\":{\"gridcolor\":\"white\",\"linecolor\":\"white\",\"ticks\":\"\"},\"baxis\":{\"gridcolor\":\"white\",\"linecolor\":\"white\",\"ticks\":\"\"},\"bgcolor\":\"#E5ECF6\",\"caxis\":{\"gridcolor\":\"white\",\"linecolor\":\"white\",\"ticks\":\"\"}},\"title\":{\"x\":0.05},\"xaxis\":{\"automargin\":true,\"gridcolor\":\"white\",\"linecolor\":\"white\",\"ticks\":\"\",\"title\":{\"standoff\":15},\"zerolinecolor\":\"white\",\"zerolinewidth\":2},\"yaxis\":{\"automargin\":true,\"gridcolor\":\"white\",\"linecolor\":\"white\",\"ticks\":\"\",\"title\":{\"standoff\":15},\"zerolinecolor\":\"white\",\"zerolinewidth\":2}}},\"xaxis\":{\"anchor\":\"y\",\"domain\":[0.0,1.0],\"title\":{\"text\":\"PC 1\"}},\"yaxis\":{\"anchor\":\"x\",\"domain\":[0.0,1.0],\"title\":{\"text\":\"PC 2\"}},\"legend\":{\"tracegroupgap\":0},\"title\":{\"text\":\"Total Explained Variance: 96.85%\"}},                        {\"responsive\": true}                    ).then(function(){\n",
              "                            \n",
              "var gd = document.getElementById('d0a6a175-219a-4177-8499-bfa7b197c63c');\n",
              "var x = new MutationObserver(function (mutations, observer) {{\n",
              "        var display = window.getComputedStyle(gd).display;\n",
              "        if (!display || display === 'none') {{\n",
              "            console.log([gd, 'removed!']);\n",
              "            Plotly.purge(gd);\n",
              "            observer.disconnect();\n",
              "        }}\n",
              "}});\n",
              "\n",
              "// Listen for the removal of the full notebook cells\n",
              "var notebookContainer = gd.closest('#notebook-container');\n",
              "if (notebookContainer) {{\n",
              "    x.observe(notebookContainer, {childList: true});\n",
              "}}\n",
              "\n",
              "// Listen for the clearing of the current output cell\n",
              "var outputEl = gd.closest('.output');\n",
              "if (outputEl) {{\n",
              "    x.observe(outputEl, {childList: true});\n",
              "}}\n",
              "\n",
              "                        })                };                            </script>        </div>\n",
              "</body>\n",
              "</html>"
            ]
          },
          "metadata": {}
        },
        {
          "output_type": "execute_result",
          "data": {
            "text/plain": [
              "array([0.78010108, 0.18840661])"
            ]
          },
          "metadata": {},
          "execution_count": 19
        }
      ]
    },
    {
      "cell_type": "markdown",
      "source": [
        "Here, we can see that in terms of our componenets, the majority of our important data is in two dimensions and we can see what the data is exactly for delicious pizzas."
      ],
      "metadata": {
        "id": "ceQ5u2kNPQlU"
      }
    },
    {
      "cell_type": "code",
      "source": [
        "n_pcs = pca.components_.shape[0]\n",
        "print(\"number of principal components: \", n_pcs)\n",
        "\n",
        "important_components = [np.abs(pca.components_[i]).argmax() for i in range(n_pcs)]\n",
        "print(\"indicies of important features: \", important_components)\n",
        "\n",
        "important_features = [features[important_components[i]] for i in range(n_pcs)]\n",
        "print(\"most important features \", important_features, \"\\n\")"
      ],
      "metadata": {
        "colab": {
          "base_uri": "https://localhost:8080/"
        },
        "id": "8GnTnUoM8ms8",
        "outputId": "3a765b3b-2db4-4884-eee9-e48f6ae79f73"
      },
      "execution_count": null,
      "outputs": [
        {
          "output_type": "stream",
          "name": "stdout",
          "text": [
            "number of principal components:  2\n",
            "indicies of important features:  [5, 0]\n",
            "most important features  ['perimeter_worst', 'concave points_se'] \n",
            "\n"
          ]
        }
      ]
    },
    {
      "cell_type": "markdown",
      "source": [
        "Our analysis of the important features of PCA show that the amount of carbohydrates and moistness of a 100g sample of pizza are the most important parts."
      ],
      "metadata": {
        "id": "z2Zg_yI-PkRL"
      }
    },
    {
      "cell_type": "code",
      "source": [
        "pca = PCA(n_components=2)\n",
        "\n",
        "components_a1 = pca.fit_transform(dfa)\n",
        "#print(pca.explained_variance_ratio_)\n",
        "#print(pca.feature_names_in_)\n",
        "\n",
        "pca2 = PCA(svd_solver='auto', whiten=True)\n",
        "pca2.fit(X)\n",
        "\n",
        "#print(pca.components_)\n",
        "#print(sum(pca.components_[0][0:6]))\n",
        "#print(sum(pca.components_[1][0:6]))\n",
        "#print(sum(pca.components_[0][0:6]) + sum(pca.components_[1][0:6]))\n",
        "#print(sum(pca.explained_variance_ratio_))\n",
        "\n",
        "#Print the PC percentages\n",
        "print(\"Principle Components\")\n",
        "print(\"PC1: \" + str(round(pca.explained_variance_ratio_[0] * 100, 2)) + \"%\")\n",
        "print(\"PC2: \" + str(round(pca.explained_variance_ratio_[1] * 100, 2)) + \"%\\n\")\n",
        "\n",
        "\n",
        "squares1 = [1, 2, 3, 4, 5, 6, 7, 8]\n",
        "i = 0\n",
        "for x in pca.components_[0]:\n",
        "  squares1[i] = x * x\n",
        "  i += 1\n",
        "\n",
        "squares2 = [1, 2, 3, 4, 5, 6, 7, 8]\n",
        "i = 0\n",
        "for x in pca.components_[1]:\n",
        "  squares2[i] = x * x\n",
        "  i += 1\n",
        "\n",
        "#print(sum(squares1))\n",
        "#print(squares1)\n",
        "\n",
        "#Print the feature percentages\n",
        "print(\"Feature percentages in PC1\")\n",
        "print(\"mois: \" + str(round(squares1[0] * 100, 2)) + \"%\")\n",
        "print(\"prot: \" + str(round(squares1[1] * 100, 2)) + \"%\")\n",
        "print(\"fat: \" + str(round(squares1[2] * 100, 2)) + \"%\")\n",
        "print(\"ash: \" + str(round(squares1[3] * 100, 2)) + \"%\")\n",
        "print(\"sodium: \" + str(round(squares1[4] * 100, 2)) + \"%\")\n",
        "print(\"carb: \" + str(round(squares1[5] * 100, 2)) + \"%\")\n",
        "print(\"cal: \" + str(round(squares1[6] * 100, 2)) + \"%\\n\")\n",
        "\n",
        "print(\"Feature percentages in PC2\")\n",
        "print(\"mois: \" + str(round(squares2[0] * 100, 2)) + \"%\")\n",
        "print(\"prot: \" + str(round(squares2[1] * 100, 2)) + \"%\")\n",
        "print(\"fat: \" + str(round(squares2[2] * 100, 2)) + \"%\")\n",
        "print(\"ash: \" + str(round(squares2[3] * 100, 2)) + \"%\")\n",
        "print(\"sodium: \" + str(round(squares2[4] * 100, 2)) + \"%\")\n",
        "print(\"carb: \" + str(round(squares2[5] * 100, 2)) + \"%\")\n",
        "print(\"cal: \" + str(round(squares2[6] * 100, 2)) + \"%\")\n",
        "\n",
        "features = ['mois',\t'prot',\t'fat',\t'ash',\t'sodium',\t'carb',\t'cal']\n",
        "X = dfa[features]\n",
        "\n",
        "\n",
        "loadings = pca.components_.T * np.sqrt(pca.explained_variance_)\n",
        "#fig = px.scatter(components_5, x=0, y=1)\n",
        "total_var = pca.explained_variance_ratio_.sum() * 100\n",
        "\n",
        "labels = {str(i): f\"PC {i+1}\" for i in range(n_components)}\n",
        "labels['color'] = 'Median Price'\n",
        "\n",
        "fig = px.scatter(\n",
        "    components_a1, x=0, y=1,\n",
        "    title=f'Total Explained Variance: {total_var:.2f}%',\n",
        "    labels={'0': 'PC 1', '1': 'PC 2', '2': 'PC 3'}\n",
        ")\n",
        "\n",
        "for i, feature in enumerate(features):\n",
        "    fig.add_shape(\n",
        "        type='line',\n",
        "        x0=0, y0=0,\n",
        "        x1=loadings[i, 0],\n",
        "        y1=loadings[i, 1]\n",
        "    )\n",
        "    fig.add_annotation(\n",
        "        x=loadings[i, 0],\n",
        "        y=loadings[i, 1],\n",
        "        ax=0, ay=0,\n",
        "        xanchor=\"center\",\n",
        "        yanchor=\"bottom\",\n",
        "        text=feature,\n",
        "    )\n",
        "\n",
        "\n",
        "#fig = px.scatter(components_u, x=0, y=1, color_continuous_scale=px.colors.sequential.Blackbody)\n",
        "fig.show()\n"
      ],
      "metadata": {
        "colab": {
          "base_uri": "https://localhost:8080/",
          "height": 906
        },
        "id": "lw3Sjl6A7XDQ",
        "outputId": "1650aa94-ce85-4fb4-e839-723c3a14c533"
      },
      "execution_count": null,
      "outputs": [
        {
          "output_type": "stream",
          "name": "stdout",
          "text": [
            "Principle Components\n",
            "PC1: 78.01%\n",
            "PC2: 18.84%\n",
            "\n",
            "Feature percentages in PC1\n",
            "mois: 7.67%\n",
            "prot: 7.13%\n",
            "fat: 7.78%\n",
            "ash: 0.31%\n",
            "sodium: 0.01%\n",
            "carb: 77.1%\n",
            "cal: 0.0%\n",
            "\n",
            "Feature percentages in PC2\n",
            "mois: 55.81%\n",
            "prot: 0.31%\n",
            "fat: 43.28%\n",
            "ash: 0.16%\n",
            "sodium: 0.06%\n",
            "carb: 0.0%\n",
            "cal: 0.38%\n"
          ]
        },
        {
          "output_type": "display_data",
          "data": {
            "text/html": [
              "<html>\n",
              "<head><meta charset=\"utf-8\" /></head>\n",
              "<body>\n",
              "    <div>            <script src=\"https://cdnjs.cloudflare.com/ajax/libs/mathjax/2.7.5/MathJax.js?config=TeX-AMS-MML_SVG\"></script><script type=\"text/javascript\">if (window.MathJax) {MathJax.Hub.Config({SVG: {font: \"STIX-Web\"}});}</script>                <script type=\"text/javascript\">window.PlotlyConfig = {MathJaxConfig: 'local'};</script>\n",
              "        <script src=\"https://cdn.plot.ly/plotly-2.8.3.min.js\"></script>                <div id=\"296002b8-3838-4688-8d69-71c9607a6e6a\" class=\"plotly-graph-div\" style=\"height:525px; width:100%;\"></div>            <script type=\"text/javascript\">                                    window.PLOTLYENV=window.PLOTLYENV || {};                                    if (document.getElementById(\"296002b8-3838-4688-8d69-71c9607a6e6a\")) {                    Plotly.newPlot(                        \"296002b8-3838-4688-8d69-71c9607a6e6a\",                        [{\"hovertemplate\":\"PC 1=%{x}<br>PC 2=%{y}<extra></extra>\",\"legendgroup\":\"\",\"marker\":{\"color\":\"#636efa\",\"symbol\":\"circle\"},\"mode\":\"markers\",\"name\":\"\",\"orientation\":\"v\",\"showlegend\":false,\"x\":[-24.951747905872853,-24.61197575334278,-24.93841904930396,-24.325560947807197,-23.866048304206434,-24.271647346883775,-23.880669494152055,-22.38949232007803,-24.50742145644644,-25.09284686951359,-24.81856744356993,-23.93952540012187,-24.4496723921193,-22.848003872587196,-24.281219246690444,-23.87863023820137,-23.239033795884108,-23.608121264667396,-23.483322761237527,-23.086164709040023,-24.431753695318235,-23.981213867435518,-24.351367001815113,-25.376453914161917,-23.92636757670515,-25.01067621852099,-24.657085286873947,-23.57554036102949,-24.860455593928076,-21.54273192477148,-21.699408430269337,-21.149455734818996,-21.50652996747141,-20.638310384572396,-21.683590330139022,-22.907095204467574,-22.096501891217343,-21.362294917240842,-20.299110176583675,-22.73826260253618,-22.0054774014227,-21.816571377906556,-21.0334434536613,-20.971036067609855,-20.6744794355901,-21.992063097241473,-21.863627230150712,-21.927537444469607,-20.21190410887237,-21.2515310186902,-21.277674822619854,-20.892153969089133,-21.64545052960891,-21.81338953749659,-21.733497622933935,-22.149571508200548,-22.788743035287393,-22.90330199845379,-22.607688868421146,-22.122805293031853,-25.28315006152292,-23.82084846248318,-24.10284024598865,-23.04555785181726,-25.290021953267946,-23.850384212177417,-23.451803968314426,-24.11135226615267,-22.693379912415907,-23.571364999917872,-22.43369734618425,-23.46360918920314,-25.10942881465673,-23.553388549937427,-23.411832648288943,-23.41909273265978,-22.855328414292753,-24.778565254289312,-23.72839539447588,-24.743330678321712,-24.64369755365943,-22.53608423539648,-22.618310663049648,-22.885696685276017,-24.86511583725643,-22.66610302816148,-24.8783178187995,-23.107989475835524,-23.508283472602418,-20.080075971934857,-18.745898320536977,-18.999895061845937,-22.179908811602683,-19.182932854594775,-20.114622346985996,-23.717010327721912,-20.041580264981597,-19.656502272106355,-19.327494530213343,-18.706758854645148,-22.918254444591845,-21.95320999550998,-22.789866507303056,-19.8322476152937,-19.112880936545725,-19.90075837403669,-19.534952750766745,-20.055645665352667,-19.740026868563525,-19.6313485796729,-22.68157046159627,-19.083102177603912,-24.615623861200202,-19.76345875509531,-23.375853920413533,-24.066104579509908,-23.69763633565427,-22.62870623771779,-24.778565254289312,19.948144062059374,15.943460299606388,19.081111012407575,26.58293097040493,21.15617490860368,26.622034272639574,22.0355065197129,13.308759957652303,18.65473526491743,17.876285703539327,18.649161834847504,21.192127435621476,16.472735008974748,17.530192442790323,12.715601619573395,18.875521378993643,21.82495188766552,12.715601619573395,21.467529824453994,18.658895153032848,17.749861433883748,17.02815098492258,15.335430906414109,17.468837340157123,16.720261736979527,25.85471261861919,18.649161834847504,22.490680390778056,24.57895772677856,25.613020887803533,26.662856504485887,19.56007991006804,23.580116966890614,25.60456758427802,26.567582959272478,26.227562187198377,26.445146458385274,24.695403479637136,20.91611638680029,26.616861875970347,21.951497631248298,25.991839513207783,26.59231408522981,24.647792684978658,21.016599003683126,26.848810270692894,25.556529467811114,26.188044921506275,27.292703770646106,28.81648989787357,25.15416222456848,25.692396037251495,24.27868072157133,25.4614530119484,24.848369801429545,24.214323809917655,23.265712810245233,25.83240441986828,27.29042808161778,27.75115552934518,26.460751020426926,27.661866369897357,21.128059764117495,25.958951757511375,25.880743800165916,27.43211341018952,26.321821995075084,26.322023618028794,28.694462078421413,28.021121561594363,26.742994561590432,25.945091210429307,24.36147767794066,28.147830907833217,28.837180011135374,28.165364315471543,22.292621000263512,27.458644912959674,24.599413937208002,28.924185763918203,29.207920227372153,27.413198307769715,26.830867808029016,28.06450764790601,28.950472229105813,29.492689579147424,26.29818372686522,22.06924319241007,15.339171846885,19.583417847601577,28.261459416513038,18.091681304265858,17.895443939973195,24.77415156193487,18.360309041894162,22.333740107348326,21.701073655189045,27.385561400847113,18.575274572265474,17.74263035610337,20.509433888224873,20.6803513711886,21.309400745890787,18.77928655330533,19.408156204698113,20.838976402318462,20.490780754854562,20.322219840004685,15.190414608407773,16.913774833356218,21.05316617909111,17.83843667219289,18.682814035981544,15.396903968743183,19.85791179015373,21.471781664722844,18.343650896599115,24.785511601971805,20.809738315759056,20.322219840004685,-3.5306970864020055,-3.4036426981173666,-2.500258606545714,-4.666395179036356,-2.837782030614902,-2.8155394135386222,-2.0084002477722627,-5.163962617466951,-1.5609741384206355,-5.911294214417406,-4.5042801588742485,-3.8076864308897385,-4.31173696039971,-5.0349289951636775,-3.91843833520135,-4.823474512166222,-2.491373063898336,-2.963971137834497,-2.399490807336195,-1.8482851580005717,-4.69132545760308,-4.619874226040418,-3.7394718264795963,-3.808227248126069,-3.305106281025323,-4.447506105122604,-3.0095467730495704,-2.543974661272349,-3.587612783924838,2.2821302073145686,3.8912121072381236,1.7678599456942734,2.917398300580776,3.3492272182667873,2.5640794465524634,1.5007325953033273,0.9064962634722575,0.72372170164857,0.4609742074076877,1.74955894619658,4.316268503053378,0.3854490311557837,1.4028290453400976,2.764188565368356,2.372352050803221,0.9605164664107437,0.35843910258965617,2.229552023124267,3.732763119135012,0.019041267245249335,2.6939883591049796,2.2091274960478997,1.862279221340131,4.672430412370067,0.7647427212267083,1.2989538834447654,2.605256586573114,1.4514509837385752,3.5395006104151965,1.7678599456942734,2.9173983005807758],\"xaxis\":\"x\",\"y\":[26.811667755251495,25.65956339970047,26.930570984735965,23.523567118610877,22.65281282008109,22.54962611084177,21.88529689375981,23.935850562428985,26.603318002191518,27.150816299288138,27.61590211909104,27.52740799437201,26.22219897830941,22.770209771874825,22.565655704644858,23.999599104491875,19.65767848635386,18.86949313781054,20.84030059509881,22.56876790454975,28.834310623402526,27.22515769213169,22.7327853699517,22.425469917241504,20.618615223800294,24.30459287346164,26.09880315333355,24.11536066744898,24.44763229096259,-0.4587113321290859,-4.983265372131438,1.1476339900289363,-1.3735387467260456,-2.2496008475422737,-0.7116508124377168,-0.8230207887297164,-0.8985898119687887,-6.415792084163569,-4.915239417531986,-0.8994469024040895,-0.2172745235535144,-2.720701008326086,-0.7454821244689228,-8.511207323501637,-9.30845805632448,-6.594863728140962,0.04303192560548962,-1.4786313435860232,-5.561791391787704,-0.9303831421951425,-0.28032110910926245,-0.07407383194556774,-2.3658246503809783,-2.5344515130340692,-6.628386986821933,-3.798903310050484,-2.93896235365715,-2.4345845798471872,-2.4000086005941257,-2.6029586330241443,-3.961115045711722,-6.7132577700535565,-4.720304807476923,-5.823292944424319,-3.121797903409359,-5.963635962007446,-8.888610373405841,-5.459046873063368,-7.896632799718482,-9.640761077512567,-11.234935756666626,-5.653096701751098,-3.490789962126078,-3.963876390423506,-3.8410716783017915,-4.820551544165864,-6.410932035943376,-9.922097709093002,-3.0729988170052507,-4.91008035233404,-10.072286316278069,-7.104160156967699,-9.314291189848523,-7.200820532957464,-1.3394187259389356,-9.163498586950494,-5.295303577809817,-0.510485592798125,0.6333803660551662,-3.762817899550926,-4.765596493346043,-3.240652847572015,-1.5772976833787187,-3.905453273819184,-4.258859282610281,-7.024402125989832,-3.3149658606039774,-3.1986694992211606,-3.4995464265751837,-5.015374021847791,-3.7264334377286152,-3.608807828889123,-4.340696450990308,-3.7120324350668983,-4.2915582554821965,-4.474356987179294,-4.170866565156966,-3.7403108802629785,-4.389877511157446,-5.329492016240833,-0.03763176726512978,-6.273424133839143,-4.075121127836509,-4.474991503391139,0.08062972865251519,0.44996747109858926,-0.35887926135552933,-0.5824461641913539,-9.922097709093002,1.5951481379477952,0.49450187143257013,0.9071020739212492,-9.662558451032199,0.7574116468174832,-9.969144719043134,-0.36296277418275014,-1.7728687559512075,0.03597214642353812,-0.2156902105561614,-2.840498152788047,-0.4988054740917648,3.584762339025955,4.814929696081457,1.8027057802403477,-2.3791828258638152,-2.3393268083843433,1.8027057802403477,0.7034620403014997,-0.9229614393765394,3.023872816951272,1.8461416593005784,3.6258035904888737,4.450874339063503,3.16527164331494,-5.80679394096892,-2.840498152788047,0.14053687745448412,7.920852077898014,4.2520720132508,3.9455272527716208,7.7596777554631675,7.924373150292923,3.8860125695491043,5.931262068634286,2.4638209364949635,4.063191692394025,4.679503531111995,7.105221295083132,4.591669332176446,7.92196639761998,4.34373583557127,7.469208182021546,7.415123018730779,8.256093431905123,3.9034902653469903,7.41979934304143,3.2671163502742715,2.3299106603035873,2.257043669308483,5.626428820574992,4.9006438958892,6.785256713884268,6.067318343354481,6.539885405445795,7.762884003417768,8.270455209629663,2.95980400713751,5.898360597347548,5.3794546726102705,2.6910938833103355,5.557524127241608,8.497797247461396,6.626044255503854,5.923106892672815,6.348299881087122,6.6213363371673735,6.414821159405209,5.0293367270430736,5.043585334245384,5.413977594995754,-0.05176970608608419,10.263363978139884,6.389146009171613,5.805542370323335,6.129977054040201,5.309177707079276,4.351696194309726,6.8412190063953195,6.139571655195119,4.5545694565033426,8.728011003257,8.816084793607141,6.026915097937811,9.204875704339852,3.0457020504742514,5.902292785615704,-2.3863603722161324,3.1389389563017893,0.3773272652247129,-5.774841307881179,0.8138482259471346,0.893355351255456,-10.43518526848223,0.9935023774106752,2.419714733554917,1.3760471825670115,-9.413284122213426,3.9483770111906855,-0.4952541914896326,-0.7497580034310023,-2.3032900565084375,-0.9072084851696994,-1.1899228860632156,0.5140771910349214,1.852913518598327,-0.7238750479173444,-0.5503930184937083,2.6730234610142434,0.8427146097381131,-0.6623432296679913,0.7392540130985698,0.12513324675060472,1.2724726245864297,-0.35266883801479376,-2.1264453627667175,2.6502889127296783,-4.525741552873371,-1.2045219677191241,-0.5503930184937083,-15.314215798684383,-14.82510434133115,-14.629188950637273,-14.299508976420068,-13.067170557478898,-16.605138225285156,-17.53228849503934,-16.323414223144102,-15.681657953488012,-13.004067851657865,-14.770413151954203,-13.539301294350894,-15.912690677109053,-14.958101355067047,-16.244436152310225,-15.412506060187944,-15.404390719882768,-15.601169220398356,-15.426545308752463,-13.829361048954997,-14.905625435820667,-14.375582387174648,-15.023157027603585,-14.44552028841227,-18.578436657556473,-15.07229148772802,-14.747259260628057,-14.573222592133504,-15.82248146624585,-6.832262581703218,-4.807431872419299,-8.546536367061377,-7.802846112569985,-6.9462381153409165,-9.158474960426128,-5.985821310538761,-6.720923065301933,-6.058752060722882,-8.76160938434234,-6.026409714185247,-8.218912544125304,-7.535185735496295,-6.960275779157341,-5.94148287131564,-8.146733625071077,-2.5508630853982974,-7.897395175031176,-5.391330616887573,-5.803326289015388,-8.2034396087996,-6.258848235958435,-6.65152963131598,-8.185917085721325,-6.14345417777598,-5.934079971599734,-3.735186485080982,-5.291556076587163,-2.9585715314157093,-5.670590345883204,-8.546536367061377,-7.802846112569985],\"yaxis\":\"y\",\"type\":\"scatter\"}],                        {\"template\":{\"data\":{\"bar\":[{\"error_x\":{\"color\":\"#2a3f5f\"},\"error_y\":{\"color\":\"#2a3f5f\"},\"marker\":{\"line\":{\"color\":\"#E5ECF6\",\"width\":0.5},\"pattern\":{\"fillmode\":\"overlay\",\"size\":10,\"solidity\":0.2}},\"type\":\"bar\"}],\"barpolar\":[{\"marker\":{\"line\":{\"color\":\"#E5ECF6\",\"width\":0.5},\"pattern\":{\"fillmode\":\"overlay\",\"size\":10,\"solidity\":0.2}},\"type\":\"barpolar\"}],\"carpet\":[{\"aaxis\":{\"endlinecolor\":\"#2a3f5f\",\"gridcolor\":\"white\",\"linecolor\":\"white\",\"minorgridcolor\":\"white\",\"startlinecolor\":\"#2a3f5f\"},\"baxis\":{\"endlinecolor\":\"#2a3f5f\",\"gridcolor\":\"white\",\"linecolor\":\"white\",\"minorgridcolor\":\"white\",\"startlinecolor\":\"#2a3f5f\"},\"type\":\"carpet\"}],\"choropleth\":[{\"colorbar\":{\"outlinewidth\":0,\"ticks\":\"\"},\"type\":\"choropleth\"}],\"contour\":[{\"colorbar\":{\"outlinewidth\":0,\"ticks\":\"\"},\"colorscale\":[[0.0,\"#0d0887\"],[0.1111111111111111,\"#46039f\"],[0.2222222222222222,\"#7201a8\"],[0.3333333333333333,\"#9c179e\"],[0.4444444444444444,\"#bd3786\"],[0.5555555555555556,\"#d8576b\"],[0.6666666666666666,\"#ed7953\"],[0.7777777777777778,\"#fb9f3a\"],[0.8888888888888888,\"#fdca26\"],[1.0,\"#f0f921\"]],\"type\":\"contour\"}],\"contourcarpet\":[{\"colorbar\":{\"outlinewidth\":0,\"ticks\":\"\"},\"type\":\"contourcarpet\"}],\"heatmap\":[{\"colorbar\":{\"outlinewidth\":0,\"ticks\":\"\"},\"colorscale\":[[0.0,\"#0d0887\"],[0.1111111111111111,\"#46039f\"],[0.2222222222222222,\"#7201a8\"],[0.3333333333333333,\"#9c179e\"],[0.4444444444444444,\"#bd3786\"],[0.5555555555555556,\"#d8576b\"],[0.6666666666666666,\"#ed7953\"],[0.7777777777777778,\"#fb9f3a\"],[0.8888888888888888,\"#fdca26\"],[1.0,\"#f0f921\"]],\"type\":\"heatmap\"}],\"heatmapgl\":[{\"colorbar\":{\"outlinewidth\":0,\"ticks\":\"\"},\"colorscale\":[[0.0,\"#0d0887\"],[0.1111111111111111,\"#46039f\"],[0.2222222222222222,\"#7201a8\"],[0.3333333333333333,\"#9c179e\"],[0.4444444444444444,\"#bd3786\"],[0.5555555555555556,\"#d8576b\"],[0.6666666666666666,\"#ed7953\"],[0.7777777777777778,\"#fb9f3a\"],[0.8888888888888888,\"#fdca26\"],[1.0,\"#f0f921\"]],\"type\":\"heatmapgl\"}],\"histogram\":[{\"marker\":{\"pattern\":{\"fillmode\":\"overlay\",\"size\":10,\"solidity\":0.2}},\"type\":\"histogram\"}],\"histogram2d\":[{\"colorbar\":{\"outlinewidth\":0,\"ticks\":\"\"},\"colorscale\":[[0.0,\"#0d0887\"],[0.1111111111111111,\"#46039f\"],[0.2222222222222222,\"#7201a8\"],[0.3333333333333333,\"#9c179e\"],[0.4444444444444444,\"#bd3786\"],[0.5555555555555556,\"#d8576b\"],[0.6666666666666666,\"#ed7953\"],[0.7777777777777778,\"#fb9f3a\"],[0.8888888888888888,\"#fdca26\"],[1.0,\"#f0f921\"]],\"type\":\"histogram2d\"}],\"histogram2dcontour\":[{\"colorbar\":{\"outlinewidth\":0,\"ticks\":\"\"},\"colorscale\":[[0.0,\"#0d0887\"],[0.1111111111111111,\"#46039f\"],[0.2222222222222222,\"#7201a8\"],[0.3333333333333333,\"#9c179e\"],[0.4444444444444444,\"#bd3786\"],[0.5555555555555556,\"#d8576b\"],[0.6666666666666666,\"#ed7953\"],[0.7777777777777778,\"#fb9f3a\"],[0.8888888888888888,\"#fdca26\"],[1.0,\"#f0f921\"]],\"type\":\"histogram2dcontour\"}],\"mesh3d\":[{\"colorbar\":{\"outlinewidth\":0,\"ticks\":\"\"},\"type\":\"mesh3d\"}],\"parcoords\":[{\"line\":{\"colorbar\":{\"outlinewidth\":0,\"ticks\":\"\"}},\"type\":\"parcoords\"}],\"pie\":[{\"automargin\":true,\"type\":\"pie\"}],\"scatter\":[{\"marker\":{\"colorbar\":{\"outlinewidth\":0,\"ticks\":\"\"}},\"type\":\"scatter\"}],\"scatter3d\":[{\"line\":{\"colorbar\":{\"outlinewidth\":0,\"ticks\":\"\"}},\"marker\":{\"colorbar\":{\"outlinewidth\":0,\"ticks\":\"\"}},\"type\":\"scatter3d\"}],\"scattercarpet\":[{\"marker\":{\"colorbar\":{\"outlinewidth\":0,\"ticks\":\"\"}},\"type\":\"scattercarpet\"}],\"scattergeo\":[{\"marker\":{\"colorbar\":{\"outlinewidth\":0,\"ticks\":\"\"}},\"type\":\"scattergeo\"}],\"scattergl\":[{\"marker\":{\"colorbar\":{\"outlinewidth\":0,\"ticks\":\"\"}},\"type\":\"scattergl\"}],\"scattermapbox\":[{\"marker\":{\"colorbar\":{\"outlinewidth\":0,\"ticks\":\"\"}},\"type\":\"scattermapbox\"}],\"scatterpolar\":[{\"marker\":{\"colorbar\":{\"outlinewidth\":0,\"ticks\":\"\"}},\"type\":\"scatterpolar\"}],\"scatterpolargl\":[{\"marker\":{\"colorbar\":{\"outlinewidth\":0,\"ticks\":\"\"}},\"type\":\"scatterpolargl\"}],\"scatterternary\":[{\"marker\":{\"colorbar\":{\"outlinewidth\":0,\"ticks\":\"\"}},\"type\":\"scatterternary\"}],\"surface\":[{\"colorbar\":{\"outlinewidth\":0,\"ticks\":\"\"},\"colorscale\":[[0.0,\"#0d0887\"],[0.1111111111111111,\"#46039f\"],[0.2222222222222222,\"#7201a8\"],[0.3333333333333333,\"#9c179e\"],[0.4444444444444444,\"#bd3786\"],[0.5555555555555556,\"#d8576b\"],[0.6666666666666666,\"#ed7953\"],[0.7777777777777778,\"#fb9f3a\"],[0.8888888888888888,\"#fdca26\"],[1.0,\"#f0f921\"]],\"type\":\"surface\"}],\"table\":[{\"cells\":{\"fill\":{\"color\":\"#EBF0F8\"},\"line\":{\"color\":\"white\"}},\"header\":{\"fill\":{\"color\":\"#C8D4E3\"},\"line\":{\"color\":\"white\"}},\"type\":\"table\"}]},\"layout\":{\"annotationdefaults\":{\"arrowcolor\":\"#2a3f5f\",\"arrowhead\":0,\"arrowwidth\":1},\"autotypenumbers\":\"strict\",\"coloraxis\":{\"colorbar\":{\"outlinewidth\":0,\"ticks\":\"\"}},\"colorscale\":{\"diverging\":[[0,\"#8e0152\"],[0.1,\"#c51b7d\"],[0.2,\"#de77ae\"],[0.3,\"#f1b6da\"],[0.4,\"#fde0ef\"],[0.5,\"#f7f7f7\"],[0.6,\"#e6f5d0\"],[0.7,\"#b8e186\"],[0.8,\"#7fbc41\"],[0.9,\"#4d9221\"],[1,\"#276419\"]],\"sequential\":[[0.0,\"#0d0887\"],[0.1111111111111111,\"#46039f\"],[0.2222222222222222,\"#7201a8\"],[0.3333333333333333,\"#9c179e\"],[0.4444444444444444,\"#bd3786\"],[0.5555555555555556,\"#d8576b\"],[0.6666666666666666,\"#ed7953\"],[0.7777777777777778,\"#fb9f3a\"],[0.8888888888888888,\"#fdca26\"],[1.0,\"#f0f921\"]],\"sequentialminus\":[[0.0,\"#0d0887\"],[0.1111111111111111,\"#46039f\"],[0.2222222222222222,\"#7201a8\"],[0.3333333333333333,\"#9c179e\"],[0.4444444444444444,\"#bd3786\"],[0.5555555555555556,\"#d8576b\"],[0.6666666666666666,\"#ed7953\"],[0.7777777777777778,\"#fb9f3a\"],[0.8888888888888888,\"#fdca26\"],[1.0,\"#f0f921\"]]},\"colorway\":[\"#636efa\",\"#EF553B\",\"#00cc96\",\"#ab63fa\",\"#FFA15A\",\"#19d3f3\",\"#FF6692\",\"#B6E880\",\"#FF97FF\",\"#FECB52\"],\"font\":{\"color\":\"#2a3f5f\"},\"geo\":{\"bgcolor\":\"white\",\"lakecolor\":\"white\",\"landcolor\":\"#E5ECF6\",\"showlakes\":true,\"showland\":true,\"subunitcolor\":\"white\"},\"hoverlabel\":{\"align\":\"left\"},\"hovermode\":\"closest\",\"mapbox\":{\"style\":\"light\"},\"paper_bgcolor\":\"white\",\"plot_bgcolor\":\"#E5ECF6\",\"polar\":{\"angularaxis\":{\"gridcolor\":\"white\",\"linecolor\":\"white\",\"ticks\":\"\"},\"bgcolor\":\"#E5ECF6\",\"radialaxis\":{\"gridcolor\":\"white\",\"linecolor\":\"white\",\"ticks\":\"\"}},\"scene\":{\"xaxis\":{\"backgroundcolor\":\"#E5ECF6\",\"gridcolor\":\"white\",\"gridwidth\":2,\"linecolor\":\"white\",\"showbackground\":true,\"ticks\":\"\",\"zerolinecolor\":\"white\"},\"yaxis\":{\"backgroundcolor\":\"#E5ECF6\",\"gridcolor\":\"white\",\"gridwidth\":2,\"linecolor\":\"white\",\"showbackground\":true,\"ticks\":\"\",\"zerolinecolor\":\"white\"},\"zaxis\":{\"backgroundcolor\":\"#E5ECF6\",\"gridcolor\":\"white\",\"gridwidth\":2,\"linecolor\":\"white\",\"showbackground\":true,\"ticks\":\"\",\"zerolinecolor\":\"white\"}},\"shapedefaults\":{\"line\":{\"color\":\"#2a3f5f\"}},\"ternary\":{\"aaxis\":{\"gridcolor\":\"white\",\"linecolor\":\"white\",\"ticks\":\"\"},\"baxis\":{\"gridcolor\":\"white\",\"linecolor\":\"white\",\"ticks\":\"\"},\"bgcolor\":\"#E5ECF6\",\"caxis\":{\"gridcolor\":\"white\",\"linecolor\":\"white\",\"ticks\":\"\"}},\"title\":{\"x\":0.05},\"xaxis\":{\"automargin\":true,\"gridcolor\":\"white\",\"linecolor\":\"white\",\"ticks\":\"\",\"title\":{\"standoff\":15},\"zerolinecolor\":\"white\",\"zerolinewidth\":2},\"yaxis\":{\"automargin\":true,\"gridcolor\":\"white\",\"linecolor\":\"white\",\"ticks\":\"\",\"title\":{\"standoff\":15},\"zerolinecolor\":\"white\",\"zerolinewidth\":2}}},\"xaxis\":{\"anchor\":\"y\",\"domain\":[0.0,1.0],\"title\":{\"text\":\"PC 1\"}},\"yaxis\":{\"anchor\":\"x\",\"domain\":[0.0,1.0],\"title\":{\"text\":\"PC 2\"}},\"legend\":{\"tracegroupgap\":0},\"title\":{\"text\":\"Total Explained Variance: 96.85%\"},\"shapes\":[{\"type\":\"line\",\"x0\":0,\"x1\":-5.6867851675408705,\"y0\":0,\"y1\":-7.538422271601661},{\"type\":\"line\",\"x0\":0,\"x1\":-5.481007869092091,\"y0\":0,\"y1\":0.5623789274013086},{\"type\":\"line\",\"x0\":0,\"x1\":-5.727237153946277,\"y0\":0,\"y1\":6.638054356453972},{\"type\":\"line\",\"x0\":0,\"x1\":-1.138207304351274,\"y0\":0,\"y1\":0.40972087796261225},{\"type\":\"line\",\"x0\":0,\"x1\":-0.22876637023566732,\"y0\":0,\"y1\":0.24029514890611794},{\"type\":\"line\",\"x0\":0,\"x1\":18.029373770192194,\"y0\":0,\"y1\":-0.0687931851081186},{\"type\":\"line\",\"x0\":0,\"x1\":-0.012387075782536104,\"y0\":0,\"y1\":0.6180879202814877}],\"annotations\":[{\"ax\":0,\"ay\":0,\"text\":\"mois\",\"x\":-5.6867851675408705,\"xanchor\":\"center\",\"y\":-7.538422271601661,\"yanchor\":\"bottom\"},{\"ax\":0,\"ay\":0,\"text\":\"prot\",\"x\":-5.481007869092091,\"xanchor\":\"center\",\"y\":0.5623789274013086,\"yanchor\":\"bottom\"},{\"ax\":0,\"ay\":0,\"text\":\"fat\",\"x\":-5.727237153946277,\"xanchor\":\"center\",\"y\":6.638054356453972,\"yanchor\":\"bottom\"},{\"ax\":0,\"ay\":0,\"text\":\"ash\",\"x\":-1.138207304351274,\"xanchor\":\"center\",\"y\":0.40972087796261225,\"yanchor\":\"bottom\"},{\"ax\":0,\"ay\":0,\"text\":\"sodium\",\"x\":-0.22876637023566732,\"xanchor\":\"center\",\"y\":0.24029514890611794,\"yanchor\":\"bottom\"},{\"ax\":0,\"ay\":0,\"text\":\"carb\",\"x\":18.029373770192194,\"xanchor\":\"center\",\"y\":-0.0687931851081186,\"yanchor\":\"bottom\"},{\"ax\":0,\"ay\":0,\"text\":\"cal\",\"x\":-0.012387075782536104,\"xanchor\":\"center\",\"y\":0.6180879202814877,\"yanchor\":\"bottom\"}]},                        {\"responsive\": true}                    ).then(function(){\n",
              "                            \n",
              "var gd = document.getElementById('296002b8-3838-4688-8d69-71c9607a6e6a');\n",
              "var x = new MutationObserver(function (mutations, observer) {{\n",
              "        var display = window.getComputedStyle(gd).display;\n",
              "        if (!display || display === 'none') {{\n",
              "            console.log([gd, 'removed!']);\n",
              "            Plotly.purge(gd);\n",
              "            observer.disconnect();\n",
              "        }}\n",
              "}});\n",
              "\n",
              "// Listen for the removal of the full notebook cells\n",
              "var notebookContainer = gd.closest('#notebook-container');\n",
              "if (notebookContainer) {{\n",
              "    x.observe(notebookContainer, {childList: true});\n",
              "}}\n",
              "\n",
              "// Listen for the clearing of the current output cell\n",
              "var outputEl = gd.closest('.output');\n",
              "if (outputEl) {{\n",
              "    x.observe(outputEl, {childList: true});\n",
              "}}\n",
              "\n",
              "                        })                };                            </script>        </div>\n",
              "</body>\n",
              "</html>"
            ]
          },
          "metadata": {}
        }
      ]
    },
    {
      "cell_type": "markdown",
      "source": [
        "Looking at the statistics of each componenet, we find that the first component holding the most important parts of our pizza data take up about 77.1% of carbohydrates. This is also indicated by the large arrow that is labeled carbohydrates, meaning much more variance is on carbs in pizza. This means carbohydrates are the most meaningful parts of delicious pizza!\n",
        "\n",
        "Additionally, moistness and the amount of fat of the pizza is a second important factor. This is shown in the second component that takes up 55.81% for moistness and 43.28% for fat. This makes sense as good pizza is determined by the fat, particularly by the cheese, and the moisture of the pizza!\n",
        "\n",
        "Now, using data science we can now focus on the most important parts of pizza (carbohydrates, fatness, and moisture) to craft the perfect pizza!"
      ],
      "metadata": {
        "id": "I2OTyUR4P5KF"
      }
    },
    {
      "cell_type": "markdown",
      "source": [
        "#Conclusion\n"
      ],
      "metadata": {
        "id": "3nZhrvan8aIe"
      }
    },
    {
      "cell_type": "markdown",
      "source": [
        "##PCA and findings\n",
        "\n",
        "In conclusion, I have used PCA to find the most important data in our dataframes by reducing our dimensionality with our principal components and calculating the amount of variance each of the components explain. This variance tells us not only the important parts of our data, but it also allows us to easily interpret the data into something we can visualize and not bother with higher dimensions.\n",
        "\n",
        "Additionally, the other parts of our data that did not contribute to the components prominently are considered noise and do not contribute much if not at all.\n",
        "\n",
        "So, that is PCA and its awesome application.\n"
      ],
      "metadata": {
        "id": "8gNLyKsQ1nEL"
      }
    }
  ]
}